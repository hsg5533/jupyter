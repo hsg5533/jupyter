{
 "cells": [
  {
   "cell_type": "markdown",
   "id": "f046cf6c-f576-4782-8e7a-40e6123fa899",
   "metadata": {},
   "source": [
    "# **부산 지역 시간별 데이터 정제**\n",
    "- ~~시간별 데이터 크롤링~~\n",
    "- 5시간 측정치 평균값 : 엑셀에서\n",
    "-"
   ]
  },
  {
   "cell_type": "code",
   "execution_count": null,
   "id": "fcfe5713-991b-419a-86b4-9355a246bbcd",
   "metadata": {
    "tags": []
   },
   "outputs": [],
   "source": [
    "#for문으로 여러 csv 파일 불러오기\n",
    "import os\n",
    "\n",
    "path = 'data/fin/'\n",
    "file_list = os.listdir(path)\n",
    "files = [file for file in file_list if file.endswith('.csv')]\n",
    "files"
   ]
  },
  {
   "cell_type": "code",
   "execution_count": null,
   "id": "7b13bc02-a040-4663-b7de-e7e5027a34f6",
   "metadata": {
    "tags": []
   },
   "outputs": [],
   "source": [
    "#for문으로 불러온 csv 파일 -> DataFrame -> concat\n",
    "import pandas as pd\n",
    "df = pd.DataFrame()\n",
    "for i in files:\n",
    "    data = pd.read_csv(path+i)\n",
    "    df = pd.concat([df, data])\n",
    "\n",
    "df = df.reset_index(drop=True)\n",
    "df"
   ]
  },
  {
   "cell_type": "code",
   "execution_count": null,
   "id": "3a09e84e-5d24-4b78-b5d1-aea02758a719",
   "metadata": {
    "tags": []
   },
   "outputs": [],
   "source": [
    "time = pd.DataFrame(df['일시'])\n",
    "time"
   ]
  },
  {
   "cell_type": "code",
   "execution_count": null,
   "id": "92b6ecbe-bc04-4dba-885d-cc0bd76b340b",
   "metadata": {
    "tags": []
   },
   "outputs": [],
   "source": [
    "df = df.transpose()\n",
    "df"
   ]
  },
  {
   "cell_type": "code",
   "execution_count": null,
   "id": "869a7436-3be5-45f8-918f-967eff88595a",
   "metadata": {
    "tags": []
   },
   "outputs": [],
   "source": [
    "df1 = df.iloc[1:, :]\n",
    "df1.head()"
   ]
  },
  {
   "cell_type": "code",
   "execution_count": null,
   "id": "720eaf2a-04b5-4b4e-8aa0-605cbc989465",
   "metadata": {
    "tags": []
   },
   "outputs": [],
   "source": [
    "df1 = df1.transpose()\n",
    "df1"
   ]
  },
  {
   "cell_type": "code",
   "execution_count": null,
   "id": "9e8415f9-5e4f-4d6b-9eec-7c8a8803e704",
   "metadata": {
    "tags": []
   },
   "outputs": [],
   "source": [
    "df1['주소'] = df1.index\n",
    "df1"
   ]
  },
  {
   "cell_type": "code",
   "execution_count": null,
   "id": "85bb1581-eb6c-40e6-9b8d-0f109c1a4a21",
   "metadata": {
    "tags": []
   },
   "outputs": [],
   "source": [
    "df1= df1.reset_index(drop=True)\n",
    "df1"
   ]
  },
  {
   "cell_type": "code",
   "execution_count": null,
   "id": "5eb01c0d-c090-4493-8938-14154530f5be",
   "metadata": {
    "tags": []
   },
   "outputs": [],
   "source": [
    "re = pd.DataFrame(df1['주소'].apply(lambda v: v.split()[:2]).tolist(),columns=('시도', '군구'))\n",
    "re"
   ]
  },
  {
   "cell_type": "code",
   "execution_count": null,
   "id": "ab397dba-6ab6-49f8-861b-3617c574d88f",
   "metadata": {
    "tags": []
   },
   "outputs": [],
   "source": [
    "re['시도'] = '부산광역시'\n",
    "re"
   ]
  },
  {
   "cell_type": "code",
   "execution_count": null,
   "id": "5d2e9f30-bc44-4f5e-888c-33f96da55174",
   "metadata": {
    "tags": []
   },
   "outputs": [],
   "source": [
    "re['주소'] = re.apply(lambda r: r['시도']+' '+r['군구'], axis=1)\n",
    "re"
   ]
  },
  {
   "cell_type": "code",
   "execution_count": null,
   "id": "fa9a1cc6-77c5-4a44-b00d-060ee17d3e2a",
   "metadata": {
    "tags": []
   },
   "outputs": [],
   "source": [
    "result = pd.merge(re, df1, how='inner', left_index=True, right_index=True)\n",
    "result"
   ]
  },
  {
   "cell_type": "code",
   "execution_count": null,
   "id": "f0b1f54d-6b7c-41f2-a64e-3b91dfa2825a",
   "metadata": {
    "tags": []
   },
   "outputs": [],
   "source": [
    "result = result.drop([\"주소_y\"], axis=1)\n",
    "result"
   ]
  },
  {
   "cell_type": "code",
   "execution_count": null,
   "id": "7b531300-e643-473c-98b8-dcc53fc88ac6",
   "metadata": {
    "tags": []
   },
   "outputs": [],
   "source": [
    "result.rename(columns={\"주소_x\":\"주소\"})"
   ]
  },
  {
   "cell_type": "code",
   "execution_count": null,
   "id": "caecee95-6255-499b-ad28-d0278bb6f1c6",
   "metadata": {
    "tags": []
   },
   "outputs": [],
   "source": [
    "num_df = result.iloc[:, 3:]\n",
    "num_df"
   ]
  },
  {
   "cell_type": "code",
   "execution_count": null,
   "id": "e91e50a1-4e13-4c64-8199-9b4045a96c85",
   "metadata": {
    "tags": []
   },
   "outputs": [],
   "source": [
    "cols = num_df.columns\n",
    "cols"
   ]
  },
  {
   "cell_type": "code",
   "execution_count": null,
   "id": "92909d5f-ce2d-448d-b5d2-9d448f1b658d",
   "metadata": {},
   "outputs": [],
   "source": [
    "for i in range(len(cols)):\n",
    "    for j in range(len(num_df)):\n",
    "        if num_df[i][j] == '-':\n",
    "            num_df[i][j] = 0"
   ]
  },
  {
   "cell_type": "code",
   "execution_count": null,
   "id": "58f385cc-4798-4744-af6c-02549078429e",
   "metadata": {
    "tags": []
   },
   "outputs": [],
   "source": [
    "num_df = num_df.astype('float')\n",
    "num_df"
   ]
  },
  {
   "cell_type": "code",
   "execution_count": null,
   "id": "160e0724-a5e2-48aa-a714-cb5a6f18b342",
   "metadata": {
    "tags": []
   },
   "outputs": [],
   "source": [
    "num_df.dtypes"
   ]
  },
  {
   "cell_type": "code",
   "execution_count": null,
   "id": "76f2405a-5b56-4885-8161-a6a12c343c7d",
   "metadata": {
    "tags": []
   },
   "outputs": [],
   "source": [
    "re = pd.merge(re, num_df, how='inner', left_index=True, right_index=True)\n",
    "re"
   ]
  },
  {
   "cell_type": "code",
   "execution_count": null,
   "id": "68bcda95-2173-457e-b425-cf6cf50b4c66",
   "metadata": {
    "tags": []
   },
   "outputs": [],
   "source": [
    "result = re.drop([\"시도\", \"군구\"], axis=1)\n",
    "result"
   ]
  },
  {
   "cell_type": "code",
   "execution_count": null,
   "id": "e49194cd-3853-4db7-8a42-6fa03d469272",
   "metadata": {
    "tags": []
   },
   "outputs": [],
   "source": [
    "#실수 소수점 2째자리까지\n",
    "pd.options.display.float_format = '{:.2f}'.format\n",
    "f = result.groupby(['주소']).mean()\n",
    "f"
   ]
  },
  {
   "cell_type": "code",
   "execution_count": null,
   "id": "67975ceb-ceb1-43ea-86a1-dad560d80ce2",
   "metadata": {},
   "outputs": [],
   "source": [
    "ff = f.transpose()\n",
    "ff"
   ]
  },
  {
   "cell_type": "code",
   "execution_count": null,
   "id": "c04d24f8-c84f-4d45-90ae-bb8661e573f5",
   "metadata": {
    "tags": []
   },
   "outputs": [],
   "source": [
    "result = pd.merge(ff, time, how='inner', left_index=True, right_index=True)\n",
    "result"
   ]
  },
  {
   "cell_type": "code",
   "execution_count": null,
   "id": "8a38823d-3b71-4d91-975d-ba3f8dc739e0",
   "metadata": {
    "tags": []
   },
   "outputs": [],
   "source": [
    "result.dtypes"
   ]
  },
  {
   "cell_type": "code",
   "execution_count": null,
   "id": "414c8de0-499c-4c92-b008-1d07b84103f4",
   "metadata": {},
   "outputs": [],
   "source": [
    "result.to_csv('data/fin/_busan_6m.csv', index=False)"
   ]
  },
  {
   "cell_type": "markdown",
   "id": "7995d929-7f7a-4cdb-900f-c6cbe778c066",
   "metadata": {},
   "source": [
    "### **TO DO**\n",
    "- csv 파일 열어서 부산 지역구별 5시간 평균값 구해서 저장(_busan_수치정규화.csv) 파일"
   ]
  }
 ],
 "metadata": {
  "kernelspec": {
   "display_name": "Python 3 (ipykernel)",
   "language": "python",
   "name": "python3"
  },
  "language_info": {
   "codemirror_mode": {
    "name": "ipython",
    "version": 3
   },
   "file_extension": ".py",
   "mimetype": "text/x-python",
   "name": "python",
   "nbconvert_exporter": "python",
   "pygments_lexer": "ipython3",
   "version": "3.12.9"
  }
 },
 "nbformat": 4,
 "nbformat_minor": 5
}
