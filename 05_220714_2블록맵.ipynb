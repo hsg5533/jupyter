{
 "cells": [
  {
   "cell_type": "markdown",
   "id": "2bfffdcd-34be-4c74-9555-26a353f23cfe",
   "metadata": {},
   "source": [
    "# **연도별 데이터로 블록맵 그리기**\n",
    "- 기준이 되는 '좌표' 표시된 지역 데이터 - 위도&경도\n",
    "- 연평균 표시된 데이터 : 2010 ~ 2020년\n",
    "- 데이터 합친 뒤 파일(csv)로 저장\n",
    "- 블록맵 그리기"
   ]
  },
  {
   "cell_type": "markdown",
   "id": "5798a8f2-9ba7-4ae2-80f5-c9ef1528b5c0",
   "metadata": {
    "tags": []
   },
   "source": [
    "### **좌표 데이터 정제**\n",
    "- 좌표(latitude, logitude) 데이터 정제"
   ]
  },
  {
   "cell_type": "code",
   "execution_count": null,
   "id": "6418c4a0-bf15-4743-9c6f-37cecc2ad359",
   "metadata": {
    "tags": []
   },
   "outputs": [],
   "source": [
    "import pandas as pd"
   ]
  },
  {
   "cell_type": "code",
   "execution_count": null,
   "id": "bac62912-7fe9-428e-bbed-42321fde9000",
   "metadata": {
    "tags": []
   },
   "outputs": [],
   "source": [
    "# def blockmap():\n",
    "#     p = pd.read_csv('data/e_korea_region.csv', encoding='CP949', header=0, engine='python')\n",
    "#     p = p.set_index('addr')\n",
    "    \n",
    "#     year = pd.read_csv('data/fin/year2020.csv', encoding='utf-8', header=0, engine='python')\n",
    "#     year = year.set_index('address')\n",
    "    \n",
    "#     re = pd.merge(p, year, how='outer', left_index=True, right_index=True)\n",
    "    \n",
    "#     re = re.fillna(0)\n",
    "    \n",
    "#     re = re[['x','y','광역시도','행정구역', 'year_avg']]\n",
    "#     print(re)\n",
    "    \n",
    "#     re.to_csv('data/blockmap/df_blockmap2020.csv', encoding='CP949', index=True)"
   ]
  },
  {
   "cell_type": "code",
   "execution_count": null,
   "id": "d0280b11-7549-49aa-8877-8a93bca6b614",
   "metadata": {
    "tags": []
   },
   "outputs": [],
   "source": [
    "## 좌표 행정구역명 기준\n",
    "p = pd.read_csv('data/e_korea_region.csv', encoding='CP949', header=0, engine='python')\n",
    "p"
   ]
  },
  {
   "cell_type": "code",
   "execution_count": null,
   "id": "e884cf71-8f35-4c5b-a64a-2ca3f32426ba",
   "metadata": {
    "tags": []
   },
   "outputs": [],
   "source": [
    "p = p.set_index('addr')\n",
    "p.head()"
   ]
  },
  {
   "cell_type": "markdown",
   "id": "dcf97a6d-efc7-479a-929e-bc038ebbdeac",
   "metadata": {},
   "source": [
    "#### **연도별 미세먼지 데이터랑 좌표 데이터 합친 뒤 저장**"
   ]
  },
  {
   "cell_type": "code",
   "execution_count": null,
   "id": "3920929a-a23e-4246-a6d6-69723883f5f7",
   "metadata": {
    "tags": []
   },
   "outputs": [],
   "source": [
    "year = pd.read_csv('data/fin/year2017.csv', encoding='utf-8', header=0, engine='python')\n",
    "year"
   ]
  },
  {
   "cell_type": "code",
   "execution_count": null,
   "id": "f3d4f1a5-7c29-47b9-b662-90c343e98e68",
   "metadata": {
    "tags": []
   },
   "outputs": [],
   "source": [
    "year = year.set_index('address')\n",
    "year.head()"
   ]
  },
  {
   "cell_type": "code",
   "execution_count": null,
   "id": "2d71ffe5-6421-4c27-84b3-0d9e5d4466b4",
   "metadata": {
    "tags": []
   },
   "outputs": [],
   "source": [
    "re = pd.merge(p, year, how='outer', left_index=True, right_index=True)\n",
    "re.head()"
   ]
  },
  {
   "cell_type": "code",
   "execution_count": null,
   "id": "a53faca4-0b14-47d3-871d-9994d7b21da5",
   "metadata": {
    "tags": []
   },
   "outputs": [],
   "source": [
    "## NaN to 0 : fillna\n",
    "re = re.fillna(0)\n",
    "re"
   ]
  },
  {
   "cell_type": "code",
   "execution_count": null,
   "id": "7e06223a-457e-4884-98c2-4ee2e958cfab",
   "metadata": {
    "tags": []
   },
   "outputs": [],
   "source": [
    "re = re[['x','y','광역시도','행정구역', 'year_avg']]\n",
    "re"
   ]
  },
  {
   "cell_type": "code",
   "execution_count": null,
   "id": "636c7517-068a-48da-9a48-47b27b3dd129",
   "metadata": {
    "tags": []
   },
   "outputs": [],
   "source": [
    "## 연도별 라벨링 저장\n",
    "re.to_csv('data/blockmap/df_blockmap2016.csv', encoding='CP949', index=True)"
   ]
  },
  {
   "cell_type": "markdown",
   "id": "09185e0f-5495-44d4-9b38-4d7a34723dbe",
   "metadata": {
    "tags": []
   },
   "source": [
    "## **blockmap**"
   ]
  },
  {
   "cell_type": "markdown",
   "id": "90ab6522-f79a-4a5b-8c91-e809ff2fe5b6",
   "metadata": {},
   "source": [
    "#### **표준행정구역명 수정 필요**\n",
    "- 세종특별자치시 세종특별자치시 -> 세종특별자치시 세종시\n",
    "- 충청북도 진천시 -> 충청북도 진천군"
   ]
  },
  {
   "cell_type": "code",
   "execution_count": null,
   "id": "4f890eaa-0b4f-4043-9100-201b31c2c4c3",
   "metadata": {},
   "outputs": [],
   "source": [
    "import pandas as pd\n",
    "import numpy as np\n",
    "import os\n",
    "import matplotlib.pyplot as plt"
   ]
  },
  {
   "cell_type": "code",
   "execution_count": null,
   "id": "9728824d-04a0-4934-9807-a582e224c711",
   "metadata": {},
   "outputs": [],
   "source": [
    "import warnings\n",
    "warnings.simplefilter(\"ignore\")"
   ]
  },
  {
   "cell_type": "code",
   "execution_count": null,
   "id": "c2da06ea-ed65-40cf-92f3-fc0d489184cd",
   "metadata": {},
   "outputs": [],
   "source": [
    "from matplotlib import pyplot as plt\n",
    "from matplotlib import rcParams, style\n",
    "style.use('ggplot')\n",
    "\n",
    "from matplotlib import font_manager, rc\n",
    "font_name = font_manager.FontProperties(fname=\"c:/Windows/Fonts/malgun.ttf\").get_name()\n",
    "rc('font', family = font_name)"
   ]
  },
  {
   "cell_type": "code",
   "execution_count": null,
   "id": "3bd8adda-000a-40b9-8c8a-136f252ad3cd",
   "metadata": {},
   "outputs": [],
   "source": [
    "# re.to_csv('data/fin/dt_blockmap.csv', encoding='CP949', index=True)"
   ]
  },
  {
   "cell_type": "code",
   "execution_count": null,
   "id": "548a2dd3-65a4-40f8-85c0-f680c73301c4",
   "metadata": {
    "tags": []
   },
   "outputs": [],
   "source": [
    "#반복 함수화\n",
    "def seq():\n",
    "    df = pd.read_csv('data/blockmap/df_blockmap2020.csv', encoding='CP949', header=0, engine='python')\n",
    "    print(type(df))\n",
    "    df = df.rename(columns={'Unnamed: 0':'address'})\n",
    "    print(type(df))\n",
    "    df = df.set_index('address')\n",
    "    print(df)"
   ]
  },
  {
   "cell_type": "code",
   "execution_count": null,
   "id": "65095bc7-b6ba-42dd-b5a0-bb4b4e7f86ab",
   "metadata": {
    "tags": []
   },
   "outputs": [],
   "source": [
    "seq()"
   ]
  },
  {
   "cell_type": "code",
   "execution_count": null,
   "id": "fd7d54e2-94dc-401b-b038-ca3818435f41",
   "metadata": {
    "tags": []
   },
   "outputs": [],
   "source": [
    "df = pd.read_csv('data/blockmap/df_blockmap2020.csv', encoding='CP949', header=0, engine='python')\n",
    "df"
   ]
  },
  {
   "cell_type": "code",
   "execution_count": null,
   "id": "3b9dfee0-0051-4c16-98d8-228a80273f5a",
   "metadata": {
    "tags": []
   },
   "outputs": [],
   "source": [
    "df=df.rename(columns={'Unnamed: 0':'address'})\n",
    "df"
   ]
  },
  {
   "cell_type": "code",
   "execution_count": null,
   "id": "8668c507-c650-4dc1-a0b2-729f2d07b8a9",
   "metadata": {
    "tags": []
   },
   "outputs": [],
   "source": [
    "df = df.set_index('address')\n",
    "df"
   ]
  },
  {
   "cell_type": "code",
   "execution_count": null,
   "id": "83e298ac-164c-4365-9315-319a4da56494",
   "metadata": {},
   "outputs": [],
   "source": [
    "df.index.unique()"
   ]
  },
  {
   "cell_type": "code",
   "execution_count": null,
   "id": "9cde5bb1-0011-46d7-ba7d-b7bdbc0ec72c",
   "metadata": {},
   "outputs": [],
   "source": [
    "#한국지도의 블록맵 경계선 좌표를 리스트로 생성 #공유폴더에서 파일 받아옴\n",
    "#시도별로 블록라인(검은색 선) 그려서 구분\n",
    "BORDER_LINES = [\n",
    "    [(3, 2), (5, 2), (5, 3), (9, 3), (9, 1)], # 인천\n",
    "    [(2, 5), (3, 5), (3, 4), (8, 4), (8, 7), (7, 7), (7, 9), (4, 9), (4, 7), (1, 7)], # 서울\n",
    "    [(1, 6), (1, 9), (3, 9), (3, 10), (8, 10), (8, 9),\n",
    "     (9, 9), (9, 8), (10, 8), (10, 5), (9, 5), (9, 3)], # 경기도\n",
    "    [(9, 12), (9, 10), (8, 10)], # 강원도\n",
    "    [(10, 5), (11, 5), (11, 4), (12, 4), (12, 5), (13, 5),\n",
    "     (13, 4), (14, 4), (14, 2)], # 충청남도\n",
    "    [(11, 5), (12, 5), (12, 6), (15, 6), (15, 7), (13, 7),\n",
    "     (13, 8), (11, 8), (11, 9), (10, 9), (10, 8)], # 충청북도\n",
    "    [(14, 4), (15, 4), (15, 6)], # 대전시\n",
    "    [(14, 7), (14, 9), (13, 9), (13, 11), (13, 13)], # 경상북도\n",
    "    [(14, 8), (16, 8), (16, 10), (15, 10),\n",
    "     (15, 11), (14, 11), (14, 12), (13, 12)], # 대구시\n",
    "    [(15, 11), (16, 11), (16, 13)], # 울산시\n",
    "    [(17, 1), (17, 3), (18, 3), (18, 6), (15, 6)], # 전라북도\n",
    "    [(19, 2), (19, 4), (21, 4), (21, 3), (22, 3), (22, 2), (19, 2)], # 광주시\n",
    "    [(18, 5), (20, 5), (20, 6)], # 전라남도\n",
    "    [(16, 9), (18, 9), (18, 8), (19, 8), (19, 9), (20, 9), (20, 10)], # 부산시\n",
    "]"
   ]
  },
  {
   "cell_type": "code",
   "execution_count": null,
   "id": "0cb5370e-9995-47b2-b504-3eddbd9f075a",
   "metadata": {},
   "outputs": [],
   "source": [
    "# import numpay as np\n",
    "\n",
    "#블록맵 그리는 함수\n",
    "#blockedMap #targetData : count나 MC_ratio 중 하나일 것  #title : 이름  #color : 차트 컬러\n",
    "def draw_blockMap(blockedMap, targetData, title, color):\n",
    "    #값의 범위 설정 #count/MC_ratio의 제일 높은 거 - 제일 낮은 거\n",
    "    whitelabelmin = (max(blockedMap[targetData]) - min(blockedMap[targetData])) * 0.85 + min(blockedMap[targetData])\n",
    "    # whitelabelmin = ((max(125) - min(0)) * 0.25 + min(0))\n",
    "    # print(max(blockedMap[targetData]), min(blockedMap[targetData]))\n",
    "    # whitelabelmin = 125\n",
    "    \n",
    "    #차트의 색상 밝기에 따라 폰트 컬러 설정해주려고 \n",
    "    datalabel = targetData #count/MC_ratio\n",
    "    # vmin = min(blockedMap[targetData])\n",
    "    # vmax = max(blockedMap[targetData])\n",
    "    vmin = 0\n",
    "    vmax = 100\n",
    "    \n",
    "    #좌표에 표시에 맵데이터를 만드는 것\n",
    "    mapdata = blockedMap.pivot(index='y', columns='x', values=targetData)\n",
    "    # print(mapdata)\n",
    "    #np.ma.maked_where(조건(mapdata = 0)을 만족하면 0, 아니면 원래의 값-mapdata)\n",
    "    masked_mapdata = np.ma.masked_where(np.isnan(mapdata), mapdata)\n",
    "    \n",
    "    plt.figure(figsize=(15, 21))\n",
    "    # plt.title(title, fontsize=25)\n",
    "    \n",
    "    #pcolor : 컬러맵으로 그려줌\n",
    "    plt.pcolor(masked_mapdata, vmin=vmin, vmax=vmax, cmap = color, edgecolor='#aaaaaa', linewidth=0.2)\n",
    "    #>> 여기까지 블록맵 그림 그리기까지 완료\n",
    "    \n",
    "    #지역이름 표시 #인덱스값과 행값 가져와 넣을 것\n",
    "    for idx, row in blockedMap.iterrows():\n",
    "        annocolor = 'white' if row[targetData] > whitelabelmin else 'black'\n",
    "        #광역시 구 이름이 겹치는 경우가 많아서 시 단위 이름다 같이 표시(중구, 서구)\n",
    "        if row['광역시도'].endswith('시') and not row['광역시도'].startswith('세종'):\n",
    "            dispname = '{}\\n{}'.format(row['광역시도'][:2], row['행정구역'][:-1])\n",
    "            #'광역시도'의 앞에서 두 글자, '행정구역'은 맨끝글자 제외\n",
    "            if len(row['행정구역']) <= 2: #'행정구역' 글자가 2보다 작을 경우, 맨끝글자 붙임\n",
    "                dispname += row['행정구역'][-1]\n",
    "        else:\n",
    "            dispname = row['행정구역'][:-1]\n",
    "        \n",
    "        #서대문구, 서귀포시 같이 이름이 3자이상인 경우 작은 글자로 표시\n",
    "        #splitlines 나눔\n",
    "        if len(dispname.splitlines()[-1]) >= 3:\n",
    "            fontsize, linespacing = 9.5, 1.5\n",
    "        else:\n",
    "            fontsize, linespacing = 11, 1.2\n",
    "        \n",
    "        #ha(horizontal align), va(vertical align)\n",
    "        plt.annotate(dispname, (row['x']+0.5, row['y']+0.5), weight='bold',\n",
    "                               fontsize = fontsize, ha='center', va='center', color=annocolor,\n",
    "                               linespacing = linespacing)\n",
    "    #>> 블록맵 그리고 글자 입력까지 완료\n",
    "    #시도 경계 그리기\n",
    "    for path in BORDER_LINES:\n",
    "        ys, xs = zip(*path)\n",
    "        plt.plot(xs, ys, c='black', lw=4)\n",
    "    \n",
    "    #gca() : 축 객체 얻어옴\n",
    "    #invert_yaxis() : 축을 뒤집음. 수학적 축 객체는 밑에서부터 시작하기 때문에\n",
    "    plt.gca().invert_yaxis()\n",
    "    #plt.gca().set_aspect(1)\n",
    "    plt.axis('off')\n",
    "    \n",
    "    cb = plt.colorbar(shrink=.1, aspect=10)\n",
    "    cb.set_label(datalabel)\n",
    "    \n",
    "    plt.tight_layout() #바깥여백을 타이트하게\n",
    "    plt.savefig('data/blockmap/'+'blockMap_'+targetData+'2020.png') #그림 파일 저장\n",
    "    plt.show()"
   ]
  },
  {
   "cell_type": "code",
   "execution_count": null,
   "id": "76f7fa0d-ff10-49a9-b0b8-0e71f9f6445e",
   "metadata": {},
   "outputs": [],
   "source": [
    "draw_blockMap(df, 'y', '미세먼지 평균', 'YlGn')  #PuBu  #YlGnBu"
   ]
  }
 ],
 "metadata": {
  "kernelspec": {
   "display_name": "Python 3 (ipykernel)",
   "language": "python",
   "name": "python3"
  },
  "language_info": {
   "codemirror_mode": {
    "name": "ipython",
    "version": 3
   },
   "file_extension": ".py",
   "mimetype": "text/x-python",
   "name": "python",
   "nbconvert_exporter": "python",
   "pygments_lexer": "ipython3",
   "version": "3.12.9"
  }
 },
 "nbformat": 4,
 "nbformat_minor": 5
}
