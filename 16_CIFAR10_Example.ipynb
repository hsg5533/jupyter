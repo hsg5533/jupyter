{
 "cells": [
  {
   "cell_type": "code",
   "execution_count": null,
   "metadata": {
    "id": "I5pTLmJlyDlP"
   },
   "outputs": [],
   "source": [
    "import tensorflow as tf\n",
    "\n",
    "import numpy as np\n",
    "import matplotlib.pyplot as plt\n",
    "\n",
    "from tensorflow.keras.preprocessing.image import load_img\n",
    "from tensorflow.keras.preprocessing.image import img_to_array\n",
    "from tensorflow.keras.preprocessing.image import ImageDataGenerator"
   ]
  },
  {
   "cell_type": "markdown",
   "metadata": {
    "id": "f4rZhuTL0TOr"
   },
   "source": [
    "flow() 함수 예제"
   ]
  },
  {
   "cell_type": "code",
   "execution_count": null,
   "metadata": {
    "id": "qtKx6wI6au6D"
   },
   "outputs": [],
   "source": [
    "# [예제 1] \n",
    "# 1. ImageDataGenerator 생성\n",
    "\n",
    "gen = ImageDataGenerator(rotation_range = 30,\n",
    "                         width_shift_range=0.3,\n",
    "                         shear_range=0.4,\n",
    "                         horizontal_flip=True)"
   ]
  },
  {
   "cell_type": "code",
   "execution_count": null,
   "metadata": {
    "colab": {
     "base_uri": "https://localhost:8080/",
     "height": 123
    },
    "id": "A2x-sGo9ySXM",
    "outputId": "5ca7620a-d149-4dc5-bdda-f47ed8374346",
    "tags": []
   },
   "outputs": [],
   "source": [
    "# 이미지 로드 및 정규화\n",
    "img_array_list = []\n",
    "img_names = ['data/dog1.jpg', 'data/dog2.jpg', 'data/cat1.jpg', 'data/cat2.jpg']\n",
    "\n",
    "for i in range(len(img_names)):\n",
    "    loaded_img = load_img(img_names[i], target_size=(100,100)) \n",
    "    loaded_img_array = img_to_array(loaded_img) / 255.0\n",
    "    img_array_list.append(loaded_img_array)\n",
    "img_array_list[0]"
   ]
  },
  {
   "cell_type": "code",
   "execution_count": null,
   "metadata": {},
   "outputs": [],
   "source": [
    "plt.figure(figsize=(6,6))\n",
    "for i in range(len(img_array_list)):\n",
    "    plt.subplot(1, len(img_array_list), i+1)\n",
    "    plt.xticks([])\n",
    "    plt.yticks([])\n",
    "    plt.title(img_names[i])\n",
    "    plt.imshow(img_array_list[i])"
   ]
  },
  {
   "cell_type": "code",
   "execution_count": null,
   "metadata": {
    "id": "y-zwqzQ2svkG"
   },
   "outputs": [],
   "source": [
    "batch_siz = 4\n",
    "data_gen = gen.flow(np.array(img_array_list), batch_size=batch_siz)"
   ]
  },
  {
   "cell_type": "code",
   "execution_count": null,
   "metadata": {
    "colab": {
     "base_uri": "https://localhost:8080/",
     "height": 187
    },
    "id": "eHWyZgOq6AXL",
    "outputId": "d6710043-08b5-4142-fcc2-deeb384d5950"
   },
   "outputs": [],
   "source": [
    "img = data_gen.next()\n",
    "\n",
    "plt.figure(figsize=(6,6))\n",
    "for i in range(len(img)):\n",
    "    plt.subplot(1, len(img), i+1)\n",
    "    plt.xticks([])\n",
    "    plt.yticks([])\n",
    "    plt.imshow(img[i])"
   ]
  },
  {
   "cell_type": "code",
   "execution_count": null,
   "metadata": {
    "colab": {
     "base_uri": "https://localhost:8080/",
     "height": 187
    },
    "id": "M83CZ7nv8r_9",
    "outputId": "9cce676f-ae0e-435c-d4fb-354f45966a9f"
   },
   "outputs": [],
   "source": [
    "img = data_gen.next()\n",
    "\n",
    "plt.figure(figsize=(6,6))\n",
    "for i in range(len(img)):\n",
    "    plt.subplot(1, len(img), i+1)\n",
    "    plt.xticks([])\n",
    "    plt.yticks([])\n",
    "    plt.imshow(img[i])"
   ]
  },
  {
   "cell_type": "code",
   "execution_count": null,
   "metadata": {
    "colab": {
     "base_uri": "https://localhost:8080/",
     "height": 187
    },
    "id": "BF-l7T-Kdq0C",
    "outputId": "35f78055-829f-4da4-a50d-6105937ac870"
   },
   "outputs": [],
   "source": [
    "img = data_gen.next()\n",
    "\n",
    "plt.figure(figsize=(6,6))\n",
    "for i in range(len(img)):\n",
    "    plt.subplot(1, len(img), i+1)\n",
    "    plt.xticks([])\n",
    "    plt.yticks([])\n",
    "    plt.imshow(img[i])"
   ]
  },
  {
   "cell_type": "code",
   "execution_count": null,
   "metadata": {
    "colab": {
     "base_uri": "https://localhost:8080/",
     "height": 187
    },
    "id": "1egBVcK4eyYl",
    "outputId": "04233dfe-3bdd-4d40-ca52-8b23e332e15a"
   },
   "outputs": [],
   "source": [
    "img = data_gen.next()\n",
    "\n",
    "plt.figure(figsize=(6,6))\n",
    "for i in range(len(img)):\n",
    "    plt.subplot(1, len(img), i+1)\n",
    "    plt.xticks([])\n",
    "    plt.yticks([])\n",
    "    plt.imshow(img[i])"
   ]
  },
  {
   "cell_type": "markdown",
   "metadata": {
    "id": "YFBg_5MQxuMV"
   },
   "source": [
    "flow_from_directory() 함수 예제\n",
    "\n"
   ]
  },
  {
   "cell_type": "code",
   "execution_count": null,
   "metadata": {
    "id": "Wb8kjt8Hwqrt"
   },
   "outputs": [],
   "source": [
    "gen = ImageDataGenerator(rotation_range = 30,\n",
    "                         width_shift_range = 0.3,\n",
    "                         shear_range=0.3,\n",
    "                         rescale=1./255)"
   ]
  },
  {
   "cell_type": "code",
   "execution_count": null,
   "metadata": {
    "colab": {
     "base_uri": "https://localhost:8080/"
    },
    "id": "nGL_khi4yMAd",
    "outputId": "55b00626-6b8f-4b69-9db5-a05a2442a967"
   },
   "outputs": [],
   "source": [
    "data_path = './flower_photos/'\n",
    "batch_siz = 5\n",
    "\n",
    "data_gen = gen.flow_from_directory(directory=data_path,\n",
    "                                   #batch_size=batch_siz,\n",
    "                                   shuffle=True,\n",
    "                                   target_size=(320, 320),\n",
    "                                   class_mode='categorical')"
   ]
  },
  {
   "cell_type": "code",
   "execution_count": null,
   "metadata": {
    "tags": []
   },
   "outputs": [],
   "source": [
    "print(data_gen[2])"
   ]
  },
  {
   "cell_type": "code",
   "execution_count": null,
   "metadata": {
    "colab": {
     "base_uri": "https://localhost:8080/",
     "height": 149
    },
    "id": "lqIb_eAByjfW",
    "outputId": "7a6bdc0c-5328-487a-acaa-2f9878ae40a7"
   },
   "outputs": [],
   "source": [
    "img, label = data_gen.next()\n",
    "print(len(img))\n",
    "\n",
    "plt.figure(figsize=(8,12))\n",
    "for i in range(len(img)):\n",
    "\n",
    "    plt.subplot(8,4, i+1)\n",
    "    plt.xticks([])\n",
    "    plt.yticks([])\n",
    "    plt.title(str(np.argmax(label[i])))\n",
    "\n",
    "    plt.imshow(img[i])"
   ]
  },
  {
   "cell_type": "code",
   "execution_count": null,
   "metadata": {},
   "outputs": [],
   "source": [
    "img, label = data_gen.next()\n",
    "print(len(img))\n",
    "print(label)"
   ]
  },
  {
   "cell_type": "code",
   "execution_count": null,
   "metadata": {
    "colab": {
     "base_uri": "https://localhost:8080/",
     "height": 149
    },
    "id": "kR5KCCnVzAyu",
    "outputId": "585de99b-cc1a-4a47-d56a-13d8d8ecf722"
   },
   "outputs": [],
   "source": [
    "#img, label = data_gen.next()\n",
    "\n",
    "plt.figure(figsize=(10,10))\n",
    "for i in range(len(img)):\n",
    "\n",
    "    plt.subplot(1, len(img), i+1)\n",
    "    plt.xticks([])\n",
    "    plt.yticks([])\n",
    "    plt.title(str(np.argmax(label[i])))\n",
    "    \n",
    "    plt.imshow(img[i])"
   ]
  },
  {
   "cell_type": "code",
   "execution_count": null,
   "metadata": {
    "colab": {
     "base_uri": "https://localhost:8080/",
     "height": 149
    },
    "id": "ARuk6m4-zDzb",
    "outputId": "59459c52-d289-4aa7-ff4d-a761f5f4e975"
   },
   "outputs": [],
   "source": [
    "img, label = data_gen.next()\n",
    "\n",
    "plt.figure(figsize=(10,10))\n",
    "for i in range(len(img)):\n",
    "\n",
    "    plt.subplot(1, len(img), i+1)\n",
    "    plt.xticks([])\n",
    "    plt.yticks([])\n",
    "    plt.title(str(np.argmax(label[i])))\n",
    "    \n",
    "    plt.imshow(img[i])"
   ]
  },
  {
   "cell_type": "code",
   "execution_count": null,
   "metadata": {
    "colab": {
     "base_uri": "https://localhost:8080/",
     "height": 149
    },
    "id": "ZDR_aVnqzFV-",
    "outputId": "4d938c36-cb8d-4486-99e4-942c3a740be5"
   },
   "outputs": [],
   "source": [
    "img, label = data_gen.next()\n",
    "\n",
    "plt.figure(figsize=(10,10))\n",
    "for i in range(len(img)):\n",
    "\n",
    "    plt.subplot(1, len(img), i+1)\n",
    "    plt.xticks([])\n",
    "    plt.yticks([])\n",
    "    plt.title(str(np.argmax(label[i])))\n",
    "    \n",
    "    plt.imshow(img[i])"
   ]
  },
  {
   "cell_type": "code",
   "execution_count": null,
   "metadata": {
    "colab": {
     "base_uri": "https://localhost:8080/",
     "height": 149
    },
    "id": "HJ8WYSEYz5jW",
    "outputId": "90aa5f10-9ef9-4837-99c5-6fbb32866fac"
   },
   "outputs": [],
   "source": [
    "img, label = data_gen.next()\n",
    "\n",
    "plt.figure(figsize=(10,10))\n",
    "for i in range(len(img)):\n",
    "\n",
    "    plt.subplot(1, len(img), i+1)\n",
    "    plt.xticks([])\n",
    "    plt.yticks([])\n",
    "    plt.title(str(np.argmax(label[i])))\n",
    "    \n",
    "    plt.imshow(img[i])"
   ]
  }
 ],
 "metadata": {
  "colab": {
   "collapsed_sections": [],
   "name": "TF_2.x_LEC_16_Example.ipynb",
   "provenance": []
  },
  "kernelspec": {
   "display_name": "Python 3 (ipykernel)",
   "language": "python",
   "name": "python3"
  },
  "language_info": {
   "codemirror_mode": {
    "name": "ipython",
    "version": 3
   },
   "file_extension": ".py",
   "mimetype": "text/x-python",
   "name": "python",
   "nbconvert_exporter": "python",
   "pygments_lexer": "ipython3",
   "version": "3.12.9"
  }
 },
 "nbformat": 4,
 "nbformat_minor": 4
}
