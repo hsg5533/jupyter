{
 "cells": [
  {
   "cell_type": "code",
   "execution_count": 1,
   "id": "433c7117",
   "metadata": {},
   "outputs": [
    {
     "name": "stdout",
     "output_type": "stream",
     "text": [
      "x_data.shape =  (5, 1) , t_data.shape =  (5, 1)\n"
     ]
    }
   ],
   "source": [
    "import numpy as np\n",
    "\n",
    "x_data = np.array([1, 2, 3, 4, 5]).reshape(5,1)\n",
    "t_data = np.array([2, 3, 4, 5, 6]).reshape(5,1) \n",
    "\n",
    "# raw_data = [ [1, 2], [2, 3], [3, 4], [4, 5], [5, 6] ]\n",
    "\n",
    "#Y=X+1\n",
    "\n",
    "print(\"x_data.shape = \", x_data.shape, \", t_data.shape = \", t_data.shape)"
   ]
  },
  {
   "cell_type": "code",
   "execution_count": 2,
   "id": "e9631d4a",
   "metadata": {},
   "outputs": [
    {
     "name": "stdout",
     "output_type": "stream",
     "text": [
      "W =  [[0.23424207]] , W.shape =  (1, 1) , b =  [0.42189569] , b.shape =  (1,)\n"
     ]
    }
   ],
   "source": [
    "W = np.random.rand(1,1)  \n",
    "b = np.random.rand(1)  \n",
    "print(\"W = \", W, \", W.shape = \", W.shape, \", b = \", b, \", b.shape = \", b.shape)"
   ]
  },
  {
   "cell_type": "code",
   "execution_count": 3,
   "id": "767d3148",
   "metadata": {},
   "outputs": [],
   "source": [
    "def loss_func(x, t):\n",
    "    y = np.dot(x,W) + b\n",
    "    \n",
    "    return ( np.sum( (t - y)**2 ) ) / ( len(x) )"
   ]
  },
  {
   "cell_type": "code",
   "execution_count": 4,
   "id": "6f8d2269",
   "metadata": {},
   "outputs": [],
   "source": [
    "def numerical_derivative(f, x):\n",
    "    delta_x = 1e-4 # 0.0001\n",
    "    grad = np.zeros_like(x)\n",
    "    \n",
    "    it = np.nditer(x, flags=['multi_index'], op_flags=['readwrite'])\n",
    "    \n",
    "    while not it.finished:\n",
    "        idx = it.multi_index        \n",
    "        tmp_val = x[idx]\n",
    "        x[idx] = float(tmp_val) + delta_x\n",
    "        fx1 = f(x) # f(x+delta_x)\n",
    "        \n",
    "        x[idx] = tmp_val - delta_x \n",
    "        fx2 = f(x) # f(x-delta_x)\n",
    "        grad[idx] = (fx1 - fx2) / (2*delta_x)\n",
    "        \n",
    "        x[idx] = tmp_val \n",
    "        it.iternext()   \n",
    "        \n",
    "    return grad"
   ]
  },
  {
   "cell_type": "code",
   "execution_count": 5,
   "id": "80fbe579",
   "metadata": {},
   "outputs": [],
   "source": [
    "# 손실함수 값 계산 함수\n",
    "# 입력변수 x, t : numpy type\n",
    "def error_val(x, t):\n",
    "    y = np.dot(x,W) + b\n",
    "    \n",
    "    return ( np.sum( (t - y)**2 ) ) / ( len(x) )"
   ]
  },
  {
   "cell_type": "code",
   "execution_count": 6,
   "id": "a8a74a4f",
   "metadata": {},
   "outputs": [],
   "source": [
    "# 학습을 마친 후, 임의의 데이터에 대해 미래 값 예측 함수\n",
    "# 입력변수 x : numpy type\n",
    "def predict(x):\n",
    "    y = np.dot(x,W) + b\n",
    "    \n",
    "    return y"
   ]
  },
  {
   "cell_type": "code",
   "execution_count": 7,
   "id": "a2aae953",
   "metadata": {
    "collapsed": true,
    "jupyter": {
     "outputs_hidden": true
    },
    "tags": []
   },
   "outputs": [
    {
     "name": "stdout",
     "output_type": "stream",
     "text": [
      "Initial error value =  9.440569739691217 Initial W =  [[0.23424207]] \n",
      " , b =  [0.42189569]\n",
      "step =  0 error value =  5.564116177443857 W =  [[0.43739507]] , b =  [0.46721407]\n",
      "step =  400 error value =  0.0017482513534556906 W =  [[1.0271518]] , b =  [0.90199737]\n",
      "step =  800 error value =  0.00011154877196499372 W =  [[1.0068585]] , b =  [0.9752447]\n",
      "step =  1200 error value =  7.117471124676699e-06 W =  [[1.00173245]] , b =  [0.99374685]\n",
      "step =  1600 error value =  4.54136736049998e-07 W =  [[1.00043761]] , b =  [0.99842047]\n",
      "step =  2000 error value =  2.8976608604016547e-08 W =  [[1.00011054]] , b =  [0.99960101]\n",
      "step =  2400 error value =  1.8488789378329648e-09 W =  [[1.00002792]] , b =  [0.99989922]\n",
      "step =  2800 error value =  1.1796940675765635e-10 W =  [[1.00000705]] , b =  [0.99997454]\n",
      "step =  3200 error value =  7.527145583607932e-12 W =  [[1.00000178]] , b =  [0.99999357]\n",
      "step =  3600 error value =  4.80276388561525e-13 W =  [[1.00000045]] , b =  [0.99999838]\n",
      "step =  4000 error value =  3.064447302118587e-14 W =  [[1.00000011]] , b =  [0.99999959]\n",
      "step =  4400 error value =  1.9552985089905143e-15 W =  [[1.00000003]] , b =  [0.9999999]\n",
      "step =  4800 error value =  1.2475960697177775e-16 W =  [[1.00000001]] , b =  [0.99999997]\n",
      "step =  5200 error value =  7.960399560442682e-18 W =  [[1.]] , b =  [0.99999999]\n",
      "step =  5600 error value =  5.079204555555688e-19 W =  [[1.]] , b =  [1.]\n",
      "step =  6000 error value =  3.240837372549933e-20 W =  [[1.]] , b =  [1.]\n",
      "step =  6400 error value =  2.0678749089382752e-21 W =  [[1.]] , b =  [1.]\n",
      "step =  6800 error value =  1.3194172710712796e-22 W =  [[1.]] , b =  [1.]\n",
      "step =  7200 error value =  8.420330174638211e-24 W =  [[1.]] , b =  [1.]\n",
      "step =  7600 error value =  5.378460357114553e-25 W =  [[1.]] , b =  [1.]\n",
      "step =  8000 error value =  3.456003570077779e-26 W =  [[1.]] , b =  [1.]\n"
     ]
    }
   ],
   "source": [
    "learning_rate = 1e-2  # 발산하는 경우, 1e-3 ~ 1e-6 등으로 바꾸어서 실행\n",
    "\n",
    "f = lambda x : loss_func(x_data,t_data)\n",
    "\n",
    "print(\"Initial error value = \", error_val(x_data, t_data), \"Initial W = \", W, \"\\n\", \", b = \", b )\n",
    "\n",
    "for step in  range(8001):  \n",
    "    \n",
    "    W -= learning_rate * numerical_derivative(f, W)\n",
    "    \n",
    "    b -= learning_rate * numerical_derivative(f, b)\n",
    "    \n",
    "    if (step % 400 == 0):\n",
    "        print(\"step = \", step, \"error value = \", error_val(x_data, t_data), \"W = \", W, \", b = \",b )"
   ]
  },
  {
   "cell_type": "code",
   "execution_count": 10,
   "id": "5e502707",
   "metadata": {},
   "outputs": [
    {
     "data": {
      "text/plain": [
       "array([[11.]])"
      ]
     },
     "execution_count": 10,
     "metadata": {},
     "output_type": "execute_result"
    }
   ],
   "source": [
    "predict(10)"
   ]
  }
 ],
 "metadata": {
  "kernelspec": {
   "display_name": "Python 3 (ipykernel)",
   "language": "python",
   "name": "python3"
  },
  "language_info": {
   "codemirror_mode": {
    "name": "ipython",
    "version": 3
   },
   "file_extension": ".py",
   "mimetype": "text/x-python",
   "name": "python",
   "nbconvert_exporter": "python",
   "pygments_lexer": "ipython3",
   "version": "3.9.12"
  }
 },
 "nbformat": 4,
 "nbformat_minor": 5
}
