{
 "cells": [
  {
   "cell_type": "code",
   "execution_count": null,
   "metadata": {
    "id": "5C1eK4ci4qTE"
   },
   "outputs": [],
   "source": [
    "import tensorflow as tf\n",
    "import numpy as np\n",
    "import matplotlib.pyplot as plt\n",
    "from tensorflow.keras.layers import SimpleRNN, LSTM, Dense\n",
    "from tensorflow.keras import Sequential"
   ]
  },
  {
   "cell_type": "markdown",
   "metadata": {
    "id": "m0rMtlh2O-2Z"
   },
   "source": [
    "y = sin(2x) + cos(x)"
   ]
  },
  {
   "cell_type": "code",
   "execution_count": null,
   "metadata": {
    "colab": {
     "base_uri": "https://localhost:8080/"
    },
    "id": "8MTdYzuYCOFy",
    "outputId": "31e2db4c-7a6e-4215-b4e4-b1a565af051a"
   },
   "outputs": [],
   "source": [
    "# data 생성\n",
    "\n",
    "x = np.arange(0, 100, 0.1)\n",
    "y = np.sin(2*x) + np.cos(x)\n",
    "\n",
    "seq_data = y.reshape(-1,1)\n",
    "\n",
    "print(seq_data.shape)\n",
    "print(seq_data[:5])"
   ]
  },
  {
   "cell_type": "code",
   "execution_count": null,
   "metadata": {
    "colab": {
     "base_uri": "https://localhost:8080/",
     "height": 295
    },
    "id": "3q2lo3rQDKIt",
    "outputId": "b10e9c65-c683-496d-de38-777db9936f74"
   },
   "outputs": [],
   "source": [
    "plt.grid()\n",
    "plt.title('sin(2x)+cos(x)')\n",
    "plt.xlabel('time')\n",
    "plt.ylabel('amplitude')\n",
    "plt.plot(seq_data)\n",
    "\n",
    "plt.show()"
   ]
  },
  {
   "cell_type": "code",
   "execution_count": null,
   "metadata": {
    "id": "PgABIxRcGX37"
   },
   "outputs": [],
   "source": [
    "def seq2dataset(seq, window, horizon):\n",
    "\n",
    "    X = []\n",
    "    Y = []\n",
    "\n",
    "    for i in range(len(seq)-(window+horizon)+1):\n",
    "\n",
    "        x = seq[i:(i+window)]\n",
    "        y = (seq[i+window+horizon-1])\n",
    "\n",
    "        X.append(x)\n",
    "        Y.append(y)\n",
    "\n",
    "    return np.array(X), np.array(Y)"
   ]
  },
  {
   "cell_type": "code",
   "execution_count": null,
   "metadata": {
    "colab": {
     "base_uri": "https://localhost:8080/"
    },
    "id": "uDOCidTD6UAd",
    "outputId": "6fe0af0c-b51d-43bf-b48c-4c1f458e851f"
   },
   "outputs": [],
   "source": [
    "w = 20  # window size\n",
    "h = 1  # horizon factor\n",
    "\n",
    "X, Y = seq2dataset(seq_data, w, h)\n",
    "\n",
    "print(X.shape, Y.shape)"
   ]
  },
  {
   "cell_type": "code",
   "execution_count": null,
   "metadata": {
    "colab": {
     "base_uri": "https://localhost:8080/"
    },
    "id": "0ZRWAjNe8g2g",
    "outputId": "5e9f5f6d-b8b3-4b83-c236-d676f1caffc4"
   },
   "outputs": [],
   "source": [
    "split_ratio = 0.8\n",
    "\n",
    "split = int(split_ratio*len(X))\n",
    "\n",
    "x_train = X[0:split]\n",
    "y_train = Y[0:split]\n",
    "\n",
    "x_test = X[split:]\n",
    "y_test = Y[split:]\n",
    "\n",
    "print(x_train.shape, y_train.shape, x_test.shape, y_test.shape)"
   ]
  },
  {
   "cell_type": "code",
   "execution_count": null,
   "metadata": {
    "colab": {
     "base_uri": "https://localhost:8080/"
    },
    "id": "gWvJREOR6YBM",
    "outputId": "07e8c805-cf59-4cd4-ee0f-dcdd8dc04218"
   },
   "outputs": [],
   "source": [
    "model = Sequential()\n",
    "\n",
    "#model.add(SimpleRNN(units=128, activation='tanh',input_shape=x_train[0].shape))\n",
    "\n",
    "model.add(SimpleRNN(units=128, activation='tanh',input_shape=(20,1)))\n",
    "\n",
    "model.add(Dense(1))\n",
    "\n",
    "model.summary()"
   ]
  },
  {
   "cell_type": "code",
   "execution_count": null,
   "metadata": {
    "id": "D9wr6-t76ZuD"
   },
   "outputs": [],
   "source": [
    "model.compile(loss='mse', optimizer='adam', metrics=['mae'])"
   ]
  },
  {
   "cell_type": "code",
   "execution_count": null,
   "metadata": {
    "colab": {
     "base_uri": "https://localhost:8080/"
    },
    "id": "Pf35beSX8mW3",
    "outputId": "4783e079-5f97-4ef1-9c08-f23365bf9157",
    "tags": []
   },
   "outputs": [],
   "source": [
    "from datetime import datetime\n",
    "\n",
    "start_time = datetime.now()\n",
    "hist = model.fit(x_train, y_train, epochs=100, validation_data=(x_test, y_test))\n",
    "end_time = datetime.now()\n",
    "\n",
    "print('Elapsed Time => ', end_time-start_time)"
   ]
  },
  {
   "cell_type": "code",
   "execution_count": null,
   "metadata": {
    "colab": {
     "base_uri": "https://localhost:8080/",
     "height": 295
    },
    "id": "T6fRISM67Sdn",
    "outputId": "6e59ca9c-cc80-4c2c-fe9a-4c45ccaa7eaf",
    "tags": []
   },
   "outputs": [],
   "source": [
    "plt.title('Loss Trend')\n",
    "plt.plot(hist.history['loss'], label='loss')\n",
    "plt.plot(hist.history['val_loss'], label='val_loss')\n",
    "plt.xlabel('epoch')\n",
    "plt.ylabel('loss')\n",
    "plt.grid()\n",
    "plt.legend(loc='best')\n",
    "\n",
    "plt.show()"
   ]
  },
  {
   "cell_type": "code",
   "execution_count": null,
   "metadata": {
    "colab": {
     "base_uri": "https://localhost:8080/"
    },
    "id": "kIWzzrui7TZM",
    "outputId": "56e42a4f-7bca-495d-923c-1142f84ce861"
   },
   "outputs": [],
   "source": [
    "pred = model.predict(x_test)\n",
    "print(pred.shape)"
   ]
  },
  {
   "cell_type": "code",
   "execution_count": null,
   "metadata": {
    "colab": {
     "base_uri": "https://localhost:8080/"
    },
    "id": "ukl719IhM4R7",
    "outputId": "690dbb4e-d591-4a32-922a-4b28474eb81f",
    "tags": []
   },
   "outputs": [],
   "source": [
    "rand_idx = np.random.randint(0, len(y_test), size=5)\n",
    "print('random idx = ',rand_idx, '\\n')\n",
    "print('pred  = ', pred.flatten()[rand_idx])\n",
    "print('label = ', y_test.flatten()[rand_idx])\n",
    "\n",
    "#print(pred[rand_idx])\n",
    "#print(y_test[rand_idx])"
   ]
  },
  {
   "cell_type": "code",
   "execution_count": null,
   "metadata": {
    "colab": {
     "base_uri": "https://localhost:8080/",
     "height": 265
    },
    "id": "evccQvU7mRb-",
    "outputId": "e089b080-ef36-4048-d4b7-e2c0b8f98a9b",
    "tags": []
   },
   "outputs": [],
   "source": [
    "plt.plot(pred, label='prediction')\n",
    "plt.plot(y_test, label='label')\n",
    "plt.grid()\n",
    "plt.legend(loc='best')\n",
    "plt.show()"
   ]
  },
  {
   "cell_type": "markdown",
   "metadata": {
    "id": "EvwL3Y-fPUWe"
   },
   "source": [
    "y = 0.5*sin(2x) - cos(x/2)"
   ]
  },
  {
   "cell_type": "code",
   "execution_count": null,
   "metadata": {
    "colab": {
     "base_uri": "https://localhost:8080/"
    },
    "id": "sHPfJ-rXPXA-",
    "outputId": "a5598e72-41ba-4081-c84b-a9af7b46fcb1"
   },
   "outputs": [],
   "source": [
    "# data 생성\n",
    "\n",
    "x = np.arange(0, 100, 0.1)\n",
    "y = 0.5*np.sin(2*x) - np.cos(x/2.0)\n",
    "\n",
    "seq_data = y.reshape(-1,1)\n",
    "\n",
    "print(seq_data.shape)\n",
    "print(seq_data[:5])"
   ]
  },
  {
   "cell_type": "code",
   "execution_count": null,
   "metadata": {
    "colab": {
     "base_uri": "https://localhost:8080/",
     "height": 295
    },
    "id": "5nZZ0ZwDPpAV",
    "outputId": "14874900-451e-46ff-b6ee-0f69ea4d1a6b"
   },
   "outputs": [],
   "source": [
    "plt.grid()\n",
    "plt.title('0.5*sin(2x)-cos(x/2)')\n",
    "plt.xlabel('time')\n",
    "plt.ylabel('amplitude')\n",
    "plt.plot(seq_data)\n",
    "\n",
    "plt.show()"
   ]
  },
  {
   "cell_type": "code",
   "execution_count": null,
   "metadata": {
    "colab": {
     "base_uri": "https://localhost:8080/"
    },
    "id": "w0potWoAP1da",
    "outputId": "89d067e6-4cbe-4e6d-e1e4-3db742028207"
   },
   "outputs": [],
   "source": [
    "w = 20  # window size\n",
    "h = 1  # horizon factor\n",
    "\n",
    "X, Y = seq2dataset(seq_data, w, h)\n",
    "\n",
    "print(X.shape, Y.shape)"
   ]
  },
  {
   "cell_type": "code",
   "execution_count": null,
   "metadata": {
    "colab": {
     "base_uri": "https://localhost:8080/"
    },
    "id": "BsRMAFNfP8BD",
    "outputId": "6ba9d142-e726-44f6-9d83-127e15fd8193"
   },
   "outputs": [],
   "source": [
    "split_ratio = 0.8\n",
    "\n",
    "split = int(split_ratio*len(X))\n",
    "\n",
    "x_train = X[0:split]\n",
    "y_train = Y[0:split]\n",
    "\n",
    "x_test = X[split:]\n",
    "y_test = Y[split:]\n",
    "\n",
    "print(x_train.shape, y_train.shape, x_test.shape, y_test.shape)"
   ]
  },
  {
   "cell_type": "code",
   "execution_count": null,
   "metadata": {
    "colab": {
     "base_uri": "https://localhost:8080/"
    },
    "id": "AX-QIgJ5g5P1",
    "outputId": "a3d156bd-4ebb-4e15-d1e2-62510ddac41b"
   },
   "outputs": [],
   "source": [
    "model = Sequential()\n",
    "\n",
    "model.add(SimpleRNN(units=128, activation='tanh', input_shape=x_train[0].shape))\n",
    "\n",
    "model.add(Dense(1))\n",
    "\n",
    "model.summary()"
   ]
  },
  {
   "cell_type": "code",
   "execution_count": null,
   "metadata": {
    "id": "N9JZUNBi-CsW"
   },
   "outputs": [],
   "source": [
    "model.compile(loss='mse', optimizer='adam', metrics=['mae'])"
   ]
  },
  {
   "cell_type": "code",
   "execution_count": null,
   "metadata": {
    "colab": {
     "base_uri": "https://localhost:8080/"
    },
    "id": "kWzAj_P6Pdr3",
    "outputId": "a5168d41-966a-410a-9fc7-e9f11fef0bdc",
    "tags": []
   },
   "outputs": [],
   "source": [
    "from datetime import datetime\n",
    "\n",
    "start_time = datetime.now()\n",
    "\n",
    "hist = model.fit(x_train, y_train, \n",
    "                 epochs=100, \n",
    "                 validation_data=(x_test, y_test))\n",
    "\n",
    "end_time = datetime.now()\n",
    "\n",
    "print('Elapsed Time => ', end_time-start_time)"
   ]
  },
  {
   "cell_type": "code",
   "execution_count": null,
   "metadata": {
    "colab": {
     "base_uri": "https://localhost:8080/",
     "height": 295
    },
    "id": "49u2CcezPqmY",
    "outputId": "dc56ffbc-3302-43be-942e-99da95146eeb"
   },
   "outputs": [],
   "source": [
    "plt.title('Loss Trend')\n",
    "plt.plot(hist.history['loss'], label='loss')\n",
    "plt.plot(hist.history['val_loss'], label='val_loss')\n",
    "plt.xlabel('epoch')\n",
    "plt.ylabel('loss')\n",
    "plt.grid()\n",
    "plt.legend(loc='best')\n",
    "\n",
    "plt.show()"
   ]
  },
  {
   "cell_type": "code",
   "execution_count": null,
   "metadata": {
    "colab": {
     "base_uri": "https://localhost:8080/"
    },
    "id": "nEUziJrYQIqJ",
    "outputId": "665d2d44-49b9-42e3-a9b1-44e211598c87"
   },
   "outputs": [],
   "source": [
    "pred = model.predict(x_test)\n",
    "\n",
    "print(pred.shape)"
   ]
  },
  {
   "cell_type": "code",
   "execution_count": null,
   "metadata": {
    "colab": {
     "base_uri": "https://localhost:8080/"
    },
    "id": "JJ7xa-xQQIzb",
    "outputId": "d2d02fcf-3ffa-4bf6-92df-c4d74771a2b1"
   },
   "outputs": [],
   "source": [
    "rand_idx = np.random.randint(0, len(y_test), size=5)\n",
    "\n",
    "print('random idx = ',rand_idx, '\\n')\n",
    "\n",
    "print('pred  = ', pred.flatten()[rand_idx])\n",
    "print('label = ', y_test.flatten()[rand_idx])\n",
    "\n",
    "rand_idx = np.random.randint(0, len(y_test), size=5)\n",
    "\n",
    "print('\\n\\nrandom idx = ',rand_idx, '\\n')\n",
    "\n",
    "print('pred  = ', pred.flatten()[rand_idx])\n",
    "print('label = ', y_test.flatten()[rand_idx])"
   ]
  },
  {
   "cell_type": "code",
   "execution_count": null,
   "metadata": {
    "colab": {
     "base_uri": "https://localhost:8080/",
     "height": 265
    },
    "id": "-cymCZFxQboq",
    "outputId": "5c8551e3-fd98-4b14-fbe2-23b8de295ee4"
   },
   "outputs": [],
   "source": [
    "plt.plot(pred, label='prediction')\n",
    "plt.plot(y_test, label='label')\n",
    "plt.grid()\n",
    "plt.legend(loc='best')\n",
    "\n",
    "plt.show()"
   ]
  },
  {
   "cell_type": "code",
   "execution_count": null,
   "metadata": {
    "id": "VTPpjGmYQn2G"
   },
   "outputs": [],
   "source": []
  }
 ],
 "metadata": {
  "accelerator": "GPU",
  "colab": {
   "collapsed_sections": [],
   "name": "TF_2.x_LEC_19_Example.ipynb",
   "provenance": []
  },
  "kernelspec": {
   "display_name": "Python 3 (ipykernel)",
   "language": "python",
   "name": "python3"
  },
  "language_info": {
   "codemirror_mode": {
    "name": "ipython",
    "version": 3
   },
   "file_extension": ".py",
   "mimetype": "text/x-python",
   "name": "python",
   "nbconvert_exporter": "python",
   "pygments_lexer": "ipython3",
   "version": "3.12.9"
  }
 },
 "nbformat": 4,
 "nbformat_minor": 4
}
