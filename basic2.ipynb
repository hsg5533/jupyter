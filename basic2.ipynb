{
 "cells": [
  {
   "cell_type": "code",
   "execution_count": null,
   "id": "b32c401e-144f-49d8-a563-fe45a960173a",
   "metadata": {},
   "outputs": [],
   "source": [
    "a=1\n",
    "b=2\n",
    "print(a,b)"
   ]
  },
  {
   "cell_type": "code",
   "execution_count": null,
   "id": "7ace24da-a53f-4b08-a616-f999c2e75489",
   "metadata": {},
   "outputs": [],
   "source": [
    "a=1.5\n",
    "b=3.5\n",
    "print(a,b,12.5)"
   ]
  },
  {
   "cell_type": "code",
   "execution_count": null,
   "id": "94b623ea-bcd5-4f05-94a0-1f49f6d1ffa9",
   "metadata": {},
   "outputs": [],
   "source": [
    "s1=\"홍길동\"\n",
    "s2=\"학생\"\n",
    "print(s1,s2)"
   ]
  },
  {
   "cell_type": "code",
   "execution_count": null,
   "id": "ad2c1281-f912-4fc0-b855-968639d94a73",
   "metadata": {},
   "outputs": [],
   "source": [
    "b1=True\n",
    "b2=False\n",
    "print(b1,b2)\n",
    "print(b1==b2)\n",
    "print(s1+s2)\n",
    "print(s1*10)"
   ]
  },
  {
   "cell_type": "code",
   "execution_count": null,
   "id": "12bc885d-b69f-4aa3-a977-e4e61a473748",
   "metadata": {},
   "outputs": [],
   "source": [
    "a=10\n",
    "a+=1\n",
    "print(a)"
   ]
  },
  {
   "cell_type": "code",
   "execution_count": null,
   "id": "ec0c6b63-ed8a-4789-bd48-ccd5f7d3a16a",
   "metadata": {},
   "outputs": [],
   "source": [
    "a=10\n",
    "b=5\n",
    "print(a>b)\n",
    "print(a<b)\n",
    "print(a==b)\n",
    "print(a>=b)\n",
    "print(a<=b)\n",
    "print(a!=b)"
   ]
  },
  {
   "cell_type": "code",
   "execution_count": null,
   "id": "1366ba66-b3ac-4e61-96a5-bf7ec0e8bf54",
   "metadata": {},
   "outputs": [],
   "source": [
    "print(a>>1) #a=1010 b=0101\n",
    "print(a<<1) \n",
    "print(a&b) #a=0000\n",
    "print(a|b) #1111\n",
    "print(a^b) #1111\n",
    "print(~a)"
   ]
  },
  {
   "cell_type": "code",
   "execution_count": null,
   "id": "bfcab88d-243d-4097-9f58-9a7133ea4c84",
   "metadata": {},
   "outputs": [],
   "source": [
    "print(a>5 and b>5)\n",
    "print(a>5 or b>5)\n",
    "print(not(a>5))"
   ]
  },
  {
   "cell_type": "code",
   "execution_count": null,
   "id": "d82b0fe5-7ebb-4f99-84b2-32de52a8083b",
   "metadata": {},
   "outputs": [],
   "source": [
    "a=3.5\n",
    "b=int(a)\n",
    "print(b)\n",
    "c=float(b)\n",
    "print(c)\n",
    "print(\"python\"+str(c))\n",
    "print(10/3)\n",
    "print(1==True)\n",
    "print(0==False)"
   ]
  },
  {
   "cell_type": "code",
   "execution_count": null,
   "id": "8a3d3a6d-6b88-4629-b141-bb88cc49e5c3",
   "metadata": {},
   "outputs": [],
   "source": [
    "a=10\n",
    "b=3.5\n",
    "c='python'\n",
    "print(type(a))\n",
    "print(type(b))\n",
    "print(type(c))"
   ]
  },
  {
   "cell_type": "code",
   "execution_count": null,
   "id": "77e87149-fa24-4a86-b450-866bbb663491",
   "metadata": {},
   "outputs": [],
   "source": [
    "name=\"홍길동\"\n",
    "age=10\n",
    "height=180.4\n",
    "weight=70.5\n",
    "\n",
    "print(\"내이름은\",name,\"이고 나이는\",age,\"이다\")\n",
    "print(\"내이름은\"+name+\"이고 나이는\"+str(age)+\"이다\")\n",
    "print(\"내이름은 %s 이고 나이는 %d 이다\"%(name, age))\n",
    "print(\"내 키는\",height,\"이고 몸무게는\",weight,\"이다\")\n",
    "print(\"내이름은 %s 이고 나이는 %d 이고 키는 %.2f 몸무게는 %.2f이다\"%(name, age,height,weight))"
   ]
  },
  {
   "cell_type": "code",
   "execution_count": null,
   "id": "fe4abdb7-01a7-4d8a-b48a-e64fc64a28d0",
   "metadata": {},
   "outputs": [],
   "source": [
    "print('이름을 입력하세요')\n",
    "name=input()\n",
    "print(name)"
   ]
  },
  {
   "cell_type": "code",
   "execution_count": null,
   "id": "c7b3cf46-0901-4f16-92aa-3fa08d22bf9e",
   "metadata": {},
   "outputs": [],
   "source": [
    "name=input('이름을 입력하세요')\n",
    "print(name)"
   ]
  },
  {
   "cell_type": "code",
   "execution_count": null,
   "id": "80c48e9f-69ea-498c-9db8-be21ffef8025",
   "metadata": {},
   "outputs": [],
   "source": [
    "a=input('아무 숫자나 입력하세요')\n",
    "print(int(a)*2)"
   ]
  },
  {
   "cell_type": "code",
   "execution_count": null,
   "id": "6a6f06e8-1953-4ef0-8f73-9265d3455154",
   "metadata": {},
   "outputs": [],
   "source": [
    "print('본 프로그램은 섭씨온도를 화씨온도로 바꾸는 프로그램입니다.')\n",
    "C=float(input('변환하고 싶은 섭씨온도를 입력하세요.'))\n",
    "F=(C*1.8)+32\n",
    "print('섭씨온도',C)\n",
    "print('화씨온도',F)"
   ]
  },
  {
   "cell_type": "code",
   "execution_count": null,
   "id": "f6e5546e-b227-4649-a717-d0cd34b36441",
   "metadata": {},
   "outputs": [],
   "source": [
    "a=[1,2,3,4,5]\n",
    "for i in a:\n",
    "    print(i)"
   ]
  },
  {
   "cell_type": "code",
   "execution_count": 3,
   "id": "f576a2dd-526e-42ef-84ba-4d7b9cda0a03",
   "metadata": {},
   "outputs": [
    {
     "name": "stdout",
     "output_type": "stream",
     "text": [
      "['서울']\n",
      "['인천', '대구', '대전', '광주', '울산', '수원']\n"
     ]
    }
   ],
   "source": [
    "cities=['서울','부산','인천','대구','대전','광주','울산','수원']\n",
    "print(cities[:1])\n",
    "print(cities[2:])"
   ]
  },
  {
   "cell_type": "code",
   "execution_count": 15,
   "id": "f537bdb5-7b88-4a03-b796-37c27c565469",
   "metadata": {},
   "outputs": [
    {
     "name": "stdout",
     "output_type": "stream",
     "text": [
      "['red', 'blue', 'green', 'red', 'black', 'white']\n",
      "['red', 'blue', 'green', 'red', 'blue', 'green']\n",
      "True\n",
      "False\n",
      "['red', 'blue', 'green', 'pupple']\n",
      "['red', 'blue', 'green', 'pupple', 'pink', 'yellow']\n"
     ]
    }
   ],
   "source": [
    "color1=['red','blue','green']\n",
    "color2=['red','black','white']\n",
    "colors=color1+color2\n",
    "print(colors)\n",
    "print(color*2)\n",
    "print('blue' in color1)\n",
    "print('bule' in color2)\n",
    "color1.append('pupple')\n",
    "print(color1)\n",
    "color1.extend(['pink','yellow'])\n",
    "print(color1)"
   ]
  },
  {
   "cell_type": "code",
   "execution_count": 17,
   "id": "af3980db-ea25-47f7-9dd9-7c1b953a5256",
   "metadata": {},
   "outputs": [
    {
     "name": "stdout",
     "output_type": "stream",
     "text": [
      "['red', 'pink', 'pink', 'blue', 'green', 'pupple', 'pink', 'yellow']\n",
      "['pink', 'pink', 'blue', 'green', 'pupple', 'pink', 'yellow']\n",
      "['pink', 'blue', 'green', 'pupple', 'pink', 'yellow']\n"
     ]
    }
   ],
   "source": [
    "color1.insert(1,'pink')\n",
    "print(color1)\n",
    "color1.remove('red')\n",
    "print(color1)\n",
    "del color1[0]\n",
    "print(color1)"
   ]
  },
  {
   "cell_type": "code",
   "execution_count": 20,
   "id": "73199c80-db6f-439f-9969-ef7d87a2c7bf",
   "metadata": {},
   "outputs": [
    {
     "name": "stdout",
     "output_type": "stream",
     "text": [
      "1 2 3\n",
      "1 [2, 3]\n",
      "1 2 3\n"
     ]
    }
   ],
   "source": [
    "t=[1,2,3]\n",
    "a,b,c=t\n",
    "print(a,b,c)\n",
    "a,*b=t\n",
    "print(a,b)\n",
    "print(a,*b)"
   ]
  },
  {
   "cell_type": "code",
   "execution_count": 21,
   "id": "734960ff-cd4b-4b0d-ba35-5b8e09b04225",
   "metadata": {},
   "outputs": [
    {
     "name": "stdout",
     "output_type": "stream",
     "text": [
      "[[49, 79.2, 100, 82], [43, 59, 85, 30, 90], [49, 79, 48, 60, 100]]\n"
     ]
    }
   ],
   "source": [
    "kor=[49,79.20,100,82]\n",
    "math=[43,59,85,30,90]\n",
    "eng=[49,79,48,60,100]\n",
    "scores=[kor,math,eng]\n",
    "print(scores)"
   ]
  },
  {
   "cell_type": "code",
   "execution_count": 22,
   "id": "c3c4dcbb-3d5d-45c2-afee-9390094490e3",
   "metadata": {},
   "outputs": [
    {
     "name": "stdout",
     "output_type": "stream",
     "text": [
      "True\n",
      "True\n",
      "False\n",
      "True\n"
     ]
    }
   ],
   "source": [
    "a=1\n",
    "b=1\n",
    "print(a is b)\n",
    "print(a==b)\n",
    "\n",
    "c=300\n",
    "d=300\n",
    "print(c is d)\n",
    "print(c==d)"
   ]
  },
  {
   "cell_type": "code",
   "execution_count": 23,
   "id": "edcd9de7-6816-49df-948f-27bc3423c54a",
   "metadata": {},
   "outputs": [
    {
     "name": "stdout",
     "output_type": "stream",
     "text": [
      "[1, 2, 3, 4, 5]\n"
     ]
    }
   ],
   "source": [
    "a=[5,4,3,2,1]\n",
    "b=a\n",
    "b.sort()\n",
    "print(b)"
   ]
  },
  {
   "cell_type": "code",
   "execution_count": 24,
   "id": "c9aafdb2-86ad-4861-8c51-ddaabaf51696",
   "metadata": {},
   "outputs": [
    {
     "name": "stdin",
     "output_type": "stream",
     "text": [
      "Tell me your age 20\n"
     ]
    },
    {
     "name": "stdout",
     "output_type": "stream",
     "text": [
      "welcome\n"
     ]
    }
   ],
   "source": [
    "myage=int(input(\"Tell me your age\"))\n",
    "if myage<30:\n",
    "    print(\"welcome\")\n",
    "else :\n",
    "    print(\"get out\")"
   ]
  },
  {
   "cell_type": "code",
   "execution_count": 28,
   "id": "17b62c46-6d22-454c-930b-df26930facad",
   "metadata": {},
   "outputs": [
    {
     "name": "stdin",
     "output_type": "stream",
     "text": [
      "점수입력 23\n"
     ]
    },
    {
     "name": "stdout",
     "output_type": "stream",
     "text": [
      "F\n"
     ]
    }
   ],
   "source": [
    "score=int(input('점수입력'))\n",
    "if score>=90:\n",
    "    print('A')\n",
    "elif score>=80:\n",
    "    print('B')\n",
    "elif score>=70:\n",
    "    print('C')\n",
    "elif score>=60:\n",
    "    print('D')\n",
    "else:\n",
    "    print('F')"
   ]
  },
  {
   "cell_type": "code",
   "execution_count": 36,
   "id": "488157e7-bb81-448c-9f28-d8a5ac7f10d5",
   "metadata": {},
   "outputs": [
    {
     "name": "stdin",
     "output_type": "stream",
     "text": [
      "당신의 출생년도는? 23\n"
     ]
    },
    {
     "name": "stdout",
     "output_type": "stream",
     "text": [
      "당신의 나이 2000\n",
      "대학생\n"
     ]
    }
   ],
   "source": [
    "year=int(input('당신의 출생년도는?'))\n",
    "age=(2022-year)+1\n",
    "print('당신의 나이',age)\n",
    "if age>=20:\n",
    "    print('대학생')\n",
    "elif age>17:\n",
    "    print('고등학생')\n",
    "elif age>14:\n",
    "    print('중학생')\n",
    "elif age>8:\n",
    "    print('초등학생')\n",
    "else:\n",
    "    print('학생 아님')\n"
   ]
  },
  {
   "cell_type": "code",
   "execution_count": 37,
   "id": "3d5cb591-2782-40d7-b1ad-e8e936316c8c",
   "metadata": {},
   "outputs": [
    {
     "name": "stdout",
     "output_type": "stream",
     "text": [
      "1\n",
      "2\n",
      "3\n",
      "4\n",
      "5\n"
     ]
    }
   ],
   "source": [
    "a=[1,2,3,4,5]\n",
    "for i in a:\n",
    "    print(i)"
   ]
  },
  {
   "cell_type": "code",
   "execution_count": 46,
   "id": "1ba505f7-9ce4-4af8-9653-25b330980946",
   "metadata": {},
   "outputs": [
    {
     "name": "stdout",
     "output_type": "stream",
     "text": [
      "0 1 2 3 4 5 6 7 8 9 "
     ]
    }
   ],
   "source": [
    "for i in range(0,10): #range(start,end,step)\n",
    "    print(i,end=\" \")"
   ]
  },
  {
   "cell_type": "code",
   "execution_count": 47,
   "id": "67420e5c-b724-4e44-8d1b-0bb2e3d7f6e2",
   "metadata": {},
   "outputs": [
    {
     "name": "stdout",
     "output_type": "stream",
     "text": [
      "p\n",
      "y\n",
      "t\n",
      "h\n",
      "o\n",
      "n\n"
     ]
    }
   ],
   "source": [
    "s=\"python\"\n",
    "for i in s:\n",
    "    print(i)"
   ]
  },
  {
   "cell_type": "code",
   "execution_count": 53,
   "id": "7a012344-d36d-4550-8038-79c801aadd47",
   "metadata": {},
   "outputs": [
    {
     "name": "stdout",
     "output_type": "stream",
     "text": [
      "p y t h o n \n",
      "j a v a \n",
      "c # \n"
     ]
    }
   ],
   "source": [
    "str=['python','java','c#']\n",
    "for i in str:\n",
    "    for j in i:\n",
    "        print(j, end=\" \")\n",
    "    print()"
   ]
  },
  {
   "cell_type": "code",
   "execution_count": 61,
   "id": "0d811c8d-55e3-434c-9964-8205d286e014",
   "metadata": {},
   "outputs": [
    {
     "name": "stdout",
     "output_type": "stream",
     "text": [
      "1 1\n",
      "2 3\n",
      "3 6\n",
      "4 10\n",
      "5 15\n",
      "6 21\n",
      "7 28\n",
      "8 36\n",
      "9 45\n",
      "10 55\n"
     ]
    }
   ],
   "source": [
    "i=1\n",
    "sum=0\n",
    "while (i<=10):\n",
    "    sum+=i\n",
    "    print(i, sum)\n",
    "    i+=1\n",
    "    "
   ]
  },
  {
   "cell_type": "code",
   "execution_count": 81,
   "id": "399c33a1-233c-4d23-9788-eef76379a5b0",
   "metadata": {},
   "outputs": [
    {
     "name": "stdout",
     "output_type": "stream",
     "text": [
      "0 break\n",
      "1 break\n",
      "2 break\n",
      "3 break\n",
      "4 break\n"
     ]
    }
   ],
   "source": [
    "for i in range(10):\n",
    "    if i==5:\n",
    "        break\n",
    "    print(i,'break')"
   ]
  }
 ],
 "metadata": {
  "kernelspec": {
   "display_name": "Python 3 (ipykernel)",
   "language": "python",
   "name": "python3"
  },
  "language_info": {
   "codemirror_mode": {
    "name": "ipython",
    "version": 3
   },
   "file_extension": ".py",
   "mimetype": "text/x-python",
   "name": "python",
   "nbconvert_exporter": "python",
   "pygments_lexer": "ipython3",
   "version": "3.9.12"
  }
 },
 "nbformat": 4,
 "nbformat_minor": 5
}
