{
 "cells": [
  {
   "cell_type": "code",
   "execution_count": null,
   "id": "3c756a49",
   "metadata": {},
   "outputs": [
    {
     "name": "stdout",
     "output_type": "stream",
     "text": [
      "x_data.shape =  (10, 1) , t_data.shape =  (10, 1)\n"
     ]
    }
   ],
   "source": [
    "import numpy as np\n",
    "\n",
    "x_data = np.array([2, 4, 6, 8, 10, 12, 14, 16, 18, 20]).reshape(10,1)   \n",
    "t_data = np.array([0, 0, 0, 0,  0,  0,  1,  1,  1,  1]).reshape(10,1)\n",
    "\n",
    "print(\"x_data.shape = \", x_data.shape, \", t_data.shape = \", t_data.shape)"
   ]
  },
  {
   "cell_type": "code",
   "execution_count": null,
   "id": "9b68ec29",
   "metadata": {},
   "outputs": [
    {
     "name": "stdout",
     "output_type": "stream",
     "text": [
      "W =  [[0.48854006]] , W.shape =  (1, 1) , b =  [0.03626004] , b.shape =  (1,)\n"
     ]
    }
   ],
   "source": [
    "W = np.random.rand(1,1)  \n",
    "b = np.random.rand(1)  \n",
    "print(\"W = \", W, \", W.shape = \", W.shape, \", b = \", b, \", b.shape = \", b.shape)"
   ]
  },
  {
   "cell_type": "code",
   "execution_count": null,
   "id": "5b0e192b",
   "metadata": {},
   "outputs": [],
   "source": [
    "# 최종출력은 y = sigmoid(Wx+b) 이며, 손실함수는 cross-entropy 로 나타냄\n",
    "\n",
    "def sigmoid(x):\n",
    "    return 1 / (1+np.exp(-x))"
   ]
  },
  {
   "cell_type": "code",
   "execution_count": null,
   "id": "7d0c0036",
   "metadata": {},
   "outputs": [],
   "source": [
    "def loss_func(x, t):\n",
    "    \n",
    "    delta = 1e-7    # log 무한대 발산 방지\n",
    "    \n",
    "    z = np.dot(x,W) + b\n",
    "    y = sigmoid(z)\n",
    "    \n",
    "    # cross-entropy \n",
    "    return  -np.sum( t*np.log(y + delta) + (1-t)*np.log((1 - y)+delta ) )"
   ]
  },
  {
   "cell_type": "code",
   "execution_count": null,
   "id": "5de57d72",
   "metadata": {},
   "outputs": [],
   "source": [
    "def numerical_derivative(f, x):\n",
    "    delta_x = 1e-4 # 0.0001\n",
    "    grad = np.zeros_like(x)\n",
    "    \n",
    "    it = np.nditer(x, flags=['multi_index'], op_flags=['readwrite'])\n",
    "    \n",
    "    while not it.finished:\n",
    "        idx = it.multi_index        \n",
    "        tmp_val = x[idx]\n",
    "        x[idx] = float(tmp_val) + delta_x\n",
    "        fx1 = f(x) # f(x+delta_x)\n",
    "        \n",
    "        x[idx] = tmp_val - delta_x \n",
    "        fx2 = f(x) # f(x-delta_x)\n",
    "        grad[idx] = (fx1 - fx2) / (2*delta_x)\n",
    "        \n",
    "        x[idx] = tmp_val \n",
    "        it.iternext()   \n",
    "        \n",
    "    return grad"
   ]
  },
  {
   "cell_type": "code",
   "execution_count": null,
   "id": "6baad1cd",
   "metadata": {},
   "outputs": [],
   "source": [
    "# 손실함수 값 계산 함수\n",
    "# 입력변수 x, t : numpy type\n",
    "def error_val(x, t):\n",
    "    delta = 1e-7    # log 무한대 발산 방지\n",
    "    \n",
    "    z = np.dot(x,W) + b\n",
    "    y = sigmoid(z)\n",
    "    \n",
    "    # cross-entropy \n",
    "    return  -np.sum( t*np.log(y + delta) + (1-t)*np.log((1 - y)+delta ) ) "
   ]
  },
  {
   "cell_type": "code",
   "execution_count": null,
   "id": "c04d041a",
   "metadata": {},
   "outputs": [],
   "source": [
    "# 학습을 마친 후, 임의의 데이터에 대해 미래 값 예측 함수, 입력변수 x : numpy type\n",
    "def predict(x):\n",
    "    z = np.dot(x,W) + b\n",
    "    y = sigmoid(z)\n",
    "    \n",
    "    if y >= 0.5:\n",
    "        result = 1  # True\n",
    "    else:\n",
    "        result = 0  # False \n",
    "    return y, result"
   ]
  },
  {
   "cell_type": "code",
   "execution_count": null,
   "id": "ec0c9a59",
   "metadata": {},
   "outputs": [
    {
     "name": "stdout",
     "output_type": "stream",
     "text": [
      "Initial error value =  21.254898318214885 Initial W =  [[0.48854006]] \n",
      " , b =  [0.03626004]\n",
      "step =  0 error value =  7.127259664468972 W =  [[0.08443126]] , b =  [0.0048518]\n",
      "step =  400 error value =  2.8455981812871696 W =  [[0.43131825]] , b =  [-4.28850766]\n",
      "step =  800 error value =  1.7557939642222875 W =  [[0.46052435]] , b =  [-5.73655412]\n",
      "step =  1200 error value =  1.5017504988689103 W =  [[0.53616764]] , b =  [-6.74354495]\n",
      "step =  1600 error value =  1.3415026549956088 W =  [[0.59646176]] , b =  [-7.54404786]\n",
      "step =  2000 error value =  1.2279032278802382 W =  [[0.64734918]] , b =  [-8.21821007]\n",
      "step =  2400 error value =  1.1415163798198982 W =  [[0.69180467]] , b =  [-8.8061323]\n",
      "step =  2800 error value =  1.072673690370156 W =  [[0.73154634]] , b =  [-9.33095425]\n",
      "step =  3200 error value =  1.0159470373617179 W =  [[0.76766357]] , b =  [-9.80733168]\n",
      "step =  3600 error value =  0.9680189775858004 W =  [[0.80089411]] , b =  [-10.24517899]\n",
      "step =  4000 error value =  0.9267302022039076 W =  [[0.83176277]] , b =  [-10.65154094]\n",
      "step =  4400 error value =  0.8906051255581082 W =  [[0.86065737]] , b =  [-11.03161775]\n",
      "step =  4800 error value =  0.8585955324690303 W =  [[0.88787334]] , b =  [-11.38936664]\n",
      "step =  5200 error value =  0.829932878353185 W =  [[0.91364138]] , b =  [-11.72787487]\n",
      "step =  5600 error value =  0.804038660134535 W =  [[0.93814542]] , b =  [-12.04960137]\n",
      "step =  6000 error value =  0.7804676449425462 W =  [[0.96153467]] , b =  [-12.35653926]\n",
      "step =  6400 error value =  0.7588705919426306 W =  [[0.98393201]] , b =  [-12.65032859]\n",
      "step =  6800 error value =  0.7389690103306761 W =  [[1.00543995]] , b =  [-12.93233651]\n",
      "step =  7200 error value =  0.7205376079341819 W =  [[1.02614499]] , b =  [-13.20371579]\n",
      "step =  7600 error value =  0.7033918016781653 W =  [[1.04612086]] , b =  [-13.46544824]\n",
      "step =  8000 error value =  0.68737864727306 W =  [[1.06543095]] , b =  [-13.71837758]\n",
      "step =  8400 error value =  0.6723701320289375 W =  [[1.08413021]] , b =  [-13.9632347]\n",
      "step =  8800 error value =  0.6582581344876196 W =  [[1.10226663]] , b =  [-14.20065732]\n",
      "step =  9200 error value =  0.6449505813571825 W =  [[1.11988234]] , b =  [-14.4312055]\n",
      "step =  9600 error value =  0.6323684787175811 W =  [[1.13701462]] , b =  [-14.65537406]\n",
      "step =  10000 error value =  0.6204435911750724 W =  [[1.15369659]] , b =  [-14.87360252]\n"
     ]
    }
   ],
   "source": [
    "learning_rate = 1e-2  # 발산하는 경우, 1e-3 ~ 1e-6 등으로 바꾸어서 실행\n",
    "\n",
    "f = lambda x : loss_func(x_data,t_data)  # f(x) = loss_func(x_data, t_data)\n",
    "print(\"Initial error value = \", error_val(x_data, t_data), \"Initial W = \", W, \"\\n\", \", b = \", b )\n",
    "\n",
    "for step in  range(10001):  \n",
    "    W -= learning_rate * numerical_derivative(f, W)  \n",
    "    b -= learning_rate * numerical_derivative(f, b)\n",
    "    \n",
    "    if (step % 400 == 0):\n",
    "        print(\"step = \", step, \"error value = \", error_val(x_data, t_data), \"W = \", W, \", b = \",b )"
   ]
  },
  {
   "cell_type": "code",
   "execution_count": null,
   "id": "a190f9d3",
   "metadata": {},
   "outputs": [
    {
     "name": "stdout",
     "output_type": "stream",
     "text": [
      "[[1.10561491e-05]] 0\n"
     ]
    }
   ],
   "source": [
    "(real_val, logical_val) = predict(3) \n",
    "\n",
    "print(real_val, logical_val)"
   ]
  },
  {
   "cell_type": "code",
   "execution_count": null,
   "id": "2c316715",
   "metadata": {},
   "outputs": [
    {
     "name": "stdout",
     "output_type": "stream",
     "text": [
      "[[0.99133052]] 1\n"
     ]
    }
   ],
   "source": [
    "(real_val, logical_val) = predict(17) \n",
    "\n",
    "print(real_val, logical_val)"
   ]
  }
 ],
 "metadata": {
  "kernelspec": {
   "display_name": "Python 3 (ipykernel)",
   "language": "python",
   "name": "python3"
  },
  "language_info": {
   "codemirror_mode": {
    "name": "ipython",
    "version": 3
   },
   "file_extension": ".py",
   "mimetype": "text/x-python",
   "name": "python",
   "nbconvert_exporter": "python",
   "pygments_lexer": "ipython3",
   "version": "3.9.12"
  }
 },
 "nbformat": 4,
 "nbformat_minor": 5
}
