{
 "cells": [
  {
   "cell_type": "code",
   "execution_count": 4,
   "id": "7d6931df-9342-4a7e-9454-707cb19f09ad",
   "metadata": {},
   "outputs": [
    {
     "name": "stdout",
     "output_type": "stream",
     "text": [
      "http://naver.com naver\n",
      "http://daum.net daum\n",
      "http://nate.com nate\n",
      "http://google.com google\n",
      "http://yahoo.com yahoo\n"
     ]
    }
   ],
   "source": [
    "from urllib.request import urlopen\n",
    "from bs4 import BeautifulSoup\n",
    "html='''\n",
    "<html><body>\n",
    "<ul>\n",
    "    <li><a href=\"http://naver.com\">naver</a></li>\n",
    "    <li><a href=\"http://daum.net\">daum</a></li>\n",
    "    <li><a href=\"http://nate.com\">nate</a></li>\n",
    "    <li><a href=\"http://google.com\">google</a></li>\n",
    "    <li><a href=\"http://yahoo.com\">yahoo</a></li>\n",
    "</ul>\n",
    "</body></html>\n",
    "'''\n",
    "\n",
    "bs=BeautifulSoup(html,'html.parser')\n",
    "a_list=bs.select('a')\n",
    "for a in a_list:\n",
    "    print(a['href'],a.text)"
   ]
  }
 ],
 "metadata": {
  "kernelspec": {
   "display_name": "Python 3 (ipykernel)",
   "language": "python",
   "name": "python3"
  },
  "language_info": {
   "codemirror_mode": {
    "name": "ipython",
    "version": 3
   },
   "file_extension": ".py",
   "mimetype": "text/x-python",
   "name": "python",
   "nbconvert_exporter": "python",
   "pygments_lexer": "ipython3",
   "version": "3.9.12"
  }
 },
 "nbformat": 4,
 "nbformat_minor": 5
}
