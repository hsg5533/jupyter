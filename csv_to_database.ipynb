{
 "cells": [
  {
   "cell_type": "code",
   "execution_count": 2,
   "id": "cd390a78-3973-4a1f-af5c-daeb2983dd7d",
   "metadata": {},
   "outputs": [],
   "source": [
    "import pyodbc\n",
    "import pymysql\n",
    "import pandas as pd\n",
    "\n",
    "#csv파일 열기\n",
    "df = pd.read_csv(\"data/testcsv.csv\")\n",
    "\n",
    "#mysql연결하기\n",
    "conn=pymysql.connect(host='localhost',user='root',password='1234', db='humanresources', charset='utf8')\n",
    "cursor=conn.cursor() #커서 생성\n",
    "\n",
    "#csv파일의 데이터를 순회하면서 데이터베이스에 insert함\n",
    "for index, row in df.iterrows():\n",
    "    data=(row.Air, row.Name, row.Distribution)\n",
    "    cursor.execute(\"INSERT INTO testtable (Air,Name,Distribution) values(%s,%s,%s)\",data )\n",
    "#commit\n",
    "conn.commit()\n",
    "cursor.close() #커서 종료"
   ]
  }
 ],
 "metadata": {
  "kernelspec": {
   "display_name": "Python 3 (ipykernel)",
   "language": "python",
   "name": "python3"
  },
  "language_info": {
   "codemirror_mode": {
    "name": "ipython",
    "version": 3
   },
   "file_extension": ".py",
   "mimetype": "text/x-python",
   "name": "python",
   "nbconvert_exporter": "python",
   "pygments_lexer": "ipython3",
   "version": "3.12.9"
  }
 },
 "nbformat": 4,
 "nbformat_minor": 5
}
