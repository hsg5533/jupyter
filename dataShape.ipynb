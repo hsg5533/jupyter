{
 "cells": [
  {
   "cell_type": "code",
   "execution_count": 1,
   "id": "0077c377-fa7f-438b-a5e1-9183569e8600",
   "metadata": {},
   "outputs": [],
   "source": [
    "import numpy as np"
   ]
  },
  {
   "cell_type": "code",
   "execution_count": 2,
   "id": "82f40b49-12e2-46bc-ac1c-20e980e0de59",
   "metadata": {
    "tags": []
   },
   "outputs": [],
   "source": [
    "data=np.loadtxt(\"data/ratings.dat\",delimiter=\"::\",dtype=np.int64)"
   ]
  },
  {
   "cell_type": "code",
   "execution_count": 3,
   "id": "21102a83-f68f-407e-997a-8cd31b337d68",
   "metadata": {},
   "outputs": [
    {
     "data": {
      "text/plain": [
       "array([[        1,      1193,         5, 978300760],\n",
       "       [        1,       661,         3, 978302109],\n",
       "       [        1,       914,         3, 978301968],\n",
       "       [        1,      3408,         4, 978300275],\n",
       "       [        1,      2355,         5, 978824291]], dtype=int64)"
      ]
     },
     "execution_count": 3,
     "metadata": {},
     "output_type": "execute_result"
    }
   ],
   "source": [
    "data[:5,:]"
   ]
  },
  {
   "cell_type": "code",
   "execution_count": 4,
   "id": "d8ec74a3-d4f6-4d3c-baab-9730e7cd6db7",
   "metadata": {},
   "outputs": [
    {
     "data": {
      "text/plain": [
       "(1000209, 4)"
      ]
     },
     "execution_count": 4,
     "metadata": {},
     "output_type": "execute_result"
    }
   ],
   "source": [
    "data.shape"
   ]
  },
  {
   "cell_type": "code",
   "execution_count": 5,
   "id": "ca4d6973-c57f-4ddb-aada-b55444d1cda3",
   "metadata": {},
   "outputs": [
    {
     "data": {
      "text/plain": [
       "3.581564453029317"
      ]
     },
     "execution_count": 5,
     "metadata": {},
     "output_type": "execute_result"
    }
   ],
   "source": [
    "mean_rating_total=data[:,2].mean() #data[:,2] 전체 행, 2번째 열\n",
    "mean_rating_total"
   ]
  },
  {
   "cell_type": "code",
   "execution_count": 6,
   "id": "54b7accb-6795-41a1-b4b2-e42c78f7796b",
   "metadata": {},
   "outputs": [
    {
     "name": "stdout",
     "output_type": "stream",
     "text": [
      "[   1    2    3 ... 6038 6039 6040]\n",
      "6040\n"
     ]
    }
   ],
   "source": [
    "user_ids=np.unique(data[:,0])\n",
    "print(user_ids)\n",
    "print(len(user_ids))"
   ]
  },
  {
   "cell_type": "code",
   "execution_count": 7,
   "id": "c4617665-1b4a-451b-9df6-1f374edb4b40",
   "metadata": {},
   "outputs": [
    {
     "data": {
      "text/plain": [
       "[[1, 4.188679245283019],\n",
       " [2, 3.7131782945736433],\n",
       " [3, 3.9019607843137254],\n",
       " [4, 4.190476190476191],\n",
       " [5, 3.1464646464646466]]"
      ]
     },
     "execution_count": 7,
     "metadata": {},
     "output_type": "execute_result"
    }
   ],
   "source": [
    "mean_values=[]\n",
    "for user_id in user_ids:\n",
    "    data_for_user=data[data[:,0]==user_id,:]\n",
    "    value=data_for_user[:,2].mean()\n",
    "    mean_values.append([user_id,value])\n",
    "mean_values[:5] # 전체에서 0~6번행까지만 출력\n"
   ]
  },
  {
   "cell_type": "code",
   "execution_count": 8,
   "id": "b0092f7f-c098-483a-8976-d91485503087",
   "metadata": {},
   "outputs": [
    {
     "name": "stdout",
     "output_type": "stream",
     "text": [
      "[[1.        4.188679 ]\n",
      " [2.        3.7131784]\n",
      " [3.        3.9019608]\n",
      " [4.        4.1904764]\n",
      " [5.        3.1464646]]\n",
      "(6040, 2)\n"
     ]
    }
   ],
   "source": [
    "mean_array=np.array(mean_values,dtype=np.float32)\n",
    "print(mean_array[:5])\n",
    "print(mean_array.shape)"
   ]
  },
  {
   "cell_type": "code",
   "execution_count": 9,
   "id": "366d8bb8-87c8-47d2-800b-05d38dcaa987",
   "metadata": {},
   "outputs": [],
   "source": [
    "np.savetxt(\"data/result.csv\",mean_array, \n",
    "fmt=\"%.2f\",delimiter=\",\")"
   ]
  }
 ],
 "metadata": {
  "kernelspec": {
   "display_name": "Python 3 (ipykernel)",
   "language": "python",
   "name": "python3"
  },
  "language_info": {
   "codemirror_mode": {
    "name": "ipython",
    "version": 3
   },
   "file_extension": ".py",
   "mimetype": "text/x-python",
   "name": "python",
   "nbconvert_exporter": "python",
   "pygments_lexer": "ipython3",
   "version": "3.12.9"
  }
 },
 "nbformat": 4,
 "nbformat_minor": 5
}
