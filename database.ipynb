{
 "cells": [
  {
   "cell_type": "code",
   "execution_count": null,
   "id": "8d65b546-4f8c-4887-b746-5bc2c3fbf5ea",
   "metadata": {},
   "outputs": [],
   "source": [
    "import sqlite3"
   ]
  },
  {
   "cell_type": "code",
   "execution_count": null,
   "id": "fd80e8b9-7f62-4b0c-8f5e-28fde4e34d35",
   "metadata": {},
   "outputs": [],
   "source": [
    "def create_table():\n",
    "    conn=sqlite3.connect('my_books.db')\n",
    "    cursor=conn.cursor()\n",
    "    sql=\"\"\"\n",
    "    create table if not exists books(\n",
    "    title text,\n",
    "    publisher text,\n",
    "    pages integer,\n",
    "    recommend integer)\"\"\"\n",
    "    cursor.execute(sql)\n",
    "    conn.commit()\n",
    "    conn.close()"
   ]
  },
  {
   "cell_type": "code",
   "execution_count": null,
   "id": "0a629c37-9aad-4475-895c-8a9122c35d3d",
   "metadata": {},
   "outputs": [],
   "source": [
    "create_table()"
   ]
  },
  {
   "cell_type": "code",
   "execution_count": null,
   "id": "bdf22354-0caf-46bb-8f3e-454ba5216e3d",
   "metadata": {},
   "outputs": [],
   "source": [
    "def insert_books():\n",
    "    conn=sqlite3.connect('my_books.db')\n",
    "    cursor=conn.cursor()\n",
    "    #sql=\"insert into books values('java','길벗',500,1)\"\n",
    "    sql=\"insert into books values(?,?,?,?)\"\n",
    "    book=('python','한빛',600,1)\n",
    "    cursor.execute(sql,book)\n",
    "    conn.commit()\n",
    "    conn.close()"
   ]
  },
  {
   "cell_type": "code",
   "execution_count": null,
   "id": "5ffed49f-ae02-4dab-8ccd-b5ffacb794df",
   "metadata": {},
   "outputs": [],
   "source": [
    "insert_books()"
   ]
  },
  {
   "cell_type": "code",
   "execution_count": null,
   "id": "ae441a8a-35f5-43b0-b875-584fa3e65336",
   "metadata": {},
   "outputs": [],
   "source": [
    "def insert_many_books(books):\n",
    "    conn=sqlite3.connect('my_books.db')\n",
    "    cursor=conn.cursor()\n",
    "    #sql=\"insert into books values('java','길벗',500,1)\"\n",
    "    sql=\"insert into books values(?,?,?,?)\"\n",
    "\n",
    "    cursor.executemany(sql,books)\n",
    "    conn.commit()\n",
    "    conn.close()"
   ]
  },
  {
   "cell_type": "code",
   "execution_count": null,
   "id": "e0b347cd-fcb8-4a7c-80f1-3eac1018422f",
   "metadata": {},
   "outputs": [],
   "source": [
    "books=[('빅데이터','영진',600,2),('안드로이드','이지스퍼블리싱',500,3),('스프링','생능',650,1)]\n",
    "insert_many_books(books)"
   ]
  },
  {
   "cell_type": "code",
   "execution_count": null,
   "id": "ed16daba-34f6-4b99-ac14-a3d801de256f",
   "metadata": {},
   "outputs": [],
   "source": [
    "def all_books():\n",
    "    conn=sqlite3.connect('my_books.db')\n",
    "    cursor=conn.cursor()\n",
    "    sql=\"select * from books\"\n",
    "    cursor.execute(sql)\n",
    "    books=cursor.fetchall() #모든 데이터를 다 받아옴\n",
    "    print(books)\n",
    "    print(len(books))\n",
    "    \n",
    "    for book in books:\n",
    "        print(book)\n",
    "    \n",
    "    conn.close()"
   ]
  },
  {
   "cell_type": "code",
   "execution_count": null,
   "id": "48071a22-a022-4c13-8af7-ce017a0563a5",
   "metadata": {},
   "outputs": [],
   "source": [
    "all_books()"
   ]
  },
  {
   "cell_type": "code",
   "execution_count": null,
   "id": "f28f2e28-479d-41c7-aae3-f4ae5e8f59cc",
   "metadata": {},
   "outputs": [],
   "source": [
    "import sqlite3\n",
    "# 데이터 개수 지정하여 출력\n",
    "def some_books(number):\n",
    "    conn=sqlite3.connect(\"my_books.db\")\n",
    "    cursor=conn.cursor()\n",
    "    cursor.execute(\"select * from books\")\n",
    "    books=cursor.fetchmany(number)\n",
    "    for book in books:\n",
    "        print(book)\n",
    "    conn.close()\n",
    "some_books(3)\n"
   ]
  },
  {
   "cell_type": "code",
   "execution_count": null,
   "id": "2128da8f-5d1f-41ef-9482-1af764f40029",
   "metadata": {},
   "outputs": [],
   "source": [
    "import sqlite3\n",
    "#1개의 데이터 출력\n",
    "def one_book():\n",
    "    conn=sqlite3.connect(\"my_books.db\")\n",
    "    cursor=conn.cursor()\n",
    "    cursor.execute(\"select * from books\")\n",
    "    book=cursor.fetchone()\n",
    "    print(type(book))\n",
    "    print(book)\n",
    "    conn.close()\n",
    "one_book()"
   ]
  },
  {
   "cell_type": "code",
   "execution_count": null,
   "id": "21265319-aab0-417b-85e9-b464f8de4ec6",
   "metadata": {},
   "outputs": [],
   "source": [
    "import sqlite3\n",
    "def big_books():\n",
    "    conn=sqlite3.connect(\"my_books.db\")\n",
    "    cursor=conn.cursor()\n",
    "    cursor.execute(\"select title,pages from books where pages>300 order by pages desc\")\n",
    "    books=cursor.fetchall()\n",
    "    for book in books:\n",
    "        print(book)\n",
    "    conn.close()\n",
    "big_books()"
   ]
  },
  {
   "cell_type": "code",
   "execution_count": null,
   "id": "29ba3077-3dfa-403b-a93a-6ca5c56ae474",
   "metadata": {},
   "outputs": [],
   "source": [
    "import sqlite3\n",
    "def update_books():\n",
    "    conn=sqlite3.connect(\"my_books.db\")\n",
    "    cursor=conn.cursor()\n",
    "    sql='update books set recommend=? where title=?'\n",
    "    cursor.execute(sql,(200,'Java'))\n",
    "    conn.commit()\n",
    "    conn.close()\n",
    "\n",
    "update_books()\n",
    "one_book()"
   ]
  },
  {
   "cell_type": "code",
   "execution_count": null,
   "id": "e6920764-72f7-461c-8e79-b92b23e9b4a7",
   "metadata": {},
   "outputs": [],
   "source": [
    "import sqlite3\n",
    "def delete_books():\n",
    "    conn=sqlite3.connect(\"my_books.db\")\n",
    "    cursor=conn.cursor()\n",
    "    sql=\"delete from books where publisher='영진'\"\n",
    "    cursor.execute(sql)\n",
    "    conn.commit()\n",
    "    conn.close()\n",
    "delete_books()\n",
    "all_books()"
   ]
  },
  {
   "cell_type": "code",
   "execution_count": null,
   "id": "0d9eb16d-af58-412b-8b4b-23cc89602bf5",
   "metadata": {},
   "outputs": [],
   "source": [
    "import sqlite3\n",
    "def delete_books():\n",
    "    conn=sqlite3.connect(\"my_books.db\")\n",
    "    cursor=conn.cursor()\n",
    "    sql=\"delete from books where publisher='영진'\"\n",
    "    cursor.execute(sql)\n",
    "    conn.commit()\n",
    "    conn.close()\n",
    "delete_books()\n",
    "all_books()"
   ]
  },
  {
   "cell_type": "code",
   "execution_count": null,
   "id": "6a5406a5-00ba-434a-9983-1368367e51dd",
   "metadata": {},
   "outputs": [],
   "source": [
    "import cx_Oracle\n",
    "def all_product():\n",
    "    conn=cx_Oracle.connect(\"jhs/1234@localhost:1521/xe\")\n",
    "    cursor=conn.cursor()\n",
    "    sql=\"select * from product\"\n",
    "    cursor.execute(sql)\n",
    "    for row in cursor:\n",
    "        description=row[3].read() #CLOB 필드 읽는 방법\n",
    "        data=list(row) # tuple->list로 변경\n",
    "        data[3]=description\n",
    "        print(data)\n",
    "    cursor.close()\n",
    "    conn.close()\n",
    "all_product()"
   ]
  },
  {
   "cell_type": "code",
   "execution_count": null,
   "id": "cb82a017-a07b-43f8-a517-47643dc6c808",
   "metadata": {},
   "outputs": [],
   "source": [
    "import cx_Oracle\n",
    "def insert_product():\n",
    "    conn=cx_Oracle.connect(\"jhs/1234@localhost:1521/xe\")\n",
    "    cursor=conn.cursor()\n",
    "    sql=\"insert into product(product_id,product_name,price,description,picture_url) values(:1,:2,:3,:4,:5)\"\n",
    "    data=(2, '감자', 1500, '감자는 맛있습니다.', 'potato.jpg') \n",
    "    cursor.execute(sql,data)\n",
    "    cursor.close()\n",
    "    conn.commit()\n",
    "    conn.close()\n",
    "insert_product()"
   ]
  },
  {
   "cell_type": "code",
   "execution_count": null,
   "id": "22aa732c-9b68-4cdc-83d1-f4988c2d3ea6",
   "metadata": {},
   "outputs": [],
   "source": [
    "# 복수개 레코드 삽입\n",
    "def insert_many():\n",
    "    conn=cx_Oracle.connect(\"jhs/1234@localhost:1521/xe\")\n",
    "    cursor=conn.cursor()\n",
    "    items=[\n",
    "        (3, '오렌지', 2000, '비타민 C가 풍부합니다. 생과일 주스로 마시면 좋습니다.', 'orange.jpg'), \n",
    "        (4, '키위', 3000, '비타민 C가 매우 풍부합니다. 다이어트나 미용에 좋습니다', 'kiwi.jpg'), \n",
    "        (5, '포도', 5000, '폴리페놀을 다량함유하고 있어 항산화 작용을 합니다,', 'grape.jpg'),\n",
    "        (6, '딸기', 8000, '비타민 C나 플로보노이드를 다량 함유하고 있습니다,', 'strawberry.jpg'),\n",
    "        (7, '귤', 7000, '시네피린을 함유하고 있어 감기 예방에 좋다고 합니다,', 'tangerine.jpg')\n",
    "        ]\n",
    "    sql=\"insert into product values(:1,:2,:3,:4,:5)\"\n",
    "     # cursor.executemany(sql,items) #for문과 동일\n",
    "    for row in items:\n",
    "        cursor.execute(sql,row)\n",
    "    conn.commit()\n",
    "    conn.close()\n",
    "insert_many()"
   ]
  },
  {
   "cell_type": "code",
   "execution_count": null,
   "id": "4d726550-63a8-4f46-be91-3409db4029ec",
   "metadata": {},
   "outputs": [],
   "source": [
    "import cx_Oracle\n",
    "def name_select():\n",
    "    conn=cx_Oracle.connect(\"jhs/1234@localhost:1521/xe\")\n",
    "    cursor=conn.cursor()\n",
    "    sql=\"select * from product where product_name=:1\"\n",
    "    cursor.execute(sql,('포도',))\n",
    "    for row in cursor:\n",
    "        description=row[3].read() #CLOB 필드 읽는 방법\n",
    "        data=list(row) # tuple->list로 변경\n",
    "        data[3]=description\n",
    "        print(data)\n",
    "    cursor.close()\n",
    "    conn.close()\n",
    "name_select()"
   ]
  },
  {
   "cell_type": "code",
   "execution_count": null,
   "id": "9e6f07c1-a23f-43b2-94da-0b62734db712",
   "metadata": {},
   "outputs": [],
   "source": [
    "# 일부레코드 삭제\n",
    "def delete_product():\n",
    "    conn=cx_Oracle.connect(\"jhs/1234@localhost:1521/xe\")\n",
    "    cursor=conn.cursor()\n",
    "    sql=\"delete from product where product_id=:product_id\"\n",
    "    cursor.execute(sql,{'product_id':5})\n",
    "    cursor.close()\n",
    "    conn.commit()\n",
    "    conn.close()\n",
    "delete_product()\n",
    "all_product()\n",
    "# 모든 레코드 삭제\n",
    "# cursor=conn.cursor()\n",
    "# sql=\"delete from product\"\n",
    "# cursor.execute(sql)"
   ]
  },
  {
   "cell_type": "code",
   "execution_count": null,
   "id": "4f7d282d-0529-4219-8c03-c9ee3a39ba66",
   "metadata": {},
   "outputs": [
    {
     "name": "stdout",
     "output_type": "stream",
     "text": [
      "[1, '레몬', 500, '레몬에 포힘된 구연산은 피로회복에 좋습니다.', 'lemon.jpg']\n",
      "[2, '감자', 10, '감자는 맛있습니다.', 'potato.jpg']\n",
      "[3, '오렌지', 2000, '비타민 C가 풍부합니다. 생과일 주스로 마시면 좋습니다.', 'orange.jpg']\n",
      "[4, '키위', 3000, '비타민 C가 매우 풍부합니다. 다이어트나 미용에 좋습니다', 'kiwi.jpg']\n",
      "[6, '딸기', 8000, '비타민 C나 플로보노이드를 다량 함유하고 있습니다,', 'strawberry.jpg']\n",
      "[7, '귤', 7000, '시네피린을 함유하고 있어 감기 예방에 좋다고 합니다,', 'tangerine.jpg']\n"
     ]
    }
   ],
   "source": [
    "def update(price, product_id):\n",
    "    conn=cx_Oracle.connect(\"jhs/1234@localhost:1521/xe\")\n",
    "    cursor=conn.cursor()\n",
    "    sql=\"update product set price=:1 where product_id=:2\"\n",
    "    data=(price,product_id)\n",
    "    cursor.execute(sql,data)\n",
    "    conn.commit()\n",
    "    cursor.close()\n",
    "    conn.close()\n",
    "price = int(input(\"Input price : \"))\n",
    "product_id = str(input(\"Input product_id : \"))\n",
    "update(price, product_id)\n",
    "all_product()"
   ]
  },
  {
   "cell_type": "code",
   "execution_count": null,
   "id": "cabd360c-8ab0-4391-aaef-022a8ad33c67",
   "metadata": {},
   "outputs": [],
   "source": [
    "import pymysql\n",
    "def select_all():\n",
    "    conn=pymysql.connect(host='localhost',user='jhs',password='1234',db='pydb',charset='utf8')\n",
    "    cursor=conn.cursor()\n",
    "    sql=\"select * from book\"\n",
    "    cursor.execute(sql)\n",
    "    for book in cursor:\n",
    "        print(book)\n",
    "    conn.close()\n",
    "select_all()"
   ]
  },
  {
   "cell_type": "code",
   "execution_count": null,
   "id": "bb830278-d1d4-443f-99a0-5225c1315692",
   "metadata": {},
   "outputs": [],
   "source": [
    "def insert_book(data):\n",
    "    conn=pymysql.connect(host='localhost',user='jhs',password='1234', db='pydb', charset='utf8')\n",
    "    cursor=conn.cursor()\n",
    "    sql=\"insert into book(title,pub,pages,author) values(%s,%s,%s,%s)\"\n",
    "    cursor.execute(sql,data)\n",
    "    conn.commit()\n",
    "    conn.close()\n",
    "data=('안드로이드','한빛',650,'홍길동')\n",
    "insert_book(data)\n",
    "select_all()"
   ]
  },
  {
   "cell_type": "code",
   "execution_count": null,
   "id": "5e63b5b1-7b4c-4023-8ecd-92e694e9ba26",
   "metadata": {},
   "outputs": [],
   "source": [
    "def insert_book_list(datas):\n",
    "    conn=pymysql.connect(host='localhost',user='jhs',password='1234',db='pydb',charset='utf8')\n",
    "    cursor=conn.cursor()\n",
    "    sql=\"insert into book(title,pub,pages,author) values(%s,%s,%s,%s)\"\n",
    "    cursor.executemany(sql,datas)\n",
    "    conn.commit()\n",
    "    conn.close()\n",
    "datas=[('안드로이드','한빛',650,'홍길동'),('Oracle DB','한빛',650,'홍길동'),('Spring','영딘',650,'홍길동')]\n",
    "insert_book_list(datas)\n",
    "select_all()"
   ]
  },
  {
   "cell_type": "code",
   "execution_count": null,
   "id": "fcfc15a7-13e8-48b4-a231-f24323a2676d",
   "metadata": {},
   "outputs": [],
   "source": [
    "import pymysql\n",
    "def select_book():\n",
    "    conn=pymysql.connect(host='localhost',user='jhs',password='1234',db='pydb',charset='utf8')\n",
    "    cursor=conn.cursor()\n",
    "    sql=\"select * from book where id=%s\"\n",
    "    cursor.execute(sql,(1,))\n",
    "    for book in cursor:\n",
    "        print(book)\n",
    "    conn.close()\n",
    "select_book()"
   ]
  },
  {
   "cell_type": "code",
   "execution_count": null,
   "id": "506e09c6-da13-4235-9074-70f6ded80172",
   "metadata": {},
   "outputs": [],
   "source": [
    "def update_book(data):\n",
    "    conn=pymysql.connect(host='localhost',user='jhs',password='1234',db='pydb',charset='utf8')\n",
    "    cursor=conn.cursor()\n",
    "    sql=\"update book set title=%s, pub=%s, pages=%s, author=%s where id=%s\"\n",
    "    cursor.execute(sql,data)\n",
    "    conn.commit()\n",
    "    conn.close()\n",
    "data=('Java', '생능','700','홍길동',1)\n",
    "update_book(data)\n",
    "select_all()\n"
   ]
  },
  {
   "cell_type": "code",
   "execution_count": null,
   "id": "61b37364-7e7a-41f1-bee1-dc687adef49a",
   "metadata": {},
   "outputs": [],
   "source": [
    "def update_many_book(datas):\n",
    "    conn=pymysql.connect(host='localhost',user='jhs',password='1234',db='pydb',charset='utf8')\n",
    "    cursor=conn.cursor()\n",
    "    sql=\"update book set title=%s, pub=%s, pages=%s, author=%s where id=%s\"\n",
    "    cursor.executemany(sql,datas)\n",
    "    conn.commit()\n",
    "    conn.close()\n",
    "datas=[('react', '생능','700','최주호',2),('mysql', '한빛','700','홍길동',3),('python', '길벗','700','박경미',4)]\n",
    "update_many_book(datas)\n",
    "select_all()"
   ]
  },
  {
   "cell_type": "code",
   "execution_count": null,
   "id": "17fc7a78-a636-40b6-8efb-b9484ff5cf29",
   "metadata": {},
   "outputs": [],
   "source": [
    "def delete_book(data):\n",
    "    conn=pymysql.connect(host='localhost',user='jhs',password='1234',db='pydb', charset='utf8')\n",
    "    cursor=conn.cursor()\n",
    "    sql=\"delete from book where id=%s\"\n",
    "    #cursor.execute(sql,data)\n",
    "    cursor.executemany(sql,data)\n",
    "    conn.commit()\n",
    "    conn.close()\n",
    "#delete_book(4)\n",
    "delete_book([1,2])\n",
    "select_all()"
   ]
  },
  {
   "cell_type": "code",
   "execution_count": null,
   "id": "bd1a0e6b-3f45-4734-9fdb-612008ca3cb1",
   "metadata": {},
   "outputs": [],
   "source": [
    "import pymysql\n",
    "conn = pymysql.connect(host='localhost', user='jhs', password='1234',db='pydb', charset='utf8')\n",
    "try:\n",
    "    # INSERT\n",
    "    with conn.cursor() as curs:\n",
    "        sql = \"insert into book(title,pub,pages,author) values(%s,%s,%s,%s)\"\n",
    "        curs.execute(sql, ('철학','한국',500, '한국자'))\n",
    "    conn.commit()\n",
    "    # SELECT\n",
    "    with conn.cursor() as curs:\n",
    "        sql = \"select * FROM book\"\n",
    "        curs.execute(sql)\n",
    "        rs = curs.fetchall()\n",
    "        for row in rs:\n",
    "            print(row)\n",
    "finally:\n",
    "    conn.close()"
   ]
  }
 ],
 "metadata": {
  "kernelspec": {
   "display_name": "Python 3 (ipykernel)",
   "language": "python",
   "name": "python3"
  },
  "language_info": {
   "codemirror_mode": {
    "name": "ipython",
    "version": 3
   },
   "file_extension": ".py",
   "mimetype": "text/x-python",
   "name": "python",
   "nbconvert_exporter": "python",
   "pygments_lexer": "ipython3",
   "version": "3.12.9"
  }
 },
 "nbformat": 4,
 "nbformat_minor": 5
}
