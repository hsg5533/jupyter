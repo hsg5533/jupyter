{
 "cells": [
  {
   "cell_type": "code",
   "execution_count": null,
   "id": "a13290cb-efe7-4c35-8ac5-8688effa9b1d",
   "metadata": {},
   "outputs": [],
   "source": [
    "def my_func1(x):\n",
    "    return x**2+x+1"
   ]
  },
  {
   "cell_type": "code",
   "execution_count": null,
   "id": "7d2eb10c-6f65-4707-bd6e-dcd38447f7b8",
   "metadata": {},
   "outputs": [],
   "source": [
    "import numpy as np\n",
    "def my_func2(x):\n",
    "    return 3*x*(np.exp(x)) # y=3xe^x"
   ]
  },
  {
   "cell_type": "code",
   "execution_count": null,
   "id": "ba6eb562-2ebd-4089-bede-1dc2597145c2",
   "metadata": {},
   "outputs": [],
   "source": [
    "def numerical_derivative(f, x): # 수치미분 debug version\n",
    "    delta_x = 1e-4 #10^-4, lim를 의미한다. 여기서 delta_x는 0으로 가까이 갈 때를 의미\n",
    "    return (f(x+delta_x)-f(x-delta_x))/(2*delta_x)"
   ]
  },
  {
   "cell_type": "code",
   "execution_count": null,
   "id": "01c6b7a3-9a49-49a8-9f23-559865eb8a1e",
   "metadata": {},
   "outputs": [],
   "source": [
    "result=numerical_derivative(my_func1,3)\n",
    "print(result)\n",
    "result1=numerical_derivative(my_func2,2)\n",
    "print(result1)"
   ]
  }
 ],
 "metadata": {
  "kernelspec": {
   "display_name": "Python 3 (ipykernel)",
   "language": "python",
   "name": "python3"
  },
  "language_info": {
   "codemirror_mode": {
    "name": "ipython",
    "version": 3
   },
   "file_extension": ".py",
   "mimetype": "text/x-python",
   "name": "python",
   "nbconvert_exporter": "python",
   "pygments_lexer": "ipython3",
   "version": "3.12.9"
  }
 },
 "nbformat": 4,
 "nbformat_minor": 5
}
