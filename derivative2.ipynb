{
 "cells": [
  {
   "cell_type": "code",
   "execution_count": null,
   "id": "ebadd567",
   "metadata": {},
   "outputs": [],
   "source": [
    "import numpy as np\n",
    "\n",
    "def numerical_derivative(f, x):    # 수치미분 debug version\n",
    "    delta_x = 1e-4 \n",
    "    grad = np.zeros_like(x)\n",
    "    print(\"debug 1. initial input variable =\", x)   \n",
    "    print(\"debug 2. initial grad =\", grad) \n",
    "    print(\"=======================================\")\n",
    "    \n",
    "   # a=[[1,2,3],\n",
    "   #    [3,4,5]]=[1,2,,3,4,5]\n",
    "    \n",
    "    it = np.nditer(x, flags=['multi_index'], op_flags=['readwrite'])\n",
    "    \n",
    "    while not it.finished:\n",
    "        idx = it.multi_index\n",
    "        \n",
    "        print(\"debug 3. idx = \", idx, \", x[idx] = \", x[idx])   \n",
    "        \n",
    "        tmp_val = x[idx]\n",
    "        x[idx] = float(tmp_val) + delta_x\n",
    "        fx1 = f(x)   # f(x+delta_x)\n",
    "        \n",
    "        x[idx] = tmp_val - delta_x \n",
    "        fx2 = f(x)   # f(x-delta_x)\n",
    "        grad[idx] = (fx1 - fx2) / (2*delta_x)\n",
    "                \n",
    "        print(\"debug 4. grad[idx] = \", grad[idx])   \n",
    "        print(\"debug 5. grad = \", grad) \n",
    "        print(\"=======================================\")\n",
    "        \n",
    "        x[idx] = tmp_val\n",
    "        it.iternext()   \n",
    "        \n",
    "    return grad"
   ]
  },
  {
   "cell_type": "code",
   "execution_count": null,
   "id": "a32567be",
   "metadata": {},
   "outputs": [],
   "source": [
    "# 입력변수 1 개인 함수 f(x) = x**2\n",
    "def func1(input_obj):    \n",
    "    x = input_obj[0]\n",
    "    return  x**2  \n",
    "\n",
    "# x = 3.0 에서의 편미분 값\n",
    "numerical_derivative( func1, np.array([3.0]) )"
   ]
  },
  {
   "cell_type": "code",
   "execution_count": null,
   "id": "97db04e1",
   "metadata": {},
   "outputs": [],
   "source": [
    "# 입력변수 2 개인 함수 f(x, y) = 2x + 3xy + y^3\n",
    "def func1(input_obj):    \n",
    "    \n",
    "    x = input_obj[0]\n",
    "    y = input_obj[1] \n",
    "    \n",
    "    return  ( 2*x + 3*x*y + np.power(y,3) )   \n",
    "\n",
    "# (x,y) = (1.0, 2.0) 에서의 편미분 값\n",
    "input = np.array([1.0, 2.0]) \n",
    "\n",
    "numerical_derivative( func1, input )"
   ]
  },
  {
   "cell_type": "code",
   "execution_count": null,
   "id": "3c3d7d09",
   "metadata": {},
   "outputs": [],
   "source": [
    "# 입력변수 4 개인 함수 \n",
    "# f(w,x,y,z) = wx + xyz + 3w + zy^2\n",
    "# input_obj 는 행렬\n",
    "def func1(input_obj):    \n",
    "    \n",
    "    w = input_obj[0, 0]\n",
    "    x = input_obj[0, 1] \n",
    "    y = input_obj[1, 0]\n",
    "    z = input_obj[1, 1] \n",
    "    \n",
    "    return  ( w*x + x*y*z + 3*w + z*np.power(y,2) )   \n",
    "\n",
    "# 입력을 2X2 행렬로 구성함\n",
    "input = np.array([ [1.0, 2.0], [3.0, 4.0] ]) \n",
    "\n",
    "numerical_derivative( func1, input )"
   ]
  }
 ],
 "metadata": {
  "kernelspec": {
   "display_name": "Python 3 (ipykernel)",
   "language": "python",
   "name": "python3"
  },
  "language_info": {
   "codemirror_mode": {
    "name": "ipython",
    "version": 3
   },
   "file_extension": ".py",
   "mimetype": "text/x-python",
   "name": "python",
   "nbconvert_exporter": "python",
   "pygments_lexer": "ipython3",
   "version": "3.12.9"
  }
 },
 "nbformat": 4,
 "nbformat_minor": 5
}
