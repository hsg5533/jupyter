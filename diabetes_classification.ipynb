{
 "cells": [
  {
   "cell_type": "code",
   "execution_count": null,
   "id": "ff7f7e79-8ccd-4dbd-b8a2-445a8b7bb47b",
   "metadata": {},
   "outputs": [],
   "source": [
    "import tensorflow as tf\n",
    "\n",
    "from tensorflow.keras.models import Sequential\n",
    "from tensorflow.keras.layers import Flatten, Dense\n",
    "from tensorflow.keras.optimizers import SGD, Adam\n",
    "import numpy as np\n",
    "\n",
    "print(tf.__version__)"
   ]
  },
  {
   "cell_type": "code",
   "execution_count": null,
   "id": "2f407254-b48b-4814-aa29-a57240ac7d69",
   "metadata": {},
   "outputs": [],
   "source": [
    "loaded_data = np.loadtxt('data/diabetes.csv', delimiter=',')\n",
    "\n",
    "# training data / test data 분리\n",
    "seperation_rate = 0.3  # 분리 비율\n",
    "test_data_num = int(len(loaded_data) * seperation_rate)\n",
    "\n",
    "np.random.shuffle(loaded_data)\n",
    "test_data = loaded_data[ 0:test_data_num ]\n",
    "training_data = loaded_data[ test_data_num: ]\n",
    "\n",
    "# training_x_data / training_t__data 생성\n",
    "training_x_data = training_data[ :, 0:-1]\n",
    "training_t_data = training_data[ :, [-1]]\n",
    "\n",
    "# test_x_data / test_t__data 생성\n",
    "test_x_data = test_data[ :, 0:-1]\n",
    "test_t_data = test_data[ :, [-1]]\n",
    "\n",
    "print(\"loaded_data.shape = \", loaded_data.shape)\n",
    "print(\"training_x_data.shape = \", training_x_data.shape)\n",
    "print(\"training_t_data.shape = \", training_t_data.shape)\n",
    "print(\"test_x_data.shape = \", test_x_data.shape)\n",
    "print(\"test_t_data.shape = \", test_t_data.shape)"
   ]
  },
  {
   "cell_type": "code",
   "execution_count": null,
   "id": "c2cf2036-81a7-42a6-ba38-50c4c51d9a34",
   "metadata": {},
   "outputs": [],
   "source": [
    "# Logistic Regression 을 keras 이용하여 생성\n",
    "\n",
    "model = Sequential()\n",
    "\n",
    "# 노드 1개인 출력층 생성\n",
    "model.add(Dense(training_t_data.shape[1], \n",
    "                input_shape=(training_x_data.shape[1],),\n",
    "                activation='sigmoid'))"
   ]
  },
  {
   "cell_type": "code",
   "execution_count": null,
   "id": "7abbd150-e54a-45c3-a3d9-cda17222458c",
   "metadata": {},
   "outputs": [],
   "source": [
    "model.compile(optimizer=SGD(learning_rate=0.01), \n",
    "              loss='binary_crossentropy', \n",
    "              metrics=['accuracy'])\n",
    "\n",
    "model.summary()"
   ]
  },
  {
   "cell_type": "code",
   "execution_count": null,
   "id": "323bbb5a-7411-49a0-b78e-5d16a2bfc3dc",
   "metadata": {
    "tags": []
   },
   "outputs": [],
   "source": [
    "from datetime import datetime\n",
    "\n",
    "start_time = datetime.now()\n",
    "\n",
    "hist = model.fit(training_x_data, training_t_data, epochs=500, validation_split=0.2, verbose=2)\n",
    "# verbose mode\n",
    "# 0 = silent, \n",
    "# 1 = progress bar, \n",
    "# 2 = one line per epoch.\n",
    "\n",
    "end_time = datetime.now()\n",
    "\n",
    "print('\\nElapsed Time => ', end_time - start_time)"
   ]
  },
  {
   "cell_type": "code",
   "execution_count": null,
   "id": "899790a6-482b-43ba-861d-1f45844a03dc",
   "metadata": {},
   "outputs": [],
   "source": []
  },
  {
   "cell_type": "code",
   "execution_count": null,
   "id": "9cfe4e80-be77-4f61-88c2-a7fedc8efc2d",
   "metadata": {},
   "outputs": [],
   "source": [
    "model.evaluate(test_x_data, test_t_data)"
   ]
  },
  {
   "cell_type": "code",
   "execution_count": null,
   "id": "6dac85fb-7da2-48bf-a8ad-85d6ca4d5c84",
   "metadata": {
    "tags": []
   },
   "outputs": [],
   "source": [
    "import matplotlib.pyplot as plt\n",
    "\n",
    "plt.title('Loss')\n",
    "plt.xlabel('epochs')\n",
    "plt.ylabel('loss')\n",
    "plt.grid()\n",
    "\n",
    "plt.plot(hist.history['loss'], label='train loss')\n",
    "plt.plot(hist.history['val_loss'], label='validation loss')\n",
    "\n",
    "plt.legend(loc='best')\n",
    "plt.show()"
   ]
  },
  {
   "cell_type": "code",
   "execution_count": null,
   "id": "8ff02739-bbe6-406c-9cb3-c50b0669390a",
   "metadata": {},
   "outputs": [],
   "source": [
    "import matplotlib.pyplot as plt\n",
    "\n",
    "plt.title('Accuracy')\n",
    "plt.xlabel('epochs')\n",
    "plt.ylabel('accuracy')\n",
    "plt.grid()\n",
    "\n",
    "plt.plot(hist.history['accuracy'], label='train accuracy')\n",
    "plt.plot(hist.history['val_accuracy'], label='validation accuracy')\n",
    "\n",
    "plt.legend(loc='best')\n",
    "\n",
    "plt.show()"
   ]
  }
 ],
 "metadata": {
  "kernelspec": {
   "display_name": "Python 3 (ipykernel)",
   "language": "python",
   "name": "python3"
  },
  "language_info": {
   "codemirror_mode": {
    "name": "ipython",
    "version": 3
   },
   "file_extension": ".py",
   "mimetype": "text/x-python",
   "name": "python",
   "nbconvert_exporter": "python",
   "pygments_lexer": "ipython3",
   "version": "3.12.9"
  }
 },
 "nbformat": 4,
 "nbformat_minor": 5
}
