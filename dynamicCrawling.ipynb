{
 "cells": [
  {
   "cell_type": "code",
   "execution_count": 1,
   "id": "9d0a129f-4112-4d29-9f4c-113980879a71",
   "metadata": {},
   "outputs": [
    {
     "name": "stdout",
     "output_type": "stream",
     "text": [
      "<selenium.webdriver.chrome.webdriver.WebDriver (session=\"397590083ff0b6efa6b083475fcd18ef\")>\n",
      "찾아온 태그 객체 :  <class 'selenium.webdriver.remote.webelement.WebElement'>\n"
     ]
    }
   ],
   "source": [
    "from selenium import webdriver\n",
    "from selenium.webdriver.common.by import By\n",
    "from selenium.webdriver.common.keys import Keys \n",
    "\n",
    "driver=webdriver.Chrome('chromedriver')\n",
    "print(driver)\n",
    "\n",
    "driver.get('https://www.google.com/ncr')\n",
    "target=driver.find_element(By.CSS_SELECTOR,\"[name = 'q']\") # 로딩된 url에서 name이 q인 태그를 선택함\n",
    "print(\"찾아온 태그 객체 : \", type(target))\n",
    "target.send_keys('python') # 해당 target에 python을 보냄. 현재 구글페이지에서는 python을 검색하는 것과 같음\n",
    "target.send_keys(Keys.ENTER) # 키보드에 엔터키를 누르는 효과랑 같음\n",
    "#driver.quit()"
   ]
  },
  {
   "cell_type": "code",
   "execution_count": 2,
   "id": "8f3e5762-d5cf-4414-af43-15d38c9f2373",
   "metadata": {},
   "outputs": [],
   "source": [
    "driver=webdriver.Chrome('chromedriver')\n",
    "driver.implicitly_wait(3)\n",
    "driver.get('http://www.naver.com/') \n",
    "#target=driver.find_element(By.CSS_SELECTOR,\"[name = 'query']\") #속성 name이 query인\n",
    "#target=driver.find_element(By.NAME,\"query\") # name이 query인\n",
    "#target=driver.find_element(By.ID,\"query\") # id가 query인\n",
    "target=driver.find_element(By.CLASS_NAME,\"input_text\") #class가 input_text인\n",
    "target.send_keys('파이썬')\n",
    "target.send_keys(Keys.ENTER) # target.submit() 동일\n",
    "driver.implicitly_wait(300)\n",
    "driver.quit()"
   ]
  },
  {
   "cell_type": "code",
   "execution_count": 3,
   "id": "da337454-aaba-438e-9244-a792f082fe05",
   "metadata": {},
   "outputs": [
    {
     "name": "stdout",
     "output_type": "stream",
     "text": [
      "[]\n"
     ]
    }
   ],
   "source": [
    "import urllib.request as req\n",
    "from bs4 import BeautifulSoup as bs\n",
    "#서버 접속\n",
    "res = req.urlopen(\"https://www.istarbucks.co.kr/store/store_map.do\")\n",
    "soup = bs(res, \"html.parser\")\n",
    "#li_list = soup.find_all('li', class_=\"quickResultLstCon\")\n",
    "li_list=soup.select('#mCSB_1_container > ul > li')\n",
    "print(li_list)"
   ]
  },
  {
   "cell_type": "code",
   "execution_count": 4,
   "id": "e308fe1e-04ec-4ceb-a468-608573beb71a",
   "metadata": {},
   "outputs": [
    {
     "name": "stdout",
     "output_type": "stream",
     "text": [
      "수영강변DT\n",
      "부산광역시 해운대구 수영강변대로 516 (반여동)\n",
      "1522-3232\n",
      "리저브 매장 2번\n"
     ]
    }
   ],
   "source": [
    "driver = webdriver.Chrome('chromedriver')\n",
    "driver.implicitly_wait(3)\n",
    "driver.get(\"https://www.istarbucks.co.kr/store/store_map.do\")\n",
    "target=driver.find_element(By.CLASS_NAME,\"quickResultLstCon\")\n",
    "print(target.text)\n",
    "#driver.quit()"
   ]
  },
  {
   "cell_type": "code",
   "execution_count": 5,
   "id": "1bf09cb1-dfaf-420a-b566-b2b269767460",
   "metadata": {},
   "outputs": [],
   "source": [
    "driver = webdriver.Chrome('chromedriver')\n",
    "driver.implicitly_wait(3)\n",
    "driver.get('https://nid.naver.com/nidlogin.login')\n",
    "driver.find_element(By.NAME,'id').send_keys('hsg5533')\n",
    "driver.find_element(By.NAME,'pw').send_keys('')\n",
    "# 로그인 버튼을 눌러주자.\n",
    "#driver.find_element(By.ID,'log.login').click()\n",
    "driver.find_element(By.XPATH,'//*[@id=\"log.login\"]').click()"
   ]
  },
  {
   "cell_type": "code",
   "execution_count": 7,
   "id": "f3a2c31b-6269-46a0-820c-634beee7bbce",
   "metadata": {
    "tags": []
   },
   "outputs": [
    {
     "name": "stdout",
     "output_type": "stream",
     "text": [
      "18\n",
      "[('서면문화로', '35.159056', '129.057527', '부산광역시 부산진구 서면문화로 10 (부전동)', '1522-3232'), ('서면엠디엠타워', '35.150017', '129.058489', '부산광역시 부산진구 중앙대로 639 (범천동)', '1522-3232'), ('서면트레이더스', '35.163918', '129.052684', '부산광역시 부산진구 시민공원로 31 (부암동)', '1522-3232'), ('서면중앙', '35.156863', '129.058076', '부산광역시 부산진구 서면로68번길 1 (부전동)', '1522-3232'), ('서면메디컬거리', '35.157961', '129.05740949999995', '부산광역시 부산진구 가야대로 783-1, 1층 (부전동)', '1522-3232'), ('서면센트럴스퀘어', '35.15151', '129.061139', '부산광역시 부산진구 중앙대로666번길 50 (부전동)', '1522-3232'), ('부전역', '35.16183', '129.061933', '부산광역시 부산진구 중앙대로 777, 서면호텔 복합시설1,2층 (부전동)', '1522-3232'), ('서면역', '35.1579735', '129.05999229999998', '부산광역시 부산진구 서전로 1 (부전동)', '1522-3232'), ('부산서면', '35.154098', '129.061562', '부산광역시 부산진구 중앙대로692번길 46-10 (부전동)', '1522-3232'), ('서면서전로', '35.157995', '129.061744', '부산광역시 부산진구 서전로 19 (부전동)', '1522-3232'), ('부산서면중앙로', '35.155521', '129.058883', '부산광역시 부산진구 중앙대로 701 (부전동)', '1522-3232'), ('서면전포역', '35.154345', '129.063631', '부산광역시 부산진구 전포대로199번길 27 (전포동)', '1522-3232'), ('부산개금역', '35.152899', '129.0226067', '부산광역시 부산진구 가야대로 462 (개금동)', '1522-3232'), ('동의대역', '35.155057', '129.036202', '부산광역시 부산진구 가야대로 589 (가야제1동)', '1522-3232'), ('양정역', '35.1700743', '129.06926269999997', '부산광역시 부산진구 중앙대로 894 (양정동)', '1522-3232'), ('서면NC', '35.157036', '129.063029', '부산광역시 부산진구 동천로 92 (전포동) NC백화점 1층', '1522-3232'), ('서면로R', '35.155255', '129.057651', '부산광역시 부산진구 서면로 49-1 (부전동)', '1522-3232'), ('서면중앙대로R', '35.1530083', '129.0596228', '부산광역시 부산진구 중앙대로 672 (부전동) 1층 2층', '1522-3232')]\n"
     ]
    }
   ],
   "source": [
    "import time\n",
    "driver = webdriver.Chrome('chromedriver')\n",
    "driver.implicitly_wait(3) \n",
    "driver.get(\"https://www.istarbucks.co.kr/store/store_map.do\")\n",
    "time.sleep(2)\n",
    "loca = driver.find_element(By.CLASS_NAME,'loca_search') # 지역 검색\n",
    "loca.click()\n",
    "time.sleep(2)\n",
    "f_link = driver.find_element(By.CSS_SELECTOR,\"div.loca_step1_cont > ul > li:nth-child(6) > a\") #서울 li:nth-child(1), 부산 li:nth-child(6)\n",
    "f_link.click()\n",
    "time.sleep(2)\n",
    "s_link = driver.find_element(By.CSS_SELECTOR,\"#mCSB_2_container > ul > li:nth-child(8) > a\") # 서울지역 전체 li:nth-child(1), 부산진구 li:nth-child(8)\n",
    "s_link.click()\n",
    "time.sleep(2)\n",
    "shopList = driver.find_elements(By.CSS_SELECTOR,\"#mCSB_3_container > ul > li\") # 결색결과 메장 리스트\n",
    "temp_list = []\n",
    "time.sleep(3)\n",
    "count = 0\n",
    "total = len(shopList)\n",
    "print(total)\n",
    "for shop in shopList : \n",
    "    count += 1\n",
    "    #print(shop.text)\n",
    "    #print('-----------------------------------------------')\n",
    "    shoplat = shop.get_attribute(\"data-lat\")\n",
    "    shoplong = shop.get_attribute(\"data-long\")\n",
    "    shopname = shop.find_element(By.TAG_NAME,\"strong\")\n",
    "    shopinfo = shop.find_element(By.TAG_NAME,\"p\")\n",
    "    splitinfo = shopinfo.text.split('\\n')\n",
    "    if(len(splitinfo) == 2):\n",
    "        addr = splitinfo[0]\n",
    "    phonenum = splitinfo[1]\n",
    "    temp_list.append((shopname.text, shoplat, shoplong, addr, phonenum))\n",
    "    \n",
    "    if count != total and count % 3 == 0:\n",
    "        # 스크롤 내림\n",
    "        driver.execute_script(\"var su = arguments[0]; var dom=document.querySelectorAll('#mCSB_3_container > ul > li')[su]; dom.scrollIntoView();\", count)\n",
    "with open('data/starbucks_shop.txt', \"wt\", encoding=\"utf-8\") as f:\n",
    "    for item in temp_list :\n",
    "        f.write(str(item)+'\\n')\n",
    "print(temp_list)"
   ]
  },
  {
   "cell_type": "code",
   "execution_count": null,
   "id": "377e926f-e2f6-4dd6-9461-66490d1f6316",
   "metadata": {},
   "outputs": [],
   "source": [
    "import pandas as pd\n",
    "df=pd.DataFrame(temp_list,columns=['name','lat','long','addr','phone'])\n",
    "df"
   ]
  }
 ],
 "metadata": {
  "kernelspec": {
   "display_name": "Python 3 (ipykernel)",
   "language": "python",
   "name": "python3"
  },
  "language_info": {
   "codemirror_mode": {
    "name": "ipython",
    "version": 3
   },
   "file_extension": ".py",
   "mimetype": "text/x-python",
   "name": "python",
   "nbconvert_exporter": "python",
   "pygments_lexer": "ipython3",
   "version": "3.9.12"
  }
 },
 "nbformat": 4,
 "nbformat_minor": 5
}
