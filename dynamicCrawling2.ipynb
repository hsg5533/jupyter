{
 "cells": [
  {
   "cell_type": "code",
   "execution_count": 1,
   "id": "0b2b3c23-5c1f-49d6-ab99-3c5cbcd235d0",
   "metadata": {},
   "outputs": [],
   "source": [
    "import time\n",
    "from selenium import webdriver\n",
    "from selenium.webdriver.common.by import By\n",
    "from selenium.webdriver.common.keys import Keys "
   ]
  },
  {
   "cell_type": "code",
   "execution_count": 2,
   "id": "7c9d7fce-a5c2-4873-89f3-a05a2d02a258",
   "metadata": {},
   "outputs": [
    {
     "ename": "WebDriverException",
     "evalue": "Message: chrome not reachable\n  (Session info: chrome=103.0.5060.53)\nStacktrace:\nBacktrace:\n\tOrdinal0 [0x0101D953+2414931]\n\tOrdinal0 [0x00FAF5E1+1963489]\n\tOrdinal0 [0x00E9C580+836992]\n\tOrdinal0 [0x00E901E2+786914]\n\tOrdinal0 [0x00E90A18+789016]\n\tOrdinal0 [0x00E922F2+795378]\n\tOrdinal0 [0x00E8BCA9+769193]\n\tOrdinal0 [0x00E9DA30+842288]\n\tOrdinal0 [0x00EF3FF2+1196018]\n\tOrdinal0 [0x00EE42B6+1131190]\n\tOrdinal0 [0x00EBE860+976992]\n\tOrdinal0 [0x00EBF756+980822]\n\tGetHandleVerifier [0x0128CC62+2510274]\n\tGetHandleVerifier [0x0127F760+2455744]\n\tGetHandleVerifier [0x010AEABA+551962]\n\tGetHandleVerifier [0x010AD916+547446]\n\tOrdinal0 [0x00FB5F3B+1990459]\n\tOrdinal0 [0x00FBA898+2009240]\n\tOrdinal0 [0x00FBA985+2009477]\n\tOrdinal0 [0x00FC3AD1+2046673]\n\tBaseThreadInitThunk [0x75D0FA29+25]\n\tRtlGetAppContainerNamedObjectPath [0x77957A9E+286]\n\tRtlGetAppContainerNamedObjectPath [0x77957A6E+238]\n",
     "output_type": "error",
     "traceback": [
      "\u001b[1;31m---------------------------------------------------------------------------\u001b[0m",
      "\u001b[1;31mWebDriverException\u001b[0m                        Traceback (most recent call last)",
      "Input \u001b[1;32mIn [2]\u001b[0m, in \u001b[0;36m<cell line: 12>\u001b[1;34m()\u001b[0m\n\u001b[0;32m     14\u001b[0m linkNum\u001b[38;5;241m.\u001b[39mclick()\n\u001b[0;32m     15\u001b[0m time\u001b[38;5;241m.\u001b[39msleep(\u001b[38;5;241m2\u001b[39m)\n\u001b[1;32m---> 16\u001b[0m readlinks\u001b[38;5;241m=\u001b[39m\u001b[43mdriver\u001b[49m\u001b[38;5;241;43m.\u001b[39;49m\u001b[43mfind_elements\u001b[49m\u001b[43m(\u001b[49m\u001b[43mBy\u001b[49m\u001b[38;5;241;43m.\u001b[39;49m\u001b[43mCSS_SELECTOR\u001b[49m\u001b[43m,\u001b[49m\u001b[38;5;124;43m\"\u001b[39;49m\u001b[38;5;124;43m#infoset_reviewContentList > div > div.reviewInfoBot.crop > a\u001b[39;49m\u001b[38;5;124;43m\"\u001b[39;49m\u001b[43m)\u001b[49m\n\u001b[0;32m     17\u001b[0m \u001b[38;5;28;01mfor\u001b[39;00m readlink \u001b[38;5;129;01min\u001b[39;00m readlinks:\n\u001b[0;32m     18\u001b[0m     readlink\u001b[38;5;241m.\u001b[39mclick()\n",
      "File \u001b[1;32m~\\anaconda3\\lib\\site-packages\\selenium\\webdriver\\remote\\webdriver.py:890\u001b[0m, in \u001b[0;36mWebDriver.find_elements\u001b[1;34m(self, by, value)\u001b[0m\n\u001b[0;32m    886\u001b[0m     value \u001b[38;5;241m=\u001b[39m \u001b[38;5;124m'\u001b[39m\u001b[38;5;124m[name=\u001b[39m\u001b[38;5;124m\"\u001b[39m\u001b[38;5;132;01m%s\u001b[39;00m\u001b[38;5;124m\"\u001b[39m\u001b[38;5;124m]\u001b[39m\u001b[38;5;124m'\u001b[39m \u001b[38;5;241m%\u001b[39m value\n\u001b[0;32m    888\u001b[0m \u001b[38;5;66;03m# Return empty list if driver returns null\u001b[39;00m\n\u001b[0;32m    889\u001b[0m \u001b[38;5;66;03m# See https://github.com/SeleniumHQ/selenium/issues/4555\u001b[39;00m\n\u001b[1;32m--> 890\u001b[0m \u001b[38;5;28;01mreturn\u001b[39;00m \u001b[38;5;28;43mself\u001b[39;49m\u001b[38;5;241;43m.\u001b[39;49m\u001b[43mexecute\u001b[49m\u001b[43m(\u001b[49m\u001b[43mCommand\u001b[49m\u001b[38;5;241;43m.\u001b[39;49m\u001b[43mFIND_ELEMENTS\u001b[49m\u001b[43m,\u001b[49m\u001b[43m \u001b[49m\u001b[43m{\u001b[49m\n\u001b[0;32m    891\u001b[0m \u001b[43m    \u001b[49m\u001b[38;5;124;43m'\u001b[39;49m\u001b[38;5;124;43musing\u001b[39;49m\u001b[38;5;124;43m'\u001b[39;49m\u001b[43m:\u001b[49m\u001b[43m \u001b[49m\u001b[43mby\u001b[49m\u001b[43m,\u001b[49m\n\u001b[0;32m    892\u001b[0m \u001b[43m    \u001b[49m\u001b[38;5;124;43m'\u001b[39;49m\u001b[38;5;124;43mvalue\u001b[39;49m\u001b[38;5;124;43m'\u001b[39;49m\u001b[43m:\u001b[49m\u001b[43m \u001b[49m\u001b[43mvalue\u001b[49m\u001b[43m}\u001b[49m\u001b[43m)\u001b[49m[\u001b[38;5;124m'\u001b[39m\u001b[38;5;124mvalue\u001b[39m\u001b[38;5;124m'\u001b[39m] \u001b[38;5;129;01mor\u001b[39;00m []\n",
      "File \u001b[1;32m~\\anaconda3\\lib\\site-packages\\selenium\\webdriver\\remote\\webdriver.py:435\u001b[0m, in \u001b[0;36mWebDriver.execute\u001b[1;34m(self, driver_command, params)\u001b[0m\n\u001b[0;32m    433\u001b[0m response \u001b[38;5;241m=\u001b[39m \u001b[38;5;28mself\u001b[39m\u001b[38;5;241m.\u001b[39mcommand_executor\u001b[38;5;241m.\u001b[39mexecute(driver_command, params)\n\u001b[0;32m    434\u001b[0m \u001b[38;5;28;01mif\u001b[39;00m response:\n\u001b[1;32m--> 435\u001b[0m     \u001b[38;5;28;43mself\u001b[39;49m\u001b[38;5;241;43m.\u001b[39;49m\u001b[43merror_handler\u001b[49m\u001b[38;5;241;43m.\u001b[39;49m\u001b[43mcheck_response\u001b[49m\u001b[43m(\u001b[49m\u001b[43mresponse\u001b[49m\u001b[43m)\u001b[49m\n\u001b[0;32m    436\u001b[0m     response[\u001b[38;5;124m'\u001b[39m\u001b[38;5;124mvalue\u001b[39m\u001b[38;5;124m'\u001b[39m] \u001b[38;5;241m=\u001b[39m \u001b[38;5;28mself\u001b[39m\u001b[38;5;241m.\u001b[39m_unwrap_value(\n\u001b[0;32m    437\u001b[0m         response\u001b[38;5;241m.\u001b[39mget(\u001b[38;5;124m'\u001b[39m\u001b[38;5;124mvalue\u001b[39m\u001b[38;5;124m'\u001b[39m, \u001b[38;5;28;01mNone\u001b[39;00m))\n\u001b[0;32m    438\u001b[0m     \u001b[38;5;28;01mreturn\u001b[39;00m response\n",
      "File \u001b[1;32m~\\anaconda3\\lib\\site-packages\\selenium\\webdriver\\remote\\errorhandler.py:247\u001b[0m, in \u001b[0;36mErrorHandler.check_response\u001b[1;34m(self, response)\u001b[0m\n\u001b[0;32m    245\u001b[0m         alert_text \u001b[38;5;241m=\u001b[39m value[\u001b[38;5;124m'\u001b[39m\u001b[38;5;124malert\u001b[39m\u001b[38;5;124m'\u001b[39m]\u001b[38;5;241m.\u001b[39mget(\u001b[38;5;124m'\u001b[39m\u001b[38;5;124mtext\u001b[39m\u001b[38;5;124m'\u001b[39m)\n\u001b[0;32m    246\u001b[0m     \u001b[38;5;28;01mraise\u001b[39;00m exception_class(message, screen, stacktrace, alert_text)  \u001b[38;5;66;03m# type: ignore[call-arg]  # mypy is not smart enough here\u001b[39;00m\n\u001b[1;32m--> 247\u001b[0m \u001b[38;5;28;01mraise\u001b[39;00m exception_class(message, screen, stacktrace)\n",
      "\u001b[1;31mWebDriverException\u001b[0m: Message: chrome not reachable\n  (Session info: chrome=103.0.5060.53)\nStacktrace:\nBacktrace:\n\tOrdinal0 [0x0101D953+2414931]\n\tOrdinal0 [0x00FAF5E1+1963489]\n\tOrdinal0 [0x00E9C580+836992]\n\tOrdinal0 [0x00E901E2+786914]\n\tOrdinal0 [0x00E90A18+789016]\n\tOrdinal0 [0x00E922F2+795378]\n\tOrdinal0 [0x00E8BCA9+769193]\n\tOrdinal0 [0x00E9DA30+842288]\n\tOrdinal0 [0x00EF3FF2+1196018]\n\tOrdinal0 [0x00EE42B6+1131190]\n\tOrdinal0 [0x00EBE860+976992]\n\tOrdinal0 [0x00EBF756+980822]\n\tGetHandleVerifier [0x0128CC62+2510274]\n\tGetHandleVerifier [0x0127F760+2455744]\n\tGetHandleVerifier [0x010AEABA+551962]\n\tGetHandleVerifier [0x010AD916+547446]\n\tOrdinal0 [0x00FB5F3B+1990459]\n\tOrdinal0 [0x00FBA898+2009240]\n\tOrdinal0 [0x00FBA985+2009477]\n\tOrdinal0 [0x00FC3AD1+2046673]\n\tBaseThreadInitThunk [0x75D0FA29+25]\n\tRtlGetAppContainerNamedObjectPath [0x77957A9E+286]\n\tRtlGetAppContainerNamedObjectPath [0x77957A6E+238]\n"
     ]
    }
   ],
   "source": [
    "url=\"http://www.yes24.com/Product/Goods/30666296\"\n",
    "driver=webdriver.Chrome('chromedriver')\n",
    "driver.implicitly_wait(5)\n",
    "driver.get(url)\n",
    "time.sleep(2)\n",
    "temp_list=[]\n",
    "\n",
    "\n",
    "#print(temp_list)\n",
    "stopFlag=False\n",
    "while True:\n",
    "    for n in range(4,13):\n",
    "        linkNum=driver.find_element(By.CSS_SELECTOR,'#infoset_reviewContentList > div.review_sort.sortBot > div.review_sortLft > div > a:nth-child('+str(n)+')')\n",
    "        linkNum.click()\n",
    "        time.sleep(2)\n",
    "        readlinks=driver.find_elements(By.CSS_SELECTOR,\"#infoset_reviewContentList > div > div.reviewInfoBot.crop > a\")\n",
    "        for readlink in readlinks:\n",
    "            readlink.click()\n",
    "            time.sleep(1)\n",
    "            review_list=driver.find_elements(By.CSS_SELECTOR,\"#infoset_reviewContentList > div > div.reviewInfoBot.origin > div.review_cont\")\n",
    "        for review in review_list:\n",
    "            temp_list.append(review.text)\n",
    "        if len(review_list)<5:\n",
    "            stopFlag=True\n",
    "            break\n",
    "    if stopFlag==True:\n",
    "        break\n",
    "        \n",
    "    nextBlock='#infoset_reviewContentList > div.review_sort.sortBot > div.review_sortLft > div > a.bgYUI.next'\n",
    "    nextNum=driver.find_element(By.CSS_SELECTOR,nextBlock)\n",
    "    nextNum.click()\n",
    "    time.sleep(2)\n",
    "driver.quit()"
   ]
  },
  {
   "cell_type": "code",
   "execution_count": null,
   "id": "b7f46a4d-b9de-4b1d-b253-5cc132053ba8",
   "metadata": {
    "tags": []
   },
   "outputs": [],
   "source": [
    "for item in temp_list:\n",
    "    print(item)\n",
    "f=open('data/yes24_review.txt','w')\n",
    "f.writelines(temp_list)\n",
    "f.close()"
   ]
  }
 ],
 "metadata": {
  "kernelspec": {
   "display_name": "Python 3 (ipykernel)",
   "language": "python",
   "name": "python3"
  },
  "language_info": {
   "codemirror_mode": {
    "name": "ipython",
    "version": 3
   },
   "file_extension": ".py",
   "mimetype": "text/x-python",
   "name": "python",
   "nbconvert_exporter": "python",
   "pygments_lexer": "ipython3",
   "version": "3.9.12"
  }
 },
 "nbformat": 4,
 "nbformat_minor": 5
}
