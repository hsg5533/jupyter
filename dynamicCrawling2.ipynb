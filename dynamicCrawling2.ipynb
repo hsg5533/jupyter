{
 "cells": [
  {
   "cell_type": "code",
   "execution_count": null,
   "id": "0b2b3c23-5c1f-49d6-ab99-3c5cbcd235d0",
   "metadata": {},
   "outputs": [],
   "source": [
    "import time\n",
    "from selenium import webdriver\n",
    "from selenium.webdriver.common.by import By\n",
    "from selenium.webdriver.common.keys import Keys "
   ]
  },
  {
   "cell_type": "code",
   "execution_count": null,
   "id": "7c9d7fce-a5c2-4873-89f3-a05a2d02a258",
   "metadata": {},
   "outputs": [],
   "source": [
    "url=\"http://www.yes24.com/Product/Goods/30666296\"\n",
    "driver=webdriver.Chrome('chromedriver')\n",
    "driver.implicitly_wait(5)\n",
    "driver.get(url)\n",
    "time.sleep(2)\n",
    "temp_list=[]\n",
    "\n",
    "\n",
    "#print(temp_list)\n",
    "stopFlag=False\n",
    "while True:\n",
    "    for n in range(4,13):\n",
    "        linkNum=driver.find_element(By.CSS_SELECTOR,'#infoset_reviewContentList > div.review_sort.sortBot > div.review_sortLft > div > a:nth-child('+str(n)+')')\n",
    "        linkNum.click()\n",
    "        time.sleep(2)\n",
    "        readlinks=driver.find_elements(By.CSS_SELECTOR,\"#infoset_reviewContentList > div > div.reviewInfoBot.crop > a\")\n",
    "        for readlink in readlinks:\n",
    "            readlink.click()\n",
    "            time.sleep(1)\n",
    "            review_list=driver.find_elements(By.CSS_SELECTOR,\"#infoset_reviewContentList > div > div.reviewInfoBot.origin > div.review_cont\")\n",
    "        for review in review_list:\n",
    "            temp_list.append(review.text)\n",
    "        if len(review_list)<5:\n",
    "            stopFlag=True\n",
    "            break\n",
    "    if stopFlag==True:\n",
    "        break\n",
    "        \n",
    "    nextBlock='#infoset_reviewContentList > div.review_sort.sortBot > div.review_sortLft > div > a.bgYUI.next'\n",
    "    nextNum=driver.find_element(By.CSS_SELECTOR,nextBlock)\n",
    "    nextNum.click()\n",
    "    time.sleep(2)\n",
    "driver.quit()"
   ]
  },
  {
   "cell_type": "code",
   "execution_count": null,
   "id": "b7f46a4d-b9de-4b1d-b253-5cc132053ba8",
   "metadata": {
    "tags": []
   },
   "outputs": [],
   "source": [
    "for item in temp_list:\n",
    "    print(item)\n",
    "f=open('data/yes24_review.txt','w')\n",
    "f.writelines(temp_list)\n",
    "f.close()"
   ]
  }
 ],
 "metadata": {
  "kernelspec": {
   "display_name": "Python 3 (ipykernel)",
   "language": "python",
   "name": "python3"
  },
  "language_info": {
   "codemirror_mode": {
    "name": "ipython",
    "version": 3
   },
   "file_extension": ".py",
   "mimetype": "text/x-python",
   "name": "python",
   "nbconvert_exporter": "python",
   "pygments_lexer": "ipython3",
   "version": "3.12.9"
  }
 },
 "nbformat": 4,
 "nbformat_minor": 5
}
