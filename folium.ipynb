{
 "cells": [
  {
   "cell_type": "markdown",
   "id": "f3dc7723",
   "metadata": {},
   "source": [
    "# Folium을 활용한 지도 그리기\n",
    "- 참조 사이트 : http://python-visualization.github.io/folium/\n",
    "- 파이션 생태계의 강점인 데이터와 Leaflet.js 라이브러리의 매핑 강점을 토대로 제작\n",
    "- Python으로 데이터를 조작한 다음, Folium을 통해 리플릿 맵에서 시각화\n",
    "- pip install folium"
   ]
  },
  {
   "cell_type": "code",
   "execution_count": null,
   "id": "9668d57b",
   "metadata": {},
   "outputs": [],
   "source": [
    "import folium\n",
    "import numpy as np\n",
    "import pandas as pd"
   ]
  },
  {
   "cell_type": "code",
   "execution_count": null,
   "id": "2d3e388b",
   "metadata": {
    "tags": []
   },
   "outputs": [],
   "source": [
    "m=folium.Map(location=[35.5,129])\n",
    "m"
   ]
  },
  {
   "cell_type": "code",
   "execution_count": null,
   "id": "6aba5b55",
   "metadata": {},
   "outputs": [],
   "source": [
    "m.save('data/folium.html')"
   ]
  },
  {
   "cell_type": "code",
   "execution_count": null,
   "id": "c3ec682d",
   "metadata": {
    "tags": []
   },
   "outputs": [],
   "source": [
    "m=folium.Map(location=[35.1605598,129.0560362], zoom_start=18)\n",
    "m"
   ]
  },
  {
   "cell_type": "code",
   "execution_count": null,
   "id": "fe43bc4c",
   "metadata": {
    "tags": []
   },
   "outputs": [],
   "source": [
    "m=folium.Map(location=[35.1605598,129.0560362], zoom_start=17, tiles='OpenStreetMap')\n",
    "m"
   ]
  },
  {
   "cell_type": "code",
   "execution_count": null,
   "id": "a15d42f6",
   "metadata": {},
   "outputs": [],
   "source": [
    "# 마크리그리기\n",
    "tooltip=\"클릭해주세요\"\n",
    "# 사용자 정의 타일에 대한 속성 정의\n",
    "attribution = '여기에 사용자 정의 타일의 속성을 입력하세요'\n",
    "\n",
    "# 사용자 정의 타일과 속성을 사용하여 맵 생성\n",
    "m = folium.Map(location=[35.1605598,129.0560362], zoom_start=17, tiles='Stamen Toner', attr=attribution)\n",
    "m=folium.Map(location=[35.1605598,129.0560362], zoom_start=17, tiles='Stamen Toner')\n",
    "folium.Marker([35.1625598,129.0560362], popup='<i>위</i>',tooltip=tooltip).add_to(m)\n",
    "folium.Marker([35.1615598,129.0560362], popup='<i>가운데</i>',tooltip=tooltip).add_to(m)\n",
    "folium.Marker([35.1605598,129.0560362], popup='<i>아래</i>',tooltip=tooltip).add_to(m)\n",
    "m"
   ]
  },
  {
   "cell_type": "code",
   "execution_count": null,
   "id": "a2f09bfd-cebf-4a5b-80a3-31828c263666",
   "metadata": {},
   "outputs": [],
   "source": [
    "m=folium.Map(location=[37.566345, 126.977893], zoom_start=17)\n",
    "folium.Marker([37.566345, 126.977893], popup='서울특별시청', icon=folium.Icon(color='red',icon='info-sign')).add_to(m)\n",
    "folium.CircleMarker([37.5658859, 126.9754788], radius=100,color='#3186cc', fill_color='#3186cc', popup='덕수궁').add_to(m)\n",
    "m"
   ]
  },
  {
   "cell_type": "code",
   "execution_count": null,
   "id": "37ab4529",
   "metadata": {
    "tags": []
   },
   "outputs": [],
   "source": [
    "# 마크리그리기\n",
    "tooltip=\"클릭해주세요\"\n",
    "m=folium.Map(location=[35.1605598,129.0560362], zoom_start=17, tiles='Stamen Toner')\n",
    "\n",
    "folium.Marker([35.1625598,129.0560362],icon=folium.Icon(icon='cloud'), \n",
    "              popup='<i>위</i>',tooltip=tooltip).add_to(m)\n",
    "folium.Marker([35.1615598,129.0560362], icon=folium.Icon(icon='cloud',color='green'),\n",
    "              popup='<i>가운데</i>',tooltip=tooltip).add_to(m)\n",
    "folium.Marker([35.1605598,129.0560362], icon=folium.Icon(icon='info-sign',color='red'), \n",
    "              popup='<i>아래</i>',tooltip=tooltip).add_to(m)\n",
    "m"
   ]
  },
  {
   "cell_type": "code",
   "execution_count": null,
   "id": "f4a96157",
   "metadata": {
    "tags": []
   },
   "outputs": [],
   "source": [
    "help(folium.Icon)"
   ]
  },
  {
   "cell_type": "code",
   "execution_count": null,
   "id": "e0d8944b",
   "metadata": {
    "tags": []
   },
   "outputs": [],
   "source": [
    "# 마크리그리기\n",
    "tooltip=\"클릭해주세요\"\n",
    "m=folium.Map(location=[35.1605598,129.0560362], zoom_start=17, tiles='Stamen Toner')\n",
    "\n",
    "folium.Marker([35.1625598,129.0560362],icon=folium.Icon(icon='home'), \n",
    "              popup='<i>위</i>',tooltip=tooltip).add_to(m)\n",
    "folium.Marker([35.1615598,129.0560362], icon=folium.Icon(icon='glass',color='green'),\n",
    "              popup='<i>가운데</i>',tooltip=tooltip).add_to(m)\n",
    "folium.Marker([35.1605598,129.0560362], icon=folium.Icon(icon='flag',color='red'), \n",
    "              popup='<i>아래</i>',tooltip=tooltip).add_to(m)\n",
    "\n",
    "folium.Circle([35.1605598,129.0580362],radius=100,color=\"#ABF200\", \n",
    "              fill=True, fill_color=\"#ABF200\").add_to(m)\n",
    "folium.Circle([35.1605598,129.0540362],radius=200,color=\"#FF00DD\", \n",
    "              fill=True, fill_color=\"#FF00DD\").add_to(m)\n",
    "m"
   ]
  },
  {
   "cell_type": "code",
   "execution_count": null,
   "id": "989eaa06",
   "metadata": {
    "tags": []
   },
   "outputs": [],
   "source": [
    "# 클릭으로 마커추가\n",
    "m.add_child(folium.ClickForMarker(popup=\"warning\"))\n",
    "m"
   ]
  },
  {
   "cell_type": "code",
   "execution_count": null,
   "id": "6628e553",
   "metadata": {
    "scrolled": true,
    "tags": []
   },
   "outputs": [],
   "source": [
    "# 클릭하면 위도경도가 나타나는 것\n",
    "tooltip=\"클릭해주세요\"\n",
    "m=folium.Map(location=[35.1605598,129.0560362], zoom_start=17, tiles='Stamen Toner')\n",
    "\n",
    "folium.Marker([35.1625598,129.0560362],icon=folium.Icon(icon='home'), \n",
    "              popup='<i>위</i>',tooltip=tooltip).add_to(m)\n",
    "folium.Marker([35.1615598,129.0560362], icon=folium.Icon(icon='glass',color='green'),\n",
    "              popup='<i>가운데</i>',tooltip=tooltip).add_to(m)\n",
    "folium.Marker([35.1605598,129.0560362], icon=folium.Icon(icon='flag',color='red'), \n",
    "              popup='<i>아래</i>',tooltip=tooltip).add_to(m)\n",
    "folium.Circle([35.1605598,129.0580362],radius=100,color=\"#ABF200\", \n",
    "              fill=True, fill_color=\"#ABF200\").add_to(m)\n",
    "folium.Circle([35.1605598,129.0540362],radius=200,color=\"#FF00DD\", \n",
    "              fill=True, fill_color=\"#FF00DD\").add_to(m)\n",
    "m.add_child(folium.LatLngPopup())\n",
    "m"
   ]
  },
  {
   "cell_type": "code",
   "execution_count": null,
   "id": "d336d567-48c2-44aa-89cd-6f089aa59292",
   "metadata": {},
   "outputs": [],
   "source": [
    "m.add_child(folium.ClickForMarker())"
   ]
  },
  {
   "cell_type": "markdown",
   "id": "7711e51d-15fd-4c4d-9a01-512b3cec4e3f",
   "metadata": {},
   "source": [
    "# MarkerCluster"
   ]
  },
  {
   "cell_type": "code",
   "execution_count": null,
   "id": "804a640b",
   "metadata": {
    "tags": []
   },
   "outputs": [],
   "source": [
    "from folium import plugins\n",
    "import os\n",
    "N = 100 \n",
    "data = np.array( \n",
    "    [\n",
    "        np.random.uniform(low=35, high=38, size=N), # Random latitudes. \n",
    "        np.random.uniform(low=126, high=129, size=N), # Random longitudes. \n",
    "    ] ).T\n",
    "print(data)\n",
    "popups = [str(i) for i in range(N)] # Popups texts are simple numbers. \n",
    "m = folium.Map([37.566345, 126.977893], zoom_start=8) \n",
    "plugins.MarkerCluster(data, popups=popups).add_to(m) \n",
    "m.save(os.path.join('data', 'Plugins_1.html')) \n",
    "m"
   ]
  }
 ],
 "metadata": {
  "kernelspec": {
   "display_name": "Python 3 (ipykernel)",
   "language": "python",
   "name": "python3"
  },
  "language_info": {
   "codemirror_mode": {
    "name": "ipython",
    "version": 3
   },
   "file_extension": ".py",
   "mimetype": "text/x-python",
   "name": "python",
   "nbconvert_exporter": "python",
   "pygments_lexer": "ipython3",
   "version": "3.12.9"
  }
 },
 "nbformat": 4,
 "nbformat_minor": 5
}
