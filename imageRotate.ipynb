{
 "cells": [
  {
   "cell_type": "code",
   "execution_count": null,
   "id": "42344447-8b2a-4aab-81da-e5a8520921fb",
   "metadata": {},
   "outputs": [],
   "source": [
    "import tensorflow as tf\n",
    "import numpy as np\n",
    "import matplotlib.pyplot as plt\n",
    "\n",
    "from tensorflow.keras.preprocessing.image import load_img\n",
    "from tensorflow.keras.preprocessing.image import img_to_array\n",
    "from tensorflow.keras.preprocessing.image import ImageDataGenerator"
   ]
  },
  {
   "cell_type": "code",
   "execution_count": null,
   "id": "30c3ca89-32a6-4965-98d1-581da01e8a5c",
   "metadata": {},
   "outputs": [],
   "source": [
    "#ImageDataGenerator생성\n",
    "gen=ImageDataGenerator(rotation_range=30,width_shift_range=0.3,shear_range=0.4,horizontal_flip=True)"
   ]
  },
  {
   "cell_type": "code",
   "execution_count": null,
   "id": "98d31dba-23d9-40c2-8117-f2941e4b329d",
   "metadata": {},
   "outputs": [],
   "source": [
    "img_array_list=[]\n",
    "img_names=['data/dog1.jpg','data/dog2.jpg','data/cat1.jpg','data/cat2.jpg']\n",
    "\n",
    "for i in range(len(img_names)):\n",
    "    loaded_img=load_img(img_names[i],target_size=(100,100))\n",
    "    loaded_img_array=img_to_array(loaded_img)/255.0\n",
    "    img_array_list.append(loaded_img_array)\n",
    "img_array_list[0]"
   ]
  },
  {
   "cell_type": "code",
   "execution_count": null,
   "id": "2cbbc1db-6ee3-48a5-a550-1aab726c6f68",
   "metadata": {},
   "outputs": [],
   "source": [
    "plt.figure(figsize=(6,6))\n",
    "for i in range(len(img_array_list)):\n",
    "    plt.subplot(1,len(img_array_list),i+1)\n",
    "    plt.xticks([])\n",
    "    plt.yticks([])\n",
    "    plt.title(img_names[i])\n",
    "    plt.imshow(img_array_list[i])"
   ]
  },
  {
   "cell_type": "code",
   "execution_count": null,
   "id": "88dcffa1-3e74-4aa3-a0a7-c0861d691c8d",
   "metadata": {},
   "outputs": [],
   "source": [
    "batch_size=4 #보강 이미지 갯수\n",
    "#gen의 flow함수를 이용하여 img_array_list의 이미지 중 보강 이미지 갯수만큼을 가져와서 이미지를 보강함\n",
    "data_gen=gen.flow(np.array(img_array_list),batch_size=batch_size)"
   ]
  },
  {
   "cell_type": "code",
   "execution_count": null,
   "id": "73608a39-a811-47b6-b35f-f8854b42f553",
   "metadata": {},
   "outputs": [],
   "source": [
    "img=data_gen.next()\n",
    "\n",
    "plt.figure(figsize=(6,6))\n",
    "for i in range(len(img)):\n",
    "    plt.subplot(1,len(img),i+1)\n",
    "    plt.xticks([])\n",
    "    plt.yticks([])\n",
    "    plt.imshow(img[i])"
   ]
  },
  {
   "cell_type": "code",
   "execution_count": null,
   "id": "fd4e6a28-fb7d-4cee-a791-e12e5b15dc0b",
   "metadata": {},
   "outputs": [],
   "source": [
    "img=data_gen.next()\n",
    "\n",
    "plt.figure(figsize=(6,6))\n",
    "for i in range(len(img)):\n",
    "    plt.subplot(1,len(img),i+1)\n",
    "    plt.xticks([])\n",
    "    plt.yticks([])\n",
    "    plt.imshow(img[i])"
   ]
  },
  {
   "cell_type": "code",
   "execution_count": null,
   "id": "6a3bb396-df62-4a91-b2e3-1ece78a313eb",
   "metadata": {},
   "outputs": [],
   "source": [
    "img=data_gen.next()\n",
    "\n",
    "plt.figure(figsize=(6,6))\n",
    "for i in range(len(img)):\n",
    "    plt.subplot(1,len(img),i+1)\n",
    "    plt.xticks([])\n",
    "    plt.yticks([])\n",
    "    plt.imshow(img[i])"
   ]
  },
  {
   "cell_type": "code",
   "execution_count": null,
   "id": "2ec5c02c-aa9a-492b-a99c-e43bb9ba79d5",
   "metadata": {},
   "outputs": [],
   "source": [
    "gen=ImageDataGenerator(rotation_range=30,width_shift_range=0.3,shear_range=0.3,rescale=1./255)"
   ]
  },
  {
   "cell_type": "code",
   "execution_count": null,
   "id": "b1c30186-a937-41e4-bb7e-f096b304defa",
   "metadata": {},
   "outputs": [],
   "source": [
    "data_path='flower_photos/'\n",
    "#batch_size=5\n",
    "data_gen=gen.flow_from_directory(directory=data_path,\n",
    "                                 #batch_size=batch_size,\n",
    "                                 shuffle=True,\n",
    "                                 target_size=(240,240),\n",
    "                                 class_mode='categorical')"
   ]
  },
  {
   "cell_type": "code",
   "execution_count": null,
   "id": "78203af4-dd6e-4a26-8ec1-7e74e7004bc1",
   "metadata": {
    "tags": []
   },
   "outputs": [],
   "source": [
    "print(data_gen[0])"
   ]
  },
  {
   "cell_type": "code",
   "execution_count": null,
   "id": "116ecd5a-2f7a-41c3-97b0-f7399a7b8c00",
   "metadata": {},
   "outputs": [],
   "source": [
    "print(data_gen[2][1])"
   ]
  },
  {
   "cell_type": "code",
   "execution_count": null,
   "id": "fcc6da36-d99d-44d9-a523-05d951947bf5",
   "metadata": {},
   "outputs": [],
   "source": [
    "img,label=data_gen.next()\n",
    "\n",
    "plt.figure(figsize=(10,10))\n",
    "for i in range(len(img)):\n",
    "    plt.subplot(4,8,i+1)\n",
    "    plt.xticks([])\n",
    "    plt.yticks([])\n",
    "    plt.title(str(np.argmax(label[i])))\n",
    "    plt.imshow(img[i])"
   ]
  }
 ],
 "metadata": {
  "kernelspec": {
   "display_name": "Python 3 (ipykernel)",
   "language": "python",
   "name": "python3"
  },
  "language_info": {
   "codemirror_mode": {
    "name": "ipython",
    "version": 3
   },
   "file_extension": ".py",
   "mimetype": "text/x-python",
   "name": "python",
   "nbconvert_exporter": "python",
   "pygments_lexer": "ipython3",
   "version": "3.12.9"
  }
 },
 "nbformat": 4,
 "nbformat_minor": 5
}
