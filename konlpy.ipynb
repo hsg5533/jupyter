{
 "cells": [
  {
   "cell_type": "markdown",
   "id": "bc36aabe-b964-4da2-9cad-cd7639e2732f",
   "metadata": {},
   "source": [
    "# KoNLPy 한국어 처리 패키지¶\n",
    "KoNLPy(코엔엘파이라고 읽는다)는 한국어 정보처리를 위한 파이썬 패키지이다."
   ]
  },
  {
   "cell_type": "markdown",
   "id": "0b171cf5-7424-40a9-863e-1eccae0cca58",
   "metadata": {},
   "source": [
    "# KoNLPy 설치\n",
    "- Jpype 다운로드 : https://www.lfd.uci.edu/~gohlke/pythonlibs/#jpype\n",
    "\n",
    "- Jpype를 각자 파이썬 버전에 맞게(저의 경우에는 3.8버전) 다운로드 받아주세요!\n",
    "\n",
    "' JPype1-1.2.0-cp38-cp38-win_amd64.whl '\n",
    "\n",
    "- pip install JPype1-1.2.0-cp38-cp38-win_amd64.whl\n",
    "\n",
    "- pip install konlpy"
   ]
  },
  {
   "cell_type": "code",
   "execution_count": null,
   "id": "9398501c-b560-41d8-864a-404695506e10",
   "metadata": {},
   "outputs": [],
   "source": [
    "import warnings\n",
    "warnings.simplefilter(\"ignore\")\n",
    "\n",
    "import konlpy\n",
    "konlpy.__version__"
   ]
  },
  {
   "cell_type": "markdown",
   "id": "b0433e48-5f21-41b7-8b8d-809301feea47",
   "metadata": {},
   "source": [
    "# 한국어 말뭉치¶\n",
    "- KoNLPy에서는 대한민국 헌법 말뭉치인 kolaw와 국회법안 말뭉치인 kobill을 제공한다. \n",
    "- 각 말뭉치가 포함하는 파일의 이름은 fields 메서드로 알 수 있고 open 메서드로 해당 파일의 텍스트를 읽어들인다."
   ]
  },
  {
   "cell_type": "code",
   "execution_count": null,
   "id": "4b91fc95-f37d-4a2a-9387-67a64084d60f",
   "metadata": {},
   "outputs": [],
   "source": [
    "from konlpy.corpus import kolaw\n",
    "kolaw.fileids()"
   ]
  },
  {
   "cell_type": "code",
   "execution_count": null,
   "id": "d52bf78a-5671-4db3-be30-81b17c8bb0a3",
   "metadata": {},
   "outputs": [],
   "source": [
    "c = kolaw.open('constitution.txt').read()\n",
    "print(c[:40])"
   ]
  },
  {
   "cell_type": "code",
   "execution_count": null,
   "id": "c4765d24-7881-46bb-b5ad-5fb888c1bdcf",
   "metadata": {},
   "outputs": [],
   "source": [
    "from konlpy.corpus import kobill\n",
    "kobill.fileids()"
   ]
  },
  {
   "cell_type": "code",
   "execution_count": null,
   "id": "be2e5ddc-d930-4b87-8823-d4c7245aa1b1",
   "metadata": {},
   "outputs": [],
   "source": [
    "d = kobill.open('1809890.txt').read()\n",
    "print(d[:40])"
   ]
  },
  {
   "cell_type": "markdown",
   "id": "1181f45f-3702-40b1-9526-69b040a3b4df",
   "metadata": {},
   "source": [
    "# 형태소 분석¶\n",
    "- KoNLPy는 다음과 같은 다양한 형태소 분석, 태깅 라이브러리를 파이썬에서 쉽게 사용할 수 있도록 모아놓았다.\n",
    "\n",
    "- Hannanum: 한나눔. KAIST Semantic Web Research Center 개발.\n",
    "    -http://semanticweb.kaist.ac.kr/hannanum/\n",
    "\n",
    "- Kkma: 꼬꼬마. 서울대학교 IDS(Intelligent Data Systems) 연구실 개발.\n",
    "    - http://kkma.snu.ac.kr/\n",
    "\n",
    "- Komoran: 코모란. Shineware에서 개발.\n",
    "    - https://github.com/shin285/KOMORAN\n",
    "\n",
    "- Open Korean Text: 오픈 소스 한국어 분석기. 과거 트위터 형태소 분석기.\n",
    "    - https://github.com/open-korean-text/open-korean-text\n",
    "\n",
    "- 여기에서는 한나눔, 꼬꼬마, 오픈코리안텍스트 형태소만 예제로 포함하였다."
   ]
  },
  {
   "cell_type": "code",
   "execution_count": null,
   "id": "4e9394fe-1ff7-42eb-8229-7ba2f01bcba4",
   "metadata": {},
   "outputs": [],
   "source": [
    "from konlpy.tag import *\n",
    "\n",
    "hannanum = Hannanum()\n",
    "kkma = Kkma()\n",
    "komoran = Komoran()\n",
    "okt = Okt()"
   ]
  },
  {
   "cell_type": "markdown",
   "id": "3fe8f89f-ad1e-46d0-9420-92b3e0e2a765",
   "metadata": {},
   "source": [
    "- 이 클래스들은 다음과 같은 메서드를 공통적으로 제공한다.\n",
    "    - nouns : 명사 추출\n",
    "    - morphs : 형태소 추출\n",
    "    - pos : 품사 부착"
   ]
  },
  {
   "cell_type": "markdown",
   "id": "fa25a255-7521-497d-a842-b97fece30658",
   "metadata": {},
   "source": [
    "# 명사 추출¶\n",
    "- 문자열에서 명사만 추출하려면 noun 명령을 사용한다."
   ]
  },
  {
   "cell_type": "code",
   "execution_count": null,
   "id": "df8a0e3b-54b9-4f7e-bb2e-38ec06700fdc",
   "metadata": {},
   "outputs": [],
   "source": [
    "hannanum.nouns(c[:40])"
   ]
  },
  {
   "cell_type": "code",
   "execution_count": null,
   "id": "e0467c40-07c6-455c-b36a-4422fc5e9817",
   "metadata": {},
   "outputs": [],
   "source": [
    "kkma.nouns(c[:40])"
   ]
  },
  {
   "cell_type": "code",
   "execution_count": null,
   "id": "16bf7b9f-f256-4437-ad2a-8130579a418f",
   "metadata": {},
   "outputs": [],
   "source": [
    "# komoran은 빈줄이 있으면 에러가 남\n",
    "komoran.nouns(\"\\n\".join([s for s in c[:40].split(\"\\n\") if s]))"
   ]
  },
  {
   "cell_type": "code",
   "execution_count": null,
   "id": "2303281d-f632-4ce7-b577-b056398a7939",
   "metadata": {},
   "outputs": [],
   "source": [
    "okt.nouns(c[:40])"
   ]
  },
  {
   "cell_type": "markdown",
   "id": "393386d6-6b95-4f39-af75-e664588c0e70",
   "metadata": {},
   "source": [
    "# 형태소 추출¶\n",
    "명사 뿐 아니라 모든 품사의 형태소를 알아내려면 morphs라는 명령을 사용한다."
   ]
  },
  {
   "cell_type": "code",
   "execution_count": null,
   "id": "63df5e52-e785-4b5b-8c34-fb803ac69861",
   "metadata": {},
   "outputs": [],
   "source": [
    "hannanum.morphs(c[:40])"
   ]
  },
  {
   "cell_type": "code",
   "execution_count": null,
   "id": "01ca5a37-ce04-4193-bdcd-1882644a6994",
   "metadata": {},
   "outputs": [],
   "source": [
    "kkma.morphs(c[:40])"
   ]
  },
  {
   "cell_type": "code",
   "execution_count": null,
   "id": "c0a1720e-b747-4c7e-9bf4-0a28b01e692c",
   "metadata": {},
   "outputs": [],
   "source": [
    "# komoran은 빈줄이 있으면 에러가 남\n",
    "komoran.morphs(\"\\n\".join([s for s in c[:40].split(\"\\n\") if s]))"
   ]
  },
  {
   "cell_type": "code",
   "execution_count": null,
   "id": "aa1c341f-3803-4a3c-ae3b-dd172ecc503f",
   "metadata": {},
   "outputs": [],
   "source": [
    "okt.morphs(c[:40])"
   ]
  },
  {
   "cell_type": "markdown",
   "id": "95ad7b4d-8e6b-4ffa-9c1a-0a1bb97d77a1",
   "metadata": {},
   "source": [
    "# 품사 부착¶\n",
    "pos 명령을 사용하면 품사 부착을 한다.\n",
    "\n",
    "- 한국어 품사 태그세트로는 “21세기 세종계획 품사 태그세트”를 비롯하여 다양한 품사 태그세트가 있다. \n",
    "- 형태소 분석기마다 사용하는 품사 태그가 다르므로 각 형태소 분석기에 대한 문서를 참조한다."
   ]
  },
  {
   "cell_type": "code",
   "execution_count": null,
   "id": "9d41e4df-b31d-4587-ac68-b54ade74c30f",
   "metadata": {},
   "outputs": [],
   "source": [
    "hannanum.pos(c[:40])"
   ]
  },
  {
   "cell_type": "code",
   "execution_count": null,
   "id": "ece2e90e-f67c-43cf-a647-4c471609d7e2",
   "metadata": {},
   "outputs": [],
   "source": [
    "kkma.pos(c[:40])"
   ]
  },
  {
   "cell_type": "code",
   "execution_count": null,
   "id": "ccf2c417-4c0b-4535-a4e7-4c4fe560a8c4",
   "metadata": {},
   "outputs": [],
   "source": [
    "# komoran은 빈줄이 있으면 에러가 남\n",
    "komoran.pos(\"\\n\".join([s for s in c[:40].split(\"\\n\") if s]))"
   ]
  },
  {
   "cell_type": "code",
   "execution_count": null,
   "id": "a9acee89-8f07-4490-95f9-c805b37d9291",
   "metadata": {},
   "outputs": [],
   "source": [
    "okt.pos(c[:40])"
   ]
  },
  {
   "cell_type": "markdown",
   "id": "df7d500b-4e7d-467b-9cb5-90fc7b8a63cd",
   "metadata": {},
   "source": [
    "부착되는 품사 태그의 기호와 의미는 tagset 속성으로 확인할 수 있다."
   ]
  },
  {
   "cell_type": "code",
   "execution_count": null,
   "id": "edc83070-6fe4-4f67-ad56-b9ac6e89ce39",
   "metadata": {},
   "outputs": [],
   "source": [
    "okt.tagset"
   ]
  },
  {
   "cell_type": "code",
   "execution_count": null,
   "id": "895def73-03e2-4453-aceb-240c122ae42d",
   "metadata": {},
   "outputs": [],
   "source": [
    "import pandas as pd\n",
    "tagsets = pd.DataFrame()\n",
    "N = 67\n",
    "tagsets[\"Hannanum-기호\"] = list(hannanum.tagset.keys()) + list(\"*\" * (N - len(hannanum.tagset)))\n",
    "tagsets[\"Hannanum-품사\"] = list(hannanum.tagset.values()) + list(\"*\" * (N - len(hannanum.tagset)))\n",
    "tagsets[\"Kkma-기호\"] = list(kkma.tagset.keys()) + list(\"*\" * (N - len(kkma.tagset)))\n",
    "tagsets[\"Kkma-품사\"] = list(kkma.tagset.values()) + list(\"*\" * (N - len(kkma.tagset)))\n",
    "tagsets[\"Komoran-기호\"] = list(komoran.tagset.keys()) + list(\"*\" * (N - len(komoran.tagset)))\n",
    "tagsets[\"Komoran-품사\"] = list(komoran.tagset.values()) + list(\"*\" * (N - len(komoran.tagset)))\n",
    "tagsets[\"OKT-기호\"] = list(okt.tagset.keys()) + list(\"*\" * (N - len(okt.tagset)))\n",
    "tagsets[\"OKT-품사\"] = list(okt.tagset.values()) + list(\"*\" * (N - len(okt.tagset)))\n",
    "tagsets"
   ]
  },
  {
   "cell_type": "markdown",
   "id": "30ae885c-55a8-44f9-80a2-8c8bfbb846e1",
   "metadata": {},
   "source": [
    "- koNLPy의 형태소 분석기와 NLTK의 Text 클래스를 결합하여 NLTK 기능을 사용할 수도 있다."
   ]
  },
  {
   "cell_type": "code",
   "execution_count": null,
   "id": "785f577e-c707-4576-9594-a8935ddd0780",
   "metadata": {},
   "outputs": [],
   "source": [
    "from nltk import Text\n",
    "import matplotlib.pyplot as plt\n",
    "import matplotlib\n",
    "from matplotlib import font_manager, rc\n",
    "font_path = \"c:/Windows/fonts/malgun.ttf\"\n",
    "font_name = font_manager.FontProperties(fname = font_path).get_name()\n",
    "matplotlib.rc('font', family=font_name)\n",
    "\n",
    "kolaw = Text(okt.nouns(c), name=\"kolaw\")\n",
    "kolaw.plot(30)\n",
    "plt.show()"
   ]
  },
  {
   "cell_type": "code",
   "execution_count": null,
   "id": "7c176264-4320-4bf8-bed3-2972bd8d5eaa",
   "metadata": {},
   "outputs": [],
   "source": [
    "from wordcloud import WordCloud\n",
    "\n",
    "# 자신의 컴퓨터 환경에 맞는 한글 폰트 경로를 설정\n",
    "font_path = 'C:/Windows/Fonts/HMKMRHD.TTF'\n",
    "\n",
    "wc = WordCloud(width = 1000, height = 600, background_color=\"white\", font_path=font_path)\n",
    "plt.imshow(wc.generate_from_frequencies(kolaw.vocab()))\n",
    "plt.axis(\"off\")\n",
    "plt.show()"
   ]
  }
 ],
 "metadata": {
  "kernelspec": {
   "display_name": "Python 3 (ipykernel)",
   "language": "python",
   "name": "python3"
  },
  "language_info": {
   "codemirror_mode": {
    "name": "ipython",
    "version": 3
   },
   "file_extension": ".py",
   "mimetype": "text/x-python",
   "name": "python",
   "nbconvert_exporter": "python",
   "pygments_lexer": "ipython3",
   "version": "3.12.9"
  }
 },
 "nbformat": 4,
 "nbformat_minor": 5
}
