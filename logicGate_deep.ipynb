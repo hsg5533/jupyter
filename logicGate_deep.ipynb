{
 "cells": [
  {
   "cell_type": "code",
   "execution_count": 1,
   "metadata": {
    "collapsed": false,
    "jupyter": {
     "outputs_hidden": false
    }
   },
   "outputs": [],
   "source": [
    "import numpy as np\n",
    "\n",
    "# 수치미분 함수\n",
    "\n",
    "def numerical_derivative(f, x):\n",
    "    delta_x = 1e-4 # 0.0001\n",
    "    grad = np.zeros_like(x)\n",
    "    \n",
    "    it = np.nditer(x, flags=['multi_index'], op_flags=['readwrite'])\n",
    "    \n",
    "    while not it.finished:\n",
    "        idx = it.multi_index        \n",
    "        tmp_val = x[idx]\n",
    "        x[idx] = float(tmp_val) + delta_x\n",
    "        fx1 = f(x) # f(x+delta_x)\n",
    "        \n",
    "        x[idx] = tmp_val - delta_x \n",
    "        fx2 = f(x) # f(x-delta_x)\n",
    "        grad[idx] = (fx1 - fx2) / (2*delta_x)\n",
    "        \n",
    "        x[idx] = tmp_val \n",
    "        it.iternext()   \n",
    "        \n",
    "    return grad\n",
    "\n",
    "# sigmoid 함수\n",
    "\n",
    "def sigmoid(x):\n",
    "    return 1 / (1+np.exp(-x))"
   ]
  },
  {
   "cell_type": "code",
   "execution_count": 2,
   "metadata": {
    "tags": []
   },
   "outputs": [],
   "source": [
    "class LogicGate:\n",
    "        \n",
    "    def __init__(self, gate_name, xdata, tdata):\n",
    "        \n",
    "        self.name = gate_name\n",
    "        \n",
    "        # 입력 데이터, 정답 데이터 초기화\n",
    "        self.__xdata = xdata.reshape(4,2)  # 4개의 입력데이터 x1, x2 에 대하여 batch 처리 행렬\n",
    "        self.__tdata = tdata.reshape(4,1)  # 4개의 입력데이터 x1, x2 에 대한 각각의 계산 값 행렬\n",
    "        \n",
    "        # 2층 hidden layer unit : 6개 가정,  가중치 W2, 바이어스 b2 초기화\n",
    "        self.__W2 = np.random.rand(2,6)  # weight, 2 X 6 matrix\n",
    "        self.__b2 = np.random.rand(6)\n",
    "        \n",
    "        # 3층 output layer unit : 1 개 , 가중치 W3, 바이어스 b3 초기화\n",
    "        self.__W3 = np.random.rand(6,1)\n",
    "        self.__b3 = np.random.rand(1)\n",
    "                        \n",
    "        # 학습률 learning rate 초기화\n",
    "        self.__learning_rate = 1e-2\n",
    "    \n",
    "        print(self.name + \" object is created\")\n",
    "            \n",
    "    def feed_forward(self):        # feed forward 를 통하여 손실함수(cross-entropy) 값 계산\n",
    "        \n",
    "        delta = 1e-7    # log 무한대 발산 방지\n",
    "    \n",
    "        z2 = np.dot(self.__xdata, self.__W2) + self.__b2  # 은닉층의 선형회귀 값\n",
    "        a2 = sigmoid(z2)                                  # 은닉층의 출력\n",
    "        \n",
    "        z3 = np.dot(a2, self.__W3) + self.__b3            # 출력층의 선형회귀 값\n",
    "        y = a3 = sigmoid(z3)                              # 출력층의 출력\n",
    "    \n",
    "        # cross-entropy \n",
    "        return  -np.sum( self.__tdata*np.log(y + delta) + (1-self.__tdata)*np.log((1 - y)+delta ) )    \n",
    "    \n",
    "    def loss_val(self):          # 외부 출력을 위한 손실함수(cross-entropy) 값 계산 \n",
    "        \n",
    "        delta = 1e-7    # log 무한대 발산 방지\n",
    "    \n",
    "        z2 = np.dot(self.__xdata, self.__W2) + self.__b2  # 은닉층의 선형회귀 값\n",
    "        a2 = sigmoid(z2)                                  # 은닉층의 출력\n",
    "        \n",
    "        z3 = np.dot(a2, self.__W3) + self.__b3            # 출력층의 선형회귀 값\n",
    "        y = a3 = sigmoid(z3)                              # 출력층의 출력\n",
    "    \n",
    "        # cross-entropy \n",
    "        return  -np.sum( self.__tdata*np.log(y + delta) + (1-self.__tdata)*np.log((1 - y)+delta ) )\n",
    "    \n",
    "    \n",
    "    # 수치미분을 이용하여 손실함수가 최소가 될때 까지 학습하는 함수\n",
    "    def train(self):\n",
    "        \n",
    "        f = lambda x : self.feed_forward()\n",
    "        print(\"Initial loss value = \", self.loss_val())\n",
    "        \n",
    "        for step in  range(10001):\n",
    "            \n",
    "            self.__W2 -= self.__learning_rate * numerical_derivative(f, self.__W2)\n",
    "            self.__b2 -= self.__learning_rate * numerical_derivative(f, self.__b2)\n",
    "        \n",
    "            self.__W3 -= self.__learning_rate * numerical_derivative(f, self.__W3)\n",
    "            self.__b3 -= self.__learning_rate * numerical_derivative(f, self.__b3)\n",
    "    \n",
    "            if (step % 400 == 0):\n",
    "                print(\"step = \", step, \"  , loss value = \", self.loss_val())\n",
    "                \n",
    "    \n",
    "    # query, 즉 미래 값 예측 함수\n",
    "    def predict(self, xdata):\n",
    "        \n",
    "        z2 = np.dot(xdata, self.__W2) + self.__b2         # 은닉층의 선형회귀 값\n",
    "        a2 = sigmoid(z2)                                  # 은닉층의 출력\n",
    "        \n",
    "        z3 = np.dot(a2, self.__W3) + self.__b3            # 출력층의 선형회귀 값\n",
    "        y = a3 = sigmoid(z3)                              # 출력층의 출력\n",
    "    \n",
    "        if y > 0.5:\n",
    "            result = 1  # True\n",
    "        else:\n",
    "            result = 0  # False\n",
    "    \n",
    "        return y, result"
   ]
  },
  {
   "cell_type": "code",
   "execution_count": 3,
   "metadata": {
    "tags": []
   },
   "outputs": [
    {
     "name": "stdout",
     "output_type": "stream",
     "text": [
      "AND object is created\n",
      "Initial loss value =  5.921010474398426\n",
      "step =  0   , loss value =  5.693210993432966\n",
      "step =  400   , loss value =  2.2219234496256233\n",
      "step =  800   , loss value =  2.079613053306578\n",
      "step =  1200   , loss value =  1.8522139765387273\n",
      "step =  1600   , loss value =  1.5273833334962839\n",
      "step =  2000   , loss value =  1.1784490800675869\n",
      "step =  2400   , loss value =  0.8636756754763776\n",
      "step =  2800   , loss value =  0.6221434293171311\n",
      "step =  3200   , loss value =  0.4582070034268961\n",
      "step =  3600   , loss value =  0.34899437069181816\n",
      "step =  4000   , loss value =  0.27440817862809064\n",
      "step =  4400   , loss value =  0.22183519152514541\n",
      "step =  4800   , loss value =  0.18362485743353374\n",
      "step =  5200   , loss value =  0.15506137535805858\n",
      "step =  5600   , loss value =  0.13316524745395872\n",
      "step =  6000   , loss value =  0.11600303695903126\n",
      "step =  6400   , loss value =  0.10228620719258363\n",
      "step =  6800   , loss value =  0.09113380478447103\n",
      "step =  7200   , loss value =  0.08192899542103732\n",
      "step =  7600   , loss value =  0.07423028716765698\n",
      "step =  8000   , loss value =  0.06771528352005318\n",
      "step =  8400   , loss value =  0.062144219033419365\n",
      "step =  8800   , loss value =  0.05733579767638447\n",
      "step =  9200   , loss value =  0.05315085121531864\n",
      "step =  9600   , loss value =  0.04948107327817027\n",
      "step =  10000   , loss value =  0.046241113577361874\n"
     ]
    }
   ],
   "source": [
    "# AND Gate 객체 생성 및 training\n",
    "\n",
    "xdata = np.array([ [0, 0], [0, 1], [1, 0], [1, 1] ])\n",
    "tdata = np.array([0, 0, 0, 1])\n",
    "\n",
    "and_obj = LogicGate(\"AND\", xdata, tdata)\n",
    "\n",
    "and_obj.train()"
   ]
  },
  {
   "cell_type": "code",
   "execution_count": 4,
   "metadata": {
    "collapsed": false,
    "jupyter": {
     "outputs_hidden": false
    }
   },
   "outputs": [
    {
     "name": "stdout",
     "output_type": "stream",
     "text": [
      "(array([0.00012461]), 0)\n",
      "(array([0.01131003]), 0)\n",
      "(array([0.01204031]), 0)\n",
      "(array([0.97762507]), 1)\n"
     ]
    }
   ],
   "source": [
    "# AND Gate prediction\n",
    "\n",
    "test_data = np.array([ [0, 0], [0, 1], [1, 0], [1, 1] ])\n",
    "\n",
    "for data in test_data:\n",
    "    print(and_obj.predict(data))"
   ]
  },
  {
   "cell_type": "code",
   "execution_count": 5,
   "metadata": {
    "collapsed": true,
    "jupyter": {
     "outputs_hidden": true
    },
    "tags": []
   },
   "outputs": [
    {
     "name": "stdout",
     "output_type": "stream",
     "text": [
      "OR object is created\n",
      "Initial loss value =  2.418214961384951\n",
      "step =  0   , loss value =  2.4056912412875473\n",
      "step =  400   , loss value =  1.8874394689027536\n",
      "step =  800   , loss value =  1.6614624353899785\n",
      "step =  1200   , loss value =  1.3680755917846004\n",
      "step =  1600   , loss value =  1.0527328554023367\n",
      "step =  2000   , loss value =  0.7806819403616935\n",
      "step =  2400   , loss value =  0.5779132968934511\n",
      "step =  2800   , loss value =  0.43621169830637696\n",
      "step =  3200   , loss value =  0.33843438348094135\n",
      "step =  3600   , loss value =  0.27003884421864605\n",
      "step =  4000   , loss value =  0.2210119700430123\n",
      "step =  4400   , loss value =  0.18490170733329903\n",
      "step =  4800   , loss value =  0.15759901859757877\n",
      "step =  5200   , loss value =  0.13645687002056162\n",
      "step =  5600   , loss value =  0.11973409724282938\n",
      "step =  6000   , loss value =  0.10625766091503291\n",
      "step =  6400   , loss value =  0.0952180110956689\n",
      "step =  6800   , loss value =  0.0860434866734163\n",
      "step =  7200   , loss value =  0.07832172181048318\n",
      "step =  7600   , loss value =  0.07174939511321536\n",
      "step =  8000   , loss value =  0.06609939178855237\n",
      "step =  8400   , loss value =  0.061198886635573824\n",
      "step =  8800   , loss value =  0.05691442040119631\n",
      "step =  9200   , loss value =  0.053141546094498414\n",
      "step =  9600   , loss value =  0.04979751980308379\n",
      "step =  10000   , loss value =  0.04681605694019103\n"
     ]
    }
   ],
   "source": [
    "# OR Gate 객체 생성 및 training\n",
    "\n",
    "xdata = np.array([ [0, 0], [0, 1], [1, 0], [1, 1] ])\n",
    "tdata = np.array([0, 1, 1, 1])\n",
    "\n",
    "or_obj = LogicGate(\"OR\", xdata, tdata)\n",
    "or_obj.train()"
   ]
  },
  {
   "cell_type": "code",
   "execution_count": 6,
   "metadata": {
    "collapsed": false,
    "jupyter": {
     "outputs_hidden": false
    }
   },
   "outputs": [
    {
     "name": "stdout",
     "output_type": "stream",
     "text": [
      "(array([0.02876943]), 0)\n",
      "(array([0.99130571]), 1)\n",
      "(array([0.99162507]), 1)\n",
      "(array([0.99951754]), 1)\n"
     ]
    }
   ],
   "source": [
    "# OR Gate prediction\n",
    "\n",
    "test_data = np.array([ [0, 0], [0, 1], [1, 0], [1, 1] ])\n",
    "\n",
    "for data in test_data:\n",
    "    print(or_obj.predict(data))"
   ]
  },
  {
   "cell_type": "code",
   "execution_count": 7,
   "metadata": {
    "collapsed": true,
    "jupyter": {
     "outputs_hidden": true
    },
    "tags": []
   },
   "outputs": [
    {
     "name": "stdout",
     "output_type": "stream",
     "text": [
      "NAND object is created\n",
      "Initial loss value =  3.5999840376869443\n",
      "step =  0   , loss value =  3.558856513666544\n",
      "step =  400   , loss value =  2.2216599900811427\n",
      "step =  800   , loss value =  2.1183081065581755\n",
      "step =  1200   , loss value =  1.9697412146403281\n",
      "step =  1600   , loss value =  1.746687706498132\n",
      "step =  2000   , loss value =  1.4406309515300364\n",
      "step =  2400   , loss value =  1.0952174579953735\n",
      "step =  2800   , loss value =  0.7978592069071533\n",
      "step =  3200   , loss value =  0.5794535480497565\n",
      "step =  3600   , loss value =  0.42804744851279464\n",
      "step =  4000   , loss value =  0.3254541858593366\n",
      "step =  4400   , loss value =  0.25535319037215054\n",
      "step =  4800   , loss value =  0.20616476255974686\n",
      "step =  5200   , loss value =  0.17055359837553952\n",
      "step =  5600   , loss value =  0.14399233928781782\n",
      "step =  6000   , loss value =  0.12364915137382576\n",
      "step =  6400   , loss value =  0.10770498501526155\n",
      "step =  6800   , loss value =  0.09495663490715901\n",
      "step =  7200   , loss value =  0.08458549300878478\n",
      "step =  7600   , loss value =  0.07601999648457122\n",
      "step =  8000   , loss value =  0.0688516205120201\n",
      "step =  8400   , loss value =  0.06278216592108844\n",
      "step =  8800   , loss value =  0.0575898161593416\n",
      "step =  9200   , loss value =  0.05310674715789934\n",
      "step =  9600   , loss value =  0.04920402663285307\n",
      "step =  10000   , loss value =  0.04578122052633901\n"
     ]
    }
   ],
   "source": [
    "# NAND Gate 객체 생성 및 training\n",
    "\n",
    "xdata = np.array([ [0, 0], [0, 1], [1, 0], [1, 1] ])\n",
    "tdata = np.array([1, 1, 1, 0])\n",
    "\n",
    "nand_obj = LogicGate(\"NAND\", xdata, tdata)\n",
    "\n",
    "nand_obj.train()"
   ]
  },
  {
   "cell_type": "code",
   "execution_count": 8,
   "metadata": {
    "collapsed": false,
    "jupyter": {
     "outputs_hidden": false
    }
   },
   "outputs": [
    {
     "name": "stdout",
     "output_type": "stream",
     "text": [
      "(array([0.99991549]), 1)\n",
      "(array([0.98809955]), 1)\n",
      "(array([0.98807792]), 1)\n",
      "(array([0.02149715]), 0)\n"
     ]
    }
   ],
   "source": [
    "# NAND Gate prediction\n",
    "\n",
    "test_data = np.array([ [0, 0], [0, 1], [1, 0], [1, 1] ])\n",
    "\n",
    "for data in test_data:\n",
    "    print(nand_obj.predict(data))"
   ]
  },
  {
   "cell_type": "code",
   "execution_count": 9,
   "metadata": {
    "collapsed": true,
    "jupyter": {
     "outputs_hidden": true
    },
    "tags": []
   },
   "outputs": [
    {
     "name": "stdout",
     "output_type": "stream",
     "text": [
      "XOR object is created\n",
      "Initial loss value =  6.32355372035828\n",
      "step =  0   , loss value =  6.185265163176068\n",
      "step =  400   , loss value =  2.787818035686669\n",
      "step =  800   , loss value =  2.783158458710851\n",
      "step =  1200   , loss value =  2.779860013550906\n",
      "step =  1600   , loss value =  2.7774358605225893\n",
      "step =  2000   , loss value =  2.7755734071267617\n",
      "step =  2400   , loss value =  2.774062183898021\n",
      "step =  2800   , loss value =  2.7727518333370638\n",
      "step =  3200   , loss value =  2.77152615475556\n",
      "step =  3600   , loss value =  2.770285664456172\n",
      "step =  4000   , loss value =  2.76893424913332\n",
      "step =  4400   , loss value =  2.767366930365447\n",
      "step =  4800   , loss value =  2.7654562540775665\n",
      "step =  5200   , loss value =  2.763034690249688\n",
      "step =  5600   , loss value =  2.7598698338017136\n",
      "step =  6000   , loss value =  2.755628312090218\n",
      "step =  6400   , loss value =  2.749823493009632\n",
      "step =  6800   , loss value =  2.7417419807518035\n",
      "step =  7200   , loss value =  2.730344978884487\n",
      "step =  7600   , loss value =  2.7141423761997916\n",
      "step =  8000   , loss value =  2.69104087871275\n",
      "step =  8400   , loss value =  2.658193485646009\n",
      "step =  8800   , loss value =  2.612002703307605\n",
      "step =  9200   , loss value =  2.5487396284438604\n",
      "step =  9600   , loss value =  2.466409246811107\n",
      "step =  10000   , loss value =  2.3673142359827493\n"
     ]
    }
   ],
   "source": [
    "# XOR Gate 객체 생성\n",
    "\n",
    "xdata = np.array([ [0, 0], [0, 1], [1, 0], [1, 1] ])\n",
    "tdata = np.array([0, 1, 1, 0])\n",
    "\n",
    "\n",
    "xor_obj = LogicGate(\"XOR\", xdata, tdata)\n",
    "\n",
    "xor_obj.train()"
   ]
  },
  {
   "cell_type": "code",
   "execution_count": 10,
   "metadata": {
    "collapsed": false,
    "jupyter": {
     "outputs_hidden": false
    }
   },
   "outputs": [
    {
     "name": "stdout",
     "output_type": "stream",
     "text": [
      "(array([0.32211323]), 0)\n",
      "(array([0.65346168]), 1)\n",
      "(array([0.47412306]), 0)\n",
      "(array([0.55370727]), 1)\n"
     ]
    }
   ],
   "source": [
    "test_data = np.array([ [0, 0], [0, 1], [1, 0], [1, 1] ])\n",
    "\n",
    "for data in test_data:\n",
    "    print(xor_obj.predict(data))"
   ]
  },
  {
   "cell_type": "code",
   "execution_count": null,
   "metadata": {
    "collapsed": true,
    "jupyter": {
     "outputs_hidden": true
    }
   },
   "outputs": [],
   "source": []
  }
 ],
 "metadata": {
  "anaconda-cloud": {},
  "kernelspec": {
   "display_name": "Python 3 (ipykernel)",
   "language": "python",
   "name": "python3"
  },
  "language_info": {
   "codemirror_mode": {
    "name": "ipython",
    "version": 3
   },
   "file_extension": ".py",
   "mimetype": "text/x-python",
   "name": "python",
   "nbconvert_exporter": "python",
   "pygments_lexer": "ipython3",
   "version": "3.9.10"
  }
 },
 "nbformat": 4,
 "nbformat_minor": 4
}
