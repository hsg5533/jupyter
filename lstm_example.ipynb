{
 "cells": [
  {
   "cell_type": "markdown",
   "metadata": {
    "id": "QpJUJia4IbVS"
   },
   "source": [
    "LSTM 기반의 삼성전자 주가 예측 예제\n",
    " - yahoo finance 에서 데이터 다운로드 후 3일(3MA), 5일(5MA) 가격이평선 추가"
   ]
  },
  {
   "cell_type": "code",
   "execution_count": null,
   "metadata": {
    "id": "Ah3M-kc3aZqy"
   },
   "outputs": [],
   "source": [
    "import tensorflow as tf\n",
    "import numpy as np\n",
    "import pandas as pd\n",
    "import matplotlib.pyplot as plt\n",
    "from tensorflow.keras.models import Sequential\n",
    "from tensorflow.keras.layers import LSTM, Dense, Dropout"
   ]
  },
  {
   "cell_type": "markdown",
   "metadata": {
    "id": "tU_3ujIh9_N0"
   },
   "source": [
    "데이터 불러오기"
   ]
  },
  {
   "cell_type": "code",
   "execution_count": null,
   "metadata": {
    "colab": {
     "base_uri": "https://localhost:8080/",
     "height": 205
    },
    "id": "9srMq0M9fXwk",
    "outputId": "72209902-9844-4101-c2b1-357f643c3a57"
   },
   "outputs": [],
   "source": [
    "raw_df = pd.read_csv('data/005930.KS.csv')  # yahoo finance 로부터 데이터 다운로드\n",
    "raw_df.head()"
   ]
  },
  {
   "cell_type": "code",
   "execution_count": null,
   "metadata": {
    "colab": {
     "base_uri": "https://localhost:8080/",
     "height": 295
    },
    "id": "d1lsO_jInckj",
    "outputId": "e067ba8f-3671-49a6-a7ff-64263784cab5",
    "tags": []
   },
   "outputs": [],
   "source": [
    "plt.title('SAMSUNG ELECTRONIC STCOK PRICE')\n",
    "plt.ylabel('price')\n",
    "plt.xlabel('period')\n",
    "plt.grid()\n",
    "\n",
    "plt.plot(raw_df['Adj Close'], label='Adj Close')\n",
    "plt.show()"
   ]
  },
  {
   "cell_type": "markdown",
   "metadata": {
    "id": "iQtB5ixT-KZt"
   },
   "source": [
    "데이터 전처리 (Missing Data 처리, 정규화 등)"
   ]
  },
  {
   "cell_type": "code",
   "execution_count": null,
   "metadata": {
    "colab": {
     "base_uri": "https://localhost:8080/",
     "height": 319
    },
    "id": "LtXkxvPchBSW",
    "outputId": "9a8939d0-fc21-4fce-cb55-d8dfb7ce9218",
    "tags": []
   },
   "outputs": [],
   "source": [
    "# 통계정보 확인\n",
    "raw_df.describe()"
   ]
  },
  {
   "cell_type": "code",
   "execution_count": null,
   "metadata": {
    "colab": {
     "base_uri": "https://localhost:8080/"
    },
    "id": "ExtqrJEXWjBS",
    "outputId": "8ca376cd-0ac2-4d75-8294-677768660240",
    "tags": []
   },
   "outputs": [],
   "source": [
    "# Missing Data 확인\n",
    "raw_df.isnull().sum()"
   ]
  },
  {
   "cell_type": "code",
   "execution_count": null,
   "metadata": {
    "colab": {
     "base_uri": "https://localhost:8080/"
    },
    "id": "eJKlSQjlxvgj",
    "outputId": "86e6287c-e567-4f3c-c839-520fefc809c1"
   },
   "outputs": [],
   "source": [
    "# 최소값이 0 인 column 체크\n",
    "\n",
    "for col in raw_df.columns:\n",
    "\n",
    "    if raw_df[col].min() == 0:\n",
    "        col_name = col\n",
    "        print(col_name, type(col_name))"
   ]
  },
  {
   "cell_type": "code",
   "execution_count": null,
   "metadata": {
    "colab": {
     "base_uri": "https://localhost:8080/",
     "height": 615
    },
    "id": "-sjMP002VR5P",
    "outputId": "ac221fc0-a6c5-4d73-ec68-2f1e2562d288",
    "tags": []
   },
   "outputs": [],
   "source": [
    "raw_df.loc[raw_df['Volume']==0]"
   ]
  },
  {
   "cell_type": "code",
   "execution_count": null,
   "metadata": {
    "colab": {
     "base_uri": "https://localhost:8080/"
    },
    "id": "Ac7ieaSiUkYl",
    "outputId": "bd6ea968-6cd6-4bf8-f389-adce8de58858",
    "tags": []
   },
   "outputs": [],
   "source": [
    "# 각 column에 0 몇개인지 확인\n",
    "\n",
    "for col in raw_df.columns:\n",
    "    missing_rows = raw_df.loc[raw_df[col]==0].shape[0]\n",
    "    print(col + ': ' + str(missing_rows))"
   ]
  },
  {
   "cell_type": "code",
   "execution_count": null,
   "metadata": {
    "colab": {
     "base_uri": "https://localhost:8080/"
    },
    "id": "EqPvPM4UVskp",
    "outputId": "2dc14df5-8ee0-44a5-bb88-1c45f547ffe7",
    "tags": []
   },
   "outputs": [],
   "source": [
    "# 먼저 0 을 NaN 으로 바꾼후, Missing Data 처리\n",
    "raw_df['Volume'] = raw_df['Volume'].replace(0, np.nan)\n",
    "\n",
    "# 각 column에 0 몇개인지 확인\n",
    "for col in raw_df.columns:\n",
    "    missing_rows = raw_df.loc[raw_df[col]==0].shape[0]\n",
    "    print(col + ': ' + str(missing_rows))"
   ]
  },
  {
   "cell_type": "code",
   "execution_count": null,
   "metadata": {
    "colab": {
     "base_uri": "https://localhost:8080/"
    },
    "id": "BJ2attPDfw3E",
    "outputId": "11e7b57e-3242-47d4-f4a5-57612a726a52",
    "tags": []
   },
   "outputs": [],
   "source": [
    "# missing data 확인\n",
    "raw_df.isnull().sum()"
   ]
  },
  {
   "cell_type": "code",
   "execution_count": null,
   "metadata": {
    "colab": {
     "base_uri": "https://localhost:8080/"
    },
    "id": "l470iWLyhhzF",
    "outputId": "d0ccc011-4133-45a7-eed9-761265bfdfac",
    "tags": []
   },
   "outputs": [],
   "source": [
    "raw_df.isnull().any()"
   ]
  },
  {
   "cell_type": "code",
   "execution_count": null,
   "metadata": {
    "colab": {
     "base_uri": "https://localhost:8080/",
     "height": 237
    },
    "id": "Ves_xphWh182",
    "outputId": "8d32d8b7-7a2a-4800-892d-f5f7b2692f26"
   },
   "outputs": [],
   "source": [
    "raw_df.loc[raw_df['Open'].isna()]"
   ]
  },
  {
   "cell_type": "code",
   "execution_count": null,
   "metadata": {
    "colab": {
     "base_uri": "https://localhost:8080/"
    },
    "id": "eIKrl7HwjxUh",
    "outputId": "6ecc1594-76e9-46d9-d45e-e5285cbd3e1b",
    "tags": []
   },
   "outputs": [],
   "source": [
    "# missing data 처리\n",
    "\n",
    "raw_df = raw_df.dropna()\n",
    "raw_df.isnull().sum()"
   ]
  },
  {
   "cell_type": "code",
   "execution_count": null,
   "metadata": {
    "colab": {
     "base_uri": "https://localhost:8080/"
    },
    "id": "pWjPDWKXz1Ap",
    "outputId": "e5a4b2fa-7ad6-4c20-8918-891148c16650",
    "tags": []
   },
   "outputs": [],
   "source": [
    "# 정규화 (Date 제외한 모든 수치부분 정규화)\n",
    "\n",
    "from sklearn.preprocessing import MinMaxScaler\n",
    "\n",
    "scaler = MinMaxScaler()\n",
    "\n",
    "scale_cols = ['Open', 'High', 'Low', 'Close', 'Adj Close', '3M', '5M', 'Volume']\n",
    "\n",
    "scaled_df = scaler.fit_transform(raw_df[scale_cols])\n",
    "\n",
    "scaled_df = pd.DataFrame(scaled_df, columns=scale_cols)\n",
    "\n",
    "print(scaled_df)"
   ]
  },
  {
   "cell_type": "markdown",
   "metadata": {
    "id": "XEocuNgdjv9f"
   },
   "source": [
    "주가예측을 위해 3MA, 5MA, Adj Close 항목을 feature 선정\n",
    " - 정답은 Adj Close 선정\n",
    " - 시계열 데이터를 위한 window_size = 40 선정"
   ]
  },
  {
   "cell_type": "code",
   "execution_count": null,
   "metadata": {
    "id": "_Dekc31jpHlz"
   },
   "outputs": [],
   "source": [
    "# 입력 파라미터 feature, label => numpy type\n",
    "\n",
    "def make_sequene_dataset(feature, label, window_size):\n",
    "\n",
    "    feature_list = []      # 생성될 feature list\n",
    "    label_list = []        # 생성될 label list\n",
    "\n",
    "    for i in range(len(feature)-window_size):\n",
    "        feature_list.append(feature[i:i+window_size])\n",
    "        label_list.append(label[i+window_size])\n",
    "\n",
    "    return np.array(feature_list), np.array(label_list)"
   ]
  },
  {
   "cell_type": "code",
   "execution_count": null,
   "metadata": {
    "id": "xB3BIwF-nPrw"
   },
   "outputs": [],
   "source": [
    "# feature_df, label_df 생성\n",
    "\n",
    "feature_cols = [ '3M', '5M', 'Adj Close' ]\n",
    "label_cols = [ 'Adj Close' ]\n",
    "\n",
    "feature_df = pd.DataFrame(scaled_df, columns=feature_cols)\n",
    "label_df = pd.DataFrame(scaled_df, columns=label_cols)"
   ]
  },
  {
   "cell_type": "code",
   "execution_count": null,
   "metadata": {
    "tags": []
   },
   "outputs": [],
   "source": [
    "feature_df.head()"
   ]
  },
  {
   "cell_type": "code",
   "execution_count": null,
   "metadata": {
    "tags": []
   },
   "outputs": [],
   "source": [
    "label_df.head()"
   ]
  },
  {
   "cell_type": "code",
   "execution_count": null,
   "metadata": {
    "colab": {
     "base_uri": "https://localhost:8080/"
    },
    "id": "DWutUAPSn62i",
    "outputId": "2db9d6df-67f9-4b29-beaa-22282c999635"
   },
   "outputs": [],
   "source": [
    "# DataFrame => Numpy 변환\n",
    "\n",
    "feature_np = feature_df.to_numpy()\n",
    "label_np = label_df.to_numpy()\n",
    "\n",
    "print(feature_np.shape, label_np.shape)"
   ]
  },
  {
   "cell_type": "markdown",
   "metadata": {
    "id": "fvHj457p-dzb"
   },
   "source": [
    "시계열 데이터 생성 (make_sequence_dataset)"
   ]
  },
  {
   "cell_type": "code",
   "execution_count": null,
   "metadata": {
    "colab": {
     "base_uri": "https://localhost:8080/"
    },
    "id": "aCTkuL3bn_8-",
    "outputId": "5e11f5a8-f38f-4d95-8ddf-26220bb7d614"
   },
   "outputs": [],
   "source": [
    "window_size = 40\n",
    "\n",
    "X, Y = make_sequene_dataset(feature_np, label_np, window_size)\n",
    "\n",
    "print(X.shape, Y.shape)"
   ]
  },
  {
   "cell_type": "markdown",
   "metadata": {
    "id": "6wTuyxnw-ZNC"
   },
   "source": [
    "학습데이터, 테스트데이터 생성"
   ]
  },
  {
   "cell_type": "code",
   "execution_count": null,
   "metadata": {
    "colab": {
     "base_uri": "https://localhost:8080/"
    },
    "id": "pDekSzzpoIiO",
    "outputId": "c468f44f-1d94-4d2b-8d13-e273b5ed4c8f"
   },
   "outputs": [],
   "source": [
    "# train, test 분리\n",
    "\n",
    "split = int(len(X)*0.95)\n",
    "#split = -200\n",
    "\n",
    "x_train = X[0:split]\n",
    "y_train = Y[0:split]\n",
    "\n",
    "x_test = X[split:]\n",
    "y_test = Y[split:]\n",
    "\n",
    "print(x_train.shape, y_train.shape)\n",
    "print(x_test.shape, y_test.shape)"
   ]
  },
  {
   "cell_type": "markdown",
   "metadata": {
    "id": "Sc9d9NJB-jV0"
   },
   "source": [
    "모델 구축 및 컴파일"
   ]
  },
  {
   "cell_type": "code",
   "execution_count": null,
   "metadata": {
    "id": "s66hRSnAoK0D"
   },
   "outputs": [],
   "source": [
    "# model 생성\n",
    "\n",
    "model = Sequential()\n",
    "\n",
    "model.add(LSTM(128, activation='tanh', input_shape=x_train[0].shape))\n",
    "\n",
    "model.add(Dense(1, activation='linear'))"
   ]
  },
  {
   "cell_type": "code",
   "execution_count": null,
   "metadata": {
    "colab": {
     "base_uri": "https://localhost:8080/"
    },
    "id": "yBlP2iimoNay",
    "outputId": "efbb3881-2d1c-4102-f0a1-cb54f0b80827",
    "tags": []
   },
   "outputs": [],
   "source": [
    "model.compile(loss='mse', optimizer='adam', metrics=['mae'])\n",
    "\n",
    "model.summary()"
   ]
  },
  {
   "cell_type": "markdown",
   "metadata": {
    "id": "t_9GD7Vg-mHw"
   },
   "source": [
    "모델 학습 (EarlyStopping 적용)"
   ]
  },
  {
   "cell_type": "code",
   "execution_count": null,
   "metadata": {
    "colab": {
     "base_uri": "https://localhost:8080/"
    },
    "id": "xpAYLcPHoPUd",
    "outputId": "f164a48b-7565-4e50-d8d7-3ea619363e5d",
    "tags": []
   },
   "outputs": [],
   "source": [
    "from tensorflow.keras.callbacks import EarlyStopping\n",
    "\n",
    "early_stop = EarlyStopping(monitor='val_loss', patience=10)\n",
    "\n",
    "model.fit(x_train, y_train, \n",
    "          validation_data=(x_test, y_test),\n",
    "          epochs=300, batch_size=16,\n",
    "          callbacks=[early_stop])"
   ]
  },
  {
   "cell_type": "code",
   "execution_count": null,
   "metadata": {},
   "outputs": [],
   "source": [
    "pred = model.predict(x_test)\n",
    "print(pred[0], y_test[0])"
   ]
  },
  {
   "cell_type": "markdown",
   "metadata": {
    "id": "CN5J-MPa-q9_"
   },
   "source": [
    "예측을 통한 정답과의 비교 \n",
    "(오차계산 MAPE 사용, 평균절대값백분율오차)"
   ]
  },
  {
   "cell_type": "code",
   "execution_count": null,
   "metadata": {
    "colab": {
     "base_uri": "https://localhost:8080/",
     "height": 395
    },
    "id": "iUUCbGgQoSQ1",
    "outputId": "332d3e48-e096-4148-ebc9-35b7d4f05b3b"
   },
   "outputs": [],
   "source": [
    "\n",
    "plt.figure(figsize=(12, 6))\n",
    "plt.title('3MA + 5MA + Adj Close, window_size=40')\n",
    "plt.ylabel('adj close')\n",
    "plt.xlabel('period')\n",
    "plt.plot(y_test, label='actual')\n",
    "plt.plot(pred, label='prediction')\n",
    "plt.grid()\n",
    "plt.legend(loc='best')\n",
    "\n",
    "plt.show()"
   ]
  },
  {
   "cell_type": "code",
   "execution_count": null,
   "metadata": {
    "colab": {
     "base_uri": "https://localhost:8080/"
    },
    "id": "3rpiFjKRoZlk",
    "outputId": "6224ac98-867b-48f3-87cf-fb18835c3fd4"
   },
   "outputs": [],
   "source": [
    "# 평균절대값백분율오차계산 (MAPE)\n",
    "\n",
    "print( np.sum(abs(y_test-pred)/y_test) / len(x_test) )"
   ]
  }
 ],
 "metadata": {
  "accelerator": "GPU",
  "colab": {
   "collapsed_sections": [],
   "name": "TF_2_x_LEC_21_LSTM_Example.ipynb",
   "provenance": []
  },
  "kernelspec": {
   "display_name": "Python 3 (ipykernel)",
   "language": "python",
   "name": "python3"
  },
  "language_info": {
   "codemirror_mode": {
    "name": "ipython",
    "version": 3
   },
   "file_extension": ".py",
   "mimetype": "text/x-python",
   "name": "python",
   "nbconvert_exporter": "python",
   "pygments_lexer": "ipython3",
   "version": "3.12.9"
  }
 },
 "nbformat": 4,
 "nbformat_minor": 4
}
