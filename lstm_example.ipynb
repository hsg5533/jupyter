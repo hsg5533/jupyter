{
 "cells": [
  {
   "cell_type": "markdown",
   "metadata": {
    "id": "QpJUJia4IbVS"
   },
   "source": [
    "LSTM 기반의 삼성전자 주가 예측 예제\n",
    " - yahoo finance 에서 데이터 다운로드 후 3일(3MA), 5일(5MA) 가격이평선 추가"
   ]
  },
  {
   "cell_type": "code",
   "execution_count": 1,
   "metadata": {
    "id": "Ah3M-kc3aZqy"
   },
   "outputs": [],
   "source": [
    "import tensorflow as tf\n",
    "import numpy as np\n",
    "import pandas as pd\n",
    "import matplotlib.pyplot as plt\n",
    "from tensorflow.keras.models import Sequential\n",
    "from tensorflow.keras.layers import LSTM, Dense, Dropout"
   ]
  },
  {
   "cell_type": "markdown",
   "metadata": {
    "id": "tU_3ujIh9_N0"
   },
   "source": [
    "데이터 불러오기"
   ]
  },
  {
   "cell_type": "code",
   "execution_count": 2,
   "metadata": {
    "colab": {
     "base_uri": "https://localhost:8080/",
     "height": 205
    },
    "id": "9srMq0M9fXwk",
    "outputId": "72209902-9844-4101-c2b1-357f643c3a57"
   },
   "outputs": [
    {
     "data": {
      "text/html": [
       "<div>\n",
       "<style scoped>\n",
       "    .dataframe tbody tr th:only-of-type {\n",
       "        vertical-align: middle;\n",
       "    }\n",
       "\n",
       "    .dataframe tbody tr th {\n",
       "        vertical-align: top;\n",
       "    }\n",
       "\n",
       "    .dataframe thead th {\n",
       "        text-align: right;\n",
       "    }\n",
       "</style>\n",
       "<table border=\"1\" class=\"dataframe\">\n",
       "  <thead>\n",
       "    <tr style=\"text-align: right;\">\n",
       "      <th></th>\n",
       "      <th>Date</th>\n",
       "      <th>Open</th>\n",
       "      <th>High</th>\n",
       "      <th>Low</th>\n",
       "      <th>Close</th>\n",
       "      <th>Adj Close</th>\n",
       "      <th>Volume</th>\n",
       "      <th>3M</th>\n",
       "      <th>5M</th>\n",
       "    </tr>\n",
       "  </thead>\n",
       "  <tbody>\n",
       "    <tr>\n",
       "      <th>0</th>\n",
       "      <td>2000-01-04</td>\n",
       "      <td>6000</td>\n",
       "      <td>6110</td>\n",
       "      <td>5660</td>\n",
       "      <td>6110</td>\n",
       "      <td>4651.739746</td>\n",
       "      <td>74195000</td>\n",
       "      <td>NaN</td>\n",
       "      <td>NaN</td>\n",
       "    </tr>\n",
       "    <tr>\n",
       "      <th>1</th>\n",
       "      <td>2000-01-05</td>\n",
       "      <td>5800</td>\n",
       "      <td>6060</td>\n",
       "      <td>5520</td>\n",
       "      <td>5580</td>\n",
       "      <td>4248.231445</td>\n",
       "      <td>74680000</td>\n",
       "      <td>NaN</td>\n",
       "      <td>NaN</td>\n",
       "    </tr>\n",
       "    <tr>\n",
       "      <th>2</th>\n",
       "      <td>2000-01-06</td>\n",
       "      <td>5750</td>\n",
       "      <td>5780</td>\n",
       "      <td>5580</td>\n",
       "      <td>5620</td>\n",
       "      <td>4278.685547</td>\n",
       "      <td>54390000</td>\n",
       "      <td>4392.885579</td>\n",
       "      <td>NaN</td>\n",
       "    </tr>\n",
       "    <tr>\n",
       "      <th>3</th>\n",
       "      <td>2000-01-07</td>\n",
       "      <td>5560</td>\n",
       "      <td>5670</td>\n",
       "      <td>5360</td>\n",
       "      <td>5540</td>\n",
       "      <td>4217.779785</td>\n",
       "      <td>40305000</td>\n",
       "      <td>4248.232259</td>\n",
       "      <td>NaN</td>\n",
       "    </tr>\n",
       "    <tr>\n",
       "      <th>4</th>\n",
       "      <td>2000-01-10</td>\n",
       "      <td>5600</td>\n",
       "      <td>5770</td>\n",
       "      <td>5580</td>\n",
       "      <td>5770</td>\n",
       "      <td>4392.885742</td>\n",
       "      <td>46880000</td>\n",
       "      <td>4296.450358</td>\n",
       "      <td>4357.864453</td>\n",
       "    </tr>\n",
       "  </tbody>\n",
       "</table>\n",
       "</div>"
      ],
      "text/plain": [
       "         Date  Open  High   Low  Close    Adj Close    Volume           3M  \\\n",
       "0  2000-01-04  6000  6110  5660   6110  4651.739746  74195000          NaN   \n",
       "1  2000-01-05  5800  6060  5520   5580  4248.231445  74680000          NaN   \n",
       "2  2000-01-06  5750  5780  5580   5620  4278.685547  54390000  4392.885579   \n",
       "3  2000-01-07  5560  5670  5360   5540  4217.779785  40305000  4248.232259   \n",
       "4  2000-01-10  5600  5770  5580   5770  4392.885742  46880000  4296.450358   \n",
       "\n",
       "            5M  \n",
       "0          NaN  \n",
       "1          NaN  \n",
       "2          NaN  \n",
       "3          NaN  \n",
       "4  4357.864453  "
      ]
     },
     "execution_count": 2,
     "metadata": {},
     "output_type": "execute_result"
    }
   ],
   "source": [
    "raw_df = pd.read_csv('data/005930.KS.csv')  # yahoo finance 로부터 데이터 다운로드\n",
    "raw_df.head()"
   ]
  },
  {
   "cell_type": "code",
   "execution_count": 3,
   "metadata": {
    "colab": {
     "base_uri": "https://localhost:8080/",
     "height": 295
    },
    "id": "d1lsO_jInckj",
    "outputId": "e067ba8f-3671-49a6-a7ff-64263784cab5",
    "tags": []
   },
   "outputs": [
    {
     "data": {
      "image/png": "[encoded data removed]",
      "text/plain": [
       "<Figure size 432x288 with 1 Axes>"
      ]
     },
     "metadata": {
      "needs_background": "light"
     },
     "output_type": "display_data"
    }
   ],
   "source": [
    "plt.title('SAMSUNG ELECTRONIC STCOK PRICE')\n",
    "plt.ylabel('price')\n",
    "plt.xlabel('period')\n",
    "plt.grid()\n",
    "\n",
    "plt.plot(raw_df['Adj Close'], label='Adj Close')\n",
    "plt.show()"
   ]
  },
  {
   "cell_type": "markdown",
   "metadata": {
    "id": "iQtB5ixT-KZt"
   },
   "source": [
    "데이터 전처리 (Missing Data 처리, 정규화 등)"
   ]
  },
  {
   "cell_type": "code",
   "execution_count": 4,
   "metadata": {
    "colab": {
     "base_uri": "https://localhost:8080/",
     "height": 319
    },
    "id": "LtXkxvPchBSW",
    "outputId": "9a8939d0-fc21-4fce-cb55-d8dfb7ce9218",
    "tags": []
   },
   "outputs": [
    {
     "data": {
      "text/html": [
       "<div>\n",
       "<style scoped>\n",
       "    .dataframe tbody tr th:only-of-type {\n",
       "        vertical-align: middle;\n",
       "    }\n",
       "\n",
       "    .dataframe tbody tr th {\n",
       "        vertical-align: top;\n",
       "    }\n",
       "\n",
       "    .dataframe thead th {\n",
       "        text-align: right;\n",
       "    }\n",
       "</style>\n",
       "<table border=\"1\" class=\"dataframe\">\n",
       "  <thead>\n",
       "    <tr style=\"text-align: right;\">\n",
       "      <th></th>\n",
       "      <th>Open</th>\n",
       "      <th>High</th>\n",
       "      <th>Low</th>\n",
       "      <th>Close</th>\n",
       "      <th>Adj Close</th>\n",
       "      <th>Volume</th>\n",
       "      <th>3M</th>\n",
       "      <th>5M</th>\n",
       "    </tr>\n",
       "  </thead>\n",
       "  <tbody>\n",
       "    <tr>\n",
       "      <th>count</th>\n",
       "      <td>5645.000000</td>\n",
       "      <td>5645.000000</td>\n",
       "      <td>5645.000000</td>\n",
       "      <td>5645.000000</td>\n",
       "      <td>5645.000000</td>\n",
       "      <td>5.645000e+03</td>\n",
       "      <td>5643.000000</td>\n",
       "      <td>5641.000000</td>\n",
       "    </tr>\n",
       "    <tr>\n",
       "      <th>mean</th>\n",
       "      <td>25046.563330</td>\n",
       "      <td>25298.256864</td>\n",
       "      <td>24788.434012</td>\n",
       "      <td>25040.914083</td>\n",
       "      <td>21904.088022</td>\n",
       "      <td>2.175597e+07</td>\n",
       "      <td>21900.607179</td>\n",
       "      <td>21897.257848</td>\n",
       "    </tr>\n",
       "    <tr>\n",
       "      <th>std</th>\n",
       "      <td>20220.023828</td>\n",
       "      <td>20385.326290</td>\n",
       "      <td>20045.348191</td>\n",
       "      <td>20204.027767</td>\n",
       "      <td>19880.184969</td>\n",
       "      <td>1.542621e+07</td>\n",
       "      <td>19873.698156</td>\n",
       "      <td>19867.796875</td>\n",
       "    </tr>\n",
       "    <tr>\n",
       "      <th>min</th>\n",
       "      <td>2540.000000</td>\n",
       "      <td>2760.000000</td>\n",
       "      <td>2420.000000</td>\n",
       "      <td>2730.000000</td>\n",
       "      <td>2078.436279</td>\n",
       "      <td>0.000000e+00</td>\n",
       "      <td>2124.115804</td>\n",
       "      <td>2139.342773</td>\n",
       "    </tr>\n",
       "    <tr>\n",
       "      <th>25%</th>\n",
       "      <td>10200.000000</td>\n",
       "      <td>10340.000000</td>\n",
       "      <td>10040.000000</td>\n",
       "      <td>10200.000000</td>\n",
       "      <td>7852.012695</td>\n",
       "      <td>1.180825e+07</td>\n",
       "      <td>7823.954508</td>\n",
       "      <td>7832.582617</td>\n",
       "    </tr>\n",
       "    <tr>\n",
       "      <th>50%</th>\n",
       "      <td>16700.000000</td>\n",
       "      <td>16920.000000</td>\n",
       "      <td>16500.000000</td>\n",
       "      <td>16700.000000</td>\n",
       "      <td>13410.837890</td>\n",
       "      <td>1.774472e+07</td>\n",
       "      <td>13365.140300</td>\n",
       "      <td>13392.578320</td>\n",
       "    </tr>\n",
       "    <tr>\n",
       "      <th>75%</th>\n",
       "      <td>31700.000000</td>\n",
       "      <td>32260.000000</td>\n",
       "      <td>31440.000000</td>\n",
       "      <td>31840.000000</td>\n",
       "      <td>27068.371090</td>\n",
       "      <td>2.720500e+07</td>\n",
       "      <td>27122.211265</td>\n",
       "      <td>27064.969920</td>\n",
       "    </tr>\n",
       "    <tr>\n",
       "      <th>max</th>\n",
       "      <td>90300.000000</td>\n",
       "      <td>96800.000000</td>\n",
       "      <td>89500.000000</td>\n",
       "      <td>91000.000000</td>\n",
       "      <td>88908.171880</td>\n",
       "      <td>1.642150e+08</td>\n",
       "      <td>88354.533850</td>\n",
       "      <td>87892.081250</td>\n",
       "    </tr>\n",
       "  </tbody>\n",
       "</table>\n",
       "</div>"
      ],
      "text/plain": [
       "               Open          High           Low         Close     Adj Close  \\\n",
       "count   5645.000000   5645.000000   5645.000000   5645.000000   5645.000000   \n",
       "mean   25046.563330  25298.256864  24788.434012  25040.914083  21904.088022   \n",
       "std    20220.023828  20385.326290  20045.348191  20204.027767  19880.184969   \n",
       "min     2540.000000   2760.000000   2420.000000   2730.000000   2078.436279   \n",
       "25%    10200.000000  10340.000000  10040.000000  10200.000000   7852.012695   \n",
       "50%    16700.000000  16920.000000  16500.000000  16700.000000  13410.837890   \n",
       "75%    31700.000000  32260.000000  31440.000000  31840.000000  27068.371090   \n",
       "max    90300.000000  96800.000000  89500.000000  91000.000000  88908.171880   \n",
       "\n",
       "             Volume            3M            5M  \n",
       "count  5.645000e+03   5643.000000   5641.000000  \n",
       "mean   2.175597e+07  21900.607179  21897.257848  \n",
       "std    1.542621e+07  19873.698156  19867.796875  \n",
       "min    0.000000e+00   2124.115804   2139.342773  \n",
       "25%    1.180825e+07   7823.954508   7832.582617  \n",
       "50%    1.774472e+07  13365.140300  13392.578320  \n",
       "75%    2.720500e+07  27122.211265  27064.969920  \n",
       "max    1.642150e+08  88354.533850  87892.081250  "
      ]
     },
     "execution_count": 4,
     "metadata": {},
     "output_type": "execute_result"
    }
   ],
   "source": [
    "# 통계정보 확인\n",
    "raw_df.describe()"
   ]
  },
  {
   "cell_type": "code",
   "execution_count": 5,
   "metadata": {
    "colab": {
     "base_uri": "https://localhost:8080/"
    },
    "id": "ExtqrJEXWjBS",
    "outputId": "8ca376cd-0ac2-4d75-8294-677768660240",
    "tags": []
   },
   "outputs": [
    {
     "data": {
      "text/plain": [
       "Date         0\n",
       "Open         0\n",
       "High         0\n",
       "Low          0\n",
       "Close        0\n",
       "Adj Close    0\n",
       "Volume       0\n",
       "3M           2\n",
       "5M           4\n",
       "dtype: int64"
      ]
     },
     "execution_count": 5,
     "metadata": {},
     "output_type": "execute_result"
    }
   ],
   "source": [
    "# Missing Data 확인\n",
    "raw_df.isnull().sum()"
   ]
  },
  {
   "cell_type": "code",
   "execution_count": 6,
   "metadata": {
    "colab": {
     "base_uri": "https://localhost:8080/"
    },
    "id": "eJKlSQjlxvgj",
    "outputId": "86e6287c-e567-4f3c-c839-520fefc809c1"
   },
   "outputs": [
    {
     "name": "stdout",
     "output_type": "stream",
     "text": [
      "Volume <class 'str'>\n"
     ]
    }
   ],
   "source": [
    "# 최소값이 0 인 column 체크\n",
    "\n",
    "for col in raw_df.columns:\n",
    "\n",
    "    if raw_df[col].min() == 0:\n",
    "        col_name = col\n",
    "        print(col_name, type(col_name))"
   ]
  },
  {
   "cell_type": "code",
   "execution_count": 7,
   "metadata": {
    "colab": {
     "base_uri": "https://localhost:8080/",
     "height": 615
    },
    "id": "-sjMP002VR5P",
    "outputId": "ac221fc0-a6c5-4d73-ec68-2f1e2562d288",
    "tags": []
   },
   "outputs": [
    {
     "data": {
      "text/html": [
       "<div>\n",
       "<style scoped>\n",
       "    .dataframe tbody tr th:only-of-type {\n",
       "        vertical-align: middle;\n",
       "    }\n",
       "\n",
       "    .dataframe tbody tr th {\n",
       "        vertical-align: top;\n",
       "    }\n",
       "\n",
       "    .dataframe thead th {\n",
       "        text-align: right;\n",
       "    }\n",
       "</style>\n",
       "<table border=\"1\" class=\"dataframe\">\n",
       "  <thead>\n",
       "    <tr style=\"text-align: right;\">\n",
       "      <th></th>\n",
       "      <th>Date</th>\n",
       "      <th>Open</th>\n",
       "      <th>High</th>\n",
       "      <th>Low</th>\n",
       "      <th>Close</th>\n",
       "      <th>Adj Close</th>\n",
       "      <th>Volume</th>\n",
       "      <th>3M</th>\n",
       "      <th>5M</th>\n",
       "    </tr>\n",
       "  </thead>\n",
       "  <tbody>\n",
       "    <tr>\n",
       "      <th>23</th>\n",
       "      <td>2000-02-04</td>\n",
       "      <td>5130</td>\n",
       "      <td>5130</td>\n",
       "      <td>5130</td>\n",
       "      <td>5130</td>\n",
       "      <td>3905.632568</td>\n",
       "      <td>0</td>\n",
       "      <td>3936.086344</td>\n",
       "      <td>4021.355322</td>\n",
       "    </tr>\n",
       "    <tr>\n",
       "      <th>41</th>\n",
       "      <td>2000-03-01</td>\n",
       "      <td>5120</td>\n",
       "      <td>5120</td>\n",
       "      <td>5120</td>\n",
       "      <td>5120</td>\n",
       "      <td>3898.019287</td>\n",
       "      <td>0</td>\n",
       "      <td>3816.811035</td>\n",
       "      <td>3841.681396</td>\n",
       "    </tr>\n",
       "    <tr>\n",
       "      <th>66</th>\n",
       "      <td>2000-04-05</td>\n",
       "      <td>6800</td>\n",
       "      <td>6800</td>\n",
       "      <td>6800</td>\n",
       "      <td>6800</td>\n",
       "      <td>5177.057617</td>\n",
       "      <td>0</td>\n",
       "      <td>5253.190918</td>\n",
       "      <td>5245.577051</td>\n",
       "    </tr>\n",
       "    <tr>\n",
       "      <th>72</th>\n",
       "      <td>2000-04-13</td>\n",
       "      <td>6910</td>\n",
       "      <td>6910</td>\n",
       "      <td>6910</td>\n",
       "      <td>6910</td>\n",
       "      <td>5260.804199</td>\n",
       "      <td>0</td>\n",
       "      <td>5309.021973</td>\n",
       "      <td>5393.275586</td>\n",
       "    </tr>\n",
       "    <tr>\n",
       "      <th>84</th>\n",
       "      <td>2000-05-01</td>\n",
       "      <td>6000</td>\n",
       "      <td>6000</td>\n",
       "      <td>6000</td>\n",
       "      <td>6000</td>\n",
       "      <td>4567.991699</td>\n",
       "      <td>0</td>\n",
       "      <td>4415.725423</td>\n",
       "      <td>4360.909277</td>\n",
       "    </tr>\n",
       "    <tr>\n",
       "      <th>...</th>\n",
       "      <td>...</td>\n",
       "      <td>...</td>\n",
       "      <td>...</td>\n",
       "      <td>...</td>\n",
       "      <td>...</td>\n",
       "      <td>...</td>\n",
       "      <td>...</td>\n",
       "      <td>...</td>\n",
       "      <td>...</td>\n",
       "    </tr>\n",
       "    <tr>\n",
       "      <th>5564</th>\n",
       "      <td>2022-02-28</td>\n",
       "      <td>71900</td>\n",
       "      <td>71900</td>\n",
       "      <td>71900</td>\n",
       "      <td>71900</td>\n",
       "      <td>71530.257810</td>\n",
       "      <td>0</td>\n",
       "      <td>71397.609380</td>\n",
       "      <td>72405.731250</td>\n",
       "    </tr>\n",
       "    <tr>\n",
       "      <th>5567</th>\n",
       "      <td>2022-03-04</td>\n",
       "      <td>72900</td>\n",
       "      <td>72900</td>\n",
       "      <td>72900</td>\n",
       "      <td>72900</td>\n",
       "      <td>72525.117190</td>\n",
       "      <td>0</td>\n",
       "      <td>72127.174480</td>\n",
       "      <td>71888.407810</td>\n",
       "    </tr>\n",
       "    <tr>\n",
       "      <th>5570</th>\n",
       "      <td>2022-03-10</td>\n",
       "      <td>69500</td>\n",
       "      <td>69500</td>\n",
       "      <td>69500</td>\n",
       "      <td>69500</td>\n",
       "      <td>69142.601560</td>\n",
       "      <td>0</td>\n",
       "      <td>69341.572920</td>\n",
       "      <td>70614.990630</td>\n",
       "    </tr>\n",
       "    <tr>\n",
       "      <th>5573</th>\n",
       "      <td>2022-03-15</td>\n",
       "      <td>70200</td>\n",
       "      <td>70200</td>\n",
       "      <td>70200</td>\n",
       "      <td>70200</td>\n",
       "      <td>69839.000000</td>\n",
       "      <td>0</td>\n",
       "      <td>69772.677080</td>\n",
       "      <td>69520.646880</td>\n",
       "    </tr>\n",
       "    <tr>\n",
       "      <th>5575</th>\n",
       "      <td>2022-03-17</td>\n",
       "      <td>70400</td>\n",
       "      <td>70400</td>\n",
       "      <td>70400</td>\n",
       "      <td>70400</td>\n",
       "      <td>70037.968750</td>\n",
       "      <td>0</td>\n",
       "      <td>69971.645830</td>\n",
       "      <td>69878.793750</td>\n",
       "    </tr>\n",
       "  </tbody>\n",
       "</table>\n",
       "<p>127 rows × 9 columns</p>\n",
       "</div>"
      ],
      "text/plain": [
       "            Date   Open   High    Low  Close     Adj Close  Volume  \\\n",
       "23    2000-02-04   5130   5130   5130   5130   3905.632568       0   \n",
       "41    2000-03-01   5120   5120   5120   5120   3898.019287       0   \n",
       "66    2000-04-05   6800   6800   6800   6800   5177.057617       0   \n",
       "72    2000-04-13   6910   6910   6910   6910   5260.804199       0   \n",
       "84    2000-05-01   6000   6000   6000   6000   4567.991699       0   \n",
       "...          ...    ...    ...    ...    ...           ...     ...   \n",
       "5564  2022-02-28  71900  71900  71900  71900  71530.257810       0   \n",
       "5567  2022-03-04  72900  72900  72900  72900  72525.117190       0   \n",
       "5570  2022-03-10  69500  69500  69500  69500  69142.601560       0   \n",
       "5573  2022-03-15  70200  70200  70200  70200  69839.000000       0   \n",
       "5575  2022-03-17  70400  70400  70400  70400  70037.968750       0   \n",
       "\n",
       "                3M            5M  \n",
       "23     3936.086344   4021.355322  \n",
       "41     3816.811035   3841.681396  \n",
       "66     5253.190918   5245.577051  \n",
       "72     5309.021973   5393.275586  \n",
       "84     4415.725423   4360.909277  \n",
       "...            ...           ...  \n",
       "5564  71397.609380  72405.731250  \n",
       "5567  72127.174480  71888.407810  \n",
       "5570  69341.572920  70614.990630  \n",
       "5573  69772.677080  69520.646880  \n",
       "5575  69971.645830  69878.793750  \n",
       "\n",
       "[127 rows x 9 columns]"
      ]
     },
     "execution_count": 7,
     "metadata": {},
     "output_type": "execute_result"
    }
   ],
   "source": [
    "raw_df.loc[raw_df['Volume']==0]"
   ]
  },
  {
   "cell_type": "code",
   "execution_count": 8,
   "metadata": {
    "colab": {
     "base_uri": "https://localhost:8080/"
    },
    "id": "Ac7ieaSiUkYl",
    "outputId": "bd6ea968-6cd6-4bf8-f389-adce8de58858",
    "tags": []
   },
   "outputs": [
    {
     "name": "stdout",
     "output_type": "stream",
     "text": [
      "Date: 0\n",
      "Open: 0\n",
      "High: 0\n",
      "Low: 0\n",
      "Close: 0\n",
      "Adj Close: 0\n",
      "Volume: 127\n",
      "3M: 0\n",
      "5M: 0\n"
     ]
    }
   ],
   "source": [
    "# 각 column에 0 몇개인지 확인\n",
    "\n",
    "for col in raw_df.columns:\n",
    "    missing_rows = raw_df.loc[raw_df[col]==0].shape[0]\n",
    "    print(col + ': ' + str(missing_rows))"
   ]
  },
  {
   "cell_type": "code",
   "execution_count": 9,
   "metadata": {
    "colab": {
     "base_uri": "https://localhost:8080/"
    },
    "id": "EqPvPM4UVskp",
    "outputId": "2dc14df5-8ee0-44a5-bb88-1c45f547ffe7",
    "tags": []
   },
   "outputs": [
    {
     "name": "stdout",
     "output_type": "stream",
     "text": [
      "Date: 0\n",
      "Open: 0\n",
      "High: 0\n",
      "Low: 0\n",
      "Close: 0\n",
      "Adj Close: 0\n",
      "Volume: 0\n",
      "3M: 0\n",
      "5M: 0\n"
     ]
    }
   ],
   "source": [
    "# 먼저 0 을 NaN 으로 바꾼후, Missing Data 처리\n",
    "raw_df['Volume'] = raw_df['Volume'].replace(0, np.nan)\n",
    "\n",
    "# 각 column에 0 몇개인지 확인\n",
    "for col in raw_df.columns:\n",
    "    missing_rows = raw_df.loc[raw_df[col]==0].shape[0]\n",
    "    print(col + ': ' + str(missing_rows))"
   ]
  },
  {
   "cell_type": "code",
   "execution_count": 10,
   "metadata": {
    "colab": {
     "base_uri": "https://localhost:8080/"
    },
    "id": "BJ2attPDfw3E",
    "outputId": "11e7b57e-3242-47d4-f4a5-57612a726a52",
    "tags": []
   },
   "outputs": [
    {
     "data": {
      "text/plain": [
       "Date           0\n",
       "Open           0\n",
       "High           0\n",
       "Low            0\n",
       "Close          0\n",
       "Adj Close      0\n",
       "Volume       127\n",
       "3M             2\n",
       "5M             4\n",
       "dtype: int64"
      ]
     },
     "execution_count": 10,
     "metadata": {},
     "output_type": "execute_result"
    }
   ],
   "source": [
    "# missing data 확인\n",
    "raw_df.isnull().sum()"
   ]
  },
  {
   "cell_type": "code",
   "execution_count": 11,
   "metadata": {
    "colab": {
     "base_uri": "https://localhost:8080/"
    },
    "id": "l470iWLyhhzF",
    "outputId": "d0ccc011-4133-45a7-eed9-761265bfdfac",
    "tags": []
   },
   "outputs": [
    {
     "data": {
      "text/plain": [
       "Date         False\n",
       "Open         False\n",
       "High         False\n",
       "Low          False\n",
       "Close        False\n",
       "Adj Close    False\n",
       "Volume        True\n",
       "3M            True\n",
       "5M            True\n",
       "dtype: bool"
      ]
     },
     "execution_count": 11,
     "metadata": {},
     "output_type": "execute_result"
    }
   ],
   "source": [
    "raw_df.isnull().any()"
   ]
  },
  {
   "cell_type": "code",
   "execution_count": 12,
   "metadata": {
    "colab": {
     "base_uri": "https://localhost:8080/",
     "height": 237
    },
    "id": "Ves_xphWh182",
    "outputId": "8d32d8b7-7a2a-4800-892d-f5f7b2692f26"
   },
   "outputs": [
    {
     "data": {
      "text/html": [
       "<div>\n",
       "<style scoped>\n",
       "    .dataframe tbody tr th:only-of-type {\n",
       "        vertical-align: middle;\n",
       "    }\n",
       "\n",
       "    .dataframe tbody tr th {\n",
       "        vertical-align: top;\n",
       "    }\n",
       "\n",
       "    .dataframe thead th {\n",
       "        text-align: right;\n",
       "    }\n",
       "</style>\n",
       "<table border=\"1\" class=\"dataframe\">\n",
       "  <thead>\n",
       "    <tr style=\"text-align: right;\">\n",
       "      <th></th>\n",
       "      <th>Date</th>\n",
       "      <th>Open</th>\n",
       "      <th>High</th>\n",
       "      <th>Low</th>\n",
       "      <th>Close</th>\n",
       "      <th>Adj Close</th>\n",
       "      <th>Volume</th>\n",
       "      <th>3M</th>\n",
       "      <th>5M</th>\n",
       "    </tr>\n",
       "  </thead>\n",
       "  <tbody>\n",
       "  </tbody>\n",
       "</table>\n",
       "</div>"
      ],
      "text/plain": [
       "Empty DataFrame\n",
       "Columns: [Date, Open, High, Low, Close, Adj Close, Volume, 3M, 5M]\n",
       "Index: []"
      ]
     },
     "execution_count": 12,
     "metadata": {},
     "output_type": "execute_result"
    }
   ],
   "source": [
    "raw_df.loc[raw_df['Open'].isna()]"
   ]
  },
  {
   "cell_type": "code",
   "execution_count": 13,
   "metadata": {
    "colab": {
     "base_uri": "https://localhost:8080/"
    },
    "id": "eIKrl7HwjxUh",
    "outputId": "6ecc1594-76e9-46d9-d45e-e5285cbd3e1b",
    "tags": []
   },
   "outputs": [
    {
     "data": {
      "text/plain": [
       "Date         0\n",
       "Open         0\n",
       "High         0\n",
       "Low          0\n",
       "Close        0\n",
       "Adj Close    0\n",
       "Volume       0\n",
       "3M           0\n",
       "5M           0\n",
       "dtype: int64"
      ]
     },
     "execution_count": 13,
     "metadata": {},
     "output_type": "execute_result"
    }
   ],
   "source": [
    "# missing data 처리\n",
    "\n",
    "raw_df = raw_df.dropna()\n",
    "raw_df.isnull().sum()"
   ]
  },
  {
   "cell_type": "code",
   "execution_count": 14,
   "metadata": {
    "colab": {
     "base_uri": "https://localhost:8080/"
    },
    "id": "pWjPDWKXz1Ap",
    "outputId": "e5a4b2fa-7ad6-4c20-8918-891148c16650",
    "tags": []
   },
   "outputs": [
    {
     "name": "stdout",
     "output_type": "stream",
     "text": [
      "          Open      High       Low     Close  Adj Close        3M        5M  \\\n",
      "0     0.034868  0.032008  0.036288  0.034440   0.026655  0.025192  0.025698   \n",
      "1     0.037375  0.035517  0.038470  0.034440   0.026655  0.025634  0.025094   \n",
      "2     0.034982  0.031689  0.036518  0.033873   0.026217  0.026163  0.025343   \n",
      "3     0.034868  0.031689  0.036059  0.033760   0.026129  0.025987  0.025503   \n",
      "4     0.036235  0.033177  0.037437  0.035120   0.027181  0.026163  0.026018   \n",
      "...        ...       ...       ...       ...        ...       ...       ...   \n",
      "5509  0.643345  0.599107  0.633670  0.621615   0.639430  0.651076  0.664183   \n",
      "5510  0.628532  0.587410  0.624483  0.619350   0.637127  0.646051  0.656019   \n",
      "5511  0.630811  0.599107  0.634819  0.630679   0.648644  0.645664  0.652753   \n",
      "5512  0.643345  0.607614  0.641709  0.635210   0.653250  0.650303  0.652986   \n",
      "5513  0.645624  0.603360  0.649747  0.637476   0.655554  0.656488  0.654153   \n",
      "\n",
      "        Volume  \n",
      "0     0.285359  \n",
      "1     0.363715  \n",
      "2     0.177799  \n",
      "3     0.250704  \n",
      "4     0.300555  \n",
      "...        ...  \n",
      "5509  0.141954  \n",
      "5510  0.172431  \n",
      "5511  0.141475  \n",
      "5512  0.110207  \n",
      "5513  0.015419  \n",
      "\n",
      "[5514 rows x 8 columns]\n"
     ]
    }
   ],
   "source": [
    "# 정규화 (Date 제외한 모든 수치부분 정규화)\n",
    "\n",
    "from sklearn.preprocessing import MinMaxScaler\n",
    "\n",
    "scaler = MinMaxScaler()\n",
    "\n",
    "scale_cols = ['Open', 'High', 'Low', 'Close', 'Adj Close', '3M', '5M', 'Volume']\n",
    "\n",
    "scaled_df = scaler.fit_transform(raw_df[scale_cols])\n",
    "\n",
    "scaled_df = pd.DataFrame(scaled_df, columns=scale_cols)\n",
    "\n",
    "print(scaled_df)"
   ]
  },
  {
   "cell_type": "markdown",
   "metadata": {
    "id": "XEocuNgdjv9f"
   },
   "source": [
    "주가예측을 위해 3MA, 5MA, Adj Close 항목을 feature 선정\n",
    " - 정답은 Adj Close 선정\n",
    " - 시계열 데이터를 위한 window_size = 40 선정"
   ]
  },
  {
   "cell_type": "code",
   "execution_count": 15,
   "metadata": {
    "id": "_Dekc31jpHlz"
   },
   "outputs": [],
   "source": [
    "# 입력 파라미터 feature, label => numpy type\n",
    "\n",
    "def make_sequene_dataset(feature, label, window_size):\n",
    "\n",
    "    feature_list = []      # 생성될 feature list\n",
    "    label_list = []        # 생성될 label list\n",
    "\n",
    "    for i in range(len(feature)-window_size):\n",
    "        feature_list.append(feature[i:i+window_size])\n",
    "        label_list.append(label[i+window_size])\n",
    "\n",
    "    return np.array(feature_list), np.array(label_list)"
   ]
  },
  {
   "cell_type": "code",
   "execution_count": 16,
   "metadata": {
    "id": "xB3BIwF-nPrw"
   },
   "outputs": [],
   "source": [
    "# feature_df, label_df 생성\n",
    "\n",
    "feature_cols = [ '3M', '5M', 'Adj Close' ]\n",
    "label_cols = [ 'Adj Close' ]\n",
    "\n",
    "feature_df = pd.DataFrame(scaled_df, columns=feature_cols)\n",
    "label_df = pd.DataFrame(scaled_df, columns=label_cols)"
   ]
  },
  {
   "cell_type": "code",
   "execution_count": 17,
   "metadata": {
    "tags": []
   },
   "outputs": [
    {
     "data": {
      "text/html": [
       "<div>\n",
       "<style scoped>\n",
       "    .dataframe tbody tr th:only-of-type {\n",
       "        vertical-align: middle;\n",
       "    }\n",
       "\n",
       "    .dataframe tbody tr th {\n",
       "        vertical-align: top;\n",
       "    }\n",
       "\n",
       "    .dataframe thead th {\n",
       "        text-align: right;\n",
       "    }\n",
       "</style>\n",
       "<table border=\"1\" class=\"dataframe\">\n",
       "  <thead>\n",
       "    <tr style=\"text-align: right;\">\n",
       "      <th></th>\n",
       "      <th>3M</th>\n",
       "      <th>5M</th>\n",
       "      <th>Adj Close</th>\n",
       "    </tr>\n",
       "  </thead>\n",
       "  <tbody>\n",
       "    <tr>\n",
       "      <th>0</th>\n",
       "      <td>0.025192</td>\n",
       "      <td>0.025698</td>\n",
       "      <td>0.026655</td>\n",
       "    </tr>\n",
       "    <tr>\n",
       "      <th>1</th>\n",
       "      <td>0.025634</td>\n",
       "      <td>0.025094</td>\n",
       "      <td>0.026655</td>\n",
       "    </tr>\n",
       "    <tr>\n",
       "      <th>2</th>\n",
       "      <td>0.026163</td>\n",
       "      <td>0.025343</td>\n",
       "      <td>0.026217</td>\n",
       "    </tr>\n",
       "    <tr>\n",
       "      <th>3</th>\n",
       "      <td>0.025987</td>\n",
       "      <td>0.025503</td>\n",
       "      <td>0.026129</td>\n",
       "    </tr>\n",
       "    <tr>\n",
       "      <th>4</th>\n",
       "      <td>0.026163</td>\n",
       "      <td>0.026018</td>\n",
       "      <td>0.027181</td>\n",
       "    </tr>\n",
       "  </tbody>\n",
       "</table>\n",
       "</div>"
      ],
      "text/plain": [
       "         3M        5M  Adj Close\n",
       "0  0.025192  0.025698   0.026655\n",
       "1  0.025634  0.025094   0.026655\n",
       "2  0.026163  0.025343   0.026217\n",
       "3  0.025987  0.025503   0.026129\n",
       "4  0.026163  0.026018   0.027181"
      ]
     },
     "execution_count": 17,
     "metadata": {},
     "output_type": "execute_result"
    }
   ],
   "source": [
    "feature_df.head()"
   ]
  },
  {
   "cell_type": "code",
   "execution_count": 18,
   "metadata": {
    "tags": []
   },
   "outputs": [
    {
     "data": {
      "text/html": [
       "<div>\n",
       "<style scoped>\n",
       "    .dataframe tbody tr th:only-of-type {\n",
       "        vertical-align: middle;\n",
       "    }\n",
       "\n",
       "    .dataframe tbody tr th {\n",
       "        vertical-align: top;\n",
       "    }\n",
       "\n",
       "    .dataframe thead th {\n",
       "        text-align: right;\n",
       "    }\n",
       "</style>\n",
       "<table border=\"1\" class=\"dataframe\">\n",
       "  <thead>\n",
       "    <tr style=\"text-align: right;\">\n",
       "      <th></th>\n",
       "      <th>Adj Close</th>\n",
       "    </tr>\n",
       "  </thead>\n",
       "  <tbody>\n",
       "    <tr>\n",
       "      <th>0</th>\n",
       "      <td>0.026655</td>\n",
       "    </tr>\n",
       "    <tr>\n",
       "      <th>1</th>\n",
       "      <td>0.026655</td>\n",
       "    </tr>\n",
       "    <tr>\n",
       "      <th>2</th>\n",
       "      <td>0.026217</td>\n",
       "    </tr>\n",
       "    <tr>\n",
       "      <th>3</th>\n",
       "      <td>0.026129</td>\n",
       "    </tr>\n",
       "    <tr>\n",
       "      <th>4</th>\n",
       "      <td>0.027181</td>\n",
       "    </tr>\n",
       "  </tbody>\n",
       "</table>\n",
       "</div>"
      ],
      "text/plain": [
       "   Adj Close\n",
       "0   0.026655\n",
       "1   0.026655\n",
       "2   0.026217\n",
       "3   0.026129\n",
       "4   0.027181"
      ]
     },
     "execution_count": 18,
     "metadata": {},
     "output_type": "execute_result"
    }
   ],
   "source": [
    "label_df.head()"
   ]
  },
  {
   "cell_type": "code",
   "execution_count": 19,
   "metadata": {
    "colab": {
     "base_uri": "https://localhost:8080/"
    },
    "id": "DWutUAPSn62i",
    "outputId": "2db9d6df-67f9-4b29-beaa-22282c999635"
   },
   "outputs": [
    {
     "name": "stdout",
     "output_type": "stream",
     "text": [
      "(5514, 3) (5514, 1)\n"
     ]
    }
   ],
   "source": [
    "# DataFrame => Numpy 변환\n",
    "\n",
    "feature_np = feature_df.to_numpy()\n",
    "label_np = label_df.to_numpy()\n",
    "\n",
    "print(feature_np.shape, label_np.shape)"
   ]
  },
  {
   "cell_type": "markdown",
   "metadata": {
    "id": "fvHj457p-dzb"
   },
   "source": [
    "시계열 데이터 생성 (make_sequence_dataset)"
   ]
  },
  {
   "cell_type": "code",
   "execution_count": 20,
   "metadata": {
    "colab": {
     "base_uri": "https://localhost:8080/"
    },
    "id": "aCTkuL3bn_8-",
    "outputId": "5e11f5a8-f38f-4d95-8ddf-26220bb7d614"
   },
   "outputs": [
    {
     "name": "stdout",
     "output_type": "stream",
     "text": [
      "(5474, 40, 3) (5474, 1)\n"
     ]
    }
   ],
   "source": [
    "window_size = 40\n",
    "\n",
    "X, Y = make_sequene_dataset(feature_np, label_np, window_size)\n",
    "\n",
    "print(X.shape, Y.shape)"
   ]
  },
  {
   "cell_type": "markdown",
   "metadata": {
    "id": "6wTuyxnw-ZNC"
   },
   "source": [
    "학습데이터, 테스트데이터 생성"
   ]
  },
  {
   "cell_type": "code",
   "execution_count": 21,
   "metadata": {
    "colab": {
     "base_uri": "https://localhost:8080/"
    },
    "id": "pDekSzzpoIiO",
    "outputId": "c468f44f-1d94-4d2b-8d13-e273b5ed4c8f"
   },
   "outputs": [
    {
     "name": "stdout",
     "output_type": "stream",
     "text": [
      "(5200, 40, 3) (5200, 1)\n",
      "(274, 40, 3) (274, 1)\n"
     ]
    }
   ],
   "source": [
    "# train, test 분리\n",
    "\n",
    "split = int(len(X)*0.95)\n",
    "#split = -200\n",
    "\n",
    "x_train = X[0:split]\n",
    "y_train = Y[0:split]\n",
    "\n",
    "x_test = X[split:]\n",
    "y_test = Y[split:]\n",
    "\n",
    "print(x_train.shape, y_train.shape)\n",
    "print(x_test.shape, y_test.shape)"
   ]
  },
  {
   "cell_type": "markdown",
   "metadata": {
    "id": "Sc9d9NJB-jV0"
   },
   "source": [
    "모델 구축 및 컴파일"
   ]
  },
  {
   "cell_type": "code",
   "execution_count": 22,
   "metadata": {
    "id": "s66hRSnAoK0D"
   },
   "outputs": [],
   "source": [
    "# model 생성\n",
    "\n",
    "model = Sequential()\n",
    "\n",
    "model.add(LSTM(128, activation='tanh', input_shape=x_train[0].shape))\n",
    "\n",
    "model.add(Dense(1, activation='linear'))"
   ]
  },
  {
   "cell_type": "code",
   "execution_count": 23,
   "metadata": {
    "colab": {
     "base_uri": "https://localhost:8080/"
    },
    "id": "yBlP2iimoNay",
    "outputId": "efbb3881-2d1c-4102-f0a1-cb54f0b80827",
    "tags": []
   },
   "outputs": [
    {
     "name": "stdout",
     "output_type": "stream",
     "text": [
      "Model: \"sequential\"\n",
      "_________________________________________________________________\n",
      " Layer (type)                Output Shape              Param #   \n",
      "=================================================================\n",
      " lstm (LSTM)                 (None, 128)               67584     \n",
      "                                                                 \n",
      " dense (Dense)               (None, 1)                 129       \n",
      "                                                                 \n",
      "=================================================================\n",
      "Total params: 67,713\n",
      "Trainable params: 67,713\n",
      "Non-trainable params: 0\n",
      "_________________________________________________________________\n"
     ]
    }
   ],
   "source": [
    "model.compile(loss='mse', optimizer='adam', metrics=['mae'])\n",
    "\n",
    "model.summary()"
   ]
  },
  {
   "cell_type": "markdown",
   "metadata": {
    "id": "t_9GD7Vg-mHw"
   },
   "source": [
    "모델 학습 (EarlyStopping 적용)"
   ]
  },
  {
   "cell_type": "code",
   "execution_count": 24,
   "metadata": {
    "colab": {
     "base_uri": "https://localhost:8080/"
    },
    "id": "xpAYLcPHoPUd",
    "outputId": "f164a48b-7565-4e50-d8d7-3ea619363e5d",
    "tags": []
   },
   "outputs": [
    {
     "name": "stdout",
     "output_type": "stream",
     "text": [
      "Epoch 1/300\n",
      "325/325 [==============================] - 4s 8ms/step - loss: 7.0130e-04 - mae: 0.0100 - val_loss: 4.6396e-04 - val_mae: 0.0170\n",
      "Epoch 2/300\n",
      "325/325 [==============================] - 2s 7ms/step - loss: 1.1851e-04 - mae: 0.0068 - val_loss: 3.5987e-04 - val_mae: 0.0139\n",
      "Epoch 3/300\n",
      "325/325 [==============================] - 2s 7ms/step - loss: 1.1605e-04 - mae: 0.0067 - val_loss: 3.1517e-04 - val_mae: 0.0131\n",
      "Epoch 4/300\n",
      "325/325 [==============================] - 2s 7ms/step - loss: 8.5345e-05 - mae: 0.0058 - val_loss: 2.8091e-04 - val_mae: 0.0126\n",
      "Epoch 5/300\n",
      "325/325 [==============================] - 2s 7ms/step - loss: 8.2725e-05 - mae: 0.0059 - val_loss: 2.9867e-04 - val_mae: 0.0138\n",
      "Epoch 6/300\n",
      "325/325 [==============================] - 2s 7ms/step - loss: 8.4263e-05 - mae: 0.0060 - val_loss: 2.9687e-04 - val_mae: 0.0137\n",
      "Epoch 7/300\n",
      "325/325 [==============================] - 2s 7ms/step - loss: 6.7900e-05 - mae: 0.0053 - val_loss: 3.4523e-04 - val_mae: 0.0152\n",
      "Epoch 8/300\n",
      "325/325 [==============================] - 2s 7ms/step - loss: 6.2272e-05 - mae: 0.0051 - val_loss: 2.3299e-04 - val_mae: 0.0121\n",
      "Epoch 9/300\n",
      "325/325 [==============================] - 2s 7ms/step - loss: 6.3571e-05 - mae: 0.0052 - val_loss: 3.0568e-04 - val_mae: 0.0144\n",
      "Epoch 10/300\n",
      "325/325 [==============================] - 2s 7ms/step - loss: 5.9136e-05 - mae: 0.0051 - val_loss: 2.5201e-04 - val_mae: 0.0129\n",
      "Epoch 11/300\n",
      "325/325 [==============================] - 2s 7ms/step - loss: 5.0467e-05 - mae: 0.0047 - val_loss: 1.5079e-04 - val_mae: 0.0093\n",
      "Epoch 12/300\n",
      "325/325 [==============================] - 2s 7ms/step - loss: 4.4551e-05 - mae: 0.0044 - val_loss: 1.3979e-04 - val_mae: 0.0090\n",
      "Epoch 13/300\n",
      "325/325 [==============================] - 2s 7ms/step - loss: 5.4604e-05 - mae: 0.0049 - val_loss: 2.4530e-04 - val_mae: 0.0128\n",
      "Epoch 14/300\n",
      "325/325 [==============================] - 2s 7ms/step - loss: 4.4247e-05 - mae: 0.0043 - val_loss: 1.2943e-04 - val_mae: 0.0086\n",
      "Epoch 15/300\n",
      "325/325 [==============================] - 2s 7ms/step - loss: 4.4514e-05 - mae: 0.0043 - val_loss: 1.6920e-04 - val_mae: 0.0103\n",
      "Epoch 16/300\n",
      "325/325 [==============================] - 2s 7ms/step - loss: 4.2940e-05 - mae: 0.0043 - val_loss: 1.6606e-04 - val_mae: 0.0099\n",
      "Epoch 17/300\n",
      "325/325 [==============================] - 2s 7ms/step - loss: 4.2974e-05 - mae: 0.0043 - val_loss: 1.4810e-04 - val_mae: 0.0095\n",
      "Epoch 18/300\n",
      "325/325 [==============================] - 2s 7ms/step - loss: 3.6668e-05 - mae: 0.0040 - val_loss: 1.1751e-04 - val_mae: 0.0081\n",
      "Epoch 19/300\n",
      "325/325 [==============================] - 2s 7ms/step - loss: 4.1528e-05 - mae: 0.0043 - val_loss: 1.3974e-04 - val_mae: 0.0090\n",
      "Epoch 20/300\n",
      "325/325 [==============================] - 2s 7ms/step - loss: 3.7781e-05 - mae: 0.0040 - val_loss: 1.1616e-04 - val_mae: 0.0080\n",
      "Epoch 21/300\n",
      "325/325 [==============================] - 2s 7ms/step - loss: 3.5408e-05 - mae: 0.0039 - val_loss: 1.8131e-04 - val_mae: 0.0110\n",
      "Epoch 22/300\n",
      "325/325 [==============================] - 2s 7ms/step - loss: 3.8601e-05 - mae: 0.0040 - val_loss: 2.1816e-04 - val_mae: 0.0124\n",
      "Epoch 23/300\n",
      "325/325 [==============================] - 2s 7ms/step - loss: 3.6048e-05 - mae: 0.0039 - val_loss: 1.1103e-04 - val_mae: 0.0078\n",
      "Epoch 24/300\n",
      "325/325 [==============================] - 2s 7ms/step - loss: 3.6761e-05 - mae: 0.0040 - val_loss: 5.8256e-04 - val_mae: 0.0222\n",
      "Epoch 25/300\n",
      "325/325 [==============================] - 2s 7ms/step - loss: 3.5091e-05 - mae: 0.0039 - val_loss: 1.0982e-04 - val_mae: 0.0077\n",
      "Epoch 26/300\n",
      "325/325 [==============================] - 2s 7ms/step - loss: 3.2400e-05 - mae: 0.0037 - val_loss: 1.3306e-04 - val_mae: 0.0090\n",
      "Epoch 27/300\n",
      "325/325 [==============================] - 2s 7ms/step - loss: 3.6866e-05 - mae: 0.0040 - val_loss: 2.4996e-04 - val_mae: 0.0130\n",
      "Epoch 28/300\n",
      "325/325 [==============================] - 2s 7ms/step - loss: 3.6518e-05 - mae: 0.0040 - val_loss: 1.1297e-04 - val_mae: 0.0078\n",
      "Epoch 29/300\n",
      "325/325 [==============================] - 2s 7ms/step - loss: 3.4824e-05 - mae: 0.0038 - val_loss: 1.5618e-04 - val_mae: 0.0100\n",
      "Epoch 30/300\n",
      "325/325 [==============================] - 2s 7ms/step - loss: 3.5423e-05 - mae: 0.0039 - val_loss: 2.1265e-04 - val_mae: 0.0118\n",
      "Epoch 31/300\n",
      "325/325 [==============================] - 2s 7ms/step - loss: 3.5526e-05 - mae: 0.0040 - val_loss: 1.1680e-04 - val_mae: 0.0081\n",
      "Epoch 32/300\n",
      "325/325 [==============================] - 2s 7ms/step - loss: 3.4623e-05 - mae: 0.0038 - val_loss: 1.4857e-04 - val_mae: 0.0097\n",
      "Epoch 33/300\n",
      "325/325 [==============================] - 2s 7ms/step - loss: 3.2735e-05 - mae: 0.0037 - val_loss: 1.9708e-04 - val_mae: 0.0117\n",
      "Epoch 34/300\n",
      "325/325 [==============================] - 2s 7ms/step - loss: 3.2878e-05 - mae: 0.0037 - val_loss: 1.2520e-04 - val_mae: 0.0084\n",
      "Epoch 35/300\n",
      "325/325 [==============================] - 2s 7ms/step - loss: 3.1900e-05 - mae: 0.0036 - val_loss: 1.4209e-04 - val_mae: 0.0094\n"
     ]
    },
    {
     "data": {
      "text/plain": [
       "<keras.callbacks.History at 0x1d3eb9a2220>"
      ]
     },
     "execution_count": 24,
     "metadata": {},
     "output_type": "execute_result"
    }
   ],
   "source": [
    "from tensorflow.keras.callbacks import EarlyStopping\n",
    "\n",
    "early_stop = EarlyStopping(monitor='val_loss', patience=10)\n",
    "\n",
    "model.fit(x_train, y_train, \n",
    "          validation_data=(x_test, y_test),\n",
    "          epochs=300, batch_size=16,\n",
    "          callbacks=[early_stop])"
   ]
  },
  {
   "cell_type": "code",
   "execution_count": 25,
   "metadata": {},
   "outputs": [
    {
     "name": "stdout",
     "output_type": "stream",
     "text": [
      "9/9 [==============================] - 0s 4ms/step\n",
      "[0.9077611] [0.89944104]\n"
     ]
    }
   ],
   "source": [
    "pred = model.predict(x_test)\n",
    "print(pred[0], y_test[0])"
   ]
  },
  {
   "cell_type": "markdown",
   "metadata": {
    "id": "CN5J-MPa-q9_"
   },
   "source": [
    "예측을 통한 정답과의 비교 \n",
    "(오차계산 MAPE 사용, 평균절대값백분율오차)"
   ]
  },
  {
   "cell_type": "code",
   "execution_count": 26,
   "metadata": {
    "colab": {
     "base_uri": "https://localhost:8080/",
     "height": 395
    },
    "id": "iUUCbGgQoSQ1",
    "outputId": "332d3e48-e096-4148-ebc9-35b7d4f05b3b"
   },
   "outputs": [
    {
     "data": {
      "image/png": "[encoded data removed]",
      "text/plain": [
       "<Figure size 864x432 with 1 Axes>"
      ]
     },
     "metadata": {
      "needs_background": "light"
     },
     "output_type": "display_data"
    }
   ],
   "source": [
    "\n",
    "plt.figure(figsize=(12, 6))\n",
    "plt.title('3MA + 5MA + Adj Close, window_size=40')\n",
    "plt.ylabel('adj close')\n",
    "plt.xlabel('period')\n",
    "plt.plot(y_test, label='actual')\n",
    "plt.plot(pred, label='prediction')\n",
    "plt.grid()\n",
    "plt.legend(loc='best')\n",
    "\n",
    "plt.show()"
   ]
  },
  {
   "cell_type": "code",
   "execution_count": 27,
   "metadata": {
    "colab": {
     "base_uri": "https://localhost:8080/"
    },
    "id": "3rpiFjKRoZlk",
    "outputId": "6224ac98-867b-48f3-87cf-fb18835c3fd4"
   },
   "outputs": [
    {
     "name": "stdout",
     "output_type": "stream",
     "text": [
      "0.011603255880753243\n"
     ]
    }
   ],
   "source": [
    "# 평균절대값백분율오차계산 (MAPE)\n",
    "\n",
    "print( np.sum(abs(y_test-pred)/y_test) / len(x_test) )"
   ]
  }
 ],
 "metadata": {
  "accelerator": "GPU",
  "colab": {
   "collapsed_sections": [],
   "name": "TF_2_x_LEC_21_LSTM_Example.ipynb",
   "provenance": []
  },
  "kernelspec": {
   "display_name": "Python 3 (ipykernel)",
   "language": "python",
   "name": "python3"
  },
  "language_info": {
   "codemirror_mode": {
    "name": "ipython",
    "version": 3
   },
   "file_extension": ".py",
   "mimetype": "text/x-python",
   "name": "python",
   "nbconvert_exporter": "python",
   "pygments_lexer": "ipython3",
   "version": "3.9.12"
  }
 },
 "nbformat": 4,
 "nbformat_minor": 4
}
