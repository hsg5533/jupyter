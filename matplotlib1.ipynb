{
 "cells": [
  {
   "cell_type": "code",
   "execution_count": null,
   "id": "24a07cd5-eea0-4779-8dc0-0205d88af769",
   "metadata": {},
   "outputs": [],
   "source": [
    "import numpy as np\n",
    "import pandas as pd\n",
    "import matplotlib\n",
    "\n",
    "data=np.random.rand(50)\n",
    "print(type(data))\n",
    "print(data)"
   ]
  },
  {
   "cell_type": "code",
   "execution_count": null,
   "id": "d21aa221-31c4-4029-ba5c-36eec9e77ac8",
   "metadata": {},
   "outputs": [],
   "source": [
    "a=[1,2,3,4,5]\n",
    "data1=np.array(a)\n",
    "print(data1)"
   ]
  },
  {
   "cell_type": "code",
   "execution_count": null,
   "id": "440c7d21-3f71-41ca-92b7-1a8c667c43be",
   "metadata": {},
   "outputs": [],
   "source": [
    "b=['가','나','다']\n",
    "data2=np.array(b)\n",
    "print(data2)"
   ]
  },
  {
   "cell_type": "code",
   "execution_count": null,
   "id": "83b3ab0d-3797-493c-8f62-218a0fc40e08",
   "metadata": {},
   "outputs": [],
   "source": [
    "seri1=pd.Series(data2)\n",
    "print(type(seri1))\n",
    "print(seri1)"
   ]
  },
  {
   "cell_type": "code",
   "execution_count": null,
   "id": "0b3652c2-2b8d-4a1b-b4c1-a1038b4b40fa",
   "metadata": {
    "tags": []
   },
   "outputs": [],
   "source": [
    "seri2=pd.Series(data)\n",
    "print(type(seri2))\n",
    "print(seri2)"
   ]
  },
  {
   "cell_type": "code",
   "execution_count": null,
   "id": "380a4df4-96a5-4f04-a9a9-98c03d85f5b5",
   "metadata": {
    "tags": []
   },
   "outputs": [],
   "source": [
    "seri2.plot()"
   ]
  },
  {
   "cell_type": "code",
   "execution_count": null,
   "id": "6e464153-0eeb-40a6-8cfc-e643497033dd",
   "metadata": {},
   "outputs": [],
   "source": [
    "matplotlib.style.use('ggplot')\n",
    "seri2.plot()"
   ]
  },
  {
   "cell_type": "code",
   "execution_count": null,
   "id": "f0aa7c81-5aab-4326-bbd9-a6ff837b6d41",
   "metadata": {},
   "outputs": [],
   "source": [
    "data_set=np.random.rand(10,3)\n",
    "\n",
    "df=pd.DataFrame(data_set,columns=['A','B','C'])\n",
    "df"
   ]
  },
  {
   "cell_type": "code",
   "execution_count": null,
   "id": "ed80cab7-6401-414e-b42e-80b363b8dba1",
   "metadata": {},
   "outputs": [],
   "source": [
    "df.plot()"
   ]
  },
  {
   "cell_type": "code",
   "execution_count": null,
   "id": "ee72338e-6a8e-452f-a171-b19d6e74616a",
   "metadata": {
    "tags": []
   },
   "outputs": [],
   "source": [
    "df.plot(kind='bar')\n",
    "df.plot(kind='barh')\n",
    "df.plot(kind='bar',stacked=True)"
   ]
  },
  {
   "cell_type": "code",
   "execution_count": null,
   "id": "cb5240c7-5893-4e57-a979-ab2bd69b67e1",
   "metadata": {},
   "outputs": [],
   "source": [
    "df.plot(kind='area')\n",
    "df.plot(kind='area',stacked=False)"
   ]
  },
  {
   "cell_type": "code",
   "execution_count": null,
   "id": "b56631c5-89e7-4318-ba56-2fff8a4c64de",
   "metadata": {},
   "outputs": [],
   "source": [
    "seri2=pd.Series(np.random.rand(5),index=['a','b','c','d','e'],name='Series')\n",
    "seri2.plot(kind='pie',autopct='%.2f',fontsize=20,figsize=(8,6))"
   ]
  },
  {
   "cell_type": "code",
   "execution_count": null,
   "id": "3528106b-4f60-42c3-908d-39d98e339c71",
   "metadata": {},
   "outputs": [],
   "source": [
    "data3=[1,2,3,4,5,6]\n",
    "arr3=np.array(data3).reshape(2,3)\n",
    "print(arr3)"
   ]
  },
  {
   "cell_type": "code",
   "execution_count": null,
   "id": "2bb75f5e-d170-43cc-b5fb-d1e1e26e2b57",
   "metadata": {},
   "outputs": [],
   "source": [
    "y1=np.ones(10)\n",
    "y2=np.ones([3,4])\n",
    "y3=np.ones(12).reshape(3,4)\n",
    "print(y1)\n",
    "print(y2)\n",
    "print(y3)"
   ]
  },
  {
   "cell_type": "code",
   "execution_count": null,
   "id": "aa8f9888-adb2-4fa4-9582-7e6ca1b950e1",
   "metadata": {},
   "outputs": [],
   "source": [
    "y1=np.zeros(10)\n",
    "y2=np.zeros([3,4])\n",
    "y3=np.zeros(12).reshape(3,4)\n",
    "print(y1)\n",
    "print(y2)\n",
    "print(y3)"
   ]
  },
  {
   "cell_type": "code",
   "execution_count": null,
   "id": "bd040b24-55aa-4a8f-9078-6b4ca950d272",
   "metadata": {},
   "outputs": [],
   "source": [
    "list1=[[1,11],[2,22],[3,33]]\n",
    "print(list1[1][1])\n",
    "print(list1[:][0:2])"
   ]
  },
  {
   "cell_type": "code",
   "execution_count": null,
   "id": "2be91b7f-b31d-43f5-8674-92bfecb8ec7a",
   "metadata": {},
   "outputs": [],
   "source": [
    "list2=[1,10,100,1000,2,20,200,2000,3,30,300,3000]\n",
    "arr1=np.array(list2).reshape(3,4)\n",
    "print(arr1)\n",
    "print(arr1[1][1])\n",
    "print(arr1[1,1])\n",
    "print(arr1[:,1])\n",
    "print(arr1[2,:])\n",
    "print(arr1[::2,1::2])"
   ]
  },
  {
   "cell_type": "code",
   "execution_count": null,
   "id": "b1c1a0ce-6015-40e2-8249-614de30cfd0e",
   "metadata": {},
   "outputs": [],
   "source": [
    "a=np.arange(1,21).reshape(4,5)\n",
    "print(a)\n",
    "print(a[:][:3])\n",
    "print(a[1,1])\n",
    "print(a[::2,1::2])"
   ]
  },
  {
   "cell_type": "code",
   "execution_count": null,
   "id": "4eb77266-c47f-4d91-ae63-531d75beab29",
   "metadata": {},
   "outputs": [],
   "source": [
    "a"
   ]
  },
  {
   "cell_type": "code",
   "execution_count": null,
   "id": "33a7075e-f5b1-4816-b5cf-751cc941ed0b",
   "metadata": {},
   "outputs": [],
   "source": [
    "print(np.mean(a)) #a의 평균값\n",
    "print(np.sum(a)) #총합\n",
    "print(np.sqrt(a)) #각각 원소의 제곱근 값을 구함\n",
    "print(np.sum(a,axis=0)) #열 별로 총합을 구함\n",
    "print(np.sum(a,axis=1)) #행 별로 총합을 구함"
   ]
  },
  {
   "cell_type": "code",
   "execution_count": null,
   "id": "81ee41a8-7c0b-48ae-b243-d3b95741c0f2",
   "metadata": {},
   "outputs": [],
   "source": [
    "x=np.arange(1,6)\n",
    "y=np.arange(10,60,10)\n",
    "print(x)\n",
    "print(y)"
   ]
  },
  {
   "cell_type": "code",
   "execution_count": null,
   "id": "15c7cf0a-c239-447a-ad0e-d90758704f56",
   "metadata": {},
   "outputs": [],
   "source": [
    "print(x+5)\n",
    "print(x+y)\n",
    "print(x-y)\n",
    "print(x*y)\n",
    "print(x/y)\n",
    "print(x//y)\n",
    "print(x&y)"
   ]
  },
  {
   "cell_type": "code",
   "execution_count": null,
   "id": "e7e427bb-da1d-4f2a-8d89-10e7962b6dd2",
   "metadata": {},
   "outputs": [],
   "source": [
    "b=[5,3,4,1,2,3,7,6,9]\n",
    "arr_b=np.array(b).reshape(3,3)\n",
    "arr_b"
   ]
  },
  {
   "cell_type": "code",
   "execution_count": null,
   "id": "bb17a720-e231-4c9a-9c4d-151f9c81a006",
   "metadata": {},
   "outputs": [],
   "source": [
    "print(np.sort(arr_b))\n",
    "print(np.sort(arr_b,axis=0)) #행기준 정렬\n",
    "print(np.sort(arr_b,axis=1)) #열기준 정렬\n",
    "print(np.sort(arr_b,axis=0)[::-1,::]) #열기준 내림차순 정렬\n",
    "print(np.sort(arr_b,axis=0)[::,::-1]) #행기준 내림차순 정렬"
   ]
  },
  {
   "cell_type": "code",
   "execution_count": null,
   "id": "9ab9bf41-65f2-4464-b783-4bdff4db8b2f",
   "metadata": {},
   "outputs": [],
   "source": [
    "a.transpose()"
   ]
  },
  {
   "cell_type": "code",
   "execution_count": null,
   "id": "c5a57207-0759-49f3-84ef-7ab96c0976a8",
   "metadata": {},
   "outputs": [],
   "source": [
    "print(a>10)\n",
    "print(b[1]>5)\n",
    "print(np.all(a>10)) #a의 모든 요소가 10보다 큰가?\n",
    "print(np.any(a>10)) #a의 요소 중 10보다 큰 것이 있는가?\n",
    "print(np.linspace(0,100,5,retstep=True))\n",
    "print(np.linspace(0,100,5,endpoint=True))\n",
    "print(np.linspace(0,100,5,endpoint=False))\n",
    "print(np.logspace(1,2,4))"
   ]
  }
 ],
 "metadata": {
  "kernelspec": {
   "display_name": "Python 3 (ipykernel)",
   "language": "python",
   "name": "python3"
  },
  "language_info": {
   "codemirror_mode": {
    "name": "ipython",
    "version": 3
   },
   "file_extension": ".py",
   "mimetype": "text/x-python",
   "name": "python",
   "nbconvert_exporter": "python",
   "pygments_lexer": "ipython3",
   "version": "3.12.9"
  }
 },
 "nbformat": 4,
 "nbformat_minor": 5
}
