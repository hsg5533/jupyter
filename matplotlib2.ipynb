{
 "cells": [
  {
   "cell_type": "code",
   "execution_count": null,
   "id": "2f0d4703",
   "metadata": {},
   "outputs": [],
   "source": [
    "# 매직 명령어\n",
    "# 그래프를 조작할 수 있음\n",
    "# 그래프 제목 오른쪽의 stop interation 버튼을 누르기 전까지 그래프 수정가능\n",
    "# %matplotlib nbagg\n",
    "# 생성되 닝후에는 조작할 수 없는 옵션\n",
    "\n",
    "%matplotlib inline\n",
    "import matplotlib\n",
    "import matplotlib.pyplot as plt\n",
    "import pandas as pd\n",
    "import numpy as np\n"
   ]
  },
  {
   "cell_type": "code",
   "execution_count": null,
   "id": "ea08d463",
   "metadata": {},
   "outputs": [],
   "source": [
    "# 난수 발생, 정규분포 난수 n개 생성\n",
    "# 시리즈 : 1차원 배열,데이터 프레임 : 2차원 배열\n",
    "# cumsum() :누적합\n",
    "s=pd.Series(np.random.randn(10).cumsum(), index=np.arange(0,100,10))\n",
    "s\n"
   ]
  },
  {
   "cell_type": "code",
   "execution_count": null,
   "id": "128b5ba4",
   "metadata": {},
   "outputs": [],
   "source": [
    "df=pd.DataFrame(np.random.randn(10,4),\n",
    "                columns=['A','B','C','D'],\n",
    "               index=np.arange(0,100,10))\n",
    "df"
   ]
  },
  {
   "cell_type": "code",
   "execution_count": null,
   "id": "083bc40f",
   "metadata": {},
   "outputs": [],
   "source": [
    "df.plot()"
   ]
  },
  {
   "cell_type": "code",
   "execution_count": null,
   "id": "7d94e528",
   "metadata": {},
   "outputs": [],
   "source": [
    "%matplotlib inline\n",
    "\n",
    "df[\"B\"].plot()\n",
    "df[\"C\"].plot()\n",
    "df[\"D\"].plot()"
   ]
  },
  {
   "cell_type": "code",
   "execution_count": null,
   "id": "08ba03db",
   "metadata": {},
   "outputs": [],
   "source": [
    "s2=pd.Series(np.random.rand(16),index=list('abcdefghijklmnop'))\n",
    "s2"
   ]
  },
  {
   "cell_type": "code",
   "execution_count": null,
   "id": "4d9ccc4c",
   "metadata": {},
   "outputs": [],
   "source": [
    "s2.plot()\n",
    "s2.plot(kind='bar')"
   ]
  },
  {
   "cell_type": "code",
   "execution_count": null,
   "id": "006058be",
   "metadata": {},
   "outputs": [],
   "source": [
    "s2.plot(kind='barh')"
   ]
  },
  {
   "cell_type": "code",
   "execution_count": null,
   "id": "cac9746a",
   "metadata": {},
   "outputs": [],
   "source": [
    "from matplotlib import rc, font_manager\n",
    "# 한글 처리를 위해 폰트 설정\n",
    "font_name=font_manager.FontProperties(fname=\"c:/Windows/Fonts/malgun.ttf\").get_name()\n",
    "rc('font',family=font_name)\n",
    "df2=pd.DataFrame(np.random.rand(6,4),\n",
    "                index=['one','two','three','four','five','six'],\n",
    "                columns=pd.Index(['A','B','C','D'],name=\"종류\"))\n",
    "df2"
   ]
  },
  {
   "cell_type": "code",
   "execution_count": null,
   "id": "8e62d241",
   "metadata": {},
   "outputs": [],
   "source": [
    "df2.plot(kind='barh',stacked=True)"
   ]
  },
  {
   "cell_type": "code",
   "execution_count": null,
   "id": "e2eb4be2",
   "metadata": {},
   "outputs": [],
   "source": [
    "# 히스토그램 :x변수가 가질 수 있는 값의 구간, 갯수를 막대 형태로 출력\n",
    "# 히스토그램은 값만 필요하고 인텍스는 필요하지 않음\n",
    "# normal() 정규분포\n",
    "s3=pd.Series(np.random.normal(0,100,size=200))\n",
    "s3.head()"
   ]
  },
  {
   "cell_type": "code",
   "execution_count": null,
   "id": "f73afc46",
   "metadata": {},
   "outputs": [],
   "source": [
    "# 음수 부호가 께지지 않도록 설정\n",
    "plt.rcParams['axes.unicode_minus']=False\n",
    "# 축 구간은 기본값으로 10개로 설정 됨\n",
    "#s3.hist()\n",
    "# 축 구간은 기본값으로 10개로 설정 됨\n",
    "#s3.hist(bins=50)\n",
    "s3.hist(bins=100)"
   ]
  },
  {
   "cell_type": "code",
   "execution_count": null,
   "id": "5cf65e90",
   "metadata": {},
   "outputs": [],
   "source": [
    "# 산점도 : 서로 다른 독립변수 x1,x2의 관계를 파악할 때 사용\n",
    "# normal(mu,sigma,size=(rows,cols))\n",
    "#mu :중앙값(median),sigma : 표준편차\n",
    "x1=np.random.normal(1,1,size=(100,1))\n",
    "x2=np.random.normal(-2,4,size=(100,1))\n",
    "# concatenate : 열방향 연결, axis=1 가로 방향 ,axis=0 세로방향\n",
    "x=np.concatenate((x1,x2),axis=1)\n",
    "# 첫 5행 출력\n",
    "print(x[:5])"
   ]
  },
  {
   "cell_type": "code",
   "execution_count": null,
   "id": "d4740215",
   "metadata": {},
   "outputs": [],
   "source": [
    "df3=pd.DataFrame(x,columns=[\"x1\",\"x2\"])\n",
    "df3.head()"
   ]
  },
  {
   "cell_type": "code",
   "execution_count": null,
   "id": "a84cf3c7",
   "metadata": {},
   "outputs": [],
   "source": [
    "# x1과 x2의 상관관계\n",
    "# x1(x축), x2(y축)\n",
    "# 양의 상관관계 : 산점도가 좌특하단에서 우측 상단으로\n",
    "# 음의 상관관계 : 산점도가 좌측상단에서 우측하단으로\n",
    "# 이 그래프에서 상관관계를 찾을 수 없음\n",
    "print(df3.x1.corr(df3.x2))\n",
    "plt.scatter(df3[\"x1\"],df3[\"x2\"])"
   ]
  },
  {
   "cell_type": "code",
   "execution_count": null,
   "id": "fa696956",
   "metadata": {
    "tags": []
   },
   "outputs": [],
   "source": [
    "x=np.array([1,2,3,4,5])\n",
    "y=np.array([10,10,20,20,40])\n",
    "data={'x':x, 'y':y}\n",
    "df=pd.DataFrame(data)\n",
    "df"
   ]
  },
  {
   "cell_type": "code",
   "execution_count": null,
   "id": "44560a1e",
   "metadata": {},
   "outputs": [],
   "source": [
    "print(df.x.corr(df.y))\n",
    "plt.scatter(df[\"x\"],df[\"y\"])"
   ]
  },
  {
   "cell_type": "code",
   "execution_count": null,
   "id": "add11baa",
   "metadata": {},
   "outputs": [],
   "source": [
    "import csv\n",
    "from datetime import datetime\n",
    "from matplotlib import pyplot as plt\n",
    "filename='data/temperature_2014.csv'\n",
    "with open(filename) as f:\n",
    "    reader=csv.reader(f)\n",
    "    header_row=next(reader)\n",
    "    dates, highs,lows=[],[],[]\n",
    "    for row in reader:\n",
    "        try:\n",
    "            # strftime : 날짜를 문자열로\n",
    "            # strptime : 문자열을 날짜로\n",
    "            current_date=datetime.strptime(row[0],\"%Y-%m-%d\")\n",
    "            high=int(row[1]) # 최고 온도\n",
    "            low=int(row[3]) # 최저 온도\n",
    "        except ValueError:\n",
    "            print(current_date,'missing date')\n",
    "        else: # 예외가 발생하지 않으면 리스트 추가\n",
    "            dates.append(current_date)\n",
    "            highs.append(high) \n",
    "            lows.append(low)\n",
    "            \n",
    "# 그래프 생성\n",
    "fig=plt.figure(dpi=128,figsize=(10,6))\n",
    "#  x축 dates, y축 highs, 색상 red # 투명도 0.5, 범위 :0.0~1.0\n",
    "plt.plot(dates,highs, c='red',alpha=0.5)\n",
    "plt.plot(dates,lows, c='blue',alpha=0.5)\n",
    "# 두개의 선 사이(highs~lows)를 색칠함, alpha=0.1 투명도 0.1\n",
    "plt.fill_between(dates,highs,lows,facecolor='blue',alpha=0.1)\n",
    "# 그래프 스타일\n",
    "plt.title('온도 통계',fontsize=20)\n",
    "plt.xlabel(\"기간\",fontsize=16)\n",
    "plt.ylabel(\"온도\",fontsize=16)\n",
    "plt.tick_params(axis='both',labelsize=16) # 눈금 표시\n",
    "plt.savefig('data/chart.png',dpi=400,bbox_inches='tight')\n",
    "plt.show()"
   ]
  },
  {
   "cell_type": "code",
   "execution_count": null,
   "id": "1cc28ebe",
   "metadata": {},
   "outputs": [],
   "source": [
    "plt.figure() \n",
    "plt.subplot(2,1,1) \n",
    "plt.plot([1,2,3,4], [1,2,3,4])\n",
    "plt.subplot(2,1,2)\n",
    "plt.plot([5,6,7,8],[5,6,7,8])\n",
    "plt.show()"
   ]
  },
  {
   "cell_type": "code",
   "execution_count": null,
   "id": "fea9a3ef",
   "metadata": {},
   "outputs": [],
   "source": [
    "plt.figure()\n",
    "plt.subplot(1, 2, 1)\n",
    "plt.plot([1,2,3,4], [1,2,3,4])\n",
    "plt.subplot(1,2,2)\n",
    "plt.plot([5,6,7,8],[5,6,7,8])\n",
    "plt.show()"
   ]
  },
  {
   "cell_type": "code",
   "execution_count": null,
   "id": "9dbfded4",
   "metadata": {},
   "outputs": [],
   "source": [
    "plt.plot([1,2,3,4], [1,2,3,4])\n",
    "plt.xlabel('x축')\n",
    "plt.ylabel('y축')\n",
    "plt.title('matplotlib 활용')  # 그래프 제목\n",
    "plt.text(3.5, 3.0, '평균:2.5') #그래프의 지정위치에 문자열 표시\n",
    "plt.grid(True) # 인덱스마다 격자를 나타냄\n",
    "plt.show()"
   ]
  }
 ],
 "metadata": {
  "kernelspec": {
   "display_name": "Python 3 (ipykernel)",
   "language": "python",
   "name": "python3"
  },
  "language_info": {
   "codemirror_mode": {
    "name": "ipython",
    "version": 3
   },
   "file_extension": ".py",
   "mimetype": "text/x-python",
   "name": "python",
   "nbconvert_exporter": "python",
   "pygments_lexer": "ipython3",
   "version": "3.12.9"
  }
 },
 "nbformat": 4,
 "nbformat_minor": 5
}
