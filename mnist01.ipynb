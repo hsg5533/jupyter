{
 "cells": [
  {
   "cell_type": "code",
   "execution_count": null,
   "id": "9d1afab1-2397-457f-8336-ef6eb600c6f7",
   "metadata": {
    "tags": []
   },
   "outputs": [],
   "source": [
    "import tensorflow as tf\n",
    "import numpy as np\n",
    "from tensorflow.keras.datasets import mnist"
   ]
  },
  {
   "cell_type": "code",
   "execution_count": null,
   "id": "7821bf69-3231-4d0a-ac56-924708a4ea2c",
   "metadata": {
    "tags": []
   },
   "outputs": [],
   "source": [
    "(x_train, t_train), (x_test, t_test) = mnist.load_data()\n",
    "\n",
    "print('\\n train shape = ', x_train.shape, ', train label shape = ', t_train.shape)\n",
    "print(' test shape = ', x_test.shape, ', test label shape =', t_test.shape)\n",
    "\n",
    "print('\\n train label = ', t_train)  # 학습데이터 정답 출력\n",
    "print(' test label  = ', t_test)     # 테스트 데이터 정답 출력"
   ]
  },
  {
   "cell_type": "code",
   "execution_count": null,
   "id": "fae8b341-16d7-40d7-9930-a7d568734824",
   "metadata": {
    "tags": []
   },
   "outputs": [],
   "source": [
    "import matplotlib.pyplot as plt\n",
    "\n",
    "# 100개의 이미지 출력\n",
    "plt.figure(figsize=(6, 8)) \n",
    "\n",
    "for index in range(25):    # 100 개 이미지 출력\n",
    "    plt.subplot(5, 5, index + 1)  # 10행 10열 \n",
    "    plt.imshow(x_train[index], cmap='gray') \n",
    "    plt.axis('off')   \n",
    "    plt.title(str(t_train[index]))\n",
    "plt.show()"
   ]
  },
  {
   "cell_type": "code",
   "execution_count": null,
   "id": "2fff8b25-f72c-4974-9a7f-573c68895fee",
   "metadata": {
    "tags": []
   },
   "outputs": [],
   "source": [
    "print(x_test[1])"
   ]
  },
  {
   "cell_type": "code",
   "execution_count": null,
   "id": "df4d3b04-20c8-4be1-91bb-6584963eac4b",
   "metadata": {
    "tags": []
   },
   "outputs": [],
   "source": [
    "plt.imshow(x_test[1], cmap='gray') \n",
    "plt.colorbar()   \n",
    "plt.show()"
   ]
  },
  {
   "cell_type": "code",
   "execution_count": null,
   "id": "21677add-cbef-4386-8d8d-fc4cfc7d9d86",
   "metadata": {
    "tags": []
   },
   "outputs": [],
   "source": [
    "plt.title('train label distribution')\n",
    "plt.grid()\n",
    "plt.xlabel('label')\n",
    "plt.hist(t_train, bins=10, rwidth=0.8)\n",
    "plt.show()"
   ]
  },
  {
   "cell_type": "code",
   "execution_count": null,
   "id": "fdfe7334-7218-492d-8cc4-6c46f830db4c",
   "metadata": {},
   "outputs": [],
   "source": [
    "# 학습데이터 정답 분포 확인\n",
    "label_distribution = np.zeros(10)\n",
    "\n",
    "for idx in range(len(t_train)):\n",
    "    label = int(t_train[idx])\n",
    "    label_distribution[label] +=1 # label_distribution[label] + 1\n",
    "\n",
    "print(label_distribution)"
   ]
  },
  {
   "cell_type": "code",
   "execution_count": null,
   "id": "3d55dc22-8853-4ef7-b522-c2080d41cc28",
   "metadata": {
    "tags": []
   },
   "outputs": [],
   "source": [
    "# 학습 데이터 / 테스트 데이터 정규화 (Normalization)\n",
    "x_train = (x_train - 0.0) / (255.0 - 0.0)\n",
    "x_test = (x_test - 0.0) / (255.0 - 0.0)\n",
    "print(x_train[0])"
   ]
  },
  {
   "cell_type": "code",
   "execution_count": null,
   "id": "ecf03efd-9cfb-40f9-8040-7ee1e49a87f2",
   "metadata": {},
   "outputs": [],
   "source": [
    "# 정답 데이터 원핫 인코딩 (One-Hot Encoding)\n",
    "#5,0\n",
    "t_train = tf.keras.utils.to_categorical(t_train, num_classes=10) #5:[0,0,0,0,0,1,0,0,0,0]\n",
    "t_test = tf.keras.utils.to_categorical(t_test, num_classes=10)"
   ]
  },
  {
   "cell_type": "code",
   "execution_count": null,
   "id": "e5bf603a-b292-4f5b-9a0d-3d5049b2b978",
   "metadata": {},
   "outputs": [],
   "source": [
    "#print(x_train[0])\n",
    "print(t_train[0])\n",
    "print(t_test[0])"
   ]
  },
  {
   "cell_type": "code",
   "execution_count": null,
   "id": "ac8e82ad-e4fa-4e79-ab9a-e436b933be16",
   "metadata": {},
   "outputs": [],
   "source": [
    "model = tf.keras.Sequential()\n",
    "model.add(tf.keras.layers.Flatten(input_shape=(28, 28))) #입력층\n",
    "model.add(tf.keras.layers.Dense(100, activation='relu')) #은닉층\n",
    "model.add(tf.keras.layers.Dense(10, activation='softmax')) #출력층"
   ]
  },
  {
   "cell_type": "code",
   "execution_count": null,
   "id": "8bf3e4d8-c095-4477-8220-0be1f4433c22",
   "metadata": {
    "tags": []
   },
   "outputs": [],
   "source": [
    "model.compile(optimizer=tf.keras.optimizers.Adam(learning_rate=1e-3),\n",
    "              loss='categorical_crossentropy', #분류할 것이 3개가지 이상이면 categorical_crossentropy을 사용\n",
    "              metrics=['accuracy'])\n",
    "\n",
    "model.summary()"
   ]
  },
  {
   "cell_type": "code",
   "execution_count": null,
   "id": "8490d57d-1dc6-4aec-b269-452f64d15b9c",
   "metadata": {
    "tags": []
   },
   "outputs": [],
   "source": [
    "#오버피팅을 확인하기 위해서 validation데이터를 할당함\n",
    "hist = model.fit(x_train, t_train, epochs=30, validation_split=0.3) "
   ]
  },
  {
   "cell_type": "code",
   "execution_count": null,
   "id": "8034659b-de76-4edb-823a-bf9162f01aa1",
   "metadata": {},
   "outputs": [],
   "source": [
    "model.evaluate(x_test, t_test)"
   ]
  },
  {
   "cell_type": "code",
   "execution_count": null,
   "id": "194505fe-71d8-4520-9d56-44cc70f42227",
   "metadata": {},
   "outputs": [],
   "source": [
    "predictions=model.predict(x_test)"
   ]
  },
  {
   "cell_type": "code",
   "execution_count": null,
   "id": "d4de0598-e3d3-4037-ace3-cd952642671a",
   "metadata": {},
   "outputs": [],
   "source": [
    "predictions[5]"
   ]
  },
  {
   "cell_type": "code",
   "execution_count": null,
   "id": "9a2c006d-6771-49f6-bca4-47913eb45784",
   "metadata": {},
   "outputs": [],
   "source": [
    "#argmax를 사용하여 predictions[5]에서의 제일 큰 값을 받음\n",
    "label=np.argmax(predictions[5])\n",
    "label"
   ]
  },
  {
   "cell_type": "code",
   "execution_count": null,
   "id": "d433331a-9374-46fa-93c5-2658d9965902",
   "metadata": {
    "tags": []
   },
   "outputs": [],
   "source": [
    "plt.imshow(x_test[5], cmap='gray') \n",
    "plt.colorbar()   \n",
    "plt.show()"
   ]
  },
  {
   "cell_type": "code",
   "execution_count": null,
   "id": "cd982e3b-1bab-48e3-81b5-34e75f0481fd",
   "metadata": {
    "tags": []
   },
   "outputs": [],
   "source": [
    "plt.title('Loss')\n",
    "plt.xlabel('epochs')\n",
    "plt.ylabel('loss')\n",
    "plt.grid()\n",
    "\n",
    "plt.plot(hist.history['loss'], label='train loss')\n",
    "plt.plot(hist.history['val_loss'], label='validation loss')\n",
    "\n",
    "plt.legend(loc='best')\n",
    "plt.show()"
   ]
  },
  {
   "cell_type": "code",
   "execution_count": null,
   "id": "ad023253-bf23-4891-a96e-a7ac2a464174",
   "metadata": {
    "tags": []
   },
   "outputs": [],
   "source": [
    "plt.title('Accuracy')\n",
    "plt.xlabel('epochs')\n",
    "plt.ylabel('accuracy')\n",
    "plt.grid()\n",
    "\n",
    "plt.plot(hist.history['accuracy'], label='train accuracy')\n",
    "plt.plot(hist.history['val_accuracy'], label='validation accuracy')\n",
    "\n",
    "plt.legend(loc='best')\n",
    "plt.show()"
   ]
  },
  {
   "cell_type": "code",
   "execution_count": null,
   "id": "9120a71b-85f7-497a-9a55-d798c927641c",
   "metadata": {},
   "outputs": [],
   "source": [
    "from sklearn.metrics import confusion_matrix\n",
    "import seaborn as sns"
   ]
  },
  {
   "cell_type": "code",
   "execution_count": null,
   "id": "3a6ed91b-0e75-489c-ac98-8e5dcfd09187",
   "metadata": {},
   "outputs": [],
   "source": [
    "plt.figure(figsize=(6, 6))\n",
    "\n",
    "predicted_value = model.predict(x_test)\n",
    "\n",
    "#confusion_matrix를 사용하면 정확하게 몇 개가 분류되었는지 확인할 수 있다.\n",
    "cm = confusion_matrix(np.argmax(t_test, axis=-1),np.argmax(predicted_value, axis=-1))\n",
    "\n",
    "sns.heatmap(cm, annot=True, fmt='d')\n",
    "plt.show()"
   ]
  },
  {
   "cell_type": "code",
   "execution_count": null,
   "id": "dec9c20a-2c4f-4101-a144-2b9df0bf9881",
   "metadata": {},
   "outputs": [],
   "source": [
    "print(cm)\n",
    "print('\\n')\n",
    "\n",
    "for i in range(10):\n",
    "    print(('label = %d\\t(%d/%d)\\taccuracy = %.3f')%(i, np.max(cm[i]), np.sum(cm[i]), np.max(cm[i])/np.sum(cm[i])))"
   ]
  },
  {
   "cell_type": "code",
   "execution_count": null,
   "id": "ad5729a1-fb3a-4419-9478-f3d6eba18845",
   "metadata": {},
   "outputs": [],
   "source": [
    "# 정답 및 예측 값 분포 확인\n",
    "label_distribution = np.zeros(10)\n",
    "prediction_distribution = np.zeros(10)\n",
    "\n",
    "for idx in range(len(t_test)):\n",
    "\n",
    "    label = int(np.argmax(t_test[idx]))\n",
    "\n",
    "    label_distribution[label] = label_distribution[label] + 1\n",
    "\n",
    "    prediction = int(np.argmax(predicted_value[idx]))\n",
    "\n",
    "    prediction_distribution[prediction] = prediction_distribution[prediction] + 1\n",
    "\n",
    "\n",
    "print(label_distribution)\n",
    "print(prediction_distribution)"
   ]
  }
 ],
 "metadata": {
  "kernelspec": {
   "display_name": "Python 3 (ipykernel)",
   "language": "python",
   "name": "python3"
  },
  "language_info": {
   "codemirror_mode": {
    "name": "ipython",
    "version": 3
   },
   "file_extension": ".py",
   "mimetype": "text/x-python",
   "name": "python",
   "nbconvert_exporter": "python",
   "pygments_lexer": "ipython3",
   "version": "3.12.9"
  }
 },
 "nbformat": 4,
 "nbformat_minor": 5
}
