{
 "cells": [
  {
   "cell_type": "code",
   "execution_count": null,
   "id": "6974eb96-8977-4cc5-858d-44fe83675c31",
   "metadata": {},
   "outputs": [],
   "source": [
    "import tensorflow as tf\n",
    "import numpy as np\n",
    "from tensorflow.keras.datasets import fashion_mnist"
   ]
  },
  {
   "cell_type": "code",
   "execution_count": null,
   "id": "1324944a-c777-4065-94b7-99a34c8c4076",
   "metadata": {},
   "outputs": [],
   "source": [
    "(x_train, t_train), (x_test, t_test) = fashion_mnist.load_data()\n",
    "\n",
    "print('\\n train shape = ', x_train.shape, ', train label shape = ', t_train.shape)\n",
    "print(' test shape = ', x_test.shape, ', test label shape =', t_test.shape)\n",
    "\n",
    "print('\\n train label = ', t_train)  # 학습데이터 정답 출력\n",
    "print(' test label  = ', t_test)     # 테스트 데이터 정답 출력"
   ]
  },
  {
   "cell_type": "code",
   "execution_count": null,
   "id": "3c8f4715-162f-4c03-9708-01d62d8e1b4e",
   "metadata": {},
   "outputs": [],
   "source": [
    "import matplotlib.pyplot as plt\n",
    "\n",
    "# 100개의 이미지 출력\n",
    "plt.figure(figsize=(6, 8)) \n",
    "\n",
    "for index in range(25):    # 100 개 이미지 출력\n",
    "    plt.subplot(5, 5, index + 1)  # 10행 10열 \n",
    "    plt.imshow(x_train[index], cmap='gray') \n",
    "    plt.axis('off')   \n",
    "    plt.title(str(t_train[index]))\n",
    "plt.show()"
   ]
  },
  {
   "cell_type": "markdown",
   "id": "975b1481-c8c5-4230-91a4-2f2914f6104a",
   "metadata": {},
   "source": [
    "- 0: T-shirt/top\n",
    "- 1: Trouse\n",
    "- 2: Pullover\n",
    "- 3: Dress\n",
    "- 4: Coat\n",
    "- 5: Sandal\n",
    "- 6: shirt\n",
    "- 7: Sneaker\n",
    "- 8: Bag\n",
    "- 9: Ankle Boot"
   ]
  },
  {
   "cell_type": "code",
   "execution_count": null,
   "id": "daf38ef9-88f9-4f37-a953-57647a3efab1",
   "metadata": {},
   "outputs": [],
   "source": [
    "print(x_test[1])"
   ]
  },
  {
   "cell_type": "code",
   "execution_count": null,
   "id": "9cf3e873-8d9f-4be2-94fe-12bd83d04da6",
   "metadata": {},
   "outputs": [],
   "source": [
    "plt.imshow(x_test[1], cmap='gray') \n",
    "plt.colorbar()   \n",
    "plt.show()"
   ]
  },
  {
   "cell_type": "code",
   "execution_count": null,
   "id": "c46cbce2-178f-40db-8d8f-e8c3a8d48509",
   "metadata": {},
   "outputs": [],
   "source": [
    "plt.title('train label distribution')\n",
    "plt.grid()\n",
    "plt.xlabel('label')\n",
    "plt.hist(t_train, bins=10, rwidth=0.8)\n",
    "plt.show()"
   ]
  },
  {
   "cell_type": "code",
   "execution_count": null,
   "id": "6b93555f-94f8-46be-8f9a-535d988c501a",
   "metadata": {},
   "outputs": [],
   "source": [
    "# 학습데이터 정답 분포 확인\n",
    "label_distribution = np.zeros(10)\n",
    "\n",
    "for idx in range(len(t_train)):\n",
    "    label = int(t_train[idx])\n",
    "    label_distribution[label] +=1 # label_distribution[label] + 1\n",
    "\n",
    "print(label_distribution)"
   ]
  },
  {
   "cell_type": "code",
   "execution_count": null,
   "id": "db2e3ab5-8464-4be8-afc5-7d4f9352d51b",
   "metadata": {},
   "outputs": [],
   "source": [
    "# 학습 데이터 / 테스트 데이터 정규화 (Normalization)\n",
    "x_train = (x_train - 0.0) / (255.0 - 0.0)\n",
    "x_test = (x_test - 0.0) / (255.0 - 0.0)\n",
    "print(x_train[0])"
   ]
  },
  {
   "cell_type": "code",
   "execution_count": null,
   "id": "f2ec2331-0545-4de1-a197-b2eef2ad9c68",
   "metadata": {},
   "outputs": [],
   "source": [
    "# 정답 데이터 원핫 인코딩 (One-Hot Encoding)\n",
    "#5,0\n",
    "t_train = tf.keras.utils.to_categorical(t_train, num_classes=10) #5:[0,0,0,0,0,1,0,0,0,0]\n",
    "t_test = tf.keras.utils.to_categorical(t_test, num_classes=10)"
   ]
  },
  {
   "cell_type": "code",
   "execution_count": null,
   "id": "309499c3-114d-416f-b9ee-889e2c67baa1",
   "metadata": {},
   "outputs": [],
   "source": [
    "#print(x_train[0])\n",
    "print(t_train[0])\n",
    "print(t_test[0])"
   ]
  },
  {
   "cell_type": "code",
   "execution_count": null,
   "id": "1d1c9d01-750d-4078-b79e-5dda76ba2a8e",
   "metadata": {},
   "outputs": [],
   "source": [
    "model = tf.keras.Sequential()\n",
    "model.add(tf.keras.layers.Flatten(input_shape=(28, 28))) #입력층\n",
    "model.add(tf.keras.layers.Dense(100, activation='relu')) #은닉층\n",
    "model.add(tf.keras.layers.Dense(10, activation='softmax')) #출력층"
   ]
  },
  {
   "cell_type": "code",
   "execution_count": null,
   "id": "dc0f100a-5177-4969-8f5e-7dd4c871794c",
   "metadata": {},
   "outputs": [],
   "source": [
    "model.compile(optimizer=tf.keras.optimizers.Adam(learning_rate=1e-3),\n",
    "              loss='categorical_crossentropy', #분류할 것이 3개가지 이상이면 categorical_crossentropy을 사용\n",
    "              metrics=['accuracy'])\n",
    "\n",
    "model.summary()"
   ]
  },
  {
   "cell_type": "code",
   "execution_count": null,
   "id": "7c6ad3f1-9e66-4469-b674-630b67555289",
   "metadata": {},
   "outputs": [],
   "source": [
    "#오버피팅을 확인하기 위해서 validation데이터를 할당함\n",
    "hist = model.fit(x_train, t_train, epochs=30, validation_split=0.3) "
   ]
  },
  {
   "cell_type": "code",
   "execution_count": null,
   "id": "0af524a5-9bd5-40d3-82c2-f662bd393eb4",
   "metadata": {},
   "outputs": [],
   "source": [
    "model.evaluate(x_test, t_test)"
   ]
  },
  {
   "cell_type": "code",
   "execution_count": null,
   "id": "00a53fb7-8593-4cbf-9e28-db179c775943",
   "metadata": {},
   "outputs": [],
   "source": [
    "predictions=model.predict(x_test)"
   ]
  },
  {
   "cell_type": "code",
   "execution_count": null,
   "id": "86784d73-1e9c-4170-b30c-960d27b8fcf2",
   "metadata": {},
   "outputs": [],
   "source": [
    "predictions[5]"
   ]
  },
  {
   "cell_type": "code",
   "execution_count": null,
   "id": "9d5555ca-a1ad-4d26-87f8-122d1d26d30e",
   "metadata": {},
   "outputs": [],
   "source": [
    "#argmax를 사용하여 predictions[5]에서의 제일 큰 값을 받음\n",
    "label=np.argmax(predictions[5])\n",
    "label"
   ]
  },
  {
   "cell_type": "code",
   "execution_count": null,
   "id": "95fdc68e-fab2-4991-8d1f-e2504788bb9e",
   "metadata": {},
   "outputs": [],
   "source": [
    "plt.imshow(x_test[5], cmap='gray') \n",
    "plt.colorbar()   \n",
    "plt.show()"
   ]
  },
  {
   "cell_type": "code",
   "execution_count": null,
   "id": "11bcf996-4091-4378-92a6-eaf25f4123bb",
   "metadata": {},
   "outputs": [],
   "source": [
    "plt.title('Loss')\n",
    "plt.xlabel('epochs')\n",
    "plt.ylabel('loss')\n",
    "plt.grid()\n",
    "\n",
    "plt.plot(hist.history['loss'], label='train loss')\n",
    "plt.plot(hist.history['val_loss'], label='validation loss')\n",
    "\n",
    "plt.legend(loc='best')\n",
    "plt.show()"
   ]
  },
  {
   "cell_type": "code",
   "execution_count": null,
   "id": "8d0c43d1-6705-4276-882f-bca81e3487c7",
   "metadata": {},
   "outputs": [],
   "source": [
    "plt.title('Accuracy')\n",
    "plt.xlabel('epochs')\n",
    "plt.ylabel('accuracy')\n",
    "plt.grid()\n",
    "\n",
    "plt.plot(hist.history['accuracy'], label='train accuracy')\n",
    "plt.plot(hist.history['val_accuracy'], label='validation accuracy')\n",
    "\n",
    "plt.legend(loc='best')\n",
    "plt.show()"
   ]
  },
  {
   "cell_type": "code",
   "execution_count": null,
   "id": "63a6d0e7-a244-4d61-8ef0-b0164609aaa3",
   "metadata": {},
   "outputs": [],
   "source": [
    "from sklearn.metrics import confusion_matrix\n",
    "import seaborn as sns"
   ]
  },
  {
   "cell_type": "code",
   "execution_count": null,
   "id": "f3e4866e-bec5-4bc2-85ba-e42d8e27531f",
   "metadata": {},
   "outputs": [],
   "source": [
    "plt.figure(figsize=(6, 6))\n",
    "\n",
    "predicted_value = model.predict(x_test)\n",
    "\n",
    "#confusion_matrix를 사용하면 정확하게 몇 개가 분류되었는지 확인할 수 있다.\n",
    "cm = confusion_matrix(np.argmax(t_test, axis=-1),np.argmax(predicted_value, axis=-1))\n",
    "\n",
    "sns.heatmap(cm, annot=True, fmt='d')\n",
    "plt.show()"
   ]
  }
 ],
 "metadata": {
  "kernelspec": {
   "display_name": "Python 3 (ipykernel)",
   "language": "python",
   "name": "python3"
  },
  "language_info": {
   "codemirror_mode": {
    "name": "ipython",
    "version": 3
   },
   "file_extension": ".py",
   "mimetype": "text/x-python",
   "name": "python",
   "nbconvert_exporter": "python",
   "pygments_lexer": "ipython3",
   "version": "3.12.9"
  }
 },
 "nbformat": 4,
 "nbformat_minor": 5
}
