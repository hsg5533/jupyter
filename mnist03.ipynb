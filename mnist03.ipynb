{
 "cells": [
  {
   "cell_type": "code",
   "execution_count": null,
   "id": "a5f62ac5-e217-460a-b546-d7aa0d4adf96",
   "metadata": {},
   "outputs": [],
   "source": [
    "import tensorflow as tf\n",
    "import numpy as np\n",
    "from tensorflow.keras.datasets import fashion_mnist\n",
    "from tensorflow.keras.models import Sequential\n",
    "from tensorflow.keras.layers import Conv2D,MaxPool2D,Flatten,Dense,Dropout"
   ]
  },
  {
   "cell_type": "code",
   "execution_count": null,
   "id": "71e52065-4541-4393-8011-dbcce28a641d",
   "metadata": {},
   "outputs": [],
   "source": [
    "(x_train, y_train), (x_test, y_test) = fashion_mnist.load_data()\n",
    "\n",
    "#(데이터 수,행,열,색상 종류) 색상종류: 1은 흑백,3은 컬러 데이터 수: -1로 설정하면 원래 데이터의 갯수를 그대로 사용\n",
    "x_train=x_train.reshape(-1,28,28,1) \n",
    "x_test=x_test.reshape(-1,28,28,1)\n",
    "\n",
    "print('\\n train shape = ', x_train.shape, ', train label shape = ', x_test.shape)\n",
    "print(' test shape = ', y_train.shape, ', test label shape =', y_test.shape)\n",
    "\n",
    "x_train=x_train.astype(np.float32)/255.0\n",
    "x_test=x_test.astype(np.float32)/255.0"
   ]
  },
  {
   "cell_type": "code",
   "execution_count": null,
   "id": "975628a5-7ced-47cc-ada5-747753626204",
   "metadata": {},
   "outputs": [],
   "source": [
    "cnn=Sequential()\n",
    "#컨볼루션 층\n",
    "#필터 사이즈를 3x3으로 설정하고 필터 갯수를 32개로 설정\n",
    "cnn.add(Conv2D(input_shape=(28,28,1),kernel_size=(3,3),filters=32,activation='relu'))\n",
    "#필터 사이즈를 3x3으로 설정하고 필터 갯수를 64개로 설정\n",
    "cnn.add(Conv2D(kernel_size=(3,3),filters=64,activation='relu'))\n",
    "cnn.add(MaxPool2D(pool_size=(2,2)))\n",
    "cnn.add(Dropout(0.25))\n",
    "\n",
    "#컨볼루션 층이 끝나면 3차원을 1차원으로 만든다.\n",
    "cnn.add(Flatten())\n",
    "\n",
    "#출력층\n",
    "cnn.add(Dense(128,activation='relu'))\n",
    "cnn.add(Dropout(0.5))\n",
    "cnn.add(Dense(10,activation='softmax'))"
   ]
  },
  {
   "cell_type": "code",
   "execution_count": null,
   "id": "885afdef-a552-4765-b59b-4fd457d652e6",
   "metadata": {},
   "outputs": [],
   "source": [
    "#Optimizer는 딥러닝에서 Network가 빠르고 정확하게 학습하는 것을 목표로 한다. \n",
    "#주로 Gradient Descent Algorithm을 기반으로한 SGD에서 변형된 여러종류의 Optimizer가 사용되고 있다.\n",
    "#Adam은 SGD에서 변형된 optimizer의 한 종류이다.\n",
    "cnn.compile(loss='sparse_categorical_crossentropy',optimizer=tf.keras.optimizers.Adam(),metrics=['accuracy'])\n",
    "cnn.summary()"
   ]
  },
  {
   "cell_type": "code",
   "execution_count": null,
   "id": "bb659b2a-f4b7-4e91-8e37-0d776656f5ac",
   "metadata": {},
   "outputs": [],
   "source": [
    "hist=cnn.fit(x_train,y_train,batch_size=128,epochs=30,validation_data=(x_test,y_test))\n",
    "#468.75=60000/128, batch_size:전체 데이터를 batch_size만큼 나누어 그 결과 만큼 진행 후 W,b관 업데이트"
   ]
  },
  {
   "cell_type": "code",
   "execution_count": null,
   "id": "ff5b02d0-d265-4f64-9a13-842dd4b37613",
   "metadata": {},
   "outputs": [],
   "source": [
    "cnn.evaluate(x_test,y_test)"
   ]
  },
  {
   "cell_type": "code",
   "execution_count": null,
   "id": "5498beb7-c9d9-4a55-9eef-1eb72c2a9ad5",
   "metadata": {},
   "outputs": [],
   "source": [
    "import matplotlib.pyplot as plt\n",
    "plt.plot(hist.history['accuracy'])\n",
    "plt.plot(hist.history['val_accuracy'])\n",
    "plt.title('Accuracy Trend')\n",
    "plt.ylabel('accuracy')\n",
    "plt.xlabel('epoch')\n",
    "plt.legend(['train','validation'],loc='best')\n",
    "plt.grid()\n",
    "plt.show()"
   ]
  },
  {
   "cell_type": "code",
   "execution_count": null,
   "id": "c1dc4ac2-7344-4688-9989-a5fbca168e82",
   "metadata": {},
   "outputs": [],
   "source": [
    "plt.plot(hist.history['loss'])\n",
    "plt.plot(hist.history['val_loss'])\n",
    "plt.title('Loss Trend')\n",
    "plt.ylabel('loss')\n",
    "plt.xlabel('epoch')\n",
    "plt.legend(['train','validation'],loc='best')\n",
    "plt.grid()\n",
    "plt.show()"
   ]
  }
 ],
 "metadata": {
  "kernelspec": {
   "display_name": "Python 3 (ipykernel)",
   "language": "python",
   "name": "python3"
  },
  "language_info": {
   "codemirror_mode": {
    "name": "ipython",
    "version": 3
   },
   "file_extension": ".py",
   "mimetype": "text/x-python",
   "name": "python",
   "nbconvert_exporter": "python",
   "pygments_lexer": "ipython3",
   "version": "3.12.9"
  }
 },
 "nbformat": 4,
 "nbformat_minor": 5
}
