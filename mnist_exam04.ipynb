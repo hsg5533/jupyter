{
 "cells": [
  {
   "cell_type": "code",
   "execution_count": 1,
   "id": "ba47b755-c41d-4396-a5c9-cd33252b8754",
   "metadata": {},
   "outputs": [],
   "source": [
    "import numpy as np\n",
    "import tensorflow as tf\n",
    "from tensorflow.keras.datasets import mnist\n",
    "from tensorflow.keras.models import Sequential\n",
    "from tensorflow.keras.layers import Conv2D, MaxPool2D, Flatten, Dense, Dropout"
   ]
  },
  {
   "cell_type": "code",
   "execution_count": 2,
   "id": "441ce6e6-cc81-476d-9a07-4417ec9fe37c",
   "metadata": {},
   "outputs": [
    {
     "name": "stdout",
     "output_type": "stream",
     "text": [
      "(60000, 28, 28, 1) (10000, 28, 28, 1)\n",
      "(60000,) (10000,)\n"
     ]
    }
   ],
   "source": [
    "(x_train, y_train),(x_test, y_test) = mnist.load_data()\n",
    "\n",
    "x_train=x_train.reshape(-1, 28, 28, 1)\n",
    "x_test=x_test.reshape(-1, 28, 28, 1)\n",
    "\n",
    "print(x_train.shape, x_test.shape)\n",
    "print(y_train.shape, y_test.shape)\n",
    "\n",
    "x_train = x_train.astype(np.float32) / 255.0\n",
    "x_test = x_test.astype(np.float32) / 255.0"
   ]
  },
  {
   "cell_type": "code",
   "execution_count": 3,
   "id": "2b1a0542-ad9c-4d80-b3d5-83e188f633f2",
   "metadata": {},
   "outputs": [],
   "source": [
    "cnn = Sequential()\n",
    "\n",
    "cnn.add(Conv2D(input_shape=(28,28,1), kernel_size=(3,3),\n",
    "               filters=32, activation='relu'))\n",
    "cnn.add(Conv2D(kernel_size=(3,3), filters=64, activation='relu'))\n",
    "cnn.add(MaxPool2D(pool_size=(2,2)))\n",
    "cnn.add(Dropout(0.25))\n",
    "\n",
    "cnn.add(Flatten())\n",
    "\n",
    "cnn.add(Dense(128, activation='relu'))\n",
    "cnn.add(Dropout(0.5))\n",
    "cnn.add(Dense(10, activation='softmax'))"
   ]
  },
  {
   "cell_type": "code",
   "execution_count": 4,
   "id": "58cda55b-e276-42c6-8d80-c5fd6d9e36d4",
   "metadata": {},
   "outputs": [
    {
     "name": "stdout",
     "output_type": "stream",
     "text": [
      "Model: \"sequential\"\n",
      "_________________________________________________________________\n",
      " Layer (type)                Output Shape              Param #   \n",
      "=================================================================\n",
      " conv2d (Conv2D)             (None, 26, 26, 32)        320       \n",
      "                                                                 \n",
      " conv2d_1 (Conv2D)           (None, 24, 24, 64)        18496     \n",
      "                                                                 \n",
      " max_pooling2d (MaxPooling2D  (None, 12, 12, 64)       0         \n",
      " )                                                               \n",
      "                                                                 \n",
      " dropout (Dropout)           (None, 12, 12, 64)        0         \n",
      "                                                                 \n",
      " flatten (Flatten)           (None, 9216)              0         \n",
      "                                                                 \n",
      " dense (Dense)               (None, 128)               1179776   \n",
      "                                                                 \n",
      " dropout_1 (Dropout)         (None, 128)               0         \n",
      "                                                                 \n",
      " dense_1 (Dense)             (None, 10)                1290      \n",
      "                                                                 \n",
      "=================================================================\n",
      "Total params: 1,199,882\n",
      "Trainable params: 1,199,882\n",
      "Non-trainable params: 0\n",
      "_________________________________________________________________\n"
     ]
    }
   ],
   "source": [
    "cnn.compile(loss='sparse_categorical_crossentropy',\n",
    "            optimizer=tf.keras.optimizers.Adam(), metrics=['accuracy'])\n",
    "\n",
    "cnn.summary()"
   ]
  },
  {
   "cell_type": "code",
   "execution_count": 5,
   "id": "f6c746cc-3577-4191-bd12-0b7c7cacf3f3",
   "metadata": {},
   "outputs": [
    {
     "name": "stdout",
     "output_type": "stream",
     "text": [
      "Epoch 1/30\n",
      "469/469 [==============================] - 64s 136ms/step - loss: 0.2436 - accuracy: 0.9253 - val_loss: 0.0512 - val_accuracy: 0.9836\n",
      "Epoch 2/30\n",
      "469/469 [==============================] - 51s 108ms/step - loss: 0.0877 - accuracy: 0.9741 - val_loss: 0.0415 - val_accuracy: 0.9869\n",
      "Epoch 3/30\n",
      "469/469 [==============================] - 50s 108ms/step - loss: 0.0637 - accuracy: 0.9808 - val_loss: 0.0338 - val_accuracy: 0.9894\n",
      "Epoch 4/30\n",
      "469/469 [==============================] - 51s 109ms/step - loss: 0.0543 - accuracy: 0.9831 - val_loss: 0.0292 - val_accuracy: 0.9901\n",
      "Epoch 5/30\n",
      "469/469 [==============================] - 50s 107ms/step - loss: 0.0455 - accuracy: 0.9859 - val_loss: 0.0296 - val_accuracy: 0.9906\n",
      "Epoch 6/30\n",
      "469/469 [==============================] - 50s 107ms/step - loss: 0.0415 - accuracy: 0.9869 - val_loss: 0.0277 - val_accuracy: 0.9907\n",
      "Epoch 7/30\n",
      "469/469 [==============================] - 51s 108ms/step - loss: 0.0341 - accuracy: 0.9891 - val_loss: 0.0250 - val_accuracy: 0.9920\n",
      "Epoch 8/30\n",
      "469/469 [==============================] - 51s 108ms/step - loss: 0.0312 - accuracy: 0.9902 - val_loss: 0.0273 - val_accuracy: 0.9915\n",
      "Epoch 9/30\n",
      "469/469 [==============================] - 50s 107ms/step - loss: 0.0281 - accuracy: 0.9909 - val_loss: 0.0268 - val_accuracy: 0.9919\n",
      "Epoch 10/30\n",
      "469/469 [==============================] - 51s 108ms/step - loss: 0.0270 - accuracy: 0.9915 - val_loss: 0.0294 - val_accuracy: 0.9916\n",
      "Epoch 11/30\n",
      "469/469 [==============================] - 51s 108ms/step - loss: 0.0231 - accuracy: 0.9928 - val_loss: 0.0257 - val_accuracy: 0.9922\n",
      "Epoch 12/30\n",
      "469/469 [==============================] - 50s 107ms/step - loss: 0.0224 - accuracy: 0.9927 - val_loss: 0.0238 - val_accuracy: 0.9932\n",
      "Epoch 13/30\n",
      "469/469 [==============================] - 51s 108ms/step - loss: 0.0215 - accuracy: 0.9931 - val_loss: 0.0254 - val_accuracy: 0.9928\n",
      "Epoch 14/30\n",
      "469/469 [==============================] - 50s 107ms/step - loss: 0.0192 - accuracy: 0.9936 - val_loss: 0.0275 - val_accuracy: 0.9925\n",
      "Epoch 15/30\n",
      "469/469 [==============================] - 51s 109ms/step - loss: 0.0199 - accuracy: 0.9936 - val_loss: 0.0270 - val_accuracy: 0.9933\n",
      "Epoch 16/30\n",
      "469/469 [==============================] - 55s 116ms/step - loss: 0.0175 - accuracy: 0.9942 - val_loss: 0.0240 - val_accuracy: 0.9935\n",
      "Epoch 17/30\n",
      "469/469 [==============================] - 53s 113ms/step - loss: 0.0146 - accuracy: 0.9951 - val_loss: 0.0301 - val_accuracy: 0.9923\n",
      "Epoch 18/30\n",
      "469/469 [==============================] - 55s 116ms/step - loss: 0.0150 - accuracy: 0.9950 - val_loss: 0.0273 - val_accuracy: 0.9927\n",
      "Epoch 19/30\n",
      "469/469 [==============================] - 54s 115ms/step - loss: 0.0158 - accuracy: 0.9948 - val_loss: 0.0288 - val_accuracy: 0.9933\n",
      "Epoch 20/30\n",
      "469/469 [==============================] - 52s 110ms/step - loss: 0.0126 - accuracy: 0.9957 - val_loss: 0.0297 - val_accuracy: 0.9926\n",
      "Epoch 21/30\n",
      "469/469 [==============================] - 51s 108ms/step - loss: 0.0136 - accuracy: 0.9952 - val_loss: 0.0271 - val_accuracy: 0.9940\n",
      "Epoch 22/30\n",
      "469/469 [==============================] - 51s 110ms/step - loss: 0.0137 - accuracy: 0.9951 - val_loss: 0.0272 - val_accuracy: 0.9933\n",
      "Epoch 23/30\n",
      "469/469 [==============================] - 51s 109ms/step - loss: 0.0131 - accuracy: 0.9955 - val_loss: 0.0293 - val_accuracy: 0.9928\n",
      "Epoch 24/30\n",
      "469/469 [==============================] - 51s 110ms/step - loss: 0.0118 - accuracy: 0.9961 - val_loss: 0.0305 - val_accuracy: 0.9931\n",
      "Epoch 25/30\n",
      "469/469 [==============================] - 52s 111ms/step - loss: 0.0117 - accuracy: 0.9960 - val_loss: 0.0301 - val_accuracy: 0.9932\n",
      "Epoch 26/30\n",
      "469/469 [==============================] - 52s 111ms/step - loss: 0.0118 - accuracy: 0.9960 - val_loss: 0.0311 - val_accuracy: 0.9932\n",
      "Epoch 27/30\n",
      "469/469 [==============================] - 51s 109ms/step - loss: 0.0104 - accuracy: 0.9963 - val_loss: 0.0345 - val_accuracy: 0.9939\n",
      "Epoch 28/30\n",
      "469/469 [==============================] - 52s 111ms/step - loss: 0.0115 - accuracy: 0.9962 - val_loss: 0.0269 - val_accuracy: 0.9938\n",
      "Epoch 29/30\n",
      "469/469 [==============================] - 58s 123ms/step - loss: 0.0092 - accuracy: 0.9969 - val_loss: 0.0341 - val_accuracy: 0.9934\n",
      "Epoch 30/30\n",
      "469/469 [==============================] - 100s 214ms/step - loss: 0.0109 - accuracy: 0.9968 - val_loss: 0.0308 - val_accuracy: 0.9932\n"
     ]
    }
   ],
   "source": [
    "hist = cnn.fit(x_train, y_train, batch_size=128, \n",
    "               epochs=30, validation_data=(x_test, y_test))"
   ]
  },
  {
   "cell_type": "code",
   "execution_count": 6,
   "id": "0ba69a4f-abb8-4b04-ac1e-52b8b536f86d",
   "metadata": {},
   "outputs": [
    {
     "name": "stdout",
     "output_type": "stream",
     "text": [
      "313/313 [==============================] - 5s 16ms/step - loss: 0.0308 - accuracy: 0.9932\n"
     ]
    },
    {
     "data": {
      "text/plain": [
       "[0.030811820179224014, 0.9932000041007996]"
      ]
     },
     "execution_count": 6,
     "metadata": {},
     "output_type": "execute_result"
    }
   ],
   "source": [
    "cnn.evaluate(x_test, y_test)"
   ]
  },
  {
   "cell_type": "code",
   "execution_count": 7,
   "id": "aee01b43-b1a2-41aa-81cc-671796319866",
   "metadata": {},
   "outputs": [
    {
     "data": {
      "image/png": "[encoded data removed]",
      "text/plain": [
       "<Figure size 432x288 with 1 Axes>"
      ]
     },
     "metadata": {
      "needs_background": "light"
     },
     "output_type": "display_data"
    }
   ],
   "source": [
    "import matplotlib.pyplot as plt\n",
    "\n",
    "plt.plot(hist.history['accuracy'])\n",
    "plt.plot(hist.history['val_accuracy'])\n",
    "plt.title('Accuracy Trend')\n",
    "plt.ylabel('accuracy')\n",
    "plt.xlabel('epoch')\n",
    "plt.legend(['train','validation'], loc='best')\n",
    "plt.grid()\n",
    "plt.show()"
   ]
  },
  {
   "cell_type": "code",
   "execution_count": 8,
   "id": "63c06383-fec2-4fe3-aca7-a0e156dfe753",
   "metadata": {},
   "outputs": [
    {
     "data": {
      "image/png": "[encoded data removed]",
      "text/plain": [
       "<Figure size 432x288 with 1 Axes>"
      ]
     },
     "metadata": {
      "needs_background": "light"
     },
     "output_type": "display_data"
    }
   ],
   "source": [
    "plt.plot(hist.history['loss'])\n",
    "plt.plot(hist.history['val_loss'])\n",
    "plt.title('Loss Trend')\n",
    "plt.ylabel('loss')\n",
    "plt.xlabel('epoch')\n",
    "plt.legend(['train','validation'], loc='best')\n",
    "plt.grid()\n",
    "plt.show()"
   ]
  }
 ],
 "metadata": {
  "kernelspec": {
   "display_name": "Python 3 (ipykernel)",
   "language": "python",
   "name": "python3"
  },
  "language_info": {
   "codemirror_mode": {
    "name": "ipython",
    "version": 3
   },
   "file_extension": ".py",
   "mimetype": "text/x-python",
   "name": "python",
   "nbconvert_exporter": "python",
   "pygments_lexer": "ipython3",
   "version": "3.9.12"
  }
 },
 "nbformat": 4,
 "nbformat_minor": 5
}
