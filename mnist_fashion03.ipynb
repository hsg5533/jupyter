{
 "cells": [
  {
   "cell_type": "code",
   "execution_count": null,
   "id": "dc409583-3331-425a-85ff-585a6738b910",
   "metadata": {},
   "outputs": [],
   "source": [
    "import numpy as np\n",
    "import tensorflow as tf\n",
    "from tensorflow.keras.datasets import fashion_mnist\n",
    "from tensorflow.keras.models import Sequential\n",
    "from tensorflow.keras.layers import Conv2D, MaxPool2D, Flatten, Dense, Dropout\n",
    "#from IPython.display import Image"
   ]
  },
  {
   "cell_type": "code",
   "execution_count": null,
   "id": "32156675-34a0-4854-98ac-919b89ec57d7",
   "metadata": {},
   "outputs": [],
   "source": [
    "(x_train, y_train),(x_test, y_test) = fashion_mnist.load_data()\n",
    "\n",
    "x_train=x_train.reshape(-1, 28, 28, 1) #(데이터 수, 행, 열, 색상 종류)\n",
    "x_test=x_test.reshape(-1, 28, 28, 1)\n",
    "\n",
    "print(x_train.shape, x_test.shape)\n",
    "print(y_train.shape, y_test.shape)\n",
    "\n",
    "x_train = x_train.astype(np.float32) / 255.0  #0~1 정규화\n",
    "x_test = x_test.astype(np.float32) / 255.0"
   ]
  },
  {
   "cell_type": "code",
   "execution_count": null,
   "id": "f819ffa4-e493-4428-aae3-383aab153d8d",
   "metadata": {},
   "outputs": [],
   "source": [
    "cnn = Sequential()\n",
    "\n",
    "cnn.add(Conv2D(input_shape=(28,28,1), kernel_size=(3,3),filters=32, activation='relu'))\n",
    "cnn.add(Conv2D(kernel_size=(3,3), filters=64, activation='relu'))\n",
    "cnn.add(MaxPool2D(pool_size=(2,2)))\n",
    "cnn.add(Dropout(0.25))\n",
    "\n",
    "cnn.add(Flatten())\n",
    "\n",
    "cnn.add(Dense(128, activation='relu'))\n",
    "cnn.add(Dropout(0.5))\n",
    "cnn.add(Dense(10, activation='softmax'))"
   ]
  },
  {
   "cell_type": "markdown",
   "id": "af05584f-c17b-44e0-8380-5dd3498da3a8",
   "metadata": {},
   "source": [
    "# Optimizers :SGD, Adam, RMSprop\n",
    "- Optimizer는 딥러닝에서 Network가 빠르고 정확하게 학습하는 것을 목표로 한다. \n",
    "- 주로 Gradient Descent Algorithm을 기반으로한 SGD에서 변형된 여러종류의 Optimizer가 사용되고 있다\n",
    "https://onevision.tistory.com/category/Algorithm/Deep%20Learning"
   ]
  },
  {
   "cell_type": "code",
   "execution_count": null,
   "id": "6ced2711-7780-4663-90f2-69a62821faa7",
   "metadata": {},
   "outputs": [],
   "source": [
    "cnn.compile(loss='sparse_categorical_crossentropy',\n",
    "            optimizer=tf.keras.optimizers.Adam(), metrics=['accuracy'])\n",
    "\n",
    "cnn.summary()"
   ]
  },
  {
   "cell_type": "code",
   "execution_count": null,
   "id": "eebc7759-0707-41be-a817-ff85bca77968",
   "metadata": {
    "tags": []
   },
   "outputs": [],
   "source": [
    "hist = cnn.fit(x_train, y_train, batch_size=128, epochs=30, validation_data=(x_test, y_test))\n",
    "#468.75=60000/128, batch_size : 전체 데이터를 batch_size 만큼 나누어 그결과 만큼 진행 후 w, b관 업데이터 "
   ]
  },
  {
   "cell_type": "code",
   "execution_count": null,
   "id": "829bba01-a387-4443-861c-9d059f5361bf",
   "metadata": {},
   "outputs": [],
   "source": [
    "cnn.evaluate(x_test, y_test)"
   ]
  },
  {
   "cell_type": "code",
   "execution_count": null,
   "id": "01185ca5-4856-4590-a96b-424cb7f75907",
   "metadata": {
    "tags": []
   },
   "outputs": [],
   "source": [
    "import matplotlib.pyplot as plt\n",
    "plt.plot(hist.history['accuracy'])\n",
    "plt.plot(hist.history['val_accuracy'])\n",
    "plt.title('Accuracy Trend')\n",
    "plt.ylabel('accuracy')\n",
    "plt.xlabel('epoch')\n",
    "plt.legend(['train','validation'], loc='best')\n",
    "plt.grid()\n",
    "plt.show()"
   ]
  },
  {
   "cell_type": "code",
   "execution_count": null,
   "id": "2cfb017c-bd53-46f3-8b93-c7626b918c6d",
   "metadata": {},
   "outputs": [],
   "source": [
    "plt.plot(hist.history['loss'])\n",
    "plt.plot(hist.history['val_loss'])\n",
    "plt.title('Loss Trend')\n",
    "plt.ylabel('loss')\n",
    "plt.xlabel('epoch')\n",
    "plt.legend(['train','validation'], loc='best')\n",
    "plt.grid()\n",
    "plt.show()"
   ]
  }
 ],
 "metadata": {
  "kernelspec": {
   "display_name": "Python 3 (ipykernel)",
   "language": "python",
   "name": "python3"
  },
  "language_info": {
   "codemirror_mode": {
    "name": "ipython",
    "version": 3
   },
   "file_extension": ".py",
   "mimetype": "text/x-python",
   "name": "python",
   "nbconvert_exporter": "python",
   "pygments_lexer": "ipython3",
   "version": "3.12.9"
  }
 },
 "nbformat": 4,
 "nbformat_minor": 5
}
