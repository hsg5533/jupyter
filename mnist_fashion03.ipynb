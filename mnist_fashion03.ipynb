{
 "cells": [
  {
   "cell_type": "code",
   "execution_count": 1,
   "id": "dc409583-3331-425a-85ff-585a6738b910",
   "metadata": {},
   "outputs": [],
   "source": [
    "import numpy as np\n",
    "import tensorflow as tf\n",
    "from tensorflow.keras.datasets import fashion_mnist\n",
    "from tensorflow.keras.models import Sequential\n",
    "from tensorflow.keras.layers import Conv2D, MaxPool2D, Flatten, Dense, Dropout\n",
    "#from IPython.display import Image"
   ]
  },
  {
   "cell_type": "code",
   "execution_count": 3,
   "id": "32156675-34a0-4854-98ac-919b89ec57d7",
   "metadata": {},
   "outputs": [
    {
     "name": "stdout",
     "output_type": "stream",
     "text": [
      "(60000, 28, 28, 1) (10000, 28, 28, 1)\n",
      "(60000,) (10000,)\n"
     ]
    }
   ],
   "source": [
    "(x_train, y_train),(x_test, y_test) = fashion_mnist.load_data()\n",
    "\n",
    "x_train=x_train.reshape(-1, 28, 28, 1) #(데이터 수, 행, 열, 색상 종류)\n",
    "x_test=x_test.reshape(-1, 28, 28, 1)\n",
    "\n",
    "print(x_train.shape, x_test.shape)\n",
    "print(y_train.shape, y_test.shape)\n",
    "\n",
    "x_train = x_train.astype(np.float32) / 255.0  #0~1 정규화\n",
    "x_test = x_test.astype(np.float32) / 255.0"
   ]
  },
  {
   "cell_type": "code",
   "execution_count": 6,
   "id": "f819ffa4-e493-4428-aae3-383aab153d8d",
   "metadata": {},
   "outputs": [],
   "source": [
    "cnn = Sequential()\n",
    "\n",
    "cnn.add(Conv2D(input_shape=(28,28,1), kernel_size=(3,3),filters=32, activation='relu'))\n",
    "cnn.add(Conv2D(kernel_size=(3,3), filters=64, activation='relu'))\n",
    "cnn.add(MaxPool2D(pool_size=(2,2)))\n",
    "cnn.add(Dropout(0.25))\n",
    "\n",
    "cnn.add(Flatten())\n",
    "\n",
    "cnn.add(Dense(128, activation='relu'))\n",
    "cnn.add(Dropout(0.5))\n",
    "cnn.add(Dense(10, activation='softmax'))"
   ]
  },
  {
   "cell_type": "markdown",
   "id": "af05584f-c17b-44e0-8380-5dd3498da3a8",
   "metadata": {},
   "source": [
    "# Optimizers :SGD, Adam, RMSprop\n",
    "- Optimizer는 딥러닝에서 Network가 빠르고 정확하게 학습하는 것을 목표로 한다. \n",
    "- 주로 Gradient Descent Algorithm을 기반으로한 SGD에서 변형된 여러종류의 Optimizer가 사용되고 있다\n",
    "https://onevision.tistory.com/category/Algorithm/Deep%20Learning"
   ]
  },
  {
   "cell_type": "code",
   "execution_count": 7,
   "id": "6ced2711-7780-4663-90f2-69a62821faa7",
   "metadata": {},
   "outputs": [
    {
     "name": "stdout",
     "output_type": "stream",
     "text": [
      "Model: \"sequential_2\"\n",
      "_________________________________________________________________\n",
      " Layer (type)                Output Shape              Param #   \n",
      "=================================================================\n",
      " conv2d_4 (Conv2D)           (None, 26, 26, 32)        320       \n",
      "                                                                 \n",
      " conv2d_5 (Conv2D)           (None, 24, 24, 64)        18496     \n",
      "                                                                 \n",
      " max_pooling2d_2 (MaxPooling  (None, 12, 12, 64)       0         \n",
      " 2D)                                                             \n",
      "                                                                 \n",
      " dropout_4 (Dropout)         (None, 12, 12, 64)        0         \n",
      "                                                                 \n",
      " flatten_2 (Flatten)         (None, 9216)              0         \n",
      "                                                                 \n",
      " dense_4 (Dense)             (None, 128)               1179776   \n",
      "                                                                 \n",
      " dropout_5 (Dropout)         (None, 128)               0         \n",
      "                                                                 \n",
      " dense_5 (Dense)             (None, 10)                1290      \n",
      "                                                                 \n",
      "=================================================================\n",
      "Total params: 1,199,882\n",
      "Trainable params: 1,199,882\n",
      "Non-trainable params: 0\n",
      "_________________________________________________________________\n"
     ]
    }
   ],
   "source": [
    "cnn.compile(loss='sparse_categorical_crossentropy',\n",
    "            optimizer=tf.keras.optimizers.Adam(), metrics=['accuracy'])\n",
    "\n",
    "cnn.summary()"
   ]
  },
  {
   "cell_type": "code",
   "execution_count": 5,
   "id": "eebc7759-0707-41be-a817-ff85bca77968",
   "metadata": {
    "collapsed": true,
    "jupyter": {
     "outputs_hidden": true
    },
    "tags": []
   },
   "outputs": [
    {
     "name": "stdout",
     "output_type": "stream",
     "text": [
      "Epoch 1/30\n",
      "469/469 [==============================] - 48s 101ms/step - loss: 0.5545 - accuracy: 0.8054 - val_loss: 0.3478 - val_accuracy: 0.8727\n",
      "Epoch 2/30\n",
      "469/469 [==============================] - 47s 101ms/step - loss: 0.3569 - accuracy: 0.8723 - val_loss: 0.2976 - val_accuracy: 0.8900\n",
      "Epoch 3/30\n",
      "469/469 [==============================] - 48s 102ms/step - loss: 0.3066 - accuracy: 0.8892 - val_loss: 0.2666 - val_accuracy: 0.9033\n",
      "Epoch 4/30\n",
      "469/469 [==============================] - 48s 102ms/step - loss: 0.2749 - accuracy: 0.8999 - val_loss: 0.2479 - val_accuracy: 0.9098\n",
      "Epoch 5/30\n",
      "469/469 [==============================] - 48s 103ms/step - loss: 0.2519 - accuracy: 0.9088 - val_loss: 0.2377 - val_accuracy: 0.9125\n",
      "Epoch 6/30\n",
      "469/469 [==============================] - 51s 109ms/step - loss: 0.2318 - accuracy: 0.9154 - val_loss: 0.2374 - val_accuracy: 0.9130\n",
      "Epoch 7/30\n",
      "469/469 [==============================] - 50s 106ms/step - loss: 0.2157 - accuracy: 0.9182 - val_loss: 0.2280 - val_accuracy: 0.9177\n",
      "Epoch 8/30\n",
      "469/469 [==============================] - 49s 105ms/step - loss: 0.2012 - accuracy: 0.9247 - val_loss: 0.2200 - val_accuracy: 0.9215\n",
      "Epoch 9/30\n",
      "469/469 [==============================] - 50s 107ms/step - loss: 0.1858 - accuracy: 0.9309 - val_loss: 0.2152 - val_accuracy: 0.9225\n",
      "Epoch 10/30\n",
      "469/469 [==============================] - 50s 106ms/step - loss: 0.1745 - accuracy: 0.9337 - val_loss: 0.2118 - val_accuracy: 0.9247\n",
      "Epoch 11/30\n",
      "469/469 [==============================] - 49s 105ms/step - loss: 0.1625 - accuracy: 0.9397 - val_loss: 0.2265 - val_accuracy: 0.9248\n",
      "Epoch 12/30\n",
      "469/469 [==============================] - 49s 105ms/step - loss: 0.1562 - accuracy: 0.9414 - val_loss: 0.2363 - val_accuracy: 0.9175\n",
      "Epoch 13/30\n",
      "469/469 [==============================] - 50s 107ms/step - loss: 0.1482 - accuracy: 0.9442 - val_loss: 0.2205 - val_accuracy: 0.9273\n",
      "Epoch 14/30\n",
      "469/469 [==============================] - 49s 105ms/step - loss: 0.1382 - accuracy: 0.9477 - val_loss: 0.2153 - val_accuracy: 0.9287\n",
      "Epoch 15/30\n",
      "469/469 [==============================] - 51s 109ms/step - loss: 0.1319 - accuracy: 0.9509 - val_loss: 0.2234 - val_accuracy: 0.9278\n",
      "Epoch 16/30\n",
      "469/469 [==============================] - 51s 110ms/step - loss: 0.1240 - accuracy: 0.9528 - val_loss: 0.2312 - val_accuracy: 0.9271\n",
      "Epoch 17/30\n",
      "469/469 [==============================] - 51s 109ms/step - loss: 0.1192 - accuracy: 0.9549 - val_loss: 0.2303 - val_accuracy: 0.9298\n",
      "Epoch 18/30\n",
      "469/469 [==============================] - 50s 107ms/step - loss: 0.1153 - accuracy: 0.9562 - val_loss: 0.2351 - val_accuracy: 0.9295\n",
      "Epoch 19/30\n",
      "469/469 [==============================] - 51s 109ms/step - loss: 0.1094 - accuracy: 0.9575 - val_loss: 0.2305 - val_accuracy: 0.9309\n",
      "Epoch 20/30\n",
      "469/469 [==============================] - 52s 112ms/step - loss: 0.1083 - accuracy: 0.9593 - val_loss: 0.2447 - val_accuracy: 0.9291\n",
      "Epoch 21/30\n",
      "469/469 [==============================] - 52s 111ms/step - loss: 0.1013 - accuracy: 0.9610 - val_loss: 0.2485 - val_accuracy: 0.9294\n",
      "Epoch 22/30\n",
      "469/469 [==============================] - 52s 110ms/step - loss: 0.0993 - accuracy: 0.9612 - val_loss: 0.2522 - val_accuracy: 0.9292\n",
      "Epoch 23/30\n",
      "469/469 [==============================] - 52s 111ms/step - loss: 0.0942 - accuracy: 0.9631 - val_loss: 0.2578 - val_accuracy: 0.9273\n",
      "Epoch 24/30\n",
      "469/469 [==============================] - 52s 111ms/step - loss: 0.0926 - accuracy: 0.9640 - val_loss: 0.2514 - val_accuracy: 0.9301\n",
      "Epoch 25/30\n",
      "469/469 [==============================] - 51s 110ms/step - loss: 0.0894 - accuracy: 0.9646 - val_loss: 0.2595 - val_accuracy: 0.9293\n",
      "Epoch 26/30\n",
      "469/469 [==============================] - 51s 108ms/step - loss: 0.0862 - accuracy: 0.9667 - val_loss: 0.2610 - val_accuracy: 0.9292\n",
      "Epoch 27/30\n",
      "469/469 [==============================] - 52s 110ms/step - loss: 0.0853 - accuracy: 0.9665 - val_loss: 0.2718 - val_accuracy: 0.9306\n",
      "Epoch 28/30\n",
      "469/469 [==============================] - 51s 108ms/step - loss: 0.0832 - accuracy: 0.9683 - val_loss: 0.2679 - val_accuracy: 0.9304\n",
      "Epoch 29/30\n",
      "469/469 [==============================] - 51s 109ms/step - loss: 0.0783 - accuracy: 0.9695 - val_loss: 0.2724 - val_accuracy: 0.9302\n",
      "Epoch 30/30\n",
      "469/469 [==============================] - 51s 109ms/step - loss: 0.0777 - accuracy: 0.9697 - val_loss: 0.2825 - val_accuracy: 0.9317\n"
     ]
    }
   ],
   "source": [
    "hist = cnn.fit(x_train, y_train, batch_size=128, epochs=30, validation_data=(x_test, y_test))\n",
    "#468.75=60000/128, batch_size : 전체 데이터를 batch_size 만큼 나누어 그결과 만큼 진행 후 w, b관 업데이터 "
   ]
  },
  {
   "cell_type": "code",
   "execution_count": 6,
   "id": "829bba01-a387-4443-861c-9d059f5361bf",
   "metadata": {},
   "outputs": [
    {
     "name": "stdout",
     "output_type": "stream",
     "text": [
      "313/313 [==============================] - 2s 5ms/step - loss: 0.2825 - accuracy: 0.9317\n"
     ]
    },
    {
     "data": {
      "text/plain": [
       "[0.28254416584968567, 0.9316999912261963]"
      ]
     },
     "execution_count": 6,
     "metadata": {},
     "output_type": "execute_result"
    }
   ],
   "source": [
    "cnn.evaluate(x_test, y_test)"
   ]
  },
  {
   "cell_type": "code",
   "execution_count": 7,
   "id": "01185ca5-4856-4590-a96b-424cb7f75907",
   "metadata": {
    "tags": []
   },
   "outputs": [
    {
     "data": {
      "image/png": "[encoded data removed]",
      "text/plain": [
       "<Figure size 432x288 with 1 Axes>"
      ]
     },
     "metadata": {
      "needs_background": "light"
     },
     "output_type": "display_data"
    }
   ],
   "source": [
    "import matplotlib.pyplot as plt\n",
    "plt.plot(hist.history['accuracy'])\n",
    "plt.plot(hist.history['val_accuracy'])\n",
    "plt.title('Accuracy Trend')\n",
    "plt.ylabel('accuracy')\n",
    "plt.xlabel('epoch')\n",
    "plt.legend(['train','validation'], loc='best')\n",
    "plt.grid()\n",
    "plt.show()"
   ]
  },
  {
   "cell_type": "code",
   "execution_count": 8,
   "id": "2cfb017c-bd53-46f3-8b93-c7626b918c6d",
   "metadata": {},
   "outputs": [
    {
     "data": {
      "image/png": "[encoded data removed]",
      "text/plain": [
       "<Figure size 432x288 with 1 Axes>"
      ]
     },
     "metadata": {
      "needs_background": "light"
     },
     "output_type": "display_data"
    }
   ],
   "source": [
    "plt.plot(hist.history['loss'])\n",
    "plt.plot(hist.history['val_loss'])\n",
    "plt.title('Loss Trend')\n",
    "plt.ylabel('loss')\n",
    "plt.xlabel('epoch')\n",
    "plt.legend(['train','validation'], loc='best')\n",
    "plt.grid()\n",
    "plt.show()"
   ]
  }
 ],
 "metadata": {
  "kernelspec": {
   "display_name": "Python 3 (ipykernel)",
   "language": "python",
   "name": "python3"
  },
  "language_info": {
   "codemirror_mode": {
    "name": "ipython",
    "version": 3
   },
   "file_extension": ".py",
   "mimetype": "text/x-python",
   "name": "python",
   "nbconvert_exporter": "python",
   "pygments_lexer": "ipython3",
   "version": "3.12.9"
  }
 },
 "nbformat": 4,
 "nbformat_minor": 5
}
