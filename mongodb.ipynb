{
 "cells": [
  {
   "cell_type": "code",
   "execution_count": null,
   "id": "261969ef-962c-462b-bba1-698c95c261f2",
   "metadata": {},
   "outputs": [],
   "source": [
    "from pymongo import MongoClient"
   ]
  },
  {
   "cell_type": "code",
   "execution_count": null,
   "id": "dded147a-a4a3-4497-a8c8-ee875b3ac2a8",
   "metadata": {},
   "outputs": [],
   "source": [
    "client=MongoClient('localhost',27017)"
   ]
  },
  {
   "cell_type": "code",
   "execution_count": null,
   "id": "9077de6e-cb6b-47d3-8d33-245cc467ed2d",
   "metadata": {},
   "outputs": [],
   "source": [
    "db=client['test']"
   ]
  },
  {
   "cell_type": "code",
   "execution_count": null,
   "id": "6e89197c-665e-4202-a71e-c756f7b843ea",
   "metadata": {},
   "outputs": [],
   "source": [
    "collection=db['employees']"
   ]
  },
  {
   "cell_type": "code",
   "execution_count": null,
   "id": "70757a5e-85e4-4991-8265-131089004ea8",
   "metadata": {
    "tags": []
   },
   "outputs": [],
   "source": [
    "for employee in collection.find():\n",
    "    print(employee)"
   ]
  },
  {
   "cell_type": "code",
   "execution_count": null,
   "id": "9a262e23-8e30-4eb8-b145-9dd692763c89",
   "metadata": {},
   "outputs": [],
   "source": [
    "emp={'eno':30,'ename':'kkk'}"
   ]
  },
  {
   "cell_type": "code",
   "execution_count": null,
   "id": "9354c6c0-d1f3-4a7a-b58f-48a0a6efbc64",
   "metadata": {},
   "outputs": [],
   "source": [
    "emp_list=[{'eno':30,'ename':'ggg'},\n",
    "         {'eno':40,'ename':'ooo'},\n",
    "         {'eno':50,'ename':'ppp'}]"
   ]
  },
  {
   "cell_type": "code",
   "execution_count": null,
   "id": "6bd702bc-1cb6-4bc6-83f9-fd480899531b",
   "metadata": {},
   "outputs": [],
   "source": [
    "coll=db['emp']"
   ]
  },
  {
   "cell_type": "code",
   "execution_count": null,
   "id": "d837c37b-bbb4-4e86-bd41-e2a28e6f0708",
   "metadata": {},
   "outputs": [],
   "source": [
    "coll.insert_one(emp)"
   ]
  },
  {
   "cell_type": "code",
   "execution_count": null,
   "id": "c8986b9f-584b-4cd7-9a23-59c9d0381846",
   "metadata": {},
   "outputs": [],
   "source": [
    "coll.insert_many(emp_list)"
   ]
  },
  {
   "cell_type": "code",
   "execution_count": null,
   "id": "eb4e1758-ec5c-45b7-8ff8-74fd600ab0f6",
   "metadata": {},
   "outputs": [],
   "source": [
    "for e in coll.find():\n",
    "    print(e)"
   ]
  }
 ],
 "metadata": {
  "kernelspec": {
   "display_name": "Python 3 (ipykernel)",
   "language": "python",
   "name": "python3"
  },
  "language_info": {
   "codemirror_mode": {
    "name": "ipython",
    "version": 3
   },
   "file_extension": ".py",
   "mimetype": "text/x-python",
   "name": "python",
   "nbconvert_exporter": "python",
   "pygments_lexer": "ipython3",
   "version": "3.12.9"
  }
 },
 "nbformat": 4,
 "nbformat_minor": 5
}
