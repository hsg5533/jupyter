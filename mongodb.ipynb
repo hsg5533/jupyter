{
 "cells": [
  {
   "cell_type": "code",
   "execution_count": 1,
   "id": "261969ef-962c-462b-bba1-698c95c261f2",
   "metadata": {},
   "outputs": [],
   "source": [
    "from pymongo import MongoClient"
   ]
  },
  {
   "cell_type": "code",
   "execution_count": 3,
   "id": "dded147a-a4a3-4497-a8c8-ee875b3ac2a8",
   "metadata": {},
   "outputs": [],
   "source": [
    "client=MongoClient('localhost',27017)"
   ]
  },
  {
   "cell_type": "code",
   "execution_count": 4,
   "id": "9077de6e-cb6b-47d3-8d33-245cc467ed2d",
   "metadata": {},
   "outputs": [],
   "source": [
    "db=client['test']"
   ]
  },
  {
   "cell_type": "code",
   "execution_count": 5,
   "id": "6e89197c-665e-4202-a71e-c756f7b843ea",
   "metadata": {},
   "outputs": [],
   "source": [
    "collection=db['employees']"
   ]
  },
  {
   "cell_type": "code",
   "execution_count": 6,
   "id": "70757a5e-85e4-4991-8265-131089004ea8",
   "metadata": {
    "collapsed": true,
    "jupyter": {
     "outputs_hidden": true
    },
    "tags": []
   },
   "outputs": [
    {
     "name": "stdout",
     "output_type": "stream",
     "text": [
      "{'_id': ObjectId('62a02b007d1d1a38064f93e9'), 'empno': 7369.0, 'ename': 'SMITH', 'job': 'CLERK', 'hiredate': datetime.datetime(2022, 6, 8, 4, 52, 16, 322000), 'sal': 800.0, 'deptno': 20.0}\n",
      "{'_id': ObjectId('62a02b007d1d1a38064f93ea'), 'empno': 7499.0, 'ename': 'ALLEN', 'job': 'SALESMAN', 'hiredate': datetime.datetime(2022, 6, 8, 4, 52, 16, 339000), 'sal': 1600.0, 'comm': 300.0, 'deptno': 30.0}\n",
      "{'_id': ObjectId('62a02b007d1d1a38064f93eb'), 'empno': 7521.0, 'ename': 'WARD', 'job': 'SALESMAN', 'hiredate': datetime.datetime(2022, 6, 8, 4, 52, 16, 350000), 'sal': 1250.0, 'comm': 500.0, 'deptno': 30.0}\n",
      "{'_id': ObjectId('62a02b007d1d1a38064f93ec'), 'empno': 7566.0, 'ename': 'JONES', 'job': 'MANAGER', 'hiredate': datetime.datetime(2022, 6, 8, 4, 52, 16, 358000), 'sal': 2975.0, 'deptno': 20.0}\n",
      "{'_id': ObjectId('62a02b007d1d1a38064f93ed'), 'empno': 7654.0, 'ename': 'MARTIN', 'job': 'SALESMAN', 'hiredate': datetime.datetime(2022, 6, 8, 4, 52, 16, 367000), 'sal': 1250.0, 'comm': 1400.0, 'deptno': 30.0}\n",
      "{'_id': ObjectId('62a02b007d1d1a38064f93ee'), 'empno': 7698.0, 'ename': 'BLAKE', 'job': 'MANAGER', 'hiredate': datetime.datetime(2022, 6, 8, 4, 52, 16, 374000), 'sal': 2850.0, 'deptno': 30.0}\n",
      "{'_id': ObjectId('62a02b007d1d1a38064f93ef'), 'empno': 7782.0, 'ename': 'CLARK', 'job': 'MANAGER', 'hiredate': datetime.datetime(2022, 6, 8, 4, 52, 16, 381000), 'sal': 2450.0, 'deptno': 10.0}\n",
      "{'_id': ObjectId('62a02b007d1d1a38064f93f0'), 'empno': 7788.0, 'ename': 'SCOTT', 'job': 'ANALYST', 'hiredate': datetime.datetime(2022, 6, 8, 4, 52, 16, 388000), 'sal': 3000.0, 'deptno': 20.0}\n",
      "{'_id': ObjectId('62a02b007d1d1a38064f93f1'), 'empno': 7839.0, 'ename': 'KING', 'job': 'CEO', 'hiredate': datetime.datetime(2022, 6, 8, 4, 52, 16, 395000), 'sal': 5000.0, 'deptno': 10.0}\n",
      "{'_id': ObjectId('62a02b007d1d1a38064f93f2'), 'empno': 7844.0, 'ename': 'TURNER', 'job': 'SALESMAN', 'hiredate': datetime.datetime(2022, 6, 8, 4, 52, 16, 403000), 'sal': 1500.0, 'deptno': 30.0}\n",
      "{'_id': ObjectId('62a02b007d1d1a38064f93f3'), 'empno': 7876.0, 'ename': 'ADAMS', 'job': 'CLERK', 'hiredate': datetime.datetime(2022, 6, 8, 4, 52, 16, 410000), 'sal': 1100.0, 'deptno': 20.0}\n",
      "{'_id': ObjectId('62a02b007d1d1a38064f93f4'), 'empno': 7900.0, 'ename': 'JAMES', 'job': 'CLERK', 'hiredate': datetime.datetime(2022, 6, 8, 4, 52, 16, 418000), 'sal': 950.0, 'deptno': 30.0}\n",
      "{'_id': ObjectId('62a02b007d1d1a38064f93f5'), 'empno': 7902.0, 'ename': 'FORD', 'job': 'ANALYST', 'hiredate': datetime.datetime(2022, 6, 8, 4, 52, 16, 425000), 'sal': 3000.0, 'deptno': 20.0}\n",
      "{'_id': ObjectId('62a02b007d1d1a38064f93f6'), 'empno': 7934.0, 'ename': 'CLERK', 'job': 'CLERK', 'hiredate': datetime.datetime(2022, 6, 8, 4, 52, 16, 432000), 'sal': 1300.0, 'deptno': 10.0}\n"
     ]
    }
   ],
   "source": [
    "for employee in collection.find():\n",
    "    print(employee)"
   ]
  },
  {
   "cell_type": "code",
   "execution_count": 7,
   "id": "9a262e23-8e30-4eb8-b145-9dd692763c89",
   "metadata": {},
   "outputs": [],
   "source": [
    "emp={'eno':30,'ename':'kkk'}"
   ]
  },
  {
   "cell_type": "code",
   "execution_count": 14,
   "id": "9354c6c0-d1f3-4a7a-b58f-48a0a6efbc64",
   "metadata": {},
   "outputs": [],
   "source": [
    "emp_list=[{'eno':30,'ename':'ggg'},\n",
    "         {'eno':40,'ename':'ooo'},\n",
    "         {'eno':50,'ename':'ppp'}]"
   ]
  },
  {
   "cell_type": "code",
   "execution_count": 8,
   "id": "6bd702bc-1cb6-4bc6-83f9-fd480899531b",
   "metadata": {},
   "outputs": [],
   "source": [
    "coll=db['emp']"
   ]
  },
  {
   "cell_type": "code",
   "execution_count": 9,
   "id": "d837c37b-bbb4-4e86-bd41-e2a28e6f0708",
   "metadata": {},
   "outputs": [
    {
     "data": {
      "text/plain": [
       "<pymongo.results.InsertOneResult at 0x1cd6483aeb0>"
      ]
     },
     "execution_count": 9,
     "metadata": {},
     "output_type": "execute_result"
    }
   ],
   "source": [
    "coll.insert_one(emp)"
   ]
  },
  {
   "cell_type": "code",
   "execution_count": 15,
   "id": "c8986b9f-584b-4cd7-9a23-59c9d0381846",
   "metadata": {},
   "outputs": [
    {
     "data": {
      "text/plain": [
       "<pymongo.results.InsertManyResult at 0x1cd64cc1e50>"
      ]
     },
     "execution_count": 15,
     "metadata": {},
     "output_type": "execute_result"
    }
   ],
   "source": [
    "coll.insert_many(emp_list)"
   ]
  },
  {
   "cell_type": "code",
   "execution_count": 16,
   "id": "eb4e1758-ec5c-45b7-8ff8-74fd600ab0f6",
   "metadata": {},
   "outputs": [
    {
     "name": "stdout",
     "output_type": "stream",
     "text": [
      "{'_id': ObjectId('62a142e8ba425b0283232158'), 'empno': '1111', 'ename': 'JMJOO', 'deptno': 10}\n",
      "{'_id': ObjectId('62a142e8ba425b0283232159'), 'empno': '1112', 'ename': 'JMJOO', 'deptno': 20}\n",
      "{'_id': ObjectId('62a142e8ba425b028323215a'), 'empno': '1113', 'ename': 'JMJOO', 'deptno': 30}\n",
      "{'_id': ObjectId('62a142e8ba425b028323215b'), 'empno': '1114', 'ename': 'JMJOO', 'deptno': 40}\n",
      "{'_id': ObjectId('62a142e8ba425b028323215c'), 'empno': 1111, 'ename': 'JMJOO', 'job': 'MANAGER', 'sal': 1200, 'hiredate': datetime.datetime(2022, 6, 9, 0, 46, 32, 607000), 'deptno': 10}\n",
      "{'_id': ObjectId('62a142e8ba425b028323215d'), 'empno': 2222, 'ename': 'JMJ', 'job': 'MANAGER', 'sal': 1200, 'hiredate': datetime.datetime(2022, 6, 9, 0, 46, 32, 607000), 'deptno': 40}\n",
      "{'_id': ObjectId('62a2b0457a34ae2877f94310'), 'eno': 30, 'ename': 'kkk'}\n",
      "{'_id': ObjectId('62a2b1727a34ae2877f94311'), 'eno': 30, 'ename': 'ggg'}\n",
      "{'_id': ObjectId('62a2b1727a34ae2877f94312'), 'eno': 40, 'ename': 'ooo'}\n",
      "{'_id': ObjectId('62a2b1727a34ae2877f94313'), 'eno': 50, 'ename': 'ppp'}\n"
     ]
    }
   ],
   "source": [
    "for e in coll.find():\n",
    "    print(e)"
   ]
  }
 ],
 "metadata": {
  "kernelspec": {
   "display_name": "Python 3 (ipykernel)",
   "language": "python",
   "name": "python3"
  },
  "language_info": {
   "codemirror_mode": {
    "name": "ipython",
    "version": 3
   },
   "file_extension": ".py",
   "mimetype": "text/x-python",
   "name": "python",
   "nbconvert_exporter": "python",
   "pygments_lexer": "ipython3",
   "version": "3.9.12"
  }
 },
 "nbformat": 4,
 "nbformat_minor": 5
}
