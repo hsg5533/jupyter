{
 "cells": [
  {
   "cell_type": "code",
   "execution_count": 1,
   "id": "3ef3567c-838b-4a45-9f63-73689674df60",
   "metadata": {},
   "outputs": [
    {
     "name": "stdout",
     "output_type": "stream",
     "text": [
      "[0, 1, 2, 3, 4, 5, 6, 7, 8, 9]\n"
     ]
    }
   ],
   "source": [
    "result=[]\n",
    "for i in range(10):\n",
    "    result.append(i)\n",
    "print(result)"
   ]
  },
  {
   "cell_type": "code",
   "execution_count": 2,
   "id": "9d502c0c-9432-4dc6-8961-fdbb5dc6781f",
   "metadata": {},
   "outputs": [
    {
     "name": "stdout",
     "output_type": "stream",
     "text": [
      "[0, 1, 2, 3, 4, 5, 6, 7, 8, 9]\n"
     ]
    }
   ],
   "source": [
    "result=[i for i in range(10)]\n",
    "print(result)"
   ]
  },
  {
   "cell_type": "code",
   "execution_count": 3,
   "id": "6237e85e-05d2-481a-a372-8bf88eb20463",
   "metadata": {},
   "outputs": [
    {
     "data": {
      "text/plain": [
       "[0, 2, 4, 6, 8]"
      ]
     },
     "execution_count": 3,
     "metadata": {},
     "output_type": "execute_result"
    }
   ],
   "source": [
    "result2=[i for i in range(10) if i%2==0]\n",
    "result2"
   ]
  },
  {
   "cell_type": "code",
   "execution_count": 4,
   "id": "18802819-c522-4eba-bb2e-c2db0b989148",
   "metadata": {},
   "outputs": [
    {
     "data": {
      "text/plain": [
       "[0, 10, 2, 10, 4, 10, 6, 10, 8, 10]"
      ]
     },
     "execution_count": 4,
     "metadata": {},
     "output_type": "execute_result"
    }
   ],
   "source": [
    "result3=[i if i%2==0 else 10 for i in range(10)]\n",
    "result3"
   ]
  },
  {
   "cell_type": "code",
   "execution_count": 5,
   "id": "b851e596-4ea7-4a67-b767-61d616ae5c09",
   "metadata": {},
   "outputs": [
    {
     "name": "stdout",
     "output_type": "stream",
     "text": [
      "['Hw', 'Ho', 'Hr', 'Hl', 'Hd', 'ew', 'eo', 'er', 'el', 'ed', 'lw', 'lo', 'lr', 'ld', 'lw', 'lo', 'lr', 'ld', 'ow', 'or', 'ol', 'od']\n"
     ]
    }
   ],
   "source": [
    "result4=[]\n",
    "world_1='Hello'\n",
    "world_2='world'\n",
    "\n",
    "for i in world_1:\n",
    "    for j in world_2:\n",
    "        if not(i==j):\n",
    "            result4.append(i+j)\n",
    "\n",
    "print(result4)\n"
   ]
  },
  {
   "cell_type": "code",
   "execution_count": 6,
   "id": "bee4cc67-77fe-4502-b188-fd6321863b5c",
   "metadata": {},
   "outputs": [
    {
     "name": "stdout",
     "output_type": "stream",
     "text": [
      "[['HW', 'hw'], ['HO', 'ho'], ['HR', 'hr'], ['HL', 'hl'], ['HD', 'hd'], ['EW', 'ew'], ['EO', 'eo'], ['ER', 'er'], ['EL', 'el'], ['ED', 'ed'], ['LW', 'lw'], ['LO', 'lo'], ['LR', 'lr'], ['LD', 'ld'], ['LW', 'lw'], ['LO', 'lo'], ['LR', 'lr'], ['LD', 'ld'], ['OW', 'ow'], ['OR', 'or'], ['OL', 'ol'], ['OD', 'od']]\n"
     ]
    }
   ],
   "source": [
    "result4=[[(i+j).upper(),(i+j).lower()] for i in world_1 for j in world_2 if not(i==j)]\n",
    "print(result4)"
   ]
  },
  {
   "cell_type": "code",
   "execution_count": 7,
   "id": "cfcd0285-869f-4e76-b42a-e6d79f2c1c53",
   "metadata": {
    "tags": []
   },
   "outputs": [
    {
     "data": {
      "text/plain": [
       "[['T', 't', 1],\n",
       " ['H', 'h', 1],\n",
       " ['E', 'e', 1],\n",
       " [' ', ' ', 1],\n",
       " ['W', 'w', 1],\n",
       " ['A', 'a', 1],\n",
       " ['T', 't', 1],\n",
       " ['E', 'e', 1],\n",
       " ['R', 'r', 1],\n",
       " [' ', ' ', 1],\n",
       " ['L', 'l', 1],\n",
       " ['E', 'e', 1],\n",
       " ['V', 'v', 1],\n",
       " ['E', 'e', 1],\n",
       " ['L', 'l', 1],\n",
       " [' ', ' ', 1],\n",
       " ['I', 'i', 1],\n",
       " ['N', 'n', 1],\n",
       " [' ', ' ', 1],\n",
       " ['L', 'l', 1],\n",
       " ['A', 'a', 1],\n",
       " ['K', 'k', 1],\n",
       " ['E', 'e', 1],\n",
       " [' ', ' ', 1],\n",
       " ['M', 'm', 1],\n",
       " ['E', 'e', 1],\n",
       " ['A', 'a', 1],\n",
       " ['D', 'd', 1],\n",
       " [' ', ' ', 1],\n",
       " ['—', '—', 1],\n",
       " [' ', ' ', 1],\n",
       " ['T', 't', 1],\n",
       " ['H', 'h', 1],\n",
       " ['E', 'e', 1],\n",
       " [' ', ' ', 1],\n",
       " ['N', 'n', 1],\n",
       " ['A', 'a', 1],\n",
       " ['T', 't', 1],\n",
       " ['I', 'i', 1],\n",
       " ['O', 'o', 1],\n",
       " ['N', 'n', 1],\n",
       " [\"'\", \"'\", 1],\n",
       " ['S', 's', 1],\n",
       " [' ', ' ', 1],\n",
       " ['L', 'l', 1],\n",
       " ['A', 'a', 1],\n",
       " ['R', 'r', 1],\n",
       " ['G', 'g', 1],\n",
       " ['E', 'e', 1],\n",
       " ['S', 's', 1],\n",
       " ['T', 't', 1],\n",
       " [' ', ' ', 1],\n",
       " ['R', 'r', 1],\n",
       " ['E', 'e', 1],\n",
       " ['S', 's', 1],\n",
       " ['E', 'e', 1],\n",
       " ['R', 'r', 1],\n",
       " ['V', 'v', 1],\n",
       " ['O', 'o', 1],\n",
       " ['I', 'i', 1],\n",
       " ['R', 'r', 1],\n",
       " [' ', ' ', 1],\n",
       " ['—', '—', 1],\n",
       " [' ', ' ', 1],\n",
       " ['D', 'd', 1],\n",
       " ['R', 'r', 1],\n",
       " ['O', 'o', 1],\n",
       " ['P', 'p', 1],\n",
       " ['P', 'p', 1],\n",
       " ['E', 'e', 1],\n",
       " ['D', 'd', 1],\n",
       " [' ', ' ', 1],\n",
       " ['B', 'b', 1],\n",
       " ['E', 'e', 1],\n",
       " ['L', 'l', 1],\n",
       " ['O', 'o', 1],\n",
       " ['W', 'w', 1],\n",
       " [' ', ' ', 1],\n",
       " ['1', '1', 1],\n",
       " [',', ',', 1],\n",
       " ['0', '0', 1],\n",
       " ['5', '5', 1],\n",
       " ['0', '0', 1],\n",
       " [' ', ' ', 1],\n",
       " ['F', 'f', 1],\n",
       " ['E', 'e', 1],\n",
       " ['E', 'e', 1],\n",
       " ['T', 't', 1],\n",
       " [' ', ' ', 1],\n",
       " ['E', 'e', 1],\n",
       " ['L', 'l', 1],\n",
       " ['E', 'e', 1],\n",
       " ['V', 'v', 1],\n",
       " ['A', 'a', 1],\n",
       " ['T', 't', 1],\n",
       " ['I', 'i', 1],\n",
       " ['O', 'o', 1],\n",
       " ['N', 'n', 1],\n",
       " [' ', ' ', 1],\n",
       " ['F', 'f', 1],\n",
       " ['O', 'o', 1],\n",
       " ['R', 'r', 1],\n",
       " [' ', ' ', 1],\n",
       " ['T', 't', 1],\n",
       " ['H', 'h', 1],\n",
       " ['E', 'e', 1],\n",
       " [' ', ' ', 1],\n",
       " ['F', 'f', 1],\n",
       " ['I', 'i', 1],\n",
       " ['R', 'r', 1],\n",
       " ['S', 's', 1],\n",
       " ['T', 't', 1],\n",
       " [' ', ' ', 1],\n",
       " ['T', 't', 1],\n",
       " ['I', 'i', 1],\n",
       " ['M', 'm', 1],\n",
       " ['E', 'e', 1],\n",
       " [' ', ' ', 1],\n",
       " ['L', 'l', 1],\n",
       " ['A', 'a', 1],\n",
       " ['S', 's', 1],\n",
       " ['T', 't', 1],\n",
       " [' ', ' ', 1],\n",
       " ['W', 'w', 1],\n",
       " ['E', 'e', 1],\n",
       " ['E', 'e', 1],\n",
       " ['K', 'k', 1],\n",
       " [',', ',', 1],\n",
       " [' ', ' ', 1],\n",
       " ['A', 'a', 1],\n",
       " [' ', ' ', 1],\n",
       " ['C', 'c', 1],\n",
       " ['R', 'r', 1],\n",
       " ['I', 'i', 1],\n",
       " ['T', 't', 1],\n",
       " ['I', 'i', 1],\n",
       " ['C', 'c', 1],\n",
       " ['A', 'a', 1],\n",
       " ['L', 'l', 1],\n",
       " [' ', ' ', 1],\n",
       " ['M', 'm', 1],\n",
       " ['I', 'i', 1],\n",
       " ['L', 'l', 1],\n",
       " ['E', 'e', 1],\n",
       " ['S', 's', 1],\n",
       " ['T', 't', 1],\n",
       " ['O', 'o', 1],\n",
       " ['N', 'n', 1],\n",
       " ['E', 'e', 1],\n",
       " [' ', ' ', 1],\n",
       " ['T', 't', 1],\n",
       " ['H', 'h', 1],\n",
       " ['A', 'a', 1],\n",
       " ['T', 't', 1],\n",
       " [' ', ' ', 1],\n",
       " ['S', 's', 1],\n",
       " ['I', 'i', 1],\n",
       " ['G', 'g', 1],\n",
       " ['N', 'n', 1],\n",
       " ['A', 'a', 1],\n",
       " ['L', 'l', 1],\n",
       " ['S', 's', 1],\n",
       " [' ', ' ', 1],\n",
       " ['M', 'm', 1],\n",
       " ['O', 'o', 1],\n",
       " ['R', 'r', 1],\n",
       " ['E', 'e', 1],\n",
       " [' ', ' ', 1],\n",
       " ['S', 's', 1],\n",
       " ['T', 't', 1],\n",
       " ['R', 'r', 1],\n",
       " ['I', 'i', 1],\n",
       " ['N', 'n', 1],\n",
       " ['G', 'g', 1],\n",
       " ['E', 'e', 1],\n",
       " ['N', 'n', 1],\n",
       " ['T', 't', 1],\n",
       " [' ', ' ', 1],\n",
       " ['W', 'w', 1],\n",
       " ['A', 'a', 1],\n",
       " ['T', 't', 1],\n",
       " ['E', 'e', 1],\n",
       " ['R', 'r', 1],\n",
       " [' ', ' ', 1],\n",
       " ['C', 'c', 1],\n",
       " ['U', 'u', 1],\n",
       " ['T', 't', 1],\n",
       " ['S', 's', 1],\n",
       " [' ', ' ', 1],\n",
       " ['A', 'a', 1],\n",
       " ['R', 'r', 1],\n",
       " ['E', 'e', 1],\n",
       " [' ', ' ', 1],\n",
       " ['A', 'a', 1],\n",
       " ['R', 'r', 1],\n",
       " ['O', 'o', 1],\n",
       " ['U', 'u', 1],\n",
       " ['N', 'n', 1],\n",
       " ['D', 'd', 1],\n",
       " [' ', ' ', 1],\n",
       " ['T', 't', 1],\n",
       " ['H', 'h', 1],\n",
       " ['E', 'e', 1],\n",
       " [' ', ' ', 1],\n",
       " ['C', 'c', 1],\n",
       " ['O', 'o', 1],\n",
       " ['R', 'r', 1],\n",
       " ['N', 'n', 1],\n",
       " ['E', 'e', 1],\n",
       " ['R', 'r', 1],\n",
       " [' ', ' ', 1],\n",
       " ['F', 'f', 1],\n",
       " ['O', 'o', 1],\n",
       " ['R', 'r', 1],\n",
       " [' ', ' ', 1],\n",
       " ['T', 't', 1],\n",
       " ['H', 'h', 1],\n",
       " ['E', 'e', 1],\n",
       " [' ', ' ', 1],\n",
       " ['S', 's', 1],\n",
       " ['O', 'o', 1],\n",
       " ['U', 'u', 1],\n",
       " ['T', 't', 1],\n",
       " ['H', 'h', 1],\n",
       " ['W', 'w', 1],\n",
       " ['E', 'e', 1],\n",
       " ['S', 's', 1],\n",
       " ['T', 't', 1],\n",
       " ['.', '.', 1]]"
      ]
     },
     "execution_count": 7,
     "metadata": {},
     "output_type": "execute_result"
    }
   ],
   "source": [
    "words=\"The water level in Lake Mead — the nation's largest reservoir — dropped below 1,050 feet elevation for the first time last week, a critical milestone that signals more stringent water cuts are around the corner for the Southwest.\"\n",
    "result5=[[w.upper(),w.lower(),len(w)] for w in words]\n",
    "result5"
   ]
  },
  {
   "cell_type": "code",
   "execution_count": 8,
   "id": "fc69f223-da20-49fd-bc3d-4da2f020a716",
   "metadata": {},
   "outputs": [
    {
     "name": "stdout",
     "output_type": "stream",
     "text": [
      "(1, 10)\n",
      "(2, 20)\n",
      "(3, 30)\n",
      "(4, 40)\n"
     ]
    }
   ],
   "source": [
    "a=[1,2,3,4]\n",
    "b=[10,20,30,40]\n",
    "result=zip(a,b)\n",
    "for i in result:\n",
    "    print(i)"
   ]
  },
  {
   "cell_type": "code",
   "execution_count": 28,
   "id": "b7269835-86f0-43b6-96eb-3b4ee3339ed3",
   "metadata": {},
   "outputs": [
    {
     "data": {
      "text/plain": [
       "[(1, 10), (2, 20), (3, 30), (4, 40)]"
      ]
     },
     "execution_count": 28,
     "metadata": {},
     "output_type": "execute_result"
    }
   ],
   "source": [
    "result=[i for i in zip(a,b)]\n",
    "result"
   ]
  },
  {
   "cell_type": "code",
   "execution_count": 32,
   "id": "4b931da5-68dc-434b-af13-d883d01d95d7",
   "metadata": {},
   "outputs": [
    {
     "name": "stdout",
     "output_type": "stream",
     "text": [
      "6\n",
      "10\n"
     ]
    }
   ],
   "source": [
    "f=lambda x:x+1\n",
    "print(f(5))\n",
    "print((lambda x:x*2)(5))"
   ]
  },
  {
   "cell_type": "code",
   "execution_count": 36,
   "id": "314221f1-1886-4613-a3a8-df348ba03a3e",
   "metadata": {},
   "outputs": [
    {
     "name": "stdout",
     "output_type": "stream",
     "text": [
      "Hello, My name is 김길동, I play in Mf, back_number is 10\n",
      "선수의 등번호 변경: from 10 to 11\n",
      "Hello, My name is 김길동, I play in Mf, back_number is 11\n"
     ]
    }
   ],
   "source": [
    "class SoccerPlay(object):\n",
    "    # 생성자\n",
    "    def __init__(self,name,position,back_number):\n",
    "        self.name=name\n",
    "        self.position=position\n",
    "        self.back_number=back_number\n",
    "        \n",
    "    def change_back_number(self,new_back_number):\n",
    "        print(\"선수의 등번호 변경: from %d to %d\"%(self.back_number,new_back_number))\n",
    "        self.back_number=new_back_number\n",
    "    \n",
    "    # 자바에서 toString()과 비슷한 함수(메소드)\n",
    "    def __str__(self):\n",
    "        return \"Hello, My name is %s, I play in %s, back_number is %d\"%(self.name,self.position,self.back_number)\n",
    "\n",
    "kim=SoccerPlay('김길동','Mf',10)\n",
    "print(kim)\n",
    "\n",
    "kim.change_back_number(11)\n",
    "print(kim)"
   ]
  },
  {
   "cell_type": "code",
   "execution_count": 49,
   "id": "d94256c2-fff6-4063-99ac-d4ad0057c36c",
   "metadata": {},
   "outputs": [
    {
     "name": "stdout",
     "output_type": "stream",
     "text": [
      "이름 홍길동, 나이 20\n"
     ]
    }
   ],
   "source": [
    "class Person(object):\n",
    "    def __init__(self,name,age):\n",
    "        self.name=name\n",
    "        self.age=age\n",
    "    def __str__(self):\n",
    "        return \"%s, %d\"%(self.name,self.age)\n",
    "    \n",
    "    def display(self):\n",
    "        print(\"이름 %s, 나이 %d\"%(self.name,self.age))\n",
    "\n",
    "p1=Person('홍길동',20)\n",
    "p1.display()"
   ]
  },
  {
   "cell_type": "code",
   "execution_count": 57,
   "id": "de85e8f0-5c40-4639-b4c0-b2fbf11b1eeb",
   "metadata": {},
   "outputs": [
    {
     "name": "stdout",
     "output_type": "stream",
     "text": [
      "이름 홍길동, 나이 20\n",
      "10, 컴공\n"
     ]
    }
   ],
   "source": [
    "class Student(Person):\n",
    "    def __init__(self,name,age,sno,major):\n",
    "        super().__init__(name,age)\n",
    "        self.sno=sno\n",
    "        self.major=major\n",
    "    def __str__(self):\n",
    "        super().display()\n",
    "        return \"%d, %s\"%(self.sno,self.major)\n",
    "s1=Student('홍길동',20,10,'컴공')\n",
    "print(s1)"
   ]
  }
 ],
 "metadata": {
  "kernelspec": {
   "display_name": "Python 3 (ipykernel)",
   "language": "python",
   "name": "python3"
  },
  "language_info": {
   "codemirror_mode": {
    "name": "ipython",
    "version": 3
   },
   "file_extension": ".py",
   "mimetype": "text/x-python",
   "name": "python",
   "nbconvert_exporter": "python",
   "pygments_lexer": "ipython3",
   "version": "3.12.9"
  }
 },
 "nbformat": 4,
 "nbformat_minor": 5
}
