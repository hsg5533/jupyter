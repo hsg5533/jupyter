{
 "cells": [
  {
   "cell_type": "code",
   "execution_count": null,
   "id": "5de99797-fb0b-4ec3-958a-aa134bb34f75",
   "metadata": {},
   "outputs": [],
   "source": [
    "class Person(object):\n",
    "    def __init__(self,name,age,gender):\n",
    "        self.name=name\n",
    "        self.age=age\n",
    "        self.gender=gender\n",
    "        \n",
    "    def about_me(self):\n",
    "        print(\"아름은\",self.name,\"나이는\",self.age,\"성별은\",self.gender)\n",
    "        \n",
    "p1=Person('홍길동',20,'남자')\n",
    "p1.about_me()"
   ]
  },
  {
   "cell_type": "code",
   "execution_count": null,
   "id": "82dc063a-6845-405b-aed9-036dce9d3ce7",
   "metadata": {},
   "outputs": [],
   "source": [
    "class Employee(Person):\n",
    "    def __init__(self,name,age,gender,salary,hire_date):\n",
    "        super().__init__(name,age,gender)\n",
    "        self.__salary=salary #필드에서 언더바 두개를 앞쪽에 붙이면 java의 private효과가 난다 \n",
    "        self.hire_date=hire_date\n",
    "\n",
    "    def chanege_salary(self,new_salary):\n",
    "        self.__salary=new_salary\n",
    "    \n",
    "    def get_salary(self):\n",
    "        print(\"급여는\",self.__salary)\n",
    "        \n",
    "    def do_work(self):\n",
    "        print(\"일중\")\n",
    "        \n",
    "    def about_me(self):\n",
    "        super().about_me()\n",
    "        print(\"급여는\",self.__salary,\"고용날짜는\",self.hire_date)\n",
    "        \n",
    "e1=Employee('홍길동',20,'남자',300,'2022-09-22')\n",
    "e1.do_work()\n",
    "e1.about_me()\n",
    "e1.__salary1=600 #e1에 변수를 생성하여 초기화함\n",
    "e1.about_me()\n",
    "print(e1.__salary1)\n",
    "e1.get_salary()"
   ]
  }
 ],
 "metadata": {
  "kernelspec": {
   "display_name": "Python 3 (ipykernel)",
   "language": "python",
   "name": "python3"
  },
  "language_info": {
   "codemirror_mode": {
    "name": "ipython",
    "version": 3
   },
   "file_extension": ".py",
   "mimetype": "text/x-python",
   "name": "python",
   "nbconvert_exporter": "python",
   "pygments_lexer": "ipython3",
   "version": "3.12.9"
  }
 },
 "nbformat": 4,
 "nbformat_minor": 5
}
