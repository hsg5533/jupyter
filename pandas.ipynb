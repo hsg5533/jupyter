{
 "cells": [
  {
   "cell_type": "code",
   "execution_count": null,
   "id": "f159ec16-49d6-4a06-adf9-90d0c5bcf225",
   "metadata": {},
   "outputs": [],
   "source": [
    "import numpy as np\n",
    "import pandas as pd"
   ]
  },
  {
   "cell_type": "code",
   "execution_count": null,
   "id": "2265d274-e643-42fe-868d-ba7115d7d878",
   "metadata": {},
   "outputs": [],
   "source": [
    "a=[4,6,5,8,3]\n",
    "x=pd.Series(a,index=['a','b','c','d','e'])\n",
    "print(x.index)\n",
    "print(x.values)\n",
    "print(x.dtype)\n",
    "print(x)"
   ]
  },
  {
   "cell_type": "code",
   "execution_count": null,
   "id": "52feeedc-0412-4f96-b72f-18c3c308d603",
   "metadata": {},
   "outputs": [],
   "source": [
    "b={'홍길동':70,'김길동':60,'빅길동':84,'이길동':77}\n",
    "s1=pd.Series(b)\n",
    "print(s1.index)\n",
    "print(s1.values)\n",
    "s1.index=['hong','kim','big','lee']\n",
    "print(s1)"
   ]
  },
  {
   "cell_type": "code",
   "execution_count": null,
   "id": "b40eb376-962e-43dd-ae9f-df14daa8b99c",
   "metadata": {},
   "outputs": [],
   "source": [
    "print(s1['kim'])\n",
    "print(s1[['kim','hong']])\n",
    "print(s1['hong':'big'])"
   ]
  },
  {
   "cell_type": "code",
   "execution_count": null,
   "id": "5039f5fb-326d-4032-9ba9-d80e1776113b",
   "metadata": {},
   "outputs": [],
   "source": [
    "s1=pd.Series([10,20,30,40,50])\n",
    "s2=pd.Series([100,200,300,400,500])\n",
    "s3=s1+s2\n",
    "print(s3+1000)"
   ]
  },
  {
   "cell_type": "code",
   "execution_count": null,
   "id": "6f1ba15d-8f59-419c-b6bf-4e9219705b8f",
   "metadata": {},
   "outputs": [],
   "source": [
    "names=['민준','현우','서연','동현','지현']\n",
    "years=[2013,2014,2013,2015,2016]\n",
    "points=[1.5,1.7,3.6,2.4,2.9]\n",
    "data={'names':names,'years':years,'points':points}\n",
    "df=pd.DataFrame(data)\n",
    "df"
   ]
  },
  {
   "cell_type": "code",
   "execution_count": null,
   "id": "25a61390-f52c-4522-a8e2-0b55ff5a3f0c",
   "metadata": {},
   "outputs": [],
   "source": [
    "data=[names,years,points]\n",
    "df=pd.DataFrame(data)\n",
    "df"
   ]
  },
  {
   "cell_type": "code",
   "execution_count": null,
   "id": "c0f19610-a12d-4e42-90e3-4db81c93cd8b",
   "metadata": {},
   "outputs": [],
   "source": [
    "df2=pd.DataFrame(data).transpose()\n",
    "df2.columns=['names','years','points']\n",
    "df2"
   ]
  },
  {
   "cell_type": "code",
   "execution_count": null,
   "id": "82259de1-00a8-4e4e-822a-f638a1241ac0",
   "metadata": {},
   "outputs": [],
   "source": [
    "data1=zip(data[0],data[1],data[2])\n",
    "df1=pd.DataFrame(data1,columns=['names','years','points'],index=['one','two','three','four','five'])\n",
    "df1"
   ]
  },
  {
   "cell_type": "code",
   "execution_count": null,
   "id": "cf0edb2a-3393-4f7f-9736-ef2286ac4599",
   "metadata": {},
   "outputs": [],
   "source": [
    "data3=zip(data[0],data[1],data[2])\n",
    "df3=pd.DataFrame(data3,columns=['names','years','points'],index=['one','two','three','four','five'])\n",
    "df3.columns.name='coulmn_name'\n",
    "df3.index.name='index_name'\n",
    "df3"
   ]
  },
  {
   "cell_type": "code",
   "execution_count": null,
   "id": "7e73a5fe-0d15-4baa-b468-4739a47913e4",
   "metadata": {},
   "outputs": [],
   "source": [
    "df3.describe()"
   ]
  },
  {
   "cell_type": "code",
   "execution_count": null,
   "id": "0cf889bb-a4b9-482f-b129-8209d6459147",
   "metadata": {},
   "outputs": [],
   "source": [
    "print(df1['names'])\n",
    "print(df1.names)\n",
    "print(df1.points)"
   ]
  },
  {
   "cell_type": "code",
   "execution_count": null,
   "id": "142c0b46-703a-4f51-a6a7-794e02651c37",
   "metadata": {},
   "outputs": [],
   "source": [
    "df1['penalty']=[0.5,0.1,0.3,0.2,0.4]\n",
    "df1['abc']=np.arange(5)\n",
    "print(df1)\n",
    "del df1['abc']\n",
    "print(df1)"
   ]
  },
  {
   "cell_type": "code",
   "execution_count": null,
   "id": "7abfd244-c4bf-4a2a-93a3-d14c750a3d83",
   "metadata": {},
   "outputs": [],
   "source": [
    "print(df1['one':'three'])\n",
    "print(df1.loc['one'])\n",
    "print(df1.loc['one','names'])"
   ]
  },
  {
   "cell_type": "code",
   "execution_count": null,
   "id": "941d08ca-d3e2-40a4-9cd7-4400a1c2ae14",
   "metadata": {},
   "outputs": [],
   "source": [
    "df1.iloc[1:3,1:3]"
   ]
  },
  {
   "cell_type": "code",
   "execution_count": null,
   "id": "f7d8db7f-34ea-4e3b-ae61-983017e2cf0d",
   "metadata": {},
   "outputs": [],
   "source": [
    "df1.loc['six',:]=['길동',2017,0.3,2.0]\n",
    "df1"
   ]
  },
  {
   "cell_type": "code",
   "execution_count": null,
   "id": "4bd87ad0-da3d-4464-88f6-1ef8a20049a1",
   "metadata": {},
   "outputs": [],
   "source": [
    "print(df1.loc[df1['years']>2014,:]) #years가 2014보다 큰 위치를 출력\n",
    "print(df1.loc[df1.years>2014,:])\n",
    "print(df1.loc[df1.names=='길동',:])\n",
    "print(df1.loc[(df1.points>2)&(df1.points<3),:])\n",
    "df1.loc[df1.points>3,'penalty']=0\n",
    "df1"
   ]
  },
  {
   "cell_type": "code",
   "execution_count": null,
   "id": "c7a9d521-c297-4df8-8832-af3fe78a3063",
   "metadata": {},
   "outputs": [],
   "source": [
    "df3=pd.DataFrame(np.random.rand(6,4))\n",
    "df3.columns=['A','B','C','D']\n",
    "df3.index=pd.date_range('20220501',periods=6)\n",
    "df3['F']=[1.0,np.nan,3.5,6.1,np.nan,7.0]\n",
    "df3"
   ]
  },
  {
   "cell_type": "code",
   "execution_count": null,
   "id": "ee4e4905-2aac-43ad-825e-2e761302dddb",
   "metadata": {},
   "outputs": [],
   "source": [
    "df4=df3.dropna(how='any')\n",
    "df4"
   ]
  },
  {
   "cell_type": "code",
   "execution_count": null,
   "id": "ccb09916-7097-4884-968e-cb622070c16f",
   "metadata": {},
   "outputs": [],
   "source": [
    "df3.isnull() #값이 NaN이면 True\n",
    "df3.loc[df3.isnull()['F'],:] #F열에 NaN값이 있는 행을 출력"
   ]
  },
  {
   "cell_type": "code",
   "execution_count": null,
   "id": "94049494-aafa-4ad5-9b59-3b5870231d99",
   "metadata": {},
   "outputs": [],
   "source": [
    "pd.to_datetime('20220101082233')"
   ]
  },
  {
   "cell_type": "code",
   "execution_count": null,
   "id": "1860fa4b-5df9-4dee-8690-965f91004525",
   "metadata": {},
   "outputs": [],
   "source": [
    "df4=df3.drop([pd.to_datetime('20220503'),pd.to_datetime('20220501')])\n",
    "df4"
   ]
  },
  {
   "cell_type": "code",
   "execution_count": null,
   "id": "d4f53055-e822-4750-ab47-77d8591ed4b0",
   "metadata": {},
   "outputs": [],
   "source": [
    "df4=df3.drop(['D','F'],axis=1)\n",
    "df4"
   ]
  }
 ],
 "metadata": {
  "kernelspec": {
   "display_name": "Python 3 (ipykernel)",
   "language": "python",
   "name": "python3"
  },
  "language_info": {
   "codemirror_mode": {
    "name": "ipython",
    "version": 3
   },
   "file_extension": ".py",
   "mimetype": "text/x-python",
   "name": "python",
   "nbconvert_exporter": "python",
   "pygments_lexer": "ipython3",
   "version": "3.12.9"
  }
 },
 "nbformat": 4,
 "nbformat_minor": 5
}
