{
 "cells": [
  {
   "cell_type": "code",
   "execution_count": 3,
   "id": "8fe89c71-1c73-45d3-9392-bb7524cbfaa5",
   "metadata": {},
   "outputs": [],
   "source": [
    "from collections import Counter\n",
    "from konlpy.tag import Okt\n",
    "import pytagcloud\n",
    "# 텍스트 내용 참조:https://1moment.tistory.com/57\n",
    "f = open('data/blog_data.txt',encoding='utf-8')\n",
    "data = f.read()\n",
    "okt = Okt() # 형태소 분석기\n",
    "nor_okt = okt.normalize(data) # 블로그 내용을 전부 일반형으로 바꿈 \n",
    "nouns = okt.nouns(nor_okt) # 명사 추출\n",
    "\n",
    "count = Counter(nouns)\n",
    "tags2 = count.most_common(40) # 명사 빈도 수\n",
    "taglist = pytagcloud.make_tags(tags2,maxsize=80)\n",
    "# rectangular:워드클라우드 모양을 사각형으로 할 건지 원형으로 할 건지 설정\n",
    "pytagcloud.create_tag_image(taglist, 'data/wordcloud.jpg', size=(900,600), fontname='PT Sans Regular', rectangular=False)\n",
    " \n",
    "f.close()"
   ]
  }
 ],
 "metadata": {
  "kernelspec": {
   "display_name": "Python 3 (ipykernel)",
   "language": "python",
   "name": "python3"
  },
  "language_info": {
   "codemirror_mode": {
    "name": "ipython",
    "version": 3
   },
   "file_extension": ".py",
   "mimetype": "text/x-python",
   "name": "python",
   "nbconvert_exporter": "python",
   "pygments_lexer": "ipython3",
   "version": "3.9.12"
  }
 },
 "nbformat": 4,
 "nbformat_minor": 5
}
