{
 "cells": [
  {
   "cell_type": "markdown",
   "id": "af9a1349-7f52-48c2-bb9f-5997b7a61a12",
   "metadata": {},
   "source": [
    "# Seaborn\n",
    "- 참조 사이트 : https://seaborn.pydata.org\n",
    "- matplotlib을 기반으로 하는 Python 데이터 시각화 라이브러리\n",
    "- 매력적이고 유익한 통계 그래픽을 그리기 위한 고급 인터페이스를 제공\n",
    "- 업데이터 : conda install seaborn (관리자 모드에서 설치)\n",
    "- 표현 가능 그래프 : 관계형, 카테고리, 분포, 회귀분석, 멀티-플롯, 스타일, 색상 등"
   ]
  },
  {
   "cell_type": "code",
   "execution_count": null,
   "id": "c0c7560a",
   "metadata": {},
   "outputs": [],
   "source": [
    "import numpy as np\n",
    "import pandas as pd\n",
    "import matplotlib.pyplot as plt\n",
    "import seaborn as sns\n",
    "\n",
    "sns.set(style='whitegrid')\n",
    "\n",
    "%matplotlib inline"
   ]
  },
  {
   "cell_type": "code",
   "execution_count": null,
   "id": "b9385c0a-9ef3-4a91-bd55-93f4ea56c51d",
   "metadata": {},
   "outputs": [],
   "source": [
    "from matplotlib import rc, font_manager\n",
    "# 한글 처리를 위해 폰트 설정\n",
    "font_name=font_manager.FontProperties(fname=\"c:/Windows/Fonts/malgun.ttf\").get_name()\n",
    "rc('font',family=font_name)\n",
    "#그림 크기\n",
    "plt.rcParams['figure.figsize']=(12,9)"
   ]
  },
  {
   "cell_type": "code",
   "execution_count": null,
   "id": "b47f4324-1ea7-41f0-b6df-ab92b0e2574a",
   "metadata": {},
   "outputs": [],
   "source": [
    "# titanic 데이터 로드\n",
    "titanic=sns.load_dataset('titanic')\n",
    "print(titanic.shape)\n",
    "titanic.head()"
   ]
  },
  {
   "cell_type": "markdown",
   "id": "7c187ccc-2ff1-48a4-8171-2ad938b770b6",
   "metadata": {},
   "source": [
    "# titanic field\n",
    "- survived: 생존여부\n",
    "- pclass: 좌석등급\n",
    "- sex: 성별\n",
    "- age: 나이\n",
    "- sibsp: 형제자매 + 배우자 숫자\n",
    "- parch: 부모자식 숫자\n",
    "- fare: 요금\n",
    "- embarked: 탑승 항구\n",
    "- class: 좌석등급 (영문)\n",
    "- who: 사람 구분\n",
    "- deck: 데크\n",
    "- embark_town: 탑승 항구 (영문)\n",
    "- alive: 생존여부 (영문)\n",
    "- alone: 혼자인지 여부"
   ]
  },
  {
   "cell_type": "code",
   "execution_count": null,
   "id": "16390347",
   "metadata": {
    "scrolled": true
   },
   "outputs": [],
   "source": [
    "# tips 데이터 셋 load\n",
    "tips=sns.load_dataset('tips')\n",
    "print(tips.shape)\n",
    "tips.head()"
   ]
  },
  {
   "cell_type": "code",
   "execution_count": null,
   "id": "87f4d8c6-670f-4019-971b-d1d1861cbbcf",
   "metadata": {
    "tags": []
   },
   "outputs": [],
   "source": [
    "sns.get_dataset_names() # seaborn의 데이터 셋 확인"
   ]
  },
  {
   "cell_type": "markdown",
   "id": "8bd09763-c37f-4c9b-949b-c702d4e81a1a",
   "metadata": {},
   "source": [
    "# tips 데이터 셋 필드\n",
    "- total_bill: 총 합계 요금표\n",
    "- tip: 팁\n",
    "- sex: 성별\n",
    "- smoker: 흡연자 여부\n",
    "- day: 요일\n",
    "- time: 식사 시간\n",
    "- size: 식사 인원"
   ]
  },
  {
   "cell_type": "markdown",
   "id": "1b8f5e85-85a7-4eea-9ef1-61d3efea9fab",
   "metadata": {},
   "source": [
    "# 1. countplot()\n",
    "- 항목의 갯수를 세어줌\n",
    "- 알아서 column을 구성하고 있는 value들을 구분하여 보여즘"
   ]
  },
  {
   "cell_type": "code",
   "execution_count": null,
   "id": "752850c2-4df0-4851-9eb9-b1b717915341",
   "metadata": {},
   "outputs": [],
   "source": [
    "sns.countplot(x=\"class\", hue='who', data=titanic)\n",
    "plt.show()"
   ]
  },
  {
   "cell_type": "code",
   "execution_count": null,
   "id": "88e8a1d5-4d1e-4e5e-b733-14b65e328757",
   "metadata": {},
   "outputs": [],
   "source": [
    "sns.countplot(y=\"class\", hue='who', data=titanic)\n",
    "plt.show()"
   ]
  },
  {
   "cell_type": "code",
   "execution_count": null,
   "id": "6f1a5cf9-b2e6-4086-a84f-f098d94d019e",
   "metadata": {},
   "outputs": [],
   "source": [
    "sns.countplot(x=\"class\", data=titanic)\n",
    "plt.show()"
   ]
  },
  {
   "cell_type": "code",
   "execution_count": null,
   "id": "5a5af02e-4de2-4397-9552-5069172520e6",
   "metadata": {},
   "outputs": [],
   "source": [
    "sns.countplot(x=\"class\", hue='who', palette='YlGn', data=titanic)\n",
    "#palette 값 입력 오류시 사용가능한 palette명 표시 , 예:  palette='Accent1111111111'\n",
    "plt.show()"
   ]
  },
  {
   "cell_type": "code",
   "execution_count": null,
   "id": "3001094b-3df0-4545-98f3-61175f1aa709",
   "metadata": {},
   "outputs": [],
   "source": [
    "# seaborn color palette 사용 \n",
    "#참조사이트 :https://www.geeksforgeeks.org/seaborn-color-palette/\n",
    "current_palette = sns.color_palette()\n",
    "#sns.palplot(current_palette)\n",
    "\n",
    "#sns.palplot(sns.color_palette(\"Greys\"))\n",
    "sns.palplot(sns.color_palette(\"terrain_r\", 7))\n",
    "#sns.palplot(sns.color_palette(\"deep\", 10))\n",
    "#sns.palplot(sns.color_palette(\"muted\", 10))\n",
    "#sns.palplot(sns.color_palette(\"bright\", 10))\n",
    "#sns.palplot(sns.color_palette(\"dark\", 10))\n",
    "color = [\"Blue\", \"White\", \"Red\", \"Yellow\", \"Green\", \"Grey\"]\n",
    "sns.set_palette('deep')\n",
    "#sns.palplot(sns.color_palette())"
   ]
  },
  {
   "cell_type": "markdown",
   "id": "0f25e648-921a-4199-896f-97b57e5711ff",
   "metadata": {},
   "source": [
    "# 2. relplot\n",
    "- 두 comumn간의 상관관계를 보여줌"
   ]
  },
  {
   "cell_type": "code",
   "execution_count": null,
   "id": "aad4180b-f1cc-4277-9e09-2814adeaa514",
   "metadata": {},
   "outputs": [],
   "source": [
    "#sns.relplot(x='x축으로 사용할 필드', y='y축으로 사용할 필드', data='dataFrame')\n",
    "print(tips.total_bill.corr(tips.tip))\n",
    "sns.relplot(x='total_bill', y='tip', data=tips)\n",
    "#sns.scatterplot(x='total_bill', y='tip', data=tips) # "
   ]
  },
  {
   "cell_type": "code",
   "execution_count": null,
   "id": "e1d95d9c-20b5-413f-830d-83c85b99b2b8",
   "metadata": {},
   "outputs": [],
   "source": [
    "tips"
   ]
  },
  {
   "cell_type": "code",
   "execution_count": null,
   "id": "ab2d5a63-e029-49c3-915c-bcc268735583",
   "metadata": {},
   "outputs": [],
   "source": [
    "sns.scatterplot(x='total_bill', y='tip', data=tips, hue='smoker')"
   ]
  },
  {
   "cell_type": "code",
   "execution_count": null,
   "id": "38d0f88f",
   "metadata": {},
   "outputs": [],
   "source": [
    "# hue 색상 : 범주형 데이터\n",
    "sns.relplot(x='total_bill', y='tip', data=tips, hue='smoker')"
   ]
  },
  {
   "cell_type": "code",
   "execution_count": null,
   "id": "51c25ced-bb56-4571-8036-2aa350bf147a",
   "metadata": {
    "tags": []
   },
   "outputs": [],
   "source": [
    "sns.relplot(x=\"total_bill\", y=\"tip\", hue=\"day\", data=tips)\n",
    "plt.show()"
   ]
  },
  {
   "cell_type": "code",
   "execution_count": null,
   "id": "b4593f60-fc3b-4252-8824-a4b29e4a3a9f",
   "metadata": {},
   "outputs": [],
   "source": [
    "tips"
   ]
  },
  {
   "cell_type": "code",
   "execution_count": null,
   "id": "661e6b4e",
   "metadata": {
    "tags": []
   },
   "outputs": [],
   "source": [
    "# hue 색상 : 수치형 데이터\n",
    "sns.relplot(x='total_bill', y='tip', data=tips, hue='size')"
   ]
  },
  {
   "cell_type": "code",
   "execution_count": null,
   "id": "c9917905",
   "metadata": {
    "tags": []
   },
   "outputs": [],
   "source": [
    "#style & hue\n",
    "sns.relplot(x='total_bill', y='tip', data=tips, style='smoker', hue='size')"
   ]
  },
  {
   "cell_type": "code",
   "execution_count": null,
   "id": "4de78dc9",
   "metadata": {
    "tags": []
   },
   "outputs": [],
   "source": [
    "sns.relplot(x='total_bill', y='tip', data=tips, palette='husl', hue='size')"
   ]
  },
  {
   "cell_type": "code",
   "execution_count": null,
   "id": "4d1a170e",
   "metadata": {
    "tags": []
   },
   "outputs": [],
   "source": [
    "#마크의 크기 설정\n",
    "sns.relplot(x='total_bill', y='tip', data=tips, palette='terrain_r', \n",
    "            size='size' , hue='size')"
   ]
  },
  {
   "cell_type": "code",
   "execution_count": null,
   "id": "3bbd122f-f3cd-4633-b712-b05789d233d0",
   "metadata": {},
   "outputs": [],
   "source": [
    "# row와 column에 표기할 데이터 column 선택하여 표현 가능\n",
    "sns.relplot(x=\"total_bill\", y=\"tip\", hue=\"smoker\", col=\"day\", data=tips)\n",
    "plt.show()"
   ]
  },
  {
   "cell_type": "code",
   "execution_count": null,
   "id": "d1eaaa5f-b558-43f3-96ac-8334642c31c3",
   "metadata": {},
   "outputs": [],
   "source": [
    "# row와 column에 표기할 데이터 column 선택하여 표현 가능\n",
    "sns.relplot(x=\"total_bill\", y=\"tip\", hue=\"day\", row=\"sex\", col=\"time\", \n",
    "            data=tips)\n",
    "plt.show()"
   ]
  },
  {
   "cell_type": "code",
   "execution_count": null,
   "id": "50201cc0-83d8-4249-b3d5-001ab8dee603",
   "metadata": {
    "tags": []
   },
   "outputs": [],
   "source": [
    "# rel plot로 line 그래프 그리기\n",
    "df=pd.DataFrame(dict(time=np.arange(500), value=np.random.randn(500).cumsum()))\n",
    "df"
   ]
  },
  {
   "cell_type": "code",
   "execution_count": null,
   "id": "58c245ed-c19a-4baf-a848-727601ee2293",
   "metadata": {},
   "outputs": [],
   "source": [
    "plt.rcParams['axes.unicode_minus']=False\n",
    "sns.relplot(x='time', y='value', data=df, kind='line')"
   ]
  },
  {
   "cell_type": "code",
   "execution_count": null,
   "id": "472c9159-0cc0-4ebb-88de-274b6d77c55a",
   "metadata": {},
   "outputs": [],
   "source": [
    "fmri=sns.load_dataset('fmri')\n",
    "print(fmri.shape)\n",
    "fmri"
   ]
  },
  {
   "cell_type": "code",
   "execution_count": null,
   "id": "a44695ed-9bda-4020-a824-2ff8983f13e2",
   "metadata": {},
   "outputs": [],
   "source": [
    "# 95% 신뢰구간 보여줌\n",
    "\n",
    "sns.relplot(x='timepoint', y='signal', data=fmri, kind='line')"
   ]
  },
  {
   "cell_type": "code",
   "execution_count": null,
   "id": "f3d8a54e-6c88-48b7-acb7-c5fd51c6a48b",
   "metadata": {},
   "outputs": [],
   "source": [
    "sns.relplot(x='timepoint', y='signal', data=fmri, kind='line', ci=None)"
   ]
  },
  {
   "cell_type": "code",
   "execution_count": null,
   "id": "2b5952a7-2f92-491f-b799-852401e720e7",
   "metadata": {},
   "outputs": [],
   "source": [
    "sns.relplot(x='timepoint', y='signal', data=fmri, kind='line', ci=50)"
   ]
  },
  {
   "cell_type": "code",
   "execution_count": null,
   "id": "f775aba9-c9c0-4a3d-b6da-25ac6a646f28",
   "metadata": {},
   "outputs": [],
   "source": [
    "sns.relplot(x='timepoint', y='signal', data=fmri, kind='line', ci=\"sd\")"
   ]
  },
  {
   "cell_type": "code",
   "execution_count": null,
   "id": "11130ded-51e9-4b38-b609-def6f4c74daa",
   "metadata": {},
   "outputs": [],
   "source": [
    "sns.relplot(x='timepoint', y='signal', data=fmri, kind='line', \n",
    "            hue='region', style='event')"
   ]
  },
  {
   "cell_type": "markdown",
   "id": "5d26a396-9e61-4787-9246-5d7d03826558",
   "metadata": {},
   "source": [
    "# 3.distplot\n",
    "– matplotlib의 hist 그래프와 kdeplot(ked : Kernel Density Estimation)을 통합한 그래프 이며, 분포와 밀도를 확인할 수 있다."
   ]
  },
  {
   "cell_type": "code",
   "execution_count": null,
   "id": "b4651c5c-e7b2-465b-80c1-db91b8121d2d",
   "metadata": {
    "tags": []
   },
   "outputs": [],
   "source": [
    "# histplot을 구현하기 위한 샘플 데이터를 생성\n",
    "x = np.random.randn(100)\n",
    "x"
   ]
  },
  {
   "cell_type": "code",
   "execution_count": null,
   "id": "1cacf0be-9558-4df5-b863-e201da52c26e",
   "metadata": {
    "tags": []
   },
   "outputs": [],
   "source": [
    "sns.distplot(x)\n",
    "plt.show()"
   ]
  },
  {
   "cell_type": "code",
   "execution_count": null,
   "id": "54192490-c3f5-4650-8b5c-0c10d669f75a",
   "metadata": {
    "tags": []
   },
   "outputs": [],
   "source": [
    "sns.distplot(x, rug=True, hist=True, kde=True)\n",
    "plt.show()"
   ]
  },
  {
   "cell_type": "code",
   "execution_count": null,
   "id": "ef26e6ea-fc91-4179-8441-2565e2286e33",
   "metadata": {},
   "outputs": [],
   "source": [
    "sns.kdeplot(x)"
   ]
  },
  {
   "cell_type": "code",
   "execution_count": null,
   "id": "b64d501c-441d-4226-a9b2-5f4bea264ffd",
   "metadata": {
    "tags": []
   },
   "outputs": [],
   "source": [
    "plt.hist(x)"
   ]
  },
  {
   "cell_type": "code",
   "execution_count": null,
   "id": "5cb69605-3be3-42b9-a219-f1d6783abbc0",
   "metadata": {},
   "outputs": [],
   "source": [
    "# rugplot\n",
    "# rug는 rugplot이라고도 불리우며, 데이터 위치를 x축 위에 **작은 선분(rug)으로 나타내어\n",
    "# 데이터들의 위치 및 분포**를 보여준다.\n",
    "sns.distplot(x, rug=True, hist=False, kde=True)\n",
    "plt.show()"
   ]
  },
  {
   "cell_type": "code",
   "execution_count": null,
   "id": "91939946-f145-4a39-b844-01df3bce2e3d",
   "metadata": {
    "tags": []
   },
   "outputs": [],
   "source": [
    "# kde(kernel density)plot\n",
    "# kde는 histogram보다 부드러운 형태의 분포 곡선을 보여주는 방법\n",
    "sns.distplot(x, rug=False, hist=False, kde=True)\n",
    "plt.show()"
   ]
  },
  {
   "cell_type": "code",
   "execution_count": null,
   "id": "c629e24a-92f2-4a19-bd17-a5d9b3e90764",
   "metadata": {
    "tags": []
   },
   "outputs": [],
   "source": [
    "# 가로로 표현하기\n",
    "sns.distplot(x, vertical=True)"
   ]
  },
  {
   "cell_type": "code",
   "execution_count": null,
   "id": "b121ef9f-d306-4902-bc84-fca707a1d3c6",
   "metadata": {
    "tags": []
   },
   "outputs": [],
   "source": [
    "# 컬러 변경하기 color : r,g,b,c,m,y 가능\n",
    "sns.distplot(x, color=\"c\") \n",
    "plt.show()"
   ]
  },
  {
   "cell_type": "code",
   "execution_count": null,
   "id": "b858fd64-6c8e-4f80-9606-93dc46e38496",
   "metadata": {},
   "outputs": [],
   "source": [
    "#histplot() 사용\n",
    "sns.histplot(data=x, kde=True)\n",
    "sns.rugplot(x=x)\n",
    "plt.show()"
   ]
  },
  {
   "cell_type": "code",
   "execution_count": null,
   "id": "7241caf5-9de1-4c8f-89fc-8330571ff7e4",
   "metadata": {},
   "outputs": [],
   "source": [
    "sns.histplot(data=tips.total_bill, kde=True)\n",
    "sns.rugplot(x=tips.total_bill)\n",
    "plt.show()"
   ]
  },
  {
   "cell_type": "markdown",
   "id": "d4f4cd5c-7850-48a4-9f7e-0def527680f0",
   "metadata": {},
   "source": [
    "# 4. heatmap\n",
    "– 색상으로 표현할 수 있는 다양한 정보를 일정한 이미지위에 열분포 형태의 비쥬얼한 그래픽으로 출력 가능하다."
   ]
  },
  {
   "cell_type": "code",
   "execution_count": null,
   "id": "c9e59544-6571-4518-9cf8-970e9109f784",
   "metadata": {},
   "outputs": [],
   "source": [
    "# 기본 heatmap\n",
    "heatmap_data = np.random.rand(10, 12)\n",
    "sns.heatmap(heatmap_data, annot=True) #annot=True로 해야 수치 표현도 가능\n",
    "plt.show()"
   ]
  },
  {
   "cell_type": "markdown",
   "id": "0f5e7440-8c59-46ae-ba84-8dcc470e4103",
   "metadata": {},
   "source": [
    "- pivot table을 활용해서 heatmap을 그릴 수 있다.\n",
    "- 위에서 블러왔던 tips 데이터를 pivot table 형태로 가공 후 heatmap으로 표현해보자."
   ]
  },
  {
   "cell_type": "code",
   "execution_count": null,
   "id": "221a236e-f2a8-4a97-907e-c663a69761e8",
   "metadata": {},
   "outputs": [],
   "source": [
    "pivot = tips.pivot_table(index='day', columns='size', values='tip')\n",
    "pivot"
   ]
  },
  {
   "cell_type": "code",
   "execution_count": null,
   "id": "26041822-bee0-4cdd-83e9-e8daaccef581",
   "metadata": {},
   "outputs": [],
   "source": [
    "sns.heatmap(pivot, cmap='Blues', annot=True) #cmap으로 전체적인 컬러 조정 가능\n",
    "plt.show()"
   ]
  },
  {
   "cell_type": "code",
   "execution_count": null,
   "id": "6e112fc9-13e1-418d-8fae-6f6feb55813b",
   "metadata": {},
   "outputs": [],
   "source": [
    "# 상관관계를 표시할 때도 heatmap을 유용하게 사용할 수 있다.\n",
    "# corr() 함수는 데이터의 상관관계를 보여준다.\n",
    "titanic.corr()"
   ]
  },
  {
   "cell_type": "code",
   "execution_count": null,
   "id": "4747b91b-7b95-4672-8c1a-8c46cc2c75f8",
   "metadata": {},
   "outputs": [],
   "source": [
    "sns.heatmap(titanic.corr(), annot=True, cmap=\"YlGnBu\")\n",
    "plt.show()"
   ]
  }
 ],
 "metadata": {
  "kernelspec": {
   "display_name": "Python 3 (ipykernel)",
   "language": "python",
   "name": "python3"
  },
  "language_info": {
   "codemirror_mode": {
    "name": "ipython",
    "version": 3
   },
   "file_extension": ".py",
   "mimetype": "text/x-python",
   "name": "python",
   "nbconvert_exporter": "python",
   "pygments_lexer": "ipython3",
   "version": "3.12.9"
  }
 },
 "nbformat": 4,
 "nbformat_minor": 5
}
