{
 "cells": [
  {
   "cell_type": "markdown",
   "id": "54810544-9b91-4cfa-ab01-3d430b02bf41",
   "metadata": {},
   "source": [
    "# cat plot\n",
    "- 범주를 나누는어서 그려줌\n",
    "- 참조사이트 : https://seaborn.pydata.org/generated/seaborn.catplot.html \n",
    "- rel : 관계를 보여줌 "
   ]
  },
  {
   "cell_type": "code",
   "execution_count": null,
   "id": "76529d3f",
   "metadata": {},
   "outputs": [],
   "source": [
    "import numpy as np\n",
    "import pandas as pd\n",
    "import matplotlib.pyplot as plt\n",
    "import seaborn as sns\n",
    "sns.set(style='darkgrid')\n",
    "\n",
    "%matplotlib inline"
   ]
  },
  {
   "cell_type": "code",
   "execution_count": null,
   "id": "feeace70-216d-4950-a2fe-0ec8ae55b527",
   "metadata": {},
   "outputs": [],
   "source": [
    "from matplotlib import rc, font_manager\n",
    "# 한글 처리를 위해 폰트 설정\n",
    "font_name=font_manager.FontProperties(fname=\"c:/Windows/Fonts/malgun.ttf\").get_name()\n",
    "rc('font',family=font_name)\n",
    "#그림 크기\n",
    "plt.rcParams['figure.figsize']=(12,9)\n",
    "plt.rcParams['axes.unicode_minus']=False #마이너스 표기"
   ]
  },
  {
   "cell_type": "code",
   "execution_count": null,
   "id": "5fa74ced",
   "metadata": {},
   "outputs": [],
   "source": [
    "# 데이터 셋\n",
    "tips=sns.load_dataset('tips')\n",
    "tips.head()"
   ]
  },
  {
   "cell_type": "code",
   "execution_count": null,
   "id": "95abee1d",
   "metadata": {
    "tags": []
   },
   "outputs": [],
   "source": [
    "#요일별 요금 정산 금액\n",
    "sns.catplot(x='day', y='total_bill', data=tips) "
   ]
  },
  {
   "cell_type": "code",
   "execution_count": null,
   "id": "f351e505",
   "metadata": {
    "tags": []
   },
   "outputs": [],
   "source": [
    "# 펼쳐서 겹칩을 없애 줌, 정확한 개수를 알 수 있음\n",
    "sns.catplot(x='day', y='total_bill', data=tips, kind='swarm')"
   ]
  },
  {
   "cell_type": "code",
   "execution_count": null,
   "id": "a7e7dc49",
   "metadata": {
    "tags": []
   },
   "outputs": [],
   "source": [
    "#색상 설정\n",
    "sns.catplot(x='day', y='total_bill', data=tips, kind='swarm', hue='sex')"
   ]
  },
  {
   "cell_type": "code",
   "execution_count": null,
   "id": "2f0ceba9",
   "metadata": {
    "tags": []
   },
   "outputs": [],
   "source": [
    "#: 가운데 세로 줄로 균형\n",
    "sns.catplot(x='day', y='total_bill', data=tips, kind='violin')"
   ]
  },
  {
   "cell_type": "markdown",
   "id": "e2b11e09-b5c6-418c-a7fe-45598444d858",
   "metadata": {},
   "source": [
    "# violinplot\n",
    "- 바이올린처럼 생긴 차트\n",
    "- column에 대한 데이터의 비교 분포도를 확인할 수 있다.\n",
    "- 곡선진 부분 (뚱뚱한 부분)은 데이터의 분포를 나타낸다.\n",
    "- 양쪽 끝 뾰족한 부분은 데이터의 최소값과 최대값을 나타낸다."
   ]
  },
  {
   "cell_type": "code",
   "execution_count": null,
   "id": "41e970ed-169e-4086-b4a4-218c73a1d7c9",
   "metadata": {},
   "outputs": [],
   "source": [
    "# 기본 violinplot 그리기\n",
    "sns.violinplot(x=tips[\"total_bill\"])\n",
    "plt.show()"
   ]
  },
  {
   "cell_type": "code",
   "execution_count": null,
   "id": "8cd368a5-baab-4df7-a339-5896565dac82",
   "metadata": {
    "tags": []
   },
   "outputs": [],
   "source": [
    "# x, y축을 지정해줌으로썬 바이올린을 분할하여 비교 분포를 볼 수 있다.\n",
    "sns.violinplot(x=\"day\", y=\"total_bill\", data=tips)\n",
    "plt.show()"
   ]
  },
  {
   "cell_type": "code",
   "execution_count": null,
   "id": "d3c9d722-ca48-4bd4-a804-f7d3850c0b93",
   "metadata": {
    "tags": []
   },
   "outputs": [],
   "source": [
    "# violinplot의 하이라이트로 split 옵션으로 바이올린을 합쳐서 볼 수 있다.\n",
    "sns.violinplot(x=\"day\", y=\"total_bill\", hue=\"sex\", data=tips, palette=\"muted\", split=True)\n",
    "plt.show()"
   ]
  },
  {
   "cell_type": "code",
   "execution_count": null,
   "id": "6df5a1cf",
   "metadata": {},
   "outputs": [],
   "source": [
    "sns.catplot(x='day', y='total_bill', data=tips, kind='violin', hue='smoker')"
   ]
  },
  {
   "cell_type": "code",
   "execution_count": null,
   "id": "ac6f3533",
   "metadata": {
    "tags": []
   },
   "outputs": [],
   "source": [
    "sns.catplot(x='day', y='total_bill', data=tips, kind='violin', hue='smoker', inner='stick', split=True) \n",
    "# split : 중앙선으로 카테고리 성별로 나누어짐\n",
    "# inner='stick' : 중앙에 선그림"
   ]
  },
  {
   "cell_type": "markdown",
   "id": "e2b84959-cf37-42f3-b18f-5998f66abc91",
   "metadata": {},
   "source": [
    "# Box plot"
   ]
  },
  {
   "cell_type": "code",
   "execution_count": null,
   "id": "b3635cdd-f2ab-40a4-a82d-171acda8ad0d",
   "metadata": {
    "tags": []
   },
   "outputs": [],
   "source": [
    "#: 박스 중앙이 50%\n",
    "sns.catplot(x='day', y='total_bill', data=tips, kind='box') "
   ]
  },
  {
   "cell_type": "code",
   "execution_count": null,
   "id": "e383893f",
   "metadata": {
    "tags": []
   },
   "outputs": [],
   "source": [
    "sns.catplot(x='day', y='total_bill', data=tips, kind='boxen')"
   ]
  },
  {
   "cell_type": "code",
   "execution_count": null,
   "id": "9a9c7d84",
   "metadata": {
    "tags": []
   },
   "outputs": [],
   "source": [
    "sns.catplot(x='day', y='total_bill', data=tips, kind='point')"
   ]
  },
  {
   "cell_type": "code",
   "execution_count": null,
   "id": "63b19666",
   "metadata": {
    "tags": []
   },
   "outputs": [],
   "source": [
    "sns.catplot(x='day', y='total_bill', data=tips, kind='bar')"
   ]
  },
  {
   "cell_type": "code",
   "execution_count": null,
   "id": "ef49c1a3",
   "metadata": {
    "tags": []
   },
   "outputs": [],
   "source": [
    "sns.catplot(x='day',data=tips, kind='count')"
   ]
  },
  {
   "cell_type": "code",
   "execution_count": null,
   "id": "d628373d",
   "metadata": {
    "tags": []
   },
   "outputs": [],
   "source": [
    "titanic=sns.load_dataset('titanic')\n",
    "titanic"
   ]
  },
  {
   "cell_type": "code",
   "execution_count": null,
   "id": "0833d8ed",
   "metadata": {},
   "outputs": [],
   "source": [
    "sns.catplot(x='sex',y='survived', data=titanic, hue='class', kind='bar')"
   ]
  },
  {
   "cell_type": "code",
   "execution_count": null,
   "id": "8a46e9f1",
   "metadata": {},
   "outputs": [],
   "source": []
  }
 ],
 "metadata": {
  "kernelspec": {
   "display_name": "Python 3 (ipykernel)",
   "language": "python",
   "name": "python3"
  },
  "language_info": {
   "codemirror_mode": {
    "name": "ipython",
    "version": 3
   },
   "file_extension": ".py",
   "mimetype": "text/x-python",
   "name": "python",
   "nbconvert_exporter": "python",
   "pygments_lexer": "ipython3",
   "version": "3.12.9"
  }
 },
 "nbformat": 4,
 "nbformat_minor": 5
}
