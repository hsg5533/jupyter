{
 "cells": [
  {
   "cell_type": "markdown",
   "id": "5ef9ef1c-cd71-48a1-94ae-43f3e0a6e789",
   "metadata": {},
   "source": [
    "# pairplot, Implot, jointplot 활용"
   ]
  },
  {
   "cell_type": "code",
   "execution_count": null,
   "id": "ea259587-5317-4480-b567-378f7f5ce6ef",
   "metadata": {},
   "outputs": [],
   "source": [
    "import numpy as np\n",
    "import pandas as pd\n",
    "import matplotlib.pyplot as plt\n",
    "import seaborn as sns\n",
    "sns.set(style='darkgrid')\n",
    "%matplotlib inline"
   ]
  },
  {
   "cell_type": "code",
   "execution_count": null,
   "id": "41dae1bc-921f-4d22-a78a-8f6cbc548145",
   "metadata": {},
   "outputs": [],
   "source": [
    "# 한글 처리를 위해 폰트 설정\n",
    "from matplotlib import rc, font_manager\n",
    "font_name=font_manager.FontProperties(fname=\"c:/Windows/Fonts/malgun.ttf\").get_name()\n",
    "rc('font',family=font_name)\n",
    "#(-)마이너스 기호 처리\n",
    "plt.rcParams['figure.figsize']=(12,9)\n",
    "plt.rcParams['axes.unicode_minus']=False #마이너스 표기"
   ]
  },
  {
   "cell_type": "code",
   "execution_count": null,
   "id": "64be8bcf-316f-4e88-b5da-d94fb6db43c0",
   "metadata": {
    "tags": []
   },
   "outputs": [],
   "source": [
    "# titanic 데이터 로드\n",
    "titanic=sns.load_dataset('titanic')\n",
    "print(titanic.shape)\n",
    "titanic.head()"
   ]
  },
  {
   "cell_type": "code",
   "execution_count": null,
   "id": "ef2a9354-1310-4759-ab4b-ec6ff40141d7",
   "metadata": {
    "tags": []
   },
   "outputs": [],
   "source": [
    "# tips 데이터 셋 load\n",
    "tips=sns.load_dataset('tips')\n",
    "print(tips.shape)\n",
    "tips.head()"
   ]
  },
  {
   "cell_type": "markdown",
   "id": "0133475c-826d-407d-a159-77245cf6b91a",
   "metadata": {},
   "source": [
    "# pairplot\n",
    "- 그리드(grid) 형태로 각 집합의 조합에 대해 히스토그램과 분포도를 표시\n",
    "- 숫자형 column에 대해서만 그려준다"
   ]
  },
  {
   "cell_type": "code",
   "execution_count": null,
   "id": "f5d4a0b6-2838-423a-9023-f546ced9efee",
   "metadata": {},
   "outputs": [],
   "source": [
    "sns.pairplot(tips)\n",
    "plt.show()"
   ]
  },
  {
   "cell_type": "code",
   "execution_count": null,
   "id": "58358f22-9329-4018-a4c4-3cc895530dbf",
   "metadata": {
    "tags": []
   },
   "outputs": [],
   "source": [
    "# hue 옵션으로 구분해서 볼수도 있다.\n",
    "sns.pairplot(tips, hue='size')\n",
    "plt.show()"
   ]
  },
  {
   "cell_type": "markdown",
   "id": "13a44542-1485-4c2d-836b-5814d2a27d0a",
   "metadata": {},
   "source": [
    "# lmplot\n",
    "- lmplot은 column 간의 선형관계를 확인하기에 용이한 차트\n",
    "- 또한, outlier도 같이 짐작해 볼 수 있다."
   ]
  },
  {
   "cell_type": "code",
   "execution_count": null,
   "id": "1f40d88b-03a0-4544-9930-8429a4437373",
   "metadata": {},
   "outputs": [],
   "source": [
    "sns.lmplot(x=\"total_bill\", y=\"tip\", data=tips)\n",
    "plt.show()"
   ]
  },
  {
   "cell_type": "code",
   "execution_count": null,
   "id": "a690e850-c463-4b73-98ca-64ce27d26366",
   "metadata": {
    "tags": []
   },
   "outputs": [],
   "source": [
    "sns.lmplot(x=\"total_bill\", y=\"tip\", hue=\"smoker\", height=8, data=tips)\n",
    "plt.show()"
   ]
  },
  {
   "cell_type": "code",
   "execution_count": null,
   "id": "a7440bd1-2f4b-44e3-9394-c5f410dd268c",
   "metadata": {
    "tags": []
   },
   "outputs": [],
   "source": [
    "# col_wrap으로 한 줄에 표기할 column의 갯수를 명시할 수 있다.\n",
    "sns.lmplot(x='total_bill', y='tip', hue='smoker', col='day', col_wrap=2, height=6, data=tips)\n",
    "plt.show()"
   ]
  },
  {
   "cell_type": "markdown",
   "id": "d7648212-3407-411f-9aaa-4e8e3487634f",
   "metadata": {},
   "source": [
    "# jointplot\n",
    "- scatter(산점도)와 histogram(분포)을 동시에 그려주며 숫자형 데이터만 표현 가능"
   ]
  },
  {
   "cell_type": "code",
   "execution_count": null,
   "id": "b360f78e-f9a0-4d80-b654-66d00cfc2a22",
   "metadata": {
    "tags": []
   },
   "outputs": [],
   "source": [
    "sns.jointplot(x=\"total_bill\", y=\"tip\", height=4, data=tips)\n",
    "plt.show()"
   ]
  },
  {
   "cell_type": "code",
   "execution_count": null,
   "id": "3f0bac5f-2711-4132-84c4-8e9bc2318890",
   "metadata": {},
   "outputs": [],
   "source": [
    "#선형관계를 표현하는 regression 라인 그리기도 가능하다.\n",
    "# 옵션에 kind='reg'을 추가\n",
    "sns.jointplot(x=\"total_bill\", y=\"tip\", height=4, data=tips, kind=\"reg\")\n",
    "plt.show()"
   ]
  }
 ],
 "metadata": {
  "kernelspec": {
   "display_name": "Python 3 (ipykernel)",
   "language": "python",
   "name": "python3"
  },
  "language_info": {
   "codemirror_mode": {
    "name": "ipython",
    "version": 3
   },
   "file_extension": ".py",
   "mimetype": "text/x-python",
   "name": "python",
   "nbconvert_exporter": "python",
   "pygments_lexer": "ipython3",
   "version": "3.12.9"
  }
 },
 "nbformat": 4,
 "nbformat_minor": 5
}
