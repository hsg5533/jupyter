{
 "cells": [
  {
   "cell_type": "code",
   "execution_count": null,
   "id": "99ab0a7e-a990-498f-be26-24d16025d8f6",
   "metadata": {},
   "outputs": [],
   "source": [
    "import urllib.request as req\n",
    "import numpy as np\n",
    "#from urllib.request import urlopen"
   ]
  },
  {
   "cell_type": "code",
   "execution_count": null,
   "id": "95477a83-ee78-49e6-a90f-8fcfb048b55c",
   "metadata": {
    "tags": []
   },
   "outputs": [],
   "source": [
    "res=req.urlopen(\"http://www.naver.com\")\n",
    "print(type(res))\n",
    "print(res.status)\n",
    "print(res.version)\n",
    "print(res.msg)\n",
    "res_headers=res.getheaders()\n",
    "print(\"header 정보\")\n",
    "for header in res_headers:\n",
    "    print(header)\n",
    "\n",
    "print(\"Body 정보\")\n",
    "encoding=res.info().get_content_charset() #해당 홈페이지의 문자의 인코딩방식을 가져옴 \n",
    "print(encoding)\n",
    "res_bodys=res.read().decode(encoding).split(\" \") #read()의 괄호안에 숫자는 글자 수를 의미한다.\n",
    "for bodys in res_bodys:\n",
    "    print(bodys)"
   ]
  },
  {
   "cell_type": "code",
   "execution_count": null,
   "id": "51a3348a-b526-4c0a-ac93-e388e4a7f5d2",
   "metadata": {},
   "outputs": [],
   "source": [
    "from urllib.error import HTTPError\n",
    "from urllib.error import URLError"
   ]
  },
  {
   "cell_type": "code",
   "execution_count": null,
   "id": "fa344e8c-4c08-44ef-89c1-aa9ca788ae92",
   "metadata": {},
   "outputs": [],
   "source": [
    "try:\n",
    "    html=req.urlopen(\"https://java1.net\")\n",
    "except HTTPError as e:\n",
    "    print(\"HTTP 에러입니다\")\n",
    "except URLError as e:\n",
    "    print(\"존재하지 않는 사이트입니다\")\n",
    "else:\n",
    "    print(html.read())"
   ]
  },
  {
   "cell_type": "code",
   "execution_count": null,
   "id": "585a66ed-99d7-411c-b07c-2f68986e3bcb",
   "metadata": {},
   "outputs": [],
   "source": [
    "import urllib.parse as ps"
   ]
  },
  {
   "cell_type": "code",
   "execution_count": null,
   "id": "1ae39738-be2d-418e-bdb7-19b44f5b52ab",
   "metadata": {},
   "outputs": [],
   "source": [
    "encode_query=ps.urlencode({'query':'빅데이터'})\n",
    "print(encode_query)"
   ]
  },
  {
   "cell_type": "code",
   "execution_count": null,
   "id": "34f2efc7-1acf-48cd-8c94-0b3adc3e112a",
   "metadata": {},
   "outputs": [],
   "source": [
    "url=\"https://search.naver.com/search.naver?where=nexearch&sm=top_hty&fbm=1&ie=utf8&query=%s\"%encode_query\n",
    "parsr_url=ps.urlparse(url)\n",
    "print(parsr_url)"
   ]
  },
  {
   "cell_type": "code",
   "execution_count": null,
   "id": "f0b9d62e-35dc-46e8-bc0b-b63892f544a4",
   "metadata": {
    "tags": []
   },
   "outputs": [],
   "source": [
    "#매개변수를 추가하여 인터넷 리소스를 요청하는 방법\n",
    "import urllib.request\n",
    "import urllib.parse\n",
    "API=\"http://www.kma.go.kr/weather/forecast/mid-term-rss3.jsp\"\n",
    "# 지역번호 : 전국 108, 서울/경기 109, 강원 105, 충북 131 충남 133,\n",
    "# 전북 146, 전남 156, 경북 143, 경남 159, 제주 184\n",
    "values={'stnId':'108'}\n",
    "params=urllib.parse.urlencode(values)\n",
    "#요청 전용 url 생성\n",
    "url=API+\"?\"+params\n",
    "print(\"url=\",url)\n",
    "#다운로드\n",
    "data=urllib.request.urlopen(url).read()\n",
    "text=data.decode('utf-8')\n",
    "print(text)"
   ]
  },
  {
   "cell_type": "code",
   "execution_count": null,
   "id": "967ce5e0-3cda-4cd3-ae73-c76a3cd9efd7",
   "metadata": {},
   "outputs": [],
   "source": [
    "url=\"https://search.pstatic.net/common/?src=http%3A%2F%2Fblogfiles.naver.net%2FMjAyMjAzMjdfMjg0%2FMDAxNjQ4MzEwMDAxODA2.teML7Ykaii0uDgJ7g1WovZJ3oFkdi8xOuKh9-DOVTZwg.6GkrGPXa1KuWjyQAwmixtKzCbLxsL3Rurw2qz_Y-iE0g.JPEG.bullion08124%2F4f93c2863a6c88162f9a0d5743bfc078.jpg&type=sc960_832\"\n",
    "save_name=\"data/image1.jpg\"\n",
    "req.urlretrieve(url,save_name)"
   ]
  },
  {
   "cell_type": "code",
   "execution_count": null,
   "id": "3495f245-de1a-4252-b2bd-f9ac4047f591",
   "metadata": {},
   "outputs": [],
   "source": [
    "save_name=\"data/image1.jpg\"\n",
    "image=req.urlopen(url).read()\n",
    "with open(save_name,mode='wb') as f:\n",
    "    f.write(image)\n",
    "    print(save_name,'이 저장됨')"
   ]
  },
  {
   "cell_type": "code",
   "execution_count": null,
   "id": "550d08e9-3ade-4436-abd0-b98cb81731e7",
   "metadata": {},
   "outputs": [],
   "source": [
    "import requests\n",
    "r = requests.request('get', 'http://unico2013.dothome.co.kr/crawling/exam.html')\n",
    "r.encoding = 'utf-8'\n",
    "print(type(r))\n",
    "if r.text :\n",
    "    print(r.text)\n",
    "else :\n",
    "    print('응답된 콘텐츠가 없어요')\n",
    "print('----------------------------------------------------------')\n",
    "r = requests.request('head', 'http://unico2013.dothome.co.kr/crawling/exam.html')\n",
    "r.encoding = 'utf-8'\n",
    "print(type(r))\n",
    "if r.text :\n",
    "    print(r.text)\n",
    "else :\n",
    "    print('응답된 콘텐츠가 없어요')\n",
    "print('----------------------------------------------------------')\n",
    "r = requests.request('post', 'http://unico2013.dothome.co.kr/crawling/post.php', data= {'name':'백도', 'age' : 12})\n",
    "r.encoding = 'utf-8'\n",
    "print(type(r))\n",
    "if r.text :\n",
    "    print(r.text)\n",
    "else :\n",
    "    print('응답된 콘텐츠가 없어요')"
   ]
  },
  {
   "cell_type": "code",
   "execution_count": null,
   "id": "2a2d2e77-73e3-4247-b92b-2dc5ba72bfba",
   "metadata": {},
   "outputs": [],
   "source": [
    "import urllib.request\n",
    "import urllib.parse\n",
    "params = urllib.parse.urlencode({'category': '역사', 'page': 25})\n",
    "url = \"http://unico2013.dothome.co.kr/crawling/exercise.php?%s\" % params\n",
    "with urllib.request.urlopen(url) as f:\n",
    "    print(f.read().decode('utf-8'))"
   ]
  },
  {
   "cell_type": "code",
   "execution_count": null,
   "id": "3279334b-0189-48f2-966a-723e7a104949",
   "metadata": {},
   "outputs": [],
   "source": [
    "import requests\n",
    "dicdata = {'category': '여행', 'page': 100}\n",
    "urlstr = 'http://unico2013.dothome.co.kr/crawling/exercise.php'\n",
    "r = requests.get(urlstr, params=dicdata)\n",
    "r.encoding = \"utf-8\"\n",
    "print(r.text)"
   ]
  },
  {
   "cell_type": "code",
   "execution_count": null,
   "id": "4e1e6740-8a50-4e09-9d24-6ad55fae734a",
   "metadata": {},
   "outputs": [],
   "source": [
    "from bs4 import BeautifulSoup"
   ]
  },
  {
   "cell_type": "code",
   "execution_count": null,
   "id": "c8d89f74-f00e-4c90-b609-77914a691748",
   "metadata": {},
   "outputs": [],
   "source": [
    "html_doc = \"\"\"\n",
    "<!DOCTYPE html>\n",
    "<html>\n",
    "    <head>\n",
    "        <meta charset=\"utf-8\">\n",
    "        <title>Test BeautifulSoup</title>\n",
    "    </head>\n",
    "    <body>\n",
    "        <h1>테스트</h1>\n",
    "        <a href=\"http://www.naver.com\" class=\"link\">네이버</a>\n",
    "    </body>\n",
    "</html> \"\"\""
   ]
  },
  {
   "cell_type": "code",
   "execution_count": null,
   "id": "6a1f1d67-5a2d-4291-912c-ac7508426681",
   "metadata": {},
   "outputs": [],
   "source": [
    "bs = BeautifulSoup(html_doc, 'html.parser')\n",
    "print(type(bs))\n",
    "print(bs)"
   ]
  },
  {
   "cell_type": "code",
   "execution_count": null,
   "id": "b911361b-6501-4755-82ec-06d424def11e",
   "metadata": {},
   "outputs": [],
   "source": [
    "bs1=BeautifulSoup(html_doc, 'lxml')\n",
    "print(bs1)"
   ]
  },
  {
   "cell_type": "code",
   "execution_count": null,
   "id": "58c542c3-b386-4215-bf9f-3942d5e0e495",
   "metadata": {},
   "outputs": [],
   "source": [
    "bs2=BeautifulSoup(html_doc, 'lxml-xml')\n",
    "print(bs2)"
   ]
  },
  {
   "cell_type": "code",
   "execution_count": null,
   "id": "4d2c4421-2d7d-4c01-b9b0-6559f8aed62c",
   "metadata": {},
   "outputs": [],
   "source": [
    "bs3=BeautifulSoup(html_doc, 'html5lib')\n",
    "print(bs3)"
   ]
  },
  {
   "cell_type": "code",
   "execution_count": null,
   "id": "1aa23eed-7f39-45e6-a70e-fa0fe1bdf59f",
   "metadata": {},
   "outputs": [],
   "source": [
    "print(bs.html.body.h1)\n",
    "print(bs.body.h1)\n",
    "print(bs.h1)"
   ]
  },
  {
   "cell_type": "code",
   "execution_count": null,
   "id": "0bb64d58-9021-4236-bb3a-97d308770aee",
   "metadata": {},
   "outputs": [],
   "source": [
    "print(bs.a.name) #a태그의 이름\n",
    "print(bs.a['href']) #a태그의 링크\n",
    "print(bs.a.attrs)"
   ]
  },
  {
   "cell_type": "code",
   "execution_count": null,
   "id": "3c421db3-c59a-4a10-8d93-859b6dcacb83",
   "metadata": {},
   "outputs": [],
   "source": [
    "html_doc = \"\"\"\n",
    "<!DOCTYPE html>\n",
    "<html>\n",
    "    <head>\n",
    "        <meta charset=\"utf-8\">\n",
    "        <title>Test BeautifulSoup</title>\n",
    "    </head>\n",
    "    <body>\n",
    "        <h1>테스트</h1>\n",
    "        <ul>\n",
    "            <li>사과</li>\n",
    "            <li>배</li>\n",
    "            <li>포도</li>\n",
    "        </ul>\n",
    "        <a href=\"http://www.naver.com\" class=\"link\">네이버</a>\n",
    "    </body>\n",
    "</html> \"\"\""
   ]
  },
  {
   "cell_type": "code",
   "execution_count": null,
   "id": "29bbabd5-f622-4d30-af5a-49ba7f9463ac",
   "metadata": {},
   "outputs": [],
   "source": [
    "bs=BeautifulSoup(html_doc, 'html.parser')\n",
    "print(bs)"
   ]
  },
  {
   "cell_type": "code",
   "execution_count": null,
   "id": "c7d08a9c-3e55-46d6-9700-fe598adca990",
   "metadata": {},
   "outputs": [],
   "source": [
    "print(bs.h1.string)\n",
    "print(bs.h1.text)\n",
    "print(bs.h1.contents)\n",
    "print(bs.h1.strings)\n",
    "print(bs.h1.get_text())"
   ]
  },
  {
   "cell_type": "code",
   "execution_count": null,
   "id": "a4ff7d28-706f-46aa-98d7-7eb13457e6a2",
   "metadata": {},
   "outputs": [],
   "source": [
    "print(bs.ul.string)\n",
    "print(bs.ul.text) #ul태그 안의 모든 텍스트를 가져옴\n",
    "print(bs.ul.contents) #ul태그 안의 모든 내용을 가져옴\n",
    "print(bs.ul.strings) \n",
    "print(bs.ul.get_text())"
   ]
  },
  {
   "cell_type": "code",
   "execution_count": null,
   "id": "68c83581-f014-41c2-81ee-d249b7716265",
   "metadata": {},
   "outputs": [],
   "source": [
    "print(bs.li)\n",
    "print(bs.li.parent)\n",
    "for i in bs.ul.children:\n",
    "    print(i,end=\" \")\n",
    "li1=bs.li\n",
    "li2=li1.next_sibling.next_sibling #<li>사과</li>의 바로 다음이 엔터이기 때문에 두번해야 한다.\n",
    "print(li2)"
   ]
  },
  {
   "cell_type": "code",
   "execution_count": null,
   "id": "d4a986a8-1325-49c2-9a81-e21bf4bf54c5",
   "metadata": {},
   "outputs": [],
   "source": [
    "html_doc = \"\"\"\n",
    "<!DOCTYPE html>\n",
    "<html>\n",
    "<head>\n",
    "<meta charset='utf-8'>\n",
    "<title>Test BeautifulSoup</title>\n",
    "</head>\n",
    "<body>\n",
    "<p align=\"center\">P태그의 컨텐트</p>\n",
    "<img src=\"http://unico2013.dothome.co.kr/image/flower.jpg\" width=\"300\">\n",
    "</body>\n",
    "</html> \"\"\"\n",
    "from bs4 import BeautifulSoup\n",
    "bs = BeautifulSoup(html_doc, 'html.parser')\n",
    "print(bs.prettify())"
   ]
  },
  {
   "cell_type": "code",
   "execution_count": null,
   "id": "b10c8fed-e030-49b6-a7db-f29c94d11c58",
   "metadata": {},
   "outputs": [],
   "source": [
    "html_doc = \"\"\"\n",
    "<!DOCTYPE html>\n",
    "<html>\n",
    "<head>\n",
    "<meta charset='utf-8'>\n",
    "<title>Test BeautifulSoup</title>\n",
    "</head>\n",
    "<body>\n",
    "<p align=\"center\">P태그의 컨텐트</p>\n",
    "<img src=\"http://unico2013.dothome.co.kr/image/flower.jpg\" width=\"300\">\n",
    "<ul>\n",
    "<li>테스트1<strong>강조</strong></li>\n",
    "<li>테스트2</li>\n",
    "<li>테스트3</li>\n",
    "</ul>\n",
    "</body>\n",
    "</html> \"\"\"\n",
    "from bs4 import BeautifulSoup\n",
    "bs = BeautifulSoup(html_doc, 'html.parser')\n",
    "print(type(bs.title), ':', bs.title)\n",
    "print(type(bs.title.name), ':', bs.title.name)\n",
    "print(type(bs.title.string), ':', bs.title.string)\n",
    "print('-------------------------')\n",
    "print(type(bs.p['align']), ':', bs.p['align'])\n",
    "print(type(bs.img['src']), ':', bs.img['src'])\n",
    "print(type(bs.img.attrs), ':', bs.img.attrs)"
   ]
  },
  {
   "cell_type": "code",
   "execution_count": null,
   "id": "6344e2b3-5182-4f84-8a98-80fafe16144b",
   "metadata": {},
   "outputs": [],
   "source": [
    "html_doc = \"\"\"\n",
    "<!DOCTYPE html>\n",
    "<html>\n",
    "<head>\n",
    "<meta charset='utf-8'>\n",
    "<title>Test BeautifulSoup</title>\n",
    "</head>\n",
    "<body>\n",
    "<p align=\"center\">P태그의 컨텐트</p>\n",
    "<ul>\n",
    "<li>테스트1<strong>강조</strong></li>\n",
    "<li>테스트2</li>\n",
    "<li>테스트3</li>\n",
    "</ul>\n",
    "</body>\n",
    "</html> \"\"\""
   ]
  },
  {
   "cell_type": "code",
   "execution_count": null,
   "id": "8060a9a4-5bbb-4e03-bcc1-f3d61ee334f6",
   "metadata": {},
   "outputs": [],
   "source": [
    "from bs4 import BeautifulSoup\n",
    "bs = BeautifulSoup(html_doc, 'html.parser')\n",
    "print(\"[ string 속성 ]\")\n",
    "print(type(bs.p.string), ':', bs.p.string)\n",
    "print(type(bs.ul.string), ':', bs.ul.string)\n",
    "print(type(bs.ul.li.string), ':', bs.ul.li.string)\n",
    "print(type(bs.ul.li.strong.string), ':', bs.ul.li.strong.string)\n",
    "print(\"[ text 속성 ]\")\n",
    "print(type(bs.p.text), ':', bs.p.text)\n",
    "print(type(bs.ul.text), ':', bs.ul.text)\n",
    "print(type(bs.ul.li.text), ':', bs.ul.li.text)\n",
    "print(type(bs.ul.li.strong.text), ':', bs.ul.li.strong.text)\n",
    "print(\"[ contents 속성 ]\")\n",
    "print(type(bs.p.contents), ':', bs.p.contents)\n",
    "print(type(bs.ul.contents), ':', bs.ul.string)\n",
    "print(type(bs.ul.li.contents), ':', bs.ul.li.contents)\n",
    "print(type(bs.ul.li.strong.contents), ':', bs.ul.li.strong.contents)\n",
    "print(\"[ getText() 속성 ]\")\n",
    "print(type(bs.p.get_text()), ':', bs.p.get_text())\n",
    "print(type(bs.ul.get_text), ':', bs.ul.get_text())\n",
    "print(type(bs.ul.li.getText), ':', bs.ul.li.getText())\n",
    "print(type(bs.ul.li.strong.getText), ':', bs.ul.li.strong.getText())"
   ]
  },
  {
   "cell_type": "code",
   "execution_count": null,
   "id": "604fab3b-461a-40e1-90cc-5330b20f75fc",
   "metadata": {},
   "outputs": [],
   "source": [
    "from urllib.request import urlopen\n",
    "from bs4 import BeautifulSoup\n",
    "html=urlopen(\"http://stackoverflow.com\")\n",
    "bs=BeautifulSoup(html.read(), 'html.parser')\n",
    "print(bs.title)\n",
    "print(bs.title.text)\n",
    "print(bs.h1)\n",
    "print(bs.h1.text)\n",
    "print(bs.span)"
   ]
  },
  {
   "cell_type": "code",
   "execution_count": null,
   "id": "b15b7ac1-aba9-4a97-ba34-9c1fff5be4f4",
   "metadata": {},
   "outputs": [],
   "source": [
    "html_doc = \"\"\"\n",
    "<!DOCTYPE html>\n",
    "<html>\n",
    "    <head>\n",
    "        <meta charset=\"utf-8\">\n",
    "        <title>Test BeautifulSoup</title>\n",
    "    </head>\n",
    "    <body>\n",
    "        <h1>테스트</h1>\n",
    "        <ul>\n",
    "            <li>사과</li>\n",
    "            <li>배</li>\n",
    "            <li>포도</li>\n",
    "        </ul>\n",
    "        <a href=\"http://www.naver.com\" class=\"link\">네이버</a>\n",
    "    </body>\n",
    "</html> \"\"\""
   ]
  },
  {
   "cell_type": "code",
   "execution_count": null,
   "id": "ae6606a1-62e1-4de8-9e05-0adc8426d39e",
   "metadata": {},
   "outputs": [],
   "source": [
    "bs=BeautifulSoup(html_doc, 'html.parser')\n",
    "print(bs)"
   ]
  },
  {
   "cell_type": "code",
   "execution_count": null,
   "id": "a542b2cb-d3a0-4721-8e8c-19423254e223",
   "metadata": {},
   "outputs": [],
   "source": [
    "li_list=bs.find_all('li')\n",
    "print(li_list)"
   ]
  },
  {
   "cell_type": "code",
   "execution_count": null,
   "id": "a5e6398a-ea3b-4953-a982-de1bb3c1a6a5",
   "metadata": {},
   "outputs": [],
   "source": [
    "import urllib.request as req1\n",
    "import requests as req2"
   ]
  },
  {
   "cell_type": "code",
   "execution_count": null,
   "id": "7d14ab02-b459-47e0-9e96-3e619e283fea",
   "metadata": {},
   "outputs": [],
   "source": [
    "url=\"https://movie.naver.com/movie/point/af/list.naver\"\n",
    "res=req1.urlopen(url)\n",
    "bs=BeautifulSoup(res,'html.parser')\n",
    "title_list=bs.find_all(class_='title')\n",
    "for i in title_list:\n",
    "    print('------------')\n",
    "    title=i.find('a').text #a태그의 텍스트\n",
    "    print(title)\n",
    "    point=i.find('em').text #em태그의 텍스트\n",
    "    print(point)\n",
    "    review=i.text\n",
    "    str1=review.split(\"\\n\\n\")\n",
    "    review=str1[2].replace(\"신고\",\"\").strip()\n",
    "    print(review)\n",
    "    #print(i.text.replace(\"신고\",\"\").strip())"
   ]
  }
 ],
 "metadata": {
  "kernelspec": {
   "display_name": "Python 3 (ipykernel)",
   "language": "python",
   "name": "python3"
  },
  "language_info": {
   "codemirror_mode": {
    "name": "ipython",
    "version": 3
   },
   "file_extension": ".py",
   "mimetype": "text/x-python",
   "name": "python",
   "nbconvert_exporter": "python",
   "pygments_lexer": "ipython3",
   "version": "3.12.9"
  }
 },
 "nbformat": 4,
 "nbformat_minor": 5
}
