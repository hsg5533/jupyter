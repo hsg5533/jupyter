{
 "cells": [
  {
   "cell_type": "code",
   "execution_count": null,
   "id": "67b7f3fe-c30a-4011-bceb-64215c3f6b45",
   "metadata": {},
   "outputs": [],
   "source": [
    "import urllib.request as req1\n",
    "import requests as req2\n",
    "from bs4 import BeautifulSoup"
   ]
  },
  {
   "cell_type": "code",
   "execution_count": null,
   "id": "9cff580a-354a-422d-87c4-69d7e6b3332d",
   "metadata": {
    "tags": []
   },
   "outputs": [],
   "source": [
    "url=\"https://movie.naver.com/movie/point/af/list.naver\"\n",
    "html=req1.urlopen(url).read() #해당 url의 소스를 읽음\n",
    "bs=BeautifulSoup(html,'html.parser') #해당 html을 파싱함\n",
    "bs"
   ]
  },
  {
   "cell_type": "code",
   "execution_count": null,
   "id": "b6bad023-7a64-4445-bc38-f44f69bffc9d",
   "metadata": {},
   "outputs": [],
   "source": [
    "url=\"https://movie.naver.com/movie/point/af/list.naver\"\n",
    "html=req1.urlopen(url).read() #해당 url의 소스를 읽음\n",
    "#html=req2.get(url).text\n",
    "#html=req2.request('GET',url)\n",
    "bs=BeautifulSoup(html,'html.parser') #해당 html을 파싱함\n",
    "td=bs.table.td.next_sibling.next_sibling #해당 td에서 다음 태그로 넘어감\n",
    "title=td.a.text #a태그의 택스트 출력\n",
    "title"
   ]
  },
  {
   "cell_type": "code",
   "execution_count": null,
   "id": "46af33f6-c6b8-40d5-b357-a4bdfb415c75",
   "metadata": {},
   "outputs": [],
   "source": [
    "titles=bs.find_all(class_='title')\n",
    "#title=title.find('a').text\n",
    "for i in titles:\n",
    "    title=i.find('a').text\n",
    "    print(title)"
   ]
  },
  {
   "cell_type": "code",
   "execution_count": null,
   "id": "a32e4de5-5ac0-4cf9-bf36-feb025fb2711",
   "metadata": {},
   "outputs": [],
   "source": [
    "html='''\n",
    "<html><body>\n",
    "<h1 id=\"title\">Hello python</h1>\n",
    "<p id=\"body\">웹 페이지 분석</p>\n",
    "<p>웹 스크래핑</p>\n",
    "<span>데이터 수집1</span>\n",
    "<span>데이터 수집2</span>\n",
    "</body></html>\n",
    "'''"
   ]
  },
  {
   "cell_type": "code",
   "execution_count": null,
   "id": "612f7760-ac43-4923-80a6-650dfc0e820c",
   "metadata": {},
   "outputs": [],
   "source": [
    "bs=BeautifulSoup(html,'html.parser')\n",
    "title=bs.find(id='title')\n",
    "body=bs.find(id='body')\n",
    "span=bs.find('span')\n",
    "print('#title=',title)\n",
    "print('#title='+title.string)\n",
    "print('#body=',body)\n",
    "print('#body=',body.string)\n",
    "print('span=',span.string)"
   ]
  },
  {
   "cell_type": "code",
   "execution_count": null,
   "id": "d7642dd7-4cc2-476d-8b38-e16fcef92930",
   "metadata": {},
   "outputs": [],
   "source": [
    "html_doc=\"\"\"\n",
    "<!DOCTYPE html>\n",
    "<html>\n",
    "<head>\n",
    "<meta charset='utf-8'>\n",
    "<title>Test BeautifulSoup</title>\n",
    "</head>\n",
    "<body>\n",
    "<p align=\"center\"> text contents </p>\n",
    "<p align=\"right\"> text contents 2 </p>\n",
    "<p align=\"left\"> text contents 3 </p>\n",
    "<img src=\"http://unico2013.dothome.co.kr/image/flower.jpg\" width=\"500\">\n",
    "<div>\n",
    "<p>text contents 4</p> \n",
    "</div>\n",
    "</body>\n",
    "</html> \"\"\""
   ]
  },
  {
   "cell_type": "code",
   "execution_count": null,
   "id": "d220fe9b-8e7a-43d4-9a0a-073a1f676682",
   "metadata": {},
   "outputs": [],
   "source": [
    "bs = BeautifulSoup(html_doc, 'html.parser')\n",
    "print(type(bs.find('p')))\n",
    "print(type(bs.find_all('p')))\n",
    "print(\"---------------------------------\")\n",
    "print(bs.find('title'))\n",
    "print(bs.find('p'))\n",
    "print(bs.find('img'))\n",
    "print(\"---------------------------------\")\n",
    "ptags = bs.find_all('p')\n",
    "print(ptags)\n",
    "print(\"----------------\")\n",
    "for tag in ptags :\n",
    "    print(tag)"
   ]
  },
  {
   "cell_type": "code",
   "execution_count": null,
   "id": "01b5359f-58cf-4599-b48a-7613459bfec4",
   "metadata": {},
   "outputs": [],
   "source": [
    "html=\"\"\"\n",
    "<!DOCTYPE html>\n",
    "<html>\n",
    "<head>\n",
    "<meta charset='utf-8'>\n",
    "<title>Test BeautifulSoup</title>\n",
    "</head>\n",
    "<body>\n",
    "<p align=\"center\"> text contents </p>\n",
    "<p align=\"right\" class=\"myp\"> text contents 2 </p>\n",
    "<p align=\"left\" a=\"b\"> text contents 3 </p>\n",
    "<img src=\"http://unico2013.dothome.co.kr/image/flower.jpg\" width=\"500\">\n",
    "</body>\n",
    "</html> \"\"\"\n",
    "bs = BeautifulSoup(html, 'html.parser')\n",
    "print(bs.find('p', align=\"center\"))\n",
    "print(bs.find('p', class_=\"myp\"))\n",
    "print(bs.find('p', align=\"left\"))\n",
    "print(\"-------------------------------------\")\n",
    "print(bs.find('p', attrs={\"align\":\"center\"}))\n",
    "print(bs.find('p', attrs={\"align\":\"right\", \"class\":\"myp\"}))\n",
    "print(bs.find('p', attrs={\"align\":\"left\"}))"
   ]
  },
  {
   "cell_type": "code",
   "execution_count": null,
   "id": "7457d827-8177-4557-9cd8-517ab76239df",
   "metadata": {},
   "outputs": [],
   "source": [
    "html='''\n",
    "<html><body>\n",
    "<ul>\n",
    "<li><a href=\"http://naver.com\">naver</a></li>\n",
    "<li><a href=\"http://daum.net\">daum</a></li>\n",
    "<li><a href=\"http://nate.com\">nate</a></li>\n",
    "<li><a href=\"http://google.com\">google</a></li>\n",
    "<li><a href=\"http://yahoo.com\">yahoo</a></li>\n",
    "</ul>\n",
    "</body></html>\n",
    "'''"
   ]
  },
  {
   "cell_type": "code",
   "execution_count": null,
   "id": "5741279f-63fb-41a5-8522-c38f6af80c12",
   "metadata": {},
   "outputs": [],
   "source": [
    "bs=BeautifulSoup(html,'html.parser')\n",
    "links=bs.find_all(\"a\")\n",
    "print(links)\n",
    "print(type(links))\n",
    "for a in links:\n",
    "    href=a.attrs['href']\n",
    "    text=a.string\n",
    "    print(text, \":\", href)"
   ]
  },
  {
   "cell_type": "code",
   "execution_count": null,
   "id": "8a2e8b73-5ce4-437d-9ae4-d8afc786ee11",
   "metadata": {},
   "outputs": [],
   "source": [
    "url=\"http://www.kma.go.kr/weather/forecast/mid-term-rss3.jsp\"\n",
    "res=req1.urlopen(url)\n",
    "bs=BeautifulSoup(res,'html.parser')\n",
    "title=bs.find(\"title\").string\n",
    "wf=bs.find(\"wf\").string\n",
    "print(title)\n",
    "print(wf)"
   ]
  },
  {
   "cell_type": "code",
   "execution_count": null,
   "id": "3f17519f-2bad-4715-a8f1-35278559da80",
   "metadata": {
    "tags": []
   },
   "outputs": [],
   "source": [
    "locations=bs.find_all('location')\n",
    "for loc in locations:\n",
    "    city=loc.find('city').string\n",
    "    print(city)\n",
    "    datas=loc.find_all('data')\n",
    "    for data in datas:\n",
    "        mode=data.find('mode').text\n",
    "        datetime=data.find('tmef').text\n",
    "        wf=data.find('wf').text\n",
    "        print(mode,datetime,wf)"
   ]
  },
  {
   "cell_type": "code",
   "execution_count": null,
   "id": "b92f2941-d680-47ac-a428-9a2a76bc40a7",
   "metadata": {
    "tags": []
   },
   "outputs": [],
   "source": [
    "locations2=bs.select('location')\n",
    "for loc in locations2:\n",
    "    city=loc.select('city')[0].text\n",
    "    print(city)\n",
    "    datas=loc.select('data')\n",
    "    for data in datas:\n",
    "        mode=data.select('mode')[0].text\n",
    "        datetime=data.find('tmef').text\n",
    "        wf=data.find('wf').text\n",
    "        print(mode,datetime,wf)"
   ]
  },
  {
   "cell_type": "code",
   "execution_count": null,
   "id": "471a2667-7a7c-4bb1-a6bb-7d31e42bfc06",
   "metadata": {},
   "outputs": [],
   "source": [
    "html='''\n",
    "<html><body>\n",
    "<h1>테스트</h1>\n",
    "<div>div1</div>\n",
    "<div>div2</div>\n",
    "<div id=\"main\">\n",
    "<h1 i>도서 목록</h1>\n",
    "<ul class=\"items\">\n",
    "<li>자바 프로그래밍 입문</li>\n",
    "<li>HTML5</li>\n",
    "<li>Python</li>\n",
    "</ul>\n",
    "</div>\n",
    "</body></html>'''\n"
   ]
  },
  {
   "cell_type": "code",
   "execution_count": null,
   "id": "c9a8a450-6e97-42a5-ae2f-53c0ae75c056",
   "metadata": {},
   "outputs": [],
   "source": [
    "bs=BeautifulSoup(html,'html.parser')\n",
    "h1=bs.select_one(\"div#main > h1\").string\n",
    "print(\"h1=\",h1)\n",
    "li_list=bs.select(\"div#main > ul.items > li\")\n",
    "for li in li_list:\n",
    "    print(\"li=\",li.string)"
   ]
  },
  {
   "cell_type": "code",
   "execution_count": null,
   "id": "c4baf03a-8327-4b2b-a240-4c1a1a11a756",
   "metadata": {},
   "outputs": [],
   "source": [
    "req = req2.get('http://unico2013.dothome.co.kr/crawling/exercise_css.html')\n",
    "html = req.content\n",
    "print(type(html))\n",
    "html = html.decode('utf-8')\n",
    "#print(html)\n",
    "print(\"==============================\")\n",
    "bs = BeautifulSoup(html, 'html.parser')\n",
    "title = bs.select('h1')\n",
    "title1 = bs.select('#f_subtitle')\n",
    "title2 = bs.select('.subtitle')\n",
    "title3 = bs.select('aside > h2')\n",
    "img = bs.select('[src]')\n",
    "print(type(title))\n",
    "print(type(title[0]))\n",
    "print(\"<h1>태그의 갯수 : %d \" %len(title))\n",
    "print(\"f_subtitle이라는 id 속성을 갖는 태그 갯수 : %d \" %len(title1))\n",
    "print(\"subtitle이라는 class 속성을 갖는 태그 갯수 : %d \" %len(title2))\n",
    "print(\"aside 태그의 <h2> 자식 태그 갯수 : %d \" %len(title3))\n",
    "print(\"src 속성을 갖는 태그 갯수 : %d \" %len(img))\n"
   ]
  },
  {
   "cell_type": "code",
   "execution_count": null,
   "id": "870f49e3-77c8-44b0-8bfc-26d4f4b0291d",
   "metadata": {},
   "outputs": [],
   "source": [
    "for content in title:\n",
    "    print(content.string)\n",
    "    print(\"----------------------\")\n",
    "for content in title1:\n",
    "    print(content.text)\n",
    "    print(\"----------------------\")\n",
    "for content in title2:\n",
    "    print(content.text)\n",
    "    print(\"----------------------\")\n",
    "for content in title3:\n",
    "    print(content.text)\n",
    "    print(\"----------------------\")\n",
    "for content in img:\n",
    "    print(content[\"src\"])"
   ]
  },
  {
   "cell_type": "code",
   "execution_count": null,
   "id": "809f3ae8-61fd-4a9a-b328-bd6ffa5623b8",
   "metadata": {},
   "outputs": [],
   "source": [
    "url = \"http://unico2013.dothome.co.kr/crawling/exercise_bs.html\" \n",
    "html = req1.urlopen(url)\n",
    "bs = BeautifulSoup(html, \"html.parser\")\n",
    "print('[<h1> 태그의 콘텐츠] ', bs.select('h1')[0].text)\n",
    "print('[텍스트 형식으로 내용을 가지고 있는 <a> 태그의 콘텐츠와 href 속성값] ',)\n",
    "aTag = bs.select('a')\n",
    "for tag in aTag:\n",
    "    if(tag.text.strip()):\n",
    "        print(tag.text, ' : ', tag['href'])\n",
    "print('[<img> 태그의 src 속성값] ',bs.select('img')[0]['src'])\n",
    "print('[첫 번째 <h2> 태그의 콘텐츠] ',bs.select('h2:nth-of-type(1)')[0].text)\n",
    "print('[<ul> 태그의 자식 태그들 중 style 속성의 값이 green으로 끝나는 태그의 콘텐츠] ', bs.select('ul > li[style$=green]')[0].text)\n",
    "print('[두 번째 <h2> 태그의 콘텐츠] ',bs.select('h2:nth-of-type(2)')[0].text)\n",
    "print('[<ul> 태그의 모든 자식 태그들의 콘텐츠 ]')\n",
    "olliTag = bs.select('ol > li')\n",
    "for tag in olliTag:\n",
    "    print(tag.text)\n",
    "print('[<table> 태그의 모든 자손 태그들의 콘텐츠 ]')\n",
    "print(bs.select('table')[0].text.strip())\n",
    "print('[name이라는 클래스 속성을 갖는 <tr> 태그의 콘텐츠] ',bs.select('tr.name')[0].text)\n",
    "print('[target이라는 아이디 속성을 갖는 <td> 태그의 콘텐츠] ',bs.select('td#target')[0].text)"
   ]
  },
  {
   "cell_type": "code",
   "execution_count": null,
   "id": "c4750c32-42fa-4b4c-92ff-aa35a54972f1",
   "metadata": {},
   "outputs": [],
   "source": [
    "def content_out(url):\n",
    "    res=req1.urlopen(url)\n",
    "    bs=BeautifulSoup(res,'html.parser')\n",
    "    content=bs.select('div.mw-parser-output > div > p')\n",
    "    if len(content)>0:\n",
    "        print(content[0].text)"
   ]
  },
  {
   "cell_type": "code",
   "execution_count": null,
   "id": "8c4aeac9-99aa-4b61-b751-cc8221a206b5",
   "metadata": {
    "tags": []
   },
   "outputs": [],
   "source": [
    "base=\"https://ko.wikisource.org\"\n",
    "url=base+\"/wiki/%EC%A0%80%EC%9E%90:%EC%9C%A4%EB%8F%99%EC%A3%BC\"\n",
    "res=req1.urlopen(url)\n",
    "soup=BeautifulSoup(res,\"html.parser\")\n",
    "li_list=soup.select(\".mw-parser-output > ul > li\")\n",
    "for li in li_list:\n",
    "    a=li.select_one('a')\n",
    "    print('*',a.string)\n",
    "    sub_li_list=li.find_all('li')\n",
    "    if sub_li_list != None:\n",
    "        url2=base+a['href']\n",
    "        content_out(url2)\n",
    "    for sub_li in sub_li_list:\n",
    "        sub_a=sub_li.a\n",
    "        url2=base+sub_a['href']\n",
    "        print('-',sub_a.string)\n",
    "        content_out(url2)"
   ]
  },
  {
   "cell_type": "code",
   "execution_count": null,
   "id": "7ad1230c-be47-433a-be04-a17f99601882",
   "metadata": {},
   "outputs": [],
   "source": [
    "def content_print(url):\n",
    "    res=req1.urlopen(url)\n",
    "    bs=BeautifulSoup(res,'html.parser')\n",
    "    content=bs.select('div.mw-parser-output p')\n",
    "    for c in content:\n",
    "        if c.text.startswith('이 저작물'):\n",
    "            continue\n",
    "        print(c.text)"
   ]
  },
  {
   "cell_type": "code",
   "execution_count": null,
   "id": "8653ebc2-1eca-4629-869d-902389bf881b",
   "metadata": {
    "tags": []
   },
   "outputs": [],
   "source": [
    "base=\"https://ko.wikisource.org\"\n",
    "url=base+\"/wiki/%EC%A0%80%EC%9E%90:%EC%9D%B4%EC%83%81\"\n",
    "res=req2.get(url).text\n",
    "bs=BeautifulSoup(res,'html.parser')\n",
    "li_list=bs.select(\"ul:nth-child(9) > li\")\n",
    "for li in li_list:\n",
    "    a=li.a\n",
    "    print(a.string)\n",
    "    #print(base+a['href'])])\n",
    "    content_print(base+a['href'])\n",
    "    print('---------------------------')"
   ]
  },
  {
   "cell_type": "code",
   "execution_count": null,
   "id": "f22fecc1-c070-44f6-9124-675513e03b51",
   "metadata": {},
   "outputs": [],
   "source": []
  }
 ],
 "metadata": {
  "kernelspec": {
   "display_name": "Python 3 (ipykernel)",
   "language": "python",
   "name": "python3"
  },
  "language_info": {
   "codemirror_mode": {
    "name": "ipython",
    "version": 3
   },
   "file_extension": ".py",
   "mimetype": "text/x-python",
   "name": "python",
   "nbconvert_exporter": "python",
   "pygments_lexer": "ipython3",
   "version": "3.12.9"
  }
 },
 "nbformat": 4,
 "nbformat_minor": 5
}
