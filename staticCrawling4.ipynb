{
 "cells": [
  {
   "cell_type": "code",
   "execution_count": null,
   "id": "185edc0e-d6c0-4577-9467-8f1e53ba55f2",
   "metadata": {},
   "outputs": [],
   "source": [
    "import requests\n",
    "from bs4 import BeautifulSoup as bs\n",
    "import pandas as pd\n",
    "import pymysql"
   ]
  },
  {
   "cell_type": "code",
   "execution_count": null,
   "id": "e1745288-589a-4a0b-8590-407091d5b896",
   "metadata": {
    "tags": []
   },
   "outputs": [],
   "source": [
    "url='https://movie.naver.com/movie/running/current.naver'\n",
    "base='https://movie.naver.com/'\n",
    "res=requests.get(url).content\n",
    "soup=bs(res,'html.parser')\n",
    "#print(soup)\n",
    "movies=soup.select('div.lst_wrap > ul > li') # 해당하는 선택자의 li태그들을 리스트형태로 저장\n",
    "#print(movies[0].text)\n",
    "movie_list=[]\n",
    "for movie in movies:\n",
    "    title=movie.select('dl > dt > a')[0].text # 해당 선택자를 리스트형태로 저장하여 첫번째에 해당하는 텍스트를 출력\n",
    "    reated=movie.select_one('dl > dt > span').text\n",
    "    point=movie.select_one('dl > dd.star > dl > dd > div > a > span.num').text\n",
    "    #print(title,reated,point)\n",
    "    info=movie.select_one('dl.info_txt1 > dd').text\n",
    "    #arr_info=info.split('|')\n",
    "    #print(arr_info)\n",
    "    arr_info=info.replace('\\t','').replace('\\n\\n','').replace('\\r\\n','').split('|')\n",
    "    if len(arr_info)<3:\n",
    "        arr_info.insert(0,'장르정보 없음')\n",
    "    genre=arr_info[0]\n",
    "    running=arr_info[1].replace('분','')\n",
    "    release_date=arr_info[2].replace('개봉','')\n",
    "    #print(genre,running,release_date)\n",
    "    director=movie.select_one('dl > dd:nth-child(3) > dl > dd:nth-child(4) > span > a').text\n",
    "    #print(director)\n",
    "    actors=movie.select('dl > dd:nth-child(3) > dl > dd:nth-child(6) > span > a')\n",
    "    #print(actors)\n",
    "    actorstr=''\n",
    "    for actor in actors:\n",
    "        actorstr+=actor.text+','\n",
    "    actors=actorstr.strip(',')\n",
    "    #movie_list.append((title,reated,point,genre,running,release_date,director,actorstr))\n",
    "    # 상세페이지 \n",
    "    href=movie.select('dl > dt > a')[0]['href']\n",
    "    url2=base+href\n",
    "    res2=requests.get(url2)\n",
    "    soup2=bs(res2.text,'html.parser')\n",
    "    story=soup2.select('#content > div.article > div.section_group.section_group_frst > div:nth-child(1) > div > div.story_area > p')[0].text.replace('\\r','')\n",
    "    #print(story)\n",
    "    \n",
    "    temp=soup2.select('#content > div.article > div.mv_info_area > div.mv_info > div.viewing_graph > div > div.bar_graph')\n",
    "    if len(temp)>0:\n",
    "        temp=temp[0].text.replace('이상','').replace('\\n','').split('대')\n",
    "        temp=temp[:-1]\n",
    "        temp=' '.join(temp)\n",
    "    else:\n",
    "        temp='선호도 정보 없음'\n",
    "    #print(temp)\n",
    "    movie_list.append((title,reated,point,genre,running,release_date,director,actorstr,story,temp))"
   ]
  },
  {
   "cell_type": "code",
   "execution_count": null,
   "id": "3ac09b5e-57f4-499d-bb72-412d507d188e",
   "metadata": {},
   "outputs": [],
   "source": [
    "df=pd.DataFrame(movie_list,columns=['title','rated','point','genre','running','relase_date','director','actors','stroy','temp'])\n",
    "df"
   ]
  },
  {
   "cell_type": "code",
   "execution_count": null,
   "id": "f689b4dc-b5d4-4f45-a14a-0635b1cfdbe4",
   "metadata": {},
   "outputs": [],
   "source": [
    "conn=pymysql.connect(host='localhost',user='jhs',password='1234',db='pydb',charset='utf8')\n",
    "cursor=conn.cursor()\n",
    "sql=\"insert into movie_list(title,rated,point,genre,running,relase_date,director,actors,story,temp) values(%s,%s,%s,%s,%s,%s,%s,%s,%s,%s)\"\n",
    "cursor.executemany(sql,movie_list)\n",
    "conn.commit()\n",
    "conn.close()"
   ]
  }
 ],
 "metadata": {
  "kernelspec": {
   "display_name": "Python 3 (ipykernel)",
   "language": "python",
   "name": "python3"
  },
  "language_info": {
   "codemirror_mode": {
    "name": "ipython",
    "version": 3
   },
   "file_extension": ".py",
   "mimetype": "text/x-python",
   "name": "python",
   "nbconvert_exporter": "python",
   "pygments_lexer": "ipython3",
   "version": "3.12.9"
  }
 },
 "nbformat": 4,
 "nbformat_minor": 5
}
