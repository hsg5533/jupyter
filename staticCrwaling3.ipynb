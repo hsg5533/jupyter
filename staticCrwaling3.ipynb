{
 "cells": [
  {
   "cell_type": "code",
   "execution_count": null,
   "id": "7e102833-6d73-4135-b22c-7ab97a5cfb6f",
   "metadata": {},
   "outputs": [],
   "source": [
    "import urllib.request as req1\n",
    "import requests as req2\n",
    "from bs4 import BeautifulSoup\n",
    "import pandas as pd\n",
    "import pymysql"
   ]
  },
  {
   "cell_type": "code",
   "execution_count": null,
   "id": "c692d675-a582-4545-bdbe-4f70f2b9e438",
   "metadata": {},
   "outputs": [],
   "source": [
    "def image_save(url,i):\n",
    "    save_name='data/book_image/image'+str(i)+'.jpg'\n",
    "    req1.urlretrieve(url,save_name)\n",
    "    print(save_name,'가 저장됨')"
   ]
  },
  {
   "cell_type": "code",
   "execution_count": null,
   "id": "e5e0b230-4897-4f73-a4bf-f5bd0735b6e8",
   "metadata": {},
   "outputs": [],
   "source": [
    "url=\"http://www.yes24.com/Product/Search?domain=ALL&query=python\"\n",
    "res=req1.urlopen(url)\n",
    "bs=BeautifulSoup(res,'html.parser')\n",
    "books=bs.select('#yesSchList > li')\n",
    "book_list=[]\n",
    "i=0\n",
    "for book in books:\n",
    "    title=book.select('div > div.item_info > div.info_row.info_name > a.gd_name')\n",
    "    #print(title[0].text)\n",
    "    pub=book.select(' div > div.item_info > div.info_row.info_pubGrp > span.authPub.info_pub > a')\n",
    "    #print(pub[0].text)\n",
    "    author=book.select('div > div.item_info > div.info_row.info_pubGrp > span.authPub.info_auth > a')\n",
    "    #print(author[0].text)\n",
    "    date=book.select('div > div.item_info > div.info_row.info_pubGrp > span.authPub.info_date')\n",
    "    #print(date[0].text)\n",
    "    price=book.select('div > div.item_info > div.info_row.info_price > strong > em')\n",
    "    #print(price[0].text)\n",
    "    b_list=[title[0].text.strip(),pub[0].text.strip(),author[0].text,date[0].text,price[0].text]\n",
    "    book_list.append(b_list)\n",
    "    i+=1\n",
    "    img=book.select('div > div.item_img > div.img_canvas > span > span > a > em > img')\n",
    "    img_src=img[0]['data-original']\n",
    "    print(img_src)\n",
    "    image_save(img_src,i)\n",
    "#print(book_list)\n",
    "book_list=tuple(book_list)\n",
    "#df=pd.DataFrame(book_list,columns=['title','author','pub','date','price'])\n",
    "#df.to_csv('data/books.csv',index=False)"
   ]
  },
  {
   "cell_type": "code",
   "execution_count": null,
   "id": "2ec7aed4-d2b8-4a65-a65c-b7530dd739e9",
   "metadata": {},
   "outputs": [],
   "source": [
    "conn=pymysql.connect(host='localhost',user='jhs',password='1234',db='pydb',charset='utf8')\n",
    "cursor=conn.cursor()\n",
    "sql=\"insert into yes_book(title,author,pub,date,price) values(%s,%s,%s,%s,%s)\"\n",
    "cursor.executemany(sql,book_list)\n",
    "conn.commit()\n",
    "conn.close()"
   ]
  }
 ],
 "metadata": {
  "kernelspec": {
   "display_name": "Python 3 (ipykernel)",
   "language": "python",
   "name": "python3"
  },
  "language_info": {
   "codemirror_mode": {
    "name": "ipython",
    "version": 3
   },
   "file_extension": ".py",
   "mimetype": "text/x-python",
   "name": "python",
   "nbconvert_exporter": "python",
   "pygments_lexer": "ipython3",
   "version": "3.12.9"
  }
 },
 "nbformat": 4,
 "nbformat_minor": 5
}
