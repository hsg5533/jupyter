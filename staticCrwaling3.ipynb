{
 "cells": [
  {
   "cell_type": "code",
   "execution_count": 1,
   "id": "7e102833-6d73-4135-b22c-7ab97a5cfb6f",
   "metadata": {},
   "outputs": [
    {
     "ename": "ModuleNotFoundError",
     "evalue": "No module named 'requests'",
     "output_type": "error",
     "traceback": [
      "\u001b[1;31m---------------------------------------------------------------------------\u001b[0m",
      "\u001b[1;31mModuleNotFoundError\u001b[0m                       Traceback (most recent call last)",
      "Cell \u001b[1;32mIn[1], line 2\u001b[0m\n\u001b[0;32m      1\u001b[0m \u001b[38;5;28;01mimport\u001b[39;00m \u001b[38;5;21;01murllib\u001b[39;00m\u001b[38;5;21;01m.\u001b[39;00m\u001b[38;5;21;01mrequest\u001b[39;00m \u001b[38;5;28;01mas\u001b[39;00m \u001b[38;5;21;01mreq1\u001b[39;00m\n\u001b[1;32m----> 2\u001b[0m \u001b[38;5;28;01mimport\u001b[39;00m \u001b[38;5;21;01mrequests\u001b[39;00m \u001b[38;5;28;01mas\u001b[39;00m \u001b[38;5;21;01mreq2\u001b[39;00m\n\u001b[0;32m      3\u001b[0m \u001b[38;5;28;01mfrom\u001b[39;00m \u001b[38;5;21;01mbs4\u001b[39;00m \u001b[38;5;28;01mimport\u001b[39;00m BeautifulSoup\n\u001b[0;32m      4\u001b[0m \u001b[38;5;28;01mimport\u001b[39;00m \u001b[38;5;21;01mpandas\u001b[39;00m \u001b[38;5;28;01mas\u001b[39;00m \u001b[38;5;21;01mpd\u001b[39;00m\n",
      "\u001b[1;31mModuleNotFoundError\u001b[0m: No module named 'requests'"
     ]
    }
   ],
   "source": [
    "import urllib.request as req1\n",
    "import requests as req2\n",
    "from bs4 import BeautifulSoup\n",
    "import pandas as pd\n",
    "import pymysql"
   ]
  },
  {
   "cell_type": "code",
   "execution_count": null,
   "id": "c692d675-a582-4545-bdbe-4f70f2b9e438",
   "metadata": {},
   "outputs": [],
   "source": [
    "def image_save(url,i):\n",
    "    save_name='data/book_image/image'+str(i)+'.jpg'\n",
    "    req1.urlretrieve(url,save_name)\n",
    "    print(save_name,'가 저장됨')"
   ]
  },
  {
   "cell_type": "code",
   "execution_count": null,
   "id": "e5e0b230-4897-4f73-a4bf-f5bd0735b6e8",
   "metadata": {},
   "outputs": [
    {
     "name": "stdout",
     "output_type": "stream",
     "text": [
      "https://image.yes24.com/goods/109625396/L\n"
     ]
    },
    {
     "ename": "FileNotFoundError",
     "evalue": "[Errno 2] No such file or directory: 'data/book_image/image1.jpg'",
     "output_type": "error",
     "traceback": [
      "\u001b[1;31m---------------------------------------------------------------------------\u001b[0m",
      "\u001b[1;31mFileNotFoundError\u001b[0m                         Traceback (most recent call last)",
      "Input \u001b[1;32mIn [3]\u001b[0m, in \u001b[0;36m<cell line: 7>\u001b[1;34m()\u001b[0m\n\u001b[0;32m     22\u001b[0m     img_src\u001b[38;5;241m=\u001b[39mimg[\u001b[38;5;241m0\u001b[39m][\u001b[38;5;124m'\u001b[39m\u001b[38;5;124mdata-original\u001b[39m\u001b[38;5;124m'\u001b[39m]\n\u001b[0;32m     23\u001b[0m     \u001b[38;5;28mprint\u001b[39m(img_src)\n\u001b[1;32m---> 24\u001b[0m     \u001b[43mimage_save\u001b[49m\u001b[43m(\u001b[49m\u001b[43mimg_src\u001b[49m\u001b[43m,\u001b[49m\u001b[43mi\u001b[49m\u001b[43m)\u001b[49m\n\u001b[0;32m     25\u001b[0m \u001b[38;5;66;03m#print(book_list)\u001b[39;00m\n\u001b[0;32m     26\u001b[0m book_list\u001b[38;5;241m=\u001b[39m\u001b[38;5;28mtuple\u001b[39m(book_list)\n",
      "Input \u001b[1;32mIn [2]\u001b[0m, in \u001b[0;36mimage_save\u001b[1;34m(url, i)\u001b[0m\n\u001b[0;32m      1\u001b[0m \u001b[38;5;28;01mdef\u001b[39;00m \u001b[38;5;21mimage_save\u001b[39m(url,i):\n\u001b[0;32m      2\u001b[0m     save_name\u001b[38;5;241m=\u001b[39m\u001b[38;5;124m'\u001b[39m\u001b[38;5;124mdata/book_image/image\u001b[39m\u001b[38;5;124m'\u001b[39m\u001b[38;5;241m+\u001b[39m\u001b[38;5;28mstr\u001b[39m(i)\u001b[38;5;241m+\u001b[39m\u001b[38;5;124m'\u001b[39m\u001b[38;5;124m.jpg\u001b[39m\u001b[38;5;124m'\u001b[39m\n\u001b[1;32m----> 3\u001b[0m     \u001b[43mreq1\u001b[49m\u001b[38;5;241;43m.\u001b[39;49m\u001b[43murlretrieve\u001b[49m\u001b[43m(\u001b[49m\u001b[43murl\u001b[49m\u001b[43m,\u001b[49m\u001b[43msave_name\u001b[49m\u001b[43m)\u001b[49m\n\u001b[0;32m      4\u001b[0m     \u001b[38;5;28mprint\u001b[39m(save_name,\u001b[38;5;124m'\u001b[39m\u001b[38;5;124m가 저장됨\u001b[39m\u001b[38;5;124m'\u001b[39m)\n",
      "File \u001b[1;32mD:\\Anaconda3\\lib\\urllib\\request.py:249\u001b[0m, in \u001b[0;36murlretrieve\u001b[1;34m(url, filename, reporthook, data)\u001b[0m\n\u001b[0;32m    247\u001b[0m \u001b[38;5;66;03m# Handle temporary file setup.\u001b[39;00m\n\u001b[0;32m    248\u001b[0m \u001b[38;5;28;01mif\u001b[39;00m filename:\n\u001b[1;32m--> 249\u001b[0m     tfp \u001b[38;5;241m=\u001b[39m \u001b[38;5;28;43mopen\u001b[39;49m\u001b[43m(\u001b[49m\u001b[43mfilename\u001b[49m\u001b[43m,\u001b[49m\u001b[43m \u001b[49m\u001b[38;5;124;43m'\u001b[39;49m\u001b[38;5;124;43mwb\u001b[39;49m\u001b[38;5;124;43m'\u001b[39;49m\u001b[43m)\u001b[49m\n\u001b[0;32m    250\u001b[0m \u001b[38;5;28;01melse\u001b[39;00m:\n\u001b[0;32m    251\u001b[0m     tfp \u001b[38;5;241m=\u001b[39m tempfile\u001b[38;5;241m.\u001b[39mNamedTemporaryFile(delete\u001b[38;5;241m=\u001b[39m\u001b[38;5;28;01mFalse\u001b[39;00m)\n",
      "\u001b[1;31mFileNotFoundError\u001b[0m: [Errno 2] No such file or directory: 'data/book_image/image1.jpg'"
     ]
    }
   ],
   "source": [
    "url=\"http://www.yes24.com/Product/Search?domain=ALL&query=python\"\n",
    "res=req1.urlopen(url)\n",
    "bs=BeautifulSoup(res,'html.parser')\n",
    "books=bs.select('#yesSchList > li')\n",
    "book_list=[]\n",
    "i=0\n",
    "for book in books:\n",
    "    title=book.select('div > div.item_info > div.info_row.info_name > a.gd_name')\n",
    "    #print(title[0].text)\n",
    "    pub=book.select(' div > div.item_info > div.info_row.info_pubGrp > span.authPub.info_pub > a')\n",
    "    #print(pub[0].text)\n",
    "    author=book.select('div > div.item_info > div.info_row.info_pubGrp > span.authPub.info_auth > a')\n",
    "    #print(author[0].text)\n",
    "    date=book.select('div > div.item_info > div.info_row.info_pubGrp > span.authPub.info_date')\n",
    "    #print(date[0].text)\n",
    "    price=book.select('div > div.item_info > div.info_row.info_price > strong > em')\n",
    "    #print(price[0].text)\n",
    "    b_list=[title[0].text.strip(),pub[0].text.strip(),author[0].text,date[0].text,price[0].text]\n",
    "    book_list.append(b_list)\n",
    "    i+=1\n",
    "    img=book.select('div > div.item_img > div.img_canvas > span > span > a > em > img')\n",
    "    img_src=img[0]['data-original']\n",
    "    print(img_src)\n",
    "    image_save(img_src,i)\n",
    "#print(book_list)\n",
    "book_list=tuple(book_list)\n",
    "#df=pd.DataFrame(book_list,columns=['title','author','pub','date','price'])\n",
    "#df.to_csv('data/books.csv',index=False)"
   ]
  },
  {
   "cell_type": "code",
   "execution_count": null,
   "id": "2ec7aed4-d2b8-4a65-a65c-b7530dd739e9",
   "metadata": {},
   "outputs": [],
   "source": [
    "conn=pymysql.connect(host='localhost',user='jhs',password='1234',db='pydb',charset='utf8')\n",
    "cursor=conn.cursor()\n",
    "sql=\"insert into yes_book(title,author,pub,date,price) values(%s,%s,%s,%s,%s)\"\n",
    "cursor.executemany(sql,book_list)\n",
    "conn.commit()\n",
    "conn.close()"
   ]
  }
 ],
 "metadata": {
  "kernelspec": {
   "display_name": "Python 3 (ipykernel)",
   "language": "python",
   "name": "python3"
  },
  "language_info": {
   "codemirror_mode": {
    "name": "ipython",
    "version": 3
   },
   "file_extension": ".py",
   "mimetype": "text/x-python",
   "name": "python",
   "nbconvert_exporter": "python",
   "pygments_lexer": "ipython3",
   "version": "3.9.10"
  }
 },
 "nbformat": 4,
 "nbformat_minor": 5
}
