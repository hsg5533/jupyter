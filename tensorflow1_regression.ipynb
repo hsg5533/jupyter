{
 "cells": [
  {
   "cell_type": "code",
   "execution_count": 6,
   "id": "36418cff",
   "metadata": {
    "tags": []
   },
   "outputs": [
    {
     "name": "stdout",
     "output_type": "stream",
     "text": [
      "0 0.54670894 [1.1545504] [-0.97137207]\n",
      "200 0.041742463 [1.2367227] [-0.5381262]\n",
      "400 0.01593933 [1.1462803] [-0.3325293]\n",
      "600 0.0060864077 [1.0903922] [-0.20548284]\n",
      "800 0.0023240868 [1.055857] [-0.12697597]\n",
      "1000 0.0008874463 [1.0345161] [-0.0784632]\n",
      "1200 0.00033887193 [1.021329] [-0.04848555]\n",
      "1400 0.00012939548 [1.0131799] [-0.02996098]\n",
      "1600 4.941008e-05 [1.0081444] [-0.01851399]\n",
      "1800 1.8866473e-05 [1.0050327] [-0.01144046]\n",
      "2000 7.2040893e-06 [1.0031099] [-0.0070695]\n",
      "2200 2.7513913e-06 [1.001922] [-0.00436883]\n",
      "2400 1.0510904e-06 [1.001188] [-0.00270025]\n",
      "2600 4.018476e-07 [1.0007347] [-0.00166956]\n",
      "2800 1.537541e-07 [1.0004547] [-0.00103276]\n",
      "3000 5.890813e-08 [1.0002811] [-0.0006393]\n",
      "3200 2.2588615e-08 [1.0001742] [-0.00039587]\n",
      "3400 8.688403e-09 [1.0001084] [-0.00024547]\n",
      "3600 3.3265914e-09 [1.000067] [-0.00015197]\n",
      "3800 1.3080537e-09 [1.0000416] [-9.534858e-05]\n",
      "4000 4.822294e-10 [1.0000254] [-5.7836805e-05]\n",
      "4200 1.9200748e-10 [1.0000162] [-3.643912e-05]\n",
      "4400 8.573197e-11 [1.000011] [-2.4242165e-05]\n",
      "4600 4.378913e-11 [1.000008] [-1.7282431e-05]\n",
      "4800 2.7570418e-11 [1.0000063] [-1.3335476e-05]\n",
      "5000 1.9734188e-11 [1.0000054] [-1.1108128e-05]\n",
      "5200 1.524822e-11 [1.0000048] [-9.830704e-06]\n",
      "5400 1.36963565e-11 [1.0000045] [-9.184025e-06]\n",
      "5600 1.3324095e-11 [1.0000044] [-8.885824e-06]\n",
      "5800 1.3323467e-11 [1.0000044] [-8.861656e-06]\n",
      "6000 1.3323465e-11 [1.0000044] [-8.861246e-06]\n",
      "6200 1.3323465e-11 [1.0000044] [-8.861246e-06]\n",
      "6400 1.3323465e-11 [1.0000044] [-8.861246e-06]\n",
      "6600 1.3323465e-11 [1.0000044] [-8.861246e-06]\n",
      "6800 1.3323465e-11 [1.0000044] [-8.861246e-06]\n",
      "7000 1.3323465e-11 [1.0000044] [-8.861246e-06]\n",
      "7200 1.3323465e-11 [1.0000044] [-8.861246e-06]\n",
      "7400 1.3323465e-11 [1.0000044] [-8.861246e-06]\n",
      "7600 1.3323465e-11 [1.0000044] [-8.861246e-06]\n",
      "7800 1.3323465e-11 [1.0000044] [-8.861246e-06]\n",
      "8000 1.3323465e-11 [1.0000044] [-8.861246e-06]\n"
     ]
    }
   ],
   "source": [
    "# Lab 2 Linear Regression\n",
    "import tensorflow.compat.v1 as tf\n",
    "tf.disable_v2_behavior()\n",
    "\n",
    "#import tensorflow as tf\n",
    "tf.set_random_seed(777)  # for reproducibility\n",
    "\n",
    "# X and Y data\n",
    "x_train = [1, 2, 3]\n",
    "y_train = [1, 2, 3]\n",
    "\n",
    "# Try to find values for W and b to compute y_data = x_data * W + b\n",
    "# We know that W should be 1 and b should be 0\n",
    "# But let TensorFlow figure it out\n",
    "\n",
    "W = tf.Variable(tf.random_normal([1]), name=\"weight\")\n",
    "b = tf.Variable(tf.random_normal([1]), name=\"bias\")\n",
    "\n",
    "# Our hypothesis XW+b\n",
    "hypothesis = x_train * W + b\n",
    "\n",
    "# cost/loss function\n",
    "cost = tf.reduce_mean(tf.square(hypothesis - y_train))\n",
    "\n",
    "# optimizer\n",
    "train = tf.train.GradientDescentOptimizer(learning_rate=0.01).minimize(cost)\n",
    "\n",
    "# Launch the graph in a session.\n",
    "with tf.Session() as sess:\n",
    "    # Initializes global variables in the graph.\n",
    "    sess.run(tf.global_variables_initializer())\n",
    "\n",
    "    # Fit the line\n",
    "    for step in range(8001):\n",
    "        _, cost_val, W_val, b_val = sess.run([train, cost, W, b])\n",
    "\n",
    "        if step % 200 == 0:\n",
    "            print(step, cost_val, W_val, b_val)"
   ]
  }
 ],
 "metadata": {
  "kernelspec": {
   "display_name": "Python 3 (ipykernel)",
   "language": "python",
   "name": "python3"
  },
  "language_info": {
   "codemirror_mode": {
    "name": "ipython",
    "version": 3
   },
   "file_extension": ".py",
   "mimetype": "text/x-python",
   "name": "python",
   "nbconvert_exporter": "python",
   "pygments_lexer": "ipython3",
   "version": "3.9.12"
  }
 },
 "nbformat": 4,
 "nbformat_minor": 5
}
