{
 "cells": [
  {
   "cell_type": "code",
   "execution_count": null,
   "id": "dc6ef009",
   "metadata": {
    "tags": []
   },
   "outputs": [],
   "source": [
    "import numpy as np\n",
    "import tensorflow as tf\n",
    "from tensorflow.keras.models import Sequential\n",
    "from tensorflow.keras.layers import Flatten, Dense\n",
    "from tensorflow.keras.optimizers import SGD\n",
    "\n",
    "x_train = [1, 2, 3, 4, 5, 6]\n",
    "y_train = [3, 4, 5, 6, 7, 8]\n",
    "\n",
    "tf.model = tf.keras.Sequential()\n",
    "# units == output shape, input_dim == input shape\n",
    "tf.model.add(Flatten(input_shape=(1,)))\n",
    "tf.model.add(Dense(1, activation='linear'))\n",
    "\n",
    "#sgd = tf.keraSGD(lr=0.1)  # SGD == standard gradient descendent, lr == learning rate\n",
    "tf.model.compile(loss='mse', optimizer=SGD(lr=0.01))  # mse == mean_squared_error, 1/m * sig (y'-y)^2\n",
    "\n",
    "# prints summary of the model to the terminal\n",
    "tf.model.summary()"
   ]
  },
  {
   "cell_type": "code",
   "execution_count": null,
   "id": "1c83545a-3a54-4f3b-8b08-4b1b0c576160",
   "metadata": {
    "tags": []
   },
   "outputs": [],
   "source": [
    "# fit() executes training\n",
    "tf.model.fit(x_train, y_train, epochs=200)"
   ]
  },
  {
   "cell_type": "code",
   "execution_count": null,
   "id": "3a1d23b1-b035-4499-84fb-181ea7c57c00",
   "metadata": {},
   "outputs": [],
   "source": [
    "# predict() returns predicted value\n",
    "y_predict = tf.model.predict(np.array([5, 4]))\n",
    "print(y_predict)"
   ]
  }
 ],
 "metadata": {
  "kernelspec": {
   "display_name": "Python 3 (ipykernel)",
   "language": "python",
   "name": "python3"
  },
  "language_info": {
   "codemirror_mode": {
    "name": "ipython",
    "version": 3
   },
   "file_extension": ".py",
   "mimetype": "text/x-python",
   "name": "python",
   "nbconvert_exporter": "python",
   "pygments_lexer": "ipython3",
   "version": "3.12.9"
  }
 },
 "nbformat": 4,
 "nbformat_minor": 5
}
