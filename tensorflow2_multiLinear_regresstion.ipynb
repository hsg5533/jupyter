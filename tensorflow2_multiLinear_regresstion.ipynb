{
 "cells": [
  {
   "cell_type": "code",
   "execution_count": null,
   "id": "850c8689-95af-4f9c-ac82-9b0b23925f29",
   "metadata": {},
   "outputs": [],
   "source": [
    "import tensorflow as tf\n",
    "\n",
    "from tensorflow.keras.models import Sequential\n",
    "from tensorflow.keras.layers import Flatten, Dense\n",
    "from tensorflow.keras.optimizers import SGD, Adam\n",
    "\n",
    "import numpy as np\n",
    "\n",
    "print(tf.__version__)"
   ]
  },
  {
   "cell_type": "code",
   "execution_count": null,
   "id": "cc832ef5-22f8-4a67-9db5-20cf587d4916",
   "metadata": {},
   "outputs": [],
   "source": [
    "# train data \n",
    "# t_data = 2*x1 -3*x2 + 2*x3\n",
    "\n",
    "x_data = np.array([ [1, 2, 0], [5, 4, 3], [1, 2, -1], [3, 1, 0], [2, 4, 2], \n",
    "                    [4, 1, 2], [-1, 3, 2], [4, 3, 3], [0, 2, 6], [2, 2, 1],\n",
    "                    [1, -2, -2], [0, 1, 3], [1, 1, 3], [0, 1, 4], [2, 3, 3] ])\n",
    "\n",
    "t_data = np.array([-4, 4, -6, 3, -4, \n",
    "                   9, -7, 5, 6, 0,\n",
    "                   4, 3, 5, 5, 1])\n",
    "\n",
    "print('x_data.shape = ', x_data.shape, ', t_data.shape = ', t_data.shape)"
   ]
  },
  {
   "cell_type": "code",
   "execution_count": null,
   "id": "c7bca2ab-416e-4b05-b82f-c0f5145fee21",
   "metadata": {},
   "outputs": [],
   "source": [
    " #Linear Regression 을 keras 이용하여 생성\n",
    "model = Sequential()\n",
    "model.add(Dense(1, input_shape=(3, ),activation='linear'))  # 노드 3개인 출력층 생성"
   ]
  },
  {
   "cell_type": "code",
   "execution_count": null,
   "id": "8cd8c044-268f-44f8-b08d-908ba5912a5b",
   "metadata": {
    "tags": []
   },
   "outputs": [],
   "source": [
    "# 학습을 위한 optimizer, 손실함수 loss 정의\n",
    "model.compile(optimizer=SGD(learning_rate=1e-2), loss='mse')\n",
    "model.summary()"
   ]
  },
  {
   "cell_type": "code",
   "execution_count": null,
   "id": "2b8a9eaa-5d69-4c79-8923-75373388279e",
   "metadata": {
    "tags": []
   },
   "outputs": [],
   "source": [
    "from datetime import datetime\n",
    "\n",
    "start_time = datetime.now()\n",
    "hist = model.fit(x_data, t_data, epochs=1000)\n",
    "end_time = datetime.now()\n",
    "print('\\nElapsed Time => ', end_time - start_time)"
   ]
  },
  {
   "cell_type": "code",
   "execution_count": null,
   "id": "2da05b87-063a-46ea-84c9-edbc484a9460",
   "metadata": {},
   "outputs": [],
   "source": [
    "# hist 타입 및 key 확인\n",
    "\n",
    "print(type(hist))\n",
    "print(hist.history.keys())"
   ]
  },
  {
   "cell_type": "code",
   "execution_count": null,
   "id": "4ad5676d-04c5-4afc-8a86-a58638f8cc12",
   "metadata": {},
   "outputs": [],
   "source": [
    "# 손실함수 출력\n",
    "import matplotlib.pyplot as plt\n",
    "\n",
    "plt.title('Loss Trend')\n",
    "plt.xlabel('epochs')\n",
    "plt.ylabel('loss')\n",
    "plt.grid()\n",
    "plt.plot(hist.history['loss'], label='train loss')\n",
    "plt.legend(loc='best')\n",
    "plt.show()"
   ]
  },
  {
   "cell_type": "code",
   "execution_count": null,
   "id": "16e0593b-5ec8-4a71-ac4f-e0eb2c3e7bac",
   "metadata": {},
   "outputs": [],
   "source": [
    "# 예측,  ret_val = 2*x1 -3*x2 + 2*x3\n",
    "\n",
    "test_data = [ [5, 5, 0], [2, 3, 1], [-1, 0, -1], [10, 5, 2], [4, -1, -2] ]\n",
    "ret_val = [ 2*data[0] -3*data[1] + 2*data[2]  for data in test_data ]\n",
    "\n",
    "prediction_val = model.predict(np.array(test_data))\n",
    "\n",
    "print(prediction_val)\n",
    "print('==================')\n",
    "print(ret_val)"
   ]
  },
  {
   "cell_type": "code",
   "execution_count": null,
   "id": "d8dd414b-bbe6-44c9-ad7a-3517b66491f0",
   "metadata": {},
   "outputs": [],
   "source": [
    "# 모델 입력, 출력, 가중치 확인\n",
    "\n",
    "print(model.input)\n",
    "print(model.output)\n",
    "print(model.weights)"
   ]
  }
 ],
 "metadata": {
  "kernelspec": {
   "display_name": "Python 3 (ipykernel)",
   "language": "python",
   "name": "python3"
  },
  "language_info": {
   "codemirror_mode": {
    "name": "ipython",
    "version": 3
   },
   "file_extension": ".py",
   "mimetype": "text/x-python",
   "name": "python",
   "nbconvert_exporter": "python",
   "pygments_lexer": "ipython3",
   "version": "3.12.9"
  }
 },
 "nbformat": 4,
 "nbformat_minor": 5
}
