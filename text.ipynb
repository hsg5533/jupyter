{
 "cells": [
  {
   "cell_type": "code",
   "execution_count": 1,
   "id": "30ee036c-bd7c-4d8e-81f6-d44301a07926",
   "metadata": {},
   "outputs": [
    {
     "name": "stdout",
     "output_type": "stream",
     "text": [
      "9\n",
      "3\n"
     ]
    }
   ],
   "source": [
    "def f(x):\n",
    "    y=x\n",
    "    x=5\n",
    "    return y*y\n",
    "\n",
    "x=3\n",
    "print(f(x))\n",
    "print(x)"
   ]
  },
  {
   "cell_type": "code",
   "execution_count": 3,
   "id": "5fed108a-e37f-49f3-99a6-12a97d6971af",
   "metadata": {},
   "outputs": [
    {
     "name": "stdout",
     "output_type": "stream",
     "text": [
      "[0, 1, 2]\n"
     ]
    }
   ],
   "source": [
    "def spam(eggs):\n",
    "    eggs.append(2)\n",
    "ham=[0,1]\n",
    "spam(ham)\n",
    "print(ham)"
   ]
  },
  {
   "cell_type": "code",
   "execution_count": 14,
   "id": "2e3874ce-1e6d-429f-9d07-9191449473fa",
   "metadata": {},
   "outputs": [
    {
     "name": "stdout",
     "output_type": "stream",
     "text": [
      "in function x: 10\n",
      "in function t: 10\n",
      "in function y: 30\n",
      "in main x: 10\n",
      "in main y: 30\n"
     ]
    }
   ],
   "source": [
    "def test(t):\n",
    "    print('in function x:',x)\n",
    "    global y\n",
    "    y=30\n",
    "    print(\"in function t:\",t)\n",
    "    print('in function y:',y)\n",
    "x=10\n",
    "y=5\n",
    "test(x)\n",
    "print('in main x:',x)\n",
    "print('in main y:',y)"
   ]
  },
  {
   "cell_type": "code",
   "execution_count": 16,
   "id": "2a6ef234-8746-42a7-a060-3b8b33450a9f",
   "metadata": {},
   "outputs": [
    {
     "name": "stdout",
     "output_type": "stream",
     "text": [
      "x: 1 y: 2\n",
      "x=1,y=2\n",
      "x=1,y=2\n",
      "x: 1 y: 2\n",
      "x=1,y=2\n",
      "x=1,y=2\n"
     ]
    }
   ],
   "source": [
    "def func1(x,y):\n",
    "    print('x:',x,'y:',y)\n",
    "    print('x={0},y={1}'.format(x,y))\n",
    "    print('x=%d,y=%d'%(x,y))\n",
    "\n",
    "func1(1,2)\n",
    "func1(y=2,x=1)"
   ]
  },
  {
   "cell_type": "code",
   "execution_count": 18,
   "id": "41a0982b-ee15-4bd9-941f-4590a2223861",
   "metadata": {},
   "outputs": [
    {
     "name": "stdout",
     "output_type": "stream",
     "text": [
      "1 2 (3,)\n",
      "a=1,b=2,c=(3,)\n",
      "1 2 (3, 4)\n",
      "a=1,b=2,c=(3, 4)\n"
     ]
    }
   ],
   "source": [
    "def func2(a,b,*c): #c는 가변인수\n",
    "    print(a,b,c)\n",
    "    print('a={0},b={1},c={2}'.format(a,b,c))\n",
    "\n",
    "func2(1,2,3)\n",
    "func2(1,2,3,4)"
   ]
  },
  {
   "cell_type": "code",
   "execution_count": 24,
   "id": "aeba2ffc-640b-48c9-9394-789c892c012e",
   "metadata": {},
   "outputs": [
    {
     "name": "stdout",
     "output_type": "stream",
     "text": [
      "{'a': 1, 'b': 2, 'c': 3}\n",
      "a=1,b=2,c=3\n"
     ]
    }
   ],
   "source": [
    "def func3(**karg):\n",
    "    print(karg)\n",
    "    print('a={a},b={b},c={c}'.format(**karg))\n",
    "func3(a=1,b=2,c=3)"
   ]
  },
  {
   "cell_type": "code",
   "execution_count": 27,
   "id": "af90d7ce-0564-4e6c-a539-937b2a10ebf3",
   "metadata": {},
   "outputs": [
    {
     "name": "stdout",
     "output_type": "stream",
     "text": [
      "1 10\n",
      "1 2\n"
     ]
    }
   ],
   "source": [
    "def func4(a,b=10):\n",
    "    print(a,b)\n",
    "func4(1)\n",
    "func4(1,2)"
   ]
  },
  {
   "cell_type": "code",
   "execution_count": 28,
   "id": "8489a402-6eb1-4d2a-9574-a6f972347c98",
   "metadata": {},
   "outputs": [
    {
     "name": "stdout",
     "output_type": "stream",
     "text": [
      "a\n",
      "ab\n",
      "ab\n",
      "ace\n",
      "edcba\n",
      "abcd\n"
     ]
    }
   ],
   "source": [
    "a='abcde'\n",
    "print(a[0])\n",
    "print(a[0:2])\n",
    "print(a[:2])\n",
    "print(a[::2])\n",
    "print(a[::-1])\n",
    "print(a[-5:-1])"
   ]
  },
  {
   "cell_type": "code",
   "execution_count": 30,
   "id": "707612dc-635b-41fb-a8cb-544b4f36d589",
   "metadata": {},
   "outputs": [
    {
     "name": "stdout",
     "output_type": "stream",
     "text": [
      "pythonbigdata\n",
      "pythonpythonpythonpythonpython\n",
      "True\n",
      "python3.9\n"
     ]
    }
   ],
   "source": [
    "a='python'\n",
    "b='bigdata'\n",
    "print(a+b)\n",
    "print(a*5)\n",
    "print('o' in a)\n",
    "print(a+str(3.9))"
   ]
  },
  {
   "cell_type": "code",
   "execution_count": 37,
   "id": "83b817a6-6383-4347-ad66-cff45c4d47c6",
   "metadata": {},
   "outputs": [
    {
     "name": "stdout",
     "output_type": "stream",
     "text": [
      "TEAMLAB X INFLEARN\n",
      "teamlab x inflearn\n",
      "Teamlab X Inflearn\n",
      "Teamlab x inflearn\n",
      "3\n",
      "False\n",
      "True\n",
      "True\n"
     ]
    }
   ],
   "source": [
    "str1='TEAMLAB x inflearn'\n",
    "print(str1.upper())\n",
    "print(str1.lower())\n",
    "print(str1.title())\n",
    "print(str1.capitalize())\n",
    "print(str1.lower().count('a'))\n",
    "print(str1.isdigit())\n",
    "print(str1.startswith('TEAM'))\n",
    "print(str1.endswith('learn'))"
   ]
  },
  {
   "cell_type": "code",
   "execution_count": 38,
   "id": "f8815229-7ef7-4148-8d17-4ffc7b8939b4",
   "metadata": {},
   "outputs": [
    {
     "name": "stdout",
     "output_type": "stream",
     "text": [
      "\n",
      "대법원이 공정거래위원회의 총수 일가 일감 몰아 주기 제재에 대해 \n",
      "부당성 증명이 필요하다는 결론을 내리면서 사익편취 입증이 까다로워질 것으로 전망된다. \n",
      "전문가들은 공정위가 정책적 해석을 내세우면서 법조문을 만드는 첫 단추를 잘못 뀄다고 지적했다.\n",
      "\n"
     ]
    }
   ],
   "source": [
    "str2=\"\"\"\n",
    "대법원이 공정거래위원회의 총수 일가 일감 몰아 주기 제재에 대해 \n",
    "부당성 증명이 필요하다는 결론을 내리면서 사익편취 입증이 까다로워질 것으로 전망된다. \n",
    "전문가들은 공정위가 정책적 해석을 내세우면서 법조문을 만드는 첫 단추를 잘못 뀄다고 지적했다.\n",
    "\"\"\"\n",
    "print(str2)"
   ]
  },
  {
   "cell_type": "code",
   "execution_count": 39,
   "id": "333f49e6-c6ed-4c55-9634-f9abc3cc9862",
   "metadata": {},
   "outputs": [
    {
     "name": "stdout",
     "output_type": "stream",
     "text": [
      "\n",
      "사익편취 금지제도는 박근혜 정부의 경제민주화 공약에 따라 2014년 2월 공정거래법에 도입됐다. \n",
      "이전에도 대기업집단이 특정 계열사를 부당지원하는 행위는 제재 대상이었다. \n",
      "부당지원행위 금지조항은 '부당하게 특수관계인 등을 지원하는 행위'를 규제 대상으로 규정하고 있다.\n",
      "\n"
     ]
    }
   ],
   "source": [
    "str3='''\n",
    "사익편취 금지제도는 박근혜 정부의 경제민주화 공약에 따라 2014년 2월 공정거래법에 도입됐다. \n",
    "이전에도 대기업집단이 특정 계열사를 부당지원하는 행위는 제재 대상이었다. \n",
    "부당지원행위 금지조항은 '부당하게 특수관계인 등을 지원하는 행위'를 규제 대상으로 규정하고 있다.\n",
    "'''\n",
    "print(str3)"
   ]
  },
  {
   "cell_type": "code",
   "execution_count": 73,
   "id": "65f811d5-f73e-4bf4-b850-eae5e429950f",
   "metadata": {
    "tags": []
   },
   "outputs": [
    {
     "name": "stdout",
     "output_type": "stream",
     "text": [
      "Yesterday all my troubles\n",
      "seemed so far away.\n",
      "Now it looks\n",
      "as though they're here to stay.\n",
      "Oh, I believe in yesterday.\n",
      "\n",
      "Suddenly I'm not half\n",
      "the man I used to be.\n",
      "There's a shadow hanging over me.\n",
      "Oh, yesterday came suddenly.\n",
      "\n",
      "Why she had to go,\n",
      "I don't know,\n",
      "she wouldn't say.\n",
      "I said something wrong,\n",
      "now I long for yesterday.\n",
      "\n",
      "Yesterday love was\n",
      "such an easy game to play.\n",
      "Now I need a place to hide away.\n",
      "Oh, I believe in yesterday.\n",
      "\n",
      "Why she had to go,\n",
      "I don't know,\n",
      "she wouldn't say.\n",
      "I said something wrong,\n",
      "now I long for yesterday.\n",
      "\n",
      "Yesterday love was\n",
      "such an easy game to play.\n",
      "Now I need a place to hide away.\n",
      "Oh, I believe in yesterday.\n",
      "\n",
      "Mm mm mm mm mm mm mm\n",
      "\n",
      "9\n"
     ]
    }
   ],
   "source": [
    "f=open('data/yesterday.txt','r')\n",
    "lines=f.readlines()\n",
    "f.close()\n",
    "content=\"\"\n",
    "for line in lines:\n",
    "    content+=line\n",
    "print(content)\n",
    "print(content.lower().count('yesterday'))"
   ]
  },
  {
   "cell_type": "code",
   "execution_count": 52,
   "id": "33784bed-944d-4ac8-a8be-20b3282e6de5",
   "metadata": {},
   "outputs": [
    {
     "name": "stdout",
     "output_type": "stream",
     "text": [
      "10,python,3.500000\n"
     ]
    }
   ],
   "source": [
    "a='%d,%s,%f'%(10,'python',3.5)\n",
    "print(a)"
   ]
  },
  {
   "cell_type": "code",
   "execution_count": 53,
   "id": "ded935de-6a8f-4b08-9248-58542c78b33e",
   "metadata": {},
   "outputs": [
    {
     "name": "stdout",
     "output_type": "stream",
     "text": [
      "10,python,3.500000\n"
     ]
    }
   ],
   "source": [
    "b='{},{},{}'.format(10,'python',3.5)\n",
    "print(a)"
   ]
  },
  {
   "cell_type": "code",
   "execution_count": 60,
   "id": "87468424-4ae8-4a13-af8f-c6bfcac780bc",
   "metadata": {},
   "outputs": [
    {
     "name": "stdout",
     "output_type": "stream",
     "text": [
      "내이름은 홍길동이고, 나이는         20이고, 키는     175.45입니다.\n"
     ]
    }
   ],
   "source": [
    "name='홍길동'\n",
    "age=20\n",
    "height=175.45\n",
    "print('내이름은 %s이고, 나이는 %10d이고, 키는 %10.2f입니다.'%(name,age,height))"
   ]
  },
  {
   "cell_type": "code",
   "execution_count": 64,
   "id": "8549ad2c-80bb-4104-b566-c8a4aad65a92",
   "metadata": {},
   "outputs": [
    {
     "name": "stdout",
     "output_type": "stream",
     "text": [
      "       홍길동\n",
      "20        \n",
      "   175.450\n"
     ]
    }
   ],
   "source": [
    "print('{0:>10}'.format(name))\n",
    "print('{:<10}'.format(age))\n",
    "print('{:10.3f}'.format(height))"
   ]
  },
  {
   "cell_type": "code",
   "execution_count": 69,
   "id": "2f810f09-b80e-4772-9350-d0b2e5f9f4d3",
   "metadata": {},
   "outputs": [
    {
     "name": "stdout",
     "output_type": "stream",
     "text": [
      "홍길동       , 20\n",
      "       홍길동, 20\n"
     ]
    }
   ],
   "source": [
    "print('{name:10s},{age:3d}'.format(name='홍길동',age=20))\n",
    "print('%(name)10s,%(age)3d'%({'name':'홍길동','age':20}))"
   ]
  }
 ],
 "metadata": {
  "kernelspec": {
   "display_name": "Python 3 (ipykernel)",
   "language": "python",
   "name": "python3"
  },
  "language_info": {
   "codemirror_mode": {
    "name": "ipython",
    "version": 3
   },
   "file_extension": ".py",
   "mimetype": "text/x-python",
   "name": "python",
   "nbconvert_exporter": "python",
   "pygments_lexer": "ipython3",
   "version": "3.9.12"
  }
 },
 "nbformat": 4,
 "nbformat_minor": 5
}
