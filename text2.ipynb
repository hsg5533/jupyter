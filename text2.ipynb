{
 "cells": [
  {
   "cell_type": "code",
   "execution_count": 5,
   "id": "2559ce74-2878-4932-a194-03670300ae2a",
   "metadata": {},
   "outputs": [
    {
     "data": {
      "text/plain": [
       "[1, 2, 3, 4, 5, 10, 20]"
      ]
     },
     "execution_count": 5,
     "metadata": {},
     "output_type": "execute_result"
    }
   ],
   "source": [
    "a=[1,2,3,4,5]\n",
    "a.append(10)\n",
    "a.append(20)\n",
    "a"
   ]
  },
  {
   "cell_type": "code",
   "execution_count": 6,
   "id": "1fa73b02-8718-4764-b347-7058702bc90d",
   "metadata": {},
   "outputs": [
    {
     "data": {
      "text/plain": [
       "1"
      ]
     },
     "execution_count": 6,
     "metadata": {},
     "output_type": "execute_result"
    }
   ],
   "source": [
    "a.pop(0)"
   ]
  },
  {
   "cell_type": "code",
   "execution_count": 7,
   "id": "fa133117-7952-40fb-9cf8-eee61ee2ef5c",
   "metadata": {},
   "outputs": [
    {
     "name": "stdout",
     "output_type": "stream",
     "text": [
      "[2, 3, 4, 5, 10, 20]\n"
     ]
    }
   ],
   "source": [
    "print(a)"
   ]
  },
  {
   "cell_type": "code",
   "execution_count": 8,
   "id": "0b6c9909-bdac-46af-bced-395f7c0906c9",
   "metadata": {},
   "outputs": [
    {
     "name": "stdout",
     "output_type": "stream",
     "text": [
      "1\n"
     ]
    }
   ],
   "source": [
    "t=(1,2,3) #튜플은 데이터 수정 및 추가 불가. read only\n",
    "print(t[0])"
   ]
  },
  {
   "cell_type": "code",
   "execution_count": 9,
   "id": "3e0b05b9-efec-4278-87e8-4230aa5216fd",
   "metadata": {},
   "outputs": [
    {
     "name": "stdout",
     "output_type": "stream",
     "text": [
      "[] ['a', 'b', 'c', 'd']\n"
     ]
    }
   ],
   "source": [
    "list1=[] #빈 리스트\n",
    "list2=list('abcd')\n",
    "print(list1,list2)"
   ]
  },
  {
   "cell_type": "code",
   "execution_count": 10,
   "id": "4927bdd3-76d1-4fc6-ae99-229c9d6f2a4c",
   "metadata": {},
   "outputs": [
    {
     "name": "stdout",
     "output_type": "stream",
     "text": [
      "() (1, 2, 3, 4)\n"
     ]
    }
   ],
   "source": [
    "t1=()\n",
    "t2=tuple([1,2,3,4])\n",
    "print(t1,t2)"
   ]
  },
  {
   "cell_type": "code",
   "execution_count": 11,
   "id": "178027d6-24f9-4c65-a31d-2b0e7ef26189",
   "metadata": {},
   "outputs": [
    {
     "name": "stdout",
     "output_type": "stream",
     "text": [
      "{1, 2, 3} {10, 20, 30}\n"
     ]
    }
   ],
   "source": [
    "s1={1,2,3}\n",
    "s2=set([10,20,30])\n",
    "print(s1,s2)"
   ]
  },
  {
   "cell_type": "code",
   "execution_count": 12,
   "id": "a9e222d3-c497-447f-983d-e59adb6affe0",
   "metadata": {},
   "outputs": [
    {
     "name": "stdout",
     "output_type": "stream",
     "text": [
      "{10, 1, 2, 3}\n"
     ]
    }
   ],
   "source": [
    "s1.add(10)\n",
    "print(s1)"
   ]
  },
  {
   "cell_type": "code",
   "execution_count": 13,
   "id": "2f033eb1-70dd-4db6-8c9c-04a1701b1045",
   "metadata": {},
   "outputs": [
    {
     "name": "stdout",
     "output_type": "stream",
     "text": [
      "{1, 2, 3}\n"
     ]
    }
   ],
   "source": [
    "s1.remove(10)\n",
    "print(s1)"
   ]
  },
  {
   "cell_type": "code",
   "execution_count": 14,
   "id": "bc9beb20-0fe7-477a-9fa3-76c7acc072ae",
   "metadata": {},
   "outputs": [
    {
     "name": "stdout",
     "output_type": "stream",
     "text": [
      "{1, 2, 3, 10, 20, 30}\n"
     ]
    }
   ],
   "source": [
    "s1.update([10,20,30])\n",
    "print(s1)"
   ]
  },
  {
   "cell_type": "code",
   "execution_count": 15,
   "id": "0406f0de-1824-4c9e-9a0e-4268f803378e",
   "metadata": {},
   "outputs": [
    {
     "name": "stdout",
     "output_type": "stream",
     "text": [
      "set()\n"
     ]
    }
   ],
   "source": [
    "s1.clear()\n",
    "print(s1)"
   ]
  },
  {
   "cell_type": "code",
   "execution_count": 16,
   "id": "6f445808-99cd-4f0f-80a4-4472bcc0798d",
   "metadata": {},
   "outputs": [
    {
     "name": "stdout",
     "output_type": "stream",
     "text": [
      "[1, 2, 3, 4, 5]\n"
     ]
    }
   ],
   "source": [
    "a=[1,2,3,4,5]\n",
    "print(a)"
   ]
  },
  {
   "cell_type": "code",
   "execution_count": 17,
   "id": "27609b37-17e2-49c8-ba43-fe08f3bbe7a2",
   "metadata": {},
   "outputs": [
    {
     "name": "stdout",
     "output_type": "stream",
     "text": [
      "{'홍길동': 80, '박길동': 75, '김길동': 60}\n"
     ]
    }
   ],
   "source": [
    "student_scores={'홍길동':80,'박길동':75,'김길동':60}\n",
    "print(student_scores)"
   ]
  },
  {
   "cell_type": "code",
   "execution_count": 18,
   "id": "97ff3aa8-0926-4952-83f9-151669c43185",
   "metadata": {},
   "outputs": [
    {
     "name": "stdout",
     "output_type": "stream",
     "text": [
      "{'홍길동': 50, '박길동': 75, '김길동': 60}\n"
     ]
    }
   ],
   "source": [
    "student_scores['홍길동']=50\n",
    "print(student_scores)"
   ]
  },
  {
   "cell_type": "code",
   "execution_count": 19,
   "id": "830a8287-3c8e-4239-9ed8-6c84b37877d5",
   "metadata": {},
   "outputs": [
    {
     "name": "stdout",
     "output_type": "stream",
     "text": [
      "dict_keys(['홍길동', '박길동', '김길동'])\n",
      "dict_values([50, 75, 60])\n",
      "dict_items([('홍길동', 50), ('박길동', 75), ('김길동', 60)])\n"
     ]
    }
   ],
   "source": [
    "print(student_scores.keys())\n",
    "print(student_scores.values())\n",
    "print(student_scores.items())"
   ]
  },
  {
   "cell_type": "code",
   "execution_count": 20,
   "id": "5c60673e-33c3-4dc9-9142-6b810c45c091",
   "metadata": {},
   "outputs": [
    {
     "name": "stdout",
     "output_type": "stream",
     "text": [
      "홍길동 50\n",
      "박길동 75\n",
      "김길동 60\n"
     ]
    }
   ],
   "source": [
    "for key,value in student_scores.items():\n",
    "    print(key,value)"
   ]
  },
  {
   "cell_type": "code",
   "execution_count": 21,
   "id": "53a7a44d-f6f9-4ad9-847e-6aa5b0c77227",
   "metadata": {},
   "outputs": [
    {
     "name": "stdout",
     "output_type": "stream",
     "text": [
      "{'홍길동': 50, '박길동': 75, '김길동': 60, '박김치': 50}\n"
     ]
    }
   ],
   "source": [
    "student_scores['박김치']=50\n",
    "print(student_scores)"
   ]
  },
  {
   "cell_type": "code",
   "execution_count": 22,
   "id": "0ebf4c8d-26da-45ca-a60c-513cf594e1fe",
   "metadata": {},
   "outputs": [
    {
     "name": "stdout",
     "output_type": "stream",
     "text": [
      "deque([4, 3, 2, 1, 0])\n"
     ]
    }
   ],
   "source": [
    "from collections import deque\n",
    "\n",
    "deque_list=deque()\n",
    "for i in range(5):\n",
    "    deque_list.appendleft(i)\n",
    "\n",
    "print(deque_list)"
   ]
  },
  {
   "cell_type": "code",
   "execution_count": 23,
   "id": "e20f1932-69d9-4dcd-8032-df56085f4a4f",
   "metadata": {},
   "outputs": [
    {
     "name": "stdout",
     "output_type": "stream",
     "text": [
      "deque([1, 0, 4, 3, 2])\n"
     ]
    }
   ],
   "source": [
    "deque_list.rotate(2)\n",
    "print(deque_list)"
   ]
  },
  {
   "cell_type": "code",
   "execution_count": 24,
   "id": "5f647199-7fc8-4e3f-83e9-3ec60b0c3008",
   "metadata": {},
   "outputs": [
    {
     "name": "stdout",
     "output_type": "stream",
     "text": [
      "2\n",
      "deque([1, 0, 4, 3])\n"
     ]
    }
   ],
   "source": [
    "print(deque_list.pop())\n",
    "print(deque_list)"
   ]
  },
  {
   "cell_type": "code",
   "execution_count": 25,
   "id": "3ad7f485-5281-47a9-97b7-b1f0171bb349",
   "metadata": {},
   "outputs": [
    {
     "name": "stdout",
     "output_type": "stream",
     "text": [
      "김길동 60\n",
      "박길동 75\n",
      "박김치 50\n",
      "홍길동 50\n"
     ]
    }
   ],
   "source": [
    "from collections import OrderedDict\n",
    "\n",
    "def sort_by_key(t):\n",
    "    return t[0]\n",
    "\n",
    "for k,v in OrderedDict(sorted(student_scores.items(),key=sort_by_key)).items():\n",
    "    print(k,v)"
   ]
  },
  {
   "cell_type": "code",
   "execution_count": 26,
   "id": "746310c1-25e1-41e0-a989-aff407a1dc18",
   "metadata": {},
   "outputs": [
    {
     "name": "stdout",
     "output_type": "stream",
     "text": [
      "Counter({'o': 5, 'r': 3, ' ': 3, 't': 3, 'm': 2, 'c': 2, 'l': 2, 'e': 2, 'i': 2, 'n': 2, 'f': 1, 's': 1, 'p': 1, 'C': 1, 'u': 1})\n"
     ]
    }
   ],
   "source": [
    "from collections import Counter\n",
    "\n",
    "s1=list('from collections import Counter')\n",
    "c=Counter(s1)\n",
    "print(c)"
   ]
  },
  {
   "cell_type": "code",
   "execution_count": 27,
   "id": "89dc2d25-d015-4b3b-98bd-a0a23622bc08",
   "metadata": {},
   "outputs": [
    {
     "name": "stdout",
     "output_type": "stream",
     "text": [
      "Counter({'the': 12, 'a': 8, 'to': 5, 'of': 5, \"TuSimple's\": 3, 'and': 3, 'because': 3, 'driver': 3, 'hours': 3, 'from': 2, 'The': 2, 'human': 2, 'driver,': 2, 'but': 2, '--': 2, 'truck': 2, 'drove': 2, 'is': 2, 'we': 2, 'have': 2, 'safety': 2, 'when': 2, 'in': 2, 'said': 2, 'need': 2, '11': 2, 'had': 2, 'latest': 1, 'road': 1, 'test': 1, 'involved': 1, 'hauling': 1, 'fresh': 1, 'produce': 1, '951': 1, 'miles,': 1, 'Nogales,': 1, 'Arizona': 1, 'Oklahoma': 1, 'City.': 1, 'pickup': 1, 'dropoff': 1, 'were': 1, 'handled': 1, 'by': 1, 'for': 1, 'bulk': 1, 'route': 1, 'Tucson': 1, 'Dallas': 1, 'itself.': 1, '\"Today,': 1, 'system': 1, 'not': 1, 'fully': 1, 'ready,': 1, 'engineer': 1, 'on': 1, 'board': 1, 'at': 1, 'all': 1, 'times': 1, \"we're\": 1, 'testing,': 1, 'full': 1, 'autonomy:': 1, \"wasn't\": 1, 'touching': 1, 'wheel,\"': 1, 'Cheng': 1, 'Lu,': 1, 'president': 1, 'CEO.': 1, 'journey': 1, 'was': 1, 'completed': 1, '14': 1, 'versus': 1, 'usual': 1, '24': 1, 'with': 1, 'mostly': 1, \"doesn't\": 1, 'sleep.': 1, '\"In': 1, 'US,': 1, 'can': 1, 'only': 1, 'work': 1, 'day.': 1, 'We': 1, 'simply': 1, 'handoff': 1, 'our': 1, 'first': 1, 'pair': 1, 'drivers': 1, 'stop': 1, 'they': 1, 'reached': 1, 'their': 1, 'operation,\"': 1, 'Lu.': 1, 'That,': 1, 'course,': 1, 'negates': 1, 'advantage': 1, 'an': 1, 'autonomous': 1, 'system,': 1, 'so': 1, 'idea': 1, 'that': 1, 'once': 1, 'trucks': 1, 'hit': 1, 'market,': 1, 'there': 1, 'will': 1, 'be': 1, 'no': 1, 'anyone': 1, 'onboard.': 1})\n"
     ]
    }
   ],
   "source": [
    "s2='''\n",
    "TuSimple's latest road test involved hauling fresh produce 951 miles, from Nogales, Arizona to Oklahoma City. \n",
    "The pickup and the dropoff were handled by a human driver, but for the bulk of the route -- from Tucson to Dallas -- the truck drove itself.\n",
    "\"Today, because the system is not fully ready, we have a safety driver and a safety engineer on board at all times when we're testing, but we drove in full autonomy: the driver wasn't touching the wheel,\" \n",
    "said Cheng Lu, TuSimple's president and CEO.\n",
    "The journey was completed in 14 hours versus the usual 24 with a human driver, mostly because a truck doesn't need to sleep. \n",
    "\"In the US, a driver can only work 11 hours a day. We simply had a handoff when our first pair of drivers had to stop because they reached their 11 hours of operation,\" \n",
    "said Lu. That, of course, negates the advantage of an autonomous system, so the idea is that once TuSimple's trucks hit the market, there will be no need to have anyone onboard.\n",
    "'''\n",
    "s2=s2.split()\n",
    "c=Counter(s2)\n",
    "print(c)"
   ]
  },
  {
   "cell_type": "code",
   "execution_count": 28,
   "id": "7f136c34-cfb2-47fb-89ad-a69a32464c5a",
   "metadata": {},
   "outputs": [
    {
     "name": "stdout",
     "output_type": "stream",
     "text": [
      "['red', 'red', 'red', 'red', 'blue', 'blue', 'blue', 'green', 'green', 'green']\n"
     ]
    }
   ],
   "source": [
    "c=Counter({'red':4,'blue':3,'green':3})\n",
    "print(list(c.elements()))"
   ]
  },
  {
   "cell_type": "code",
   "execution_count": 29,
   "id": "835e7c73-59ff-4820-9eec-0cb41b277379",
   "metadata": {},
   "outputs": [
    {
     "name": "stdout",
     "output_type": "stream",
     "text": [
      "Counter({'I': 12, 'to': 8, 'yesterday': 6, 'mm': 6, 'Oh': 4, 'she': 4, 'Yesterday': 3, 'away': 3, 'Now': 3, 'believe': 3, 'in': 3, 'a': 3, 'Why': 2, 'had': 2, 'go': 2, \"don't\": 2, 'know': 2, \"wouldn't\": 2, 'say': 2, 'said': 2, 'something': 2, 'wrong': 2, 'now': 2, 'long': 2, 'for': 2, 'love': 2, 'wassuch': 2, 'an': 2, 'easy': 2, 'game': 2, 'play': 2, 'need': 2, 'place': 2, 'hide': 2, 'all': 1, 'my': 1, 'troublesseemed': 1, 'so': 1, 'far': 1, 'it': 1, 'looksas': 1, 'though': 1, \"they're\": 1, 'here': 1, 'stay': 1, 'Suddenly': 1, \"I'm\": 1, 'not': 1, 'halfthe': 1, 'man': 1, 'used': 1, 'be': 1, \"There's\": 1, 'shadow': 1, 'hanging': 1, 'over': 1, 'me': 1, 'came': 1, 'suddenly': 1, 'Mm': 1})\n"
     ]
    }
   ],
   "source": [
    "f=open('data/yesterday.txt','r')\n",
    "lines=f.readlines()\n",
    "f.close()\n",
    "content=\"\"\n",
    "\n",
    "for line in lines:\n",
    "    content+=line.strip().replace(\".\",\" \").replace(\",\",\" \")\n",
    "print(Counter(content.split()))"
   ]
  },
  {
   "cell_type": "code",
   "execution_count": 30,
   "id": "612dbeab-948e-4d33-8c8d-e6d867af7375",
   "metadata": {},
   "outputs": [
    {
     "data": {
      "text/plain": [
       "\"Yesterday all my troublesseemed so far awayNow it looksas though they're here to stayOh, I believe in yesterdaySuddenly I'm not halfthe man I used to beThere's a shadow hanging over meOh, yesterday came suddenlyWhy she had to go,I don't know,she wouldn't sayI said something wrong,now I long for yesterdayYesterday love wassuch an easy game to playNow I need a place to hide awayOh, I believe in yesterdayWhy she had to go,I don't know,she wouldn't sayI said something wrong,now I long for yesterdayYesterday love wassuch an easy game to playNow I need a place to hide awayOh, I believe in yesterdayMm mm mm mm mm mm mm\""
      ]
     },
     "execution_count": 30,
     "metadata": {},
     "output_type": "execute_result"
    }
   ],
   "source": [
    "f=open('data/yesterday.txt','r')\n",
    "lines=f.readlines()\n",
    "f.close()\n",
    "content=\"\".join(lines)\n",
    "content=content.replace(\"\\n\",\"\").replace('.', '')\n",
    "content"
   ]
  }
 ],
 "metadata": {
  "kernelspec": {
   "display_name": "Python 3 (ipykernel)",
   "language": "python",
   "name": "python3"
  },
  "language_info": {
   "codemirror_mode": {
    "name": "ipython",
    "version": 3
   },
   "file_extension": ".py",
   "mimetype": "text/x-python",
   "name": "python",
   "nbconvert_exporter": "python",
   "pygments_lexer": "ipython3",
   "version": "3.9.10"
  }
 },
 "nbformat": 4,
 "nbformat_minor": 5
}
