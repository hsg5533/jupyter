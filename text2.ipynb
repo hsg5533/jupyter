{
 "cells": [
  {
   "cell_type": "code",
   "execution_count": null,
   "id": "2559ce74-2878-4932-a194-03670300ae2a",
   "metadata": {},
   "outputs": [],
   "source": [
    "a=[1,2,3,4,5]\n",
    "a.append(10)\n",
    "a.append(20)\n",
    "a"
   ]
  },
  {
   "cell_type": "code",
   "execution_count": null,
   "id": "1fa73b02-8718-4764-b347-7058702bc90d",
   "metadata": {},
   "outputs": [],
   "source": [
    "a.pop(0)"
   ]
  },
  {
   "cell_type": "code",
   "execution_count": null,
   "id": "fa133117-7952-40fb-9cf8-eee61ee2ef5c",
   "metadata": {},
   "outputs": [],
   "source": [
    "print(a)"
   ]
  },
  {
   "cell_type": "code",
   "execution_count": null,
   "id": "0b6c9909-bdac-46af-bced-395f7c0906c9",
   "metadata": {},
   "outputs": [],
   "source": [
    "t=(1,2,3) #튜플은 데이터 수정 및 추가 불가. read only\n",
    "print(t[0])"
   ]
  },
  {
   "cell_type": "code",
   "execution_count": null,
   "id": "3e0b05b9-efec-4278-87e8-4230aa5216fd",
   "metadata": {},
   "outputs": [],
   "source": [
    "list1=[] #빈 리스트\n",
    "list2=list('abcd')\n",
    "print(list1,list2)"
   ]
  },
  {
   "cell_type": "code",
   "execution_count": null,
   "id": "4927bdd3-76d1-4fc6-ae99-229c9d6f2a4c",
   "metadata": {},
   "outputs": [],
   "source": [
    "t1=()\n",
    "t2=tuple([1,2,3,4])\n",
    "print(t1,t2)"
   ]
  },
  {
   "cell_type": "code",
   "execution_count": null,
   "id": "178027d6-24f9-4c65-a31d-2b0e7ef26189",
   "metadata": {},
   "outputs": [],
   "source": [
    "s1={1,2,3}\n",
    "s2=set([10,20,30])\n",
    "print(s1,s2)"
   ]
  },
  {
   "cell_type": "code",
   "execution_count": null,
   "id": "a9e222d3-c497-447f-983d-e59adb6affe0",
   "metadata": {},
   "outputs": [],
   "source": [
    "s1.add(10)\n",
    "print(s1)"
   ]
  },
  {
   "cell_type": "code",
   "execution_count": null,
   "id": "2f033eb1-70dd-4db6-8c9c-04a1701b1045",
   "metadata": {},
   "outputs": [],
   "source": [
    "s1.remove(10)\n",
    "print(s1)"
   ]
  },
  {
   "cell_type": "code",
   "execution_count": null,
   "id": "bc9beb20-0fe7-477a-9fa3-76c7acc072ae",
   "metadata": {},
   "outputs": [],
   "source": [
    "s1.update([10,20,30])\n",
    "print(s1)"
   ]
  },
  {
   "cell_type": "code",
   "execution_count": null,
   "id": "0406f0de-1824-4c9e-9a0e-4268f803378e",
   "metadata": {},
   "outputs": [],
   "source": [
    "s1.clear()\n",
    "print(s1)"
   ]
  },
  {
   "cell_type": "code",
   "execution_count": null,
   "id": "6f445808-99cd-4f0f-80a4-4472bcc0798d",
   "metadata": {},
   "outputs": [],
   "source": [
    "a=[1,2,3,4,5]\n",
    "print(a)"
   ]
  },
  {
   "cell_type": "code",
   "execution_count": null,
   "id": "27609b37-17e2-49c8-ba43-fe08f3bbe7a2",
   "metadata": {},
   "outputs": [],
   "source": [
    "student_scores={'홍길동':80,'박길동':75,'김길동':60}\n",
    "print(student_scores)"
   ]
  },
  {
   "cell_type": "code",
   "execution_count": null,
   "id": "97ff3aa8-0926-4952-83f9-151669c43185",
   "metadata": {},
   "outputs": [],
   "source": [
    "student_scores['홍길동']=50\n",
    "print(student_scores)"
   ]
  },
  {
   "cell_type": "code",
   "execution_count": null,
   "id": "830a8287-3c8e-4239-9ed8-6c84b37877d5",
   "metadata": {},
   "outputs": [],
   "source": [
    "print(student_scores.keys())\n",
    "print(student_scores.values())\n",
    "print(student_scores.items())"
   ]
  },
  {
   "cell_type": "code",
   "execution_count": null,
   "id": "5c60673e-33c3-4dc9-9142-6b810c45c091",
   "metadata": {},
   "outputs": [],
   "source": [
    "for key,value in student_scores.items():\n",
    "    print(key,value)"
   ]
  },
  {
   "cell_type": "code",
   "execution_count": null,
   "id": "53a7a44d-f6f9-4ad9-847e-6aa5b0c77227",
   "metadata": {},
   "outputs": [],
   "source": [
    "student_scores['박김치']=50\n",
    "print(student_scores)"
   ]
  },
  {
   "cell_type": "code",
   "execution_count": null,
   "id": "0ebf4c8d-26da-45ca-a60c-513cf594e1fe",
   "metadata": {},
   "outputs": [],
   "source": [
    "from collections import deque\n",
    "\n",
    "deque_list=deque()\n",
    "for i in range(5):\n",
    "    deque_list.appendleft(i)\n",
    "\n",
    "print(deque_list)"
   ]
  },
  {
   "cell_type": "code",
   "execution_count": null,
   "id": "e20f1932-69d9-4dcd-8032-df56085f4a4f",
   "metadata": {},
   "outputs": [],
   "source": [
    "deque_list.rotate(2)\n",
    "print(deque_list)"
   ]
  },
  {
   "cell_type": "code",
   "execution_count": null,
   "id": "5f647199-7fc8-4e3f-83e9-3ec60b0c3008",
   "metadata": {},
   "outputs": [],
   "source": [
    "print(deque_list.pop())\n",
    "print(deque_list)"
   ]
  },
  {
   "cell_type": "code",
   "execution_count": null,
   "id": "3ad7f485-5281-47a9-97b7-b1f0171bb349",
   "metadata": {},
   "outputs": [],
   "source": [
    "from collections import OrderedDict\n",
    "\n",
    "def sort_by_key(t):\n",
    "    return t[0]\n",
    "\n",
    "for k,v in OrderedDict(sorted(student_scores.items(),key=sort_by_key)).items():\n",
    "    print(k,v)"
   ]
  },
  {
   "cell_type": "code",
   "execution_count": null,
   "id": "746310c1-25e1-41e0-a989-aff407a1dc18",
   "metadata": {},
   "outputs": [],
   "source": [
    "from collections import Counter\n",
    "\n",
    "s1=list('from collections import Counter')\n",
    "c=Counter(s1)\n",
    "print(c)"
   ]
  },
  {
   "cell_type": "code",
   "execution_count": null,
   "id": "89dc2d25-d015-4b3b-98bd-a0a23622bc08",
   "metadata": {},
   "outputs": [],
   "source": [
    "s2='''\n",
    "TuSimple's latest road test involved hauling fresh produce 951 miles, from Nogales, Arizona to Oklahoma City. \n",
    "The pickup and the dropoff were handled by a human driver, but for the bulk of the route -- from Tucson to Dallas -- the truck drove itself.\n",
    "\"Today, because the system is not fully ready, we have a safety driver and a safety engineer on board at all times when we're testing, but we drove in full autonomy: the driver wasn't touching the wheel,\" \n",
    "said Cheng Lu, TuSimple's president and CEO.\n",
    "The journey was completed in 14 hours versus the usual 24 with a human driver, mostly because a truck doesn't need to sleep. \n",
    "\"In the US, a driver can only work 11 hours a day. We simply had a handoff when our first pair of drivers had to stop because they reached their 11 hours of operation,\" \n",
    "said Lu. That, of course, negates the advantage of an autonomous system, so the idea is that once TuSimple's trucks hit the market, there will be no need to have anyone onboard.\n",
    "'''\n",
    "s2=s2.split()\n",
    "c=Counter(s2)\n",
    "print(c)"
   ]
  },
  {
   "cell_type": "code",
   "execution_count": null,
   "id": "7f136c34-cfb2-47fb-89ad-a69a32464c5a",
   "metadata": {},
   "outputs": [],
   "source": [
    "c=Counter({'red':4,'blue':3,'green':3})\n",
    "print(list(c.elements()))"
   ]
  },
  {
   "cell_type": "code",
   "execution_count": null,
   "id": "835e7c73-59ff-4820-9eec-0cb41b277379",
   "metadata": {},
   "outputs": [],
   "source": [
    "f=open('data/yesterday.txt','r')\n",
    "lines=f.readlines()\n",
    "f.close()\n",
    "content=\"\"\n",
    "\n",
    "for line in lines:\n",
    "    content+=line.strip().replace(\".\",\" \").replace(\",\",\" \")\n",
    "print(Counter(content.split()))"
   ]
  },
  {
   "cell_type": "code",
   "execution_count": null,
   "id": "612dbeab-948e-4d33-8c8d-e6d867af7375",
   "metadata": {},
   "outputs": [],
   "source": [
    "f=open('data/yesterday.txt','r')\n",
    "lines=f.readlines()\n",
    "f.close()\n",
    "content=\"\".join(lines)\n",
    "content=content.replace(\"\\n\",\"\").replace('.', '')\n",
    "content"
   ]
  }
 ],
 "metadata": {
  "kernelspec": {
   "display_name": "Python 3 (ipykernel)",
   "language": "python",
   "name": "python3"
  },
  "language_info": {
   "codemirror_mode": {
    "name": "ipython",
    "version": 3
   },
   "file_extension": ".py",
   "mimetype": "text/x-python",
   "name": "python",
   "nbconvert_exporter": "python",
   "pygments_lexer": "ipython3",
   "version": "3.12.9"
  }
 },
 "nbformat": 4,
 "nbformat_minor": 5
}
