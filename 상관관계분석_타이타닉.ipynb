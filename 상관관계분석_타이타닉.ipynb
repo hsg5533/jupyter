{
 "cells": [
  {
   "cell_type": "markdown",
   "id": "bda5911a-1c0c-4caa-83d6-0ff322e86303",
   "metadata": {},
   "source": [
    "# 타이타닉호 생존율 분석하기\n",
    "- # 데이터 수집"
   ]
  },
  {
   "cell_type": "code",
   "execution_count": null,
   "id": "217f3f52-0313-465f-aded-60186459b93e",
   "metadata": {},
   "outputs": [],
   "source": [
    "import seaborn as sns\n",
    "import pandas as pd\n",
    "titanic = sns.load_dataset(\"titanic\")\n",
    "titanic.to_csv('data/titanic.csv', index = False)"
   ]
  },
  {
   "cell_type": "markdown",
   "id": "7a29e9c4-96d6-4984-8342-dc9329e7c6d1",
   "metadata": {},
   "source": [
    "- # 데이터 준비\n",
    "- 저장한 titanic.csv 파일을 열어서 데이터 정리 작업이 필요한지 확인"
   ]
  },
  {
   "cell_type": "code",
   "execution_count": null,
   "id": "05612463-aa36-47a7-b1bb-b6b0b3942331",
   "metadata": {},
   "outputs": [],
   "source": [
    "print(titanic[:5])"
   ]
  },
  {
   "cell_type": "code",
   "execution_count": null,
   "id": "b29ed90e-4e04-4ce2-accc-1637a6658e2d",
   "metadata": {},
   "outputs": [],
   "source": [
    "print(titanic.info())"
   ]
  },
  {
   "cell_type": "code",
   "execution_count": null,
   "id": "853f200b-6d4d-40ab-953c-ddeee641a86a",
   "metadata": {},
   "outputs": [],
   "source": [
    "print(titanic.isnull().sum())"
   ]
  },
  {
   "cell_type": "code",
   "execution_count": null,
   "id": "893da911-7e21-453e-8c3f-5884f99882fc",
   "metadata": {},
   "outputs": [],
   "source": [
    "titanic['age'] = titanic['age'].fillna(titanic['age'].median())"
   ]
  },
  {
   "cell_type": "code",
   "execution_count": null,
   "id": "3aacbe11-185e-437b-a529-25f4bede174a",
   "metadata": {},
   "outputs": [],
   "source": [
    "titanic['embarked'].value_counts()"
   ]
  },
  {
   "cell_type": "code",
   "execution_count": null,
   "id": "eb19d42e-9301-4c45-ac16-4440f9fe7cea",
   "metadata": {},
   "outputs": [],
   "source": [
    "titanic['embarked']=titanic['embarked'].fillna('S')"
   ]
  },
  {
   "cell_type": "code",
   "execution_count": null,
   "id": "8bda58d2-abef-46c1-b48e-a4a6e91b1422",
   "metadata": {},
   "outputs": [],
   "source": [
    "titanic['pclass'].value_counts()"
   ]
  },
  {
   "cell_type": "code",
   "execution_count": null,
   "id": "4629e49a-f402-401f-a15f-f0897cb8d332",
   "metadata": {},
   "outputs": [],
   "source": [
    "titanic['embark_town'] = titanic['embark_town'].fillna('Southampton')"
   ]
  },
  {
   "cell_type": "code",
   "execution_count": null,
   "id": "2c51643e-6ffa-442b-81d5-1225bda05224",
   "metadata": {
    "tags": []
   },
   "outputs": [],
   "source": [
    "titanic['deck'].value_counts()"
   ]
  },
  {
   "cell_type": "code",
   "execution_count": null,
   "id": "ea821fd7-a9c4-4bfa-bf41-9dbe4d6e457d",
   "metadata": {},
   "outputs": [],
   "source": [
    "titanic['deck'] = titanic['deck'].fillna('C')"
   ]
  },
  {
   "cell_type": "code",
   "execution_count": null,
   "id": "7310d2b5-f4d9-4a20-8080-ae1b3a1f5107",
   "metadata": {
    "tags": []
   },
   "outputs": [],
   "source": [
    "titanic.isnull().sum()"
   ]
  },
  {
   "cell_type": "code",
   "execution_count": null,
   "id": "5760ede0-5cc4-4f4f-a803-532748b42e95",
   "metadata": {
    "tags": []
   },
   "outputs": [],
   "source": [
    "corr=titanic.corr()\n",
    "print(corr)"
   ]
  },
  {
   "cell_type": "code",
   "execution_count": null,
   "id": "b8e1d253-971c-4141-bba5-3c37385817fb",
   "metadata": {},
   "outputs": [],
   "source": [
    "df_heatmap=sns.heatmap(corr,\n",
    "                       cbar=True,\n",
    "                       annot=True,\n",
    "                       cmap='RdYlBu_r',\n",
    "                       vmin=-0.6,vmax=1)"
   ]
  }
 ],
 "metadata": {
  "kernelspec": {
   "display_name": "Python 3 (ipykernel)",
   "language": "python",
   "name": "python3"
  },
  "language_info": {
   "codemirror_mode": {
    "name": "ipython",
    "version": 3
   },
   "file_extension": ".py",
   "mimetype": "text/x-python",
   "name": "python",
   "nbconvert_exporter": "python",
   "pygments_lexer": "ipython3",
   "version": "3.12.9"
  }
 },
 "nbformat": 4,
 "nbformat_minor": 5
}
