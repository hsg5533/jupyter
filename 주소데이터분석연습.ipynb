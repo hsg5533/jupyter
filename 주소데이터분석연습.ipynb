{
 "cells": [
  {
   "cell_type": "code",
   "execution_count": null,
   "id": "c5b30b15-adb8-4131-a0c2-e8ade14dec45",
   "metadata": {},
   "outputs": [],
   "source": [
    "import numpy as np \n",
    "import folium \n",
    "from folium import plugins \n",
    "print(folium.__version__)"
   ]
  },
  {
   "cell_type": "code",
   "execution_count": null,
   "id": "996f6a29-0547-45d8-88ed-61beeb6f8b6e",
   "metadata": {},
   "outputs": [],
   "source": [
    "m = folium.Map(location=[35.1379222, 129.05562775])\n",
    "m.save('data/map1.html') #파일이 저장될 위치\n",
    "m"
   ]
  },
  {
   "cell_type": "code",
   "execution_count": null,
   "id": "f2e39ee7-dc9b-4b12-80b0-a3fa3ba525fa",
   "metadata": {},
   "outputs": [],
   "source": [
    "m = folium.Map(location=[35.1379222, 129.05562775], zoom_start=18)\n",
    "m.save('data/map2.html') #파일이 저장될 위치\n",
    "m"
   ]
  },
  {
   "cell_type": "code",
   "execution_count": null,
   "id": "fef363ff-cf1e-44d9-b8aa-c8804fcb5115",
   "metadata": {},
   "outputs": [],
   "source": [
    "m = folium.Map(location=[35.1379222, 129.05562775], zoom_start=18 ,tiles='OpenStreetMap')\n",
    "m"
   ]
  },
  {
   "cell_type": "code",
   "execution_count": null,
   "id": "14d4590f-50ed-4e2b-9aca-6b7a0205f7dd",
   "metadata": {},
   "outputs": [],
   "source": [
    "map_osm = folium.Map(location=[35.1379222, 129.05562775], zoom_start=17, tiles='Stamen Terrain')\n",
    "map_osm.save('data/map3.html')\n",
    "map_osm"
   ]
  },
  {
   "cell_type": "code",
   "execution_count": null,
   "id": "53ef5383-62bb-4034-a530-861a28989c53",
   "metadata": {},
   "outputs": [],
   "source": [
    "map_osm = folium.Map(location=[35.1379222, 129.05562775], zoom_start=17, tiles='Stamen Toner')\n",
    "map_osm.save('data/map4.html')\n",
    "map_osm"
   ]
  },
  {
   "cell_type": "code",
   "execution_count": null,
   "id": "ccc6e776-13ea-4219-bc72-2368cd85cb80",
   "metadata": {},
   "outputs": [],
   "source": [
    "map_osm = folium.Map(location=[37.566345, 126.977893], zoom_start=17)\n",
    "# Marker로 해당하는 위도와 경도에 마커를 생성, 마커를 누르면 popup에 설정된 메시지가 출력됨\n",
    "folium.Marker([37.566345, 126.977893], popup='서울특별시청').add_to(map_osm)\n",
    "folium.Marker([37.5658859, 126.9754788], popup='덕수궁').add_to(map_osm)\n",
    "map_osm.save('data/map5.html')\n",
    "map_osm"
   ]
  },
  {
   "cell_type": "code",
   "execution_count": null,
   "id": "fa6bffbd-9f17-4277-8e0b-0e62d332380b",
   "metadata": {},
   "outputs": [],
   "source": [
    "tooltip='클릭해주세요'\n",
    "map_osm = folium.Map(location=[37.566345, 126.977893], zoom_start=17)\n",
    "# Marker로 해당하는 위도와 경도에 마커를 생성, 마커를 누르면 popup에 설정된 메시지가 출력됨\n",
    "folium.Marker([37.566345, 126.977893], popup='서울특별시청',tooltip=tooltip).add_to(map_osm)\n",
    "folium.Marker([37.5658859, 126.9754788], popup='덕수궁',tooltip=tooltip).add_to(map_osm)\n",
    "map_osm.save('data/map6.html')\n",
    "map_osm"
   ]
  },
  {
   "cell_type": "code",
   "execution_count": null,
   "id": "e6d7e0dd-806f-4510-941a-618729b7a1a8",
   "metadata": {},
   "outputs": [],
   "source": [
    "m=folium.Map(location=[37.566345, 126.977893], zoom_start=17)\n",
    "folium.Marker([37.566345, 126.977893], popup='서울특별시청', icon=folium.Icon(color='red',icon='info-sign')).add_to(m)\n",
    "folium.CircleMarker([37.5658859, 126.9754788], radius=100, color='#3186cc', fill_color='#3186cc', popup='덕수궁').add_to(m)\n",
    "m.save('data/map6.html')\n",
    "m"
   ]
  },
  {
   "cell_type": "code",
   "execution_count": null,
   "id": "7a94da90-784d-4704-9ea7-0d16f0e09358",
   "metadata": {},
   "outputs": [],
   "source": [
    "from folium import plugins\n",
    "import os\n",
    "N = 100 \n",
    "data = np.array( \n",
    "[\n",
    "np.random.uniform(low=35, high=38, size=N), # Random latitudes. \n",
    "np.random.uniform(low=125, high=129, size=N), # Random longitudes. \n",
    "] ).T \n",
    "popups = [str(i) for i in range(N)] # Popups texts are simple numbers. \n",
    "m = folium.Map([37.566345, 126.977893], zoom_start=8) \n",
    "plugins.MarkerCluster(data, popups=popups).add_to(m) \n",
    "m.save(os.path.join('data', 'Plugins_1.html')) \n",
    "m"
   ]
  }
 ],
 "metadata": {
  "kernelspec": {
   "display_name": "Python 3 (ipykernel)",
   "language": "python",
   "name": "python3"
  },
  "language_info": {
   "codemirror_mode": {
    "name": "ipython",
    "version": 3
   },
   "file_extension": ".py",
   "mimetype": "text/x-python",
   "name": "python",
   "nbconvert_exporter": "python",
   "pygments_lexer": "ipython3",
   "version": "3.12.9"
  }
 },
 "nbformat": 4,
 "nbformat_minor": 5
}
