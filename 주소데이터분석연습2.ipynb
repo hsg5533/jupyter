{
 "cells": [
  {
   "cell_type": "code",
   "execution_count": null,
   "id": "850b3ba4-2119-4d91-8dbd-e8d8c3d34dd1",
   "metadata": {},
   "outputs": [],
   "source": [
    "import numpy as np\n",
    "import pandas as pd\n",
    "import folium \n",
    "from folium import plugins \n",
    "print(folium.__version__)"
   ]
  },
  {
   "cell_type": "code",
   "execution_count": null,
   "id": "a5642848-8bf8-4588-b4cd-765629fb4910",
   "metadata": {},
   "outputs": [],
   "source": [
    "CB = pd.read_csv('data/CoffeeBean.csv ', encoding = 'CP949', index_col = 0, header = 0,engine = 'python')\n",
    "CB.head()"
   ]
  },
  {
   "cell_type": "code",
   "execution_count": null,
   "id": "f85cbf81-3e34-405a-8a9e-f692c74c222d",
   "metadata": {
    "tags": []
   },
   "outputs": [],
   "source": [
    "addr = []\n",
    "for address in CB.address:\n",
    "    addr.append(str(address).split())\n",
    "addr #작업 내용 확인용 출력"
   ]
  },
  {
   "cell_type": "code",
   "execution_count": null,
   "id": "4b5a49df-6fd8-437b-84bb-02fe77ffa9a8",
   "metadata": {
    "tags": []
   },
   "outputs": [],
   "source": [
    "addr2 = []\n",
    "for i in range(len(addr)):\n",
    "    if addr[i][0] == \"서울\": addr[i][0] = \"서울특별시\"\n",
    "    elif addr[i][0] == \"서울시\": addr[i][0] = \"서울특별시\"\n",
    "    elif addr[i][0] == \"부산시\": addr[i][0] = \"부산광역시\"\n",
    "    elif addr[i][0] == \"인천\": addr[i][0] = \"인천광역시\"\n",
    "    elif addr[i][0] == \"광주\": addr[i][0] = \"광주광역시\"\n",
    "    elif addr[i][0] == \"대전시\": addr[i][0] = \"대전광역시\"\n",
    "    elif addr[i][0] == \"울산시\": addr[i][0] = \"울산광역시\"\n",
    "    elif addr[i][0] == \"세종시\": addr[i][0] = \"세종특별자치시\"\n",
    "    elif addr[i][0] == \"경기\": addr[i][0] = \"경기도\"\n",
    "    elif addr[i][0] == \"충북\": addr[i][0] = \"충청북도\"\n",
    "    elif addr[i][0] == \"충남\": addr[i][0] = \"충청남도\"\n",
    "    elif addr[i][0] == \"전북\": addr[i][0] = \"전라북도\"\n",
    "    elif addr[i][0] == \"전남\": addr[i][0] = \"전라남도\"\n",
    "    elif addr[i][0] == \"경북\": addr[i][0] = \"경상북도\"\n",
    "    elif addr[i][0] == \"경남\": addr[i][0] = \"경상남도\"\n",
    "    elif addr[i][0] == \"제주\": addr[i][0] = \"제주특별자치도\"\n",
    "    elif addr[i][0] == \"제주도\": addr[i][0] = \"제주특별자치도\"\n",
    "    elif addr[i][0] == \"제주시\": addr[i][0] = \"제주특별자치도\"\n",
    "    addr2.append(' '.join(addr[i]))\n",
    "addr2 #작업 내용 확인용 출력"
   ]
  },
  {
   "cell_type": "code",
   "execution_count": null,
   "id": "fdb48542-c373-4424-8a7c-c000bd24d9af",
   "metadata": {},
   "outputs": [],
   "source": [
    "addr2 = pd.DataFrame(addr2, columns = ['address2'])"
   ]
  },
  {
   "cell_type": "code",
   "execution_count": null,
   "id": "f4d906f5-2efd-43fd-9847-1aa655bb701f",
   "metadata": {},
   "outputs": [],
   "source": [
    "CB2 = pd.concat([CB, addr2], axis = 1 ) \n",
    "CB2.head() #작업 내용 확인용 출력"
   ]
  },
  {
   "cell_type": "code",
   "execution_count": null,
   "id": "835997eb-ddea-4572-af18-1783cb6a9202",
   "metadata": {},
   "outputs": [],
   "source": [
    "CB2.to_csv('data/CoffeeBean_2.csv', encoding = 'CP949', index = False)"
   ]
  },
  {
   "cell_type": "code",
   "execution_count": null,
   "id": "f5becfa8-54fd-463f-a414-940bfd387d4d",
   "metadata": {},
   "outputs": [],
   "source": [
    "map_osm = folium.Map(location = [37.559978, 126.975291], zoom_start = 16)"
   ]
  },
  {
   "cell_type": "code",
   "execution_count": null,
   "id": "b06781f3-f660-4ef8-a1ea-abdff6ba9bab",
   "metadata": {},
   "outputs": [],
   "source": [
    "CB_geoData = pd.read_csv('data/CB_geocode1.shp.csv', encoding ='cp949', engine = 'python')\n",
    "CB_geoData1=CB_geoData.iloc[:,1:]"
   ]
  },
  {
   "cell_type": "code",
   "execution_count": null,
   "id": "95d48d8f-9303-489b-963c-3c53314d6b78",
   "metadata": {},
   "outputs": [],
   "source": [
    "map_CB = folium.Map(location = [37.560284, 126.975334], zoom_start = 15)"
   ]
  },
  {
   "cell_type": "code",
   "execution_count": null,
   "id": "8740907d-2e5c-475e-bdb5-4eb38dab4557",
   "metadata": {},
   "outputs": [],
   "source": [
    "for i, store in CB_geoData.iterrows():\n",
    "    folium.Marker(location = [store['위도'], store['경도']], popup = store['store'], icon = folium.Icon(color = 'red',icon = 'star')).add_to(map_CB)"
   ]
  },
  {
   "cell_type": "code",
   "execution_count": null,
   "id": "0a1857e3-b0ce-433a-9151-a2919ed3db6a",
   "metadata": {},
   "outputs": [],
   "source": [
    "map_CB.save('data/map_CB.html')\n",
    "map_CB"
   ]
  },
  {
   "cell_type": "code",
   "execution_count": null,
   "id": "50e74a30-ced5-4239-8e77-3de0900497aa",
   "metadata": {},
   "outputs": [],
   "source": [
    "map_CB1 = folium.Map(location = [37.560284, 126.975334], zoom_start = 15)"
   ]
  },
  {
   "cell_type": "code",
   "execution_count": null,
   "id": "edb8d561-5062-4207-9e20-23b727aaa5e1",
   "metadata": {},
   "outputs": [],
   "source": [
    "locations=np.empty((0,2),int)\n",
    "popups=[]\n",
    "for i, store in CB_geoData.iterrows():\n",
    "    #folium.Marker(location = [store['위도'], store['경도']], popup = store['store'], icon = folium.Icon(color = 'red',icon = 'star')).add_to(map_CB)\n",
    "    locations=np.append(locations,np.array([[store['위도'],store['경도']]]),axis=0)\n",
    "    popups.append(store['store'])"
   ]
  },
  {
   "cell_type": "code",
   "execution_count": null,
   "id": "e09d5c83-5d6c-4308-91f7-fe0ff7cc35dc",
   "metadata": {},
   "outputs": [],
   "source": [
    "plugins.MarkerCluster(locations,popups=popups).add_to(map_CB1) \n",
    "map_CB1.save('data/map_CB1.html')\n",
    "map_CB1"
   ]
  }
 ],
 "metadata": {
  "kernelspec": {
   "display_name": "Python 3 (ipykernel)",
   "language": "python",
   "name": "python3"
  },
  "language_info": {
   "codemirror_mode": {
    "name": "ipython",
    "version": 3
   },
   "file_extension": ".py",
   "mimetype": "text/x-python",
   "name": "python",
   "nbconvert_exporter": "python",
   "pygments_lexer": "ipython3",
   "version": "3.12.9"
  }
 },
 "nbformat": 4,
 "nbformat_minor": 5
}
